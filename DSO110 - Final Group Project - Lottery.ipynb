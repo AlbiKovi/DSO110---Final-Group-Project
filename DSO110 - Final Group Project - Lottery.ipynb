{
 "cells": [
  {
   "cell_type": "markdown",
   "id": "5f24a923",
   "metadata": {},
   "source": [
    "# DSO110 - Final Group Project - Lottery\n",
    "Alberta \"Albi\" Kovatcheva and Barbra Treston\n",
    "\n",
    "\n",
    "\n",
    "## Background\n",
    "Albi and Barbra have chosen the “Mega Millions Winning Numbers” dataset because the lottery is something that is familiar and accessible to a wide range of people worldwide; it would be difficult to find someone who hasn’t dreamed of hitting the jackpot and changing their life forever. However, it is also widely accepted that the lottery is not set up to favor the player.  In the case of Mega Millions, although there is a 1 in 24 chance of winning something, the odds of choosing all 6 numbers correctly to win the jackpot is 1 in 302,575,350 - a fact that is posted openly on both the New York Lottery and Mega Millions websites.  By analyzing the winning numbers data as well as complementary datasets on lottery retailers, lottery aid to local school districts, and monies recouped from the lottery winnings of public aid recipients, Albi and Barbra hope to glean insight to make actionable suggestions on how lottery players can get the best return on their investment as well as to demonstrate for the average person whether the lottery serves any societal good or whether it may be best to abstain from playing altogether. \n",
    "\n",
    "\n"
   ]
  },
  {
   "cell_type": "markdown",
   "id": "dd8c1ea4",
   "metadata": {},
   "source": [
    "\n",
    "## Data Wrangling"
   ]
  },
  {
   "cell_type": "code",
   "execution_count": 214,
   "id": "7ba8d0ec",
   "metadata": {},
   "outputs": [],
   "source": [
    "import pandas as pd\n",
    "import seaborn as sns\n",
    "import matplotlib.mlab as mlab\n",
    "import matplotlib.pyplot as plt\n",
    "import math\n",
    "import numpy as np\n",
    "from numpy import nan\n",
    "import datetime as dt\n",
    "from datetime import date"
   ]
  },
  {
   "cell_type": "markdown",
   "id": "88e1a1d9",
   "metadata": {},
   "source": [
    "### Import data."
   ]
  },
  {
   "cell_type": "markdown",
   "id": "6d8f6904",
   "metadata": {},
   "source": [
    "### 1. Winning numbers May 17, 2002 to November 26, 2021"
   ]
  },
  {
   "cell_type": "code",
   "execution_count": 215,
   "id": "ec2ab0c9",
   "metadata": {},
   "outputs": [
    {
     "data": {
      "text/html": [
       "<div>\n",
       "<style scoped>\n",
       "    .dataframe tbody tr th:only-of-type {\n",
       "        vertical-align: middle;\n",
       "    }\n",
       "\n",
       "    .dataframe tbody tr th {\n",
       "        vertical-align: top;\n",
       "    }\n",
       "\n",
       "    .dataframe thead th {\n",
       "        text-align: right;\n",
       "    }\n",
       "</style>\n",
       "<table border=\"1\" class=\"dataframe\">\n",
       "  <thead>\n",
       "    <tr style=\"text-align: right;\">\n",
       "      <th></th>\n",
       "      <th>Draw Date</th>\n",
       "      <th>Winning Numbers</th>\n",
       "      <th>Mega Ball</th>\n",
       "      <th>Multiplier</th>\n",
       "    </tr>\n",
       "  </thead>\n",
       "  <tbody>\n",
       "    <tr>\n",
       "      <th>0</th>\n",
       "      <td>09/25/2020</td>\n",
       "      <td>20 36 37 48 67</td>\n",
       "      <td>16</td>\n",
       "      <td>2.0</td>\n",
       "    </tr>\n",
       "    <tr>\n",
       "      <th>1</th>\n",
       "      <td>09/29/2020</td>\n",
       "      <td>14 39 43 44 67</td>\n",
       "      <td>19</td>\n",
       "      <td>3.0</td>\n",
       "    </tr>\n",
       "    <tr>\n",
       "      <th>2</th>\n",
       "      <td>10/02/2020</td>\n",
       "      <td>09 38 47 49 68</td>\n",
       "      <td>25</td>\n",
       "      <td>2.0</td>\n",
       "    </tr>\n",
       "    <tr>\n",
       "      <th>3</th>\n",
       "      <td>10/06/2020</td>\n",
       "      <td>15 16 18 39 59</td>\n",
       "      <td>17</td>\n",
       "      <td>3.0</td>\n",
       "    </tr>\n",
       "    <tr>\n",
       "      <th>4</th>\n",
       "      <td>10/09/2020</td>\n",
       "      <td>05 11 25 27 64</td>\n",
       "      <td>13</td>\n",
       "      <td>2.0</td>\n",
       "    </tr>\n",
       "  </tbody>\n",
       "</table>\n",
       "</div>"
      ],
      "text/plain": [
       "    Draw Date Winning Numbers  Mega Ball  Multiplier\n",
       "0  09/25/2020  20 36 37 48 67         16         2.0\n",
       "1  09/29/2020  14 39 43 44 67         19         3.0\n",
       "2  10/02/2020  09 38 47 49 68         25         2.0\n",
       "3  10/06/2020  15 16 18 39 59         17         3.0\n",
       "4  10/09/2020  05 11 25 27 64         13         2.0"
      ]
     },
     "execution_count": 215,
     "metadata": {},
     "output_type": "execute_result"
    }
   ],
   "source": [
    "Winning_Numbers = pd.read_csv(\"Lottery_Mega_Millions_Winning_Numbers__Beginning_2002.csv\")\n",
    "pd.set_option(\"display.max_columns\", None)\n",
    "Winning_Numbers.head()"
   ]
  },
  {
   "cell_type": "markdown",
   "id": "65794717",
   "metadata": {},
   "source": [
    "#### Extract month, day, year, weekday, and quarter from 'Draw Date'."
   ]
  },
  {
   "cell_type": "code",
   "execution_count": 216,
   "id": "4512e92c",
   "metadata": {},
   "outputs": [
    {
     "data": {
      "text/html": [
       "<div>\n",
       "<style scoped>\n",
       "    .dataframe tbody tr th:only-of-type {\n",
       "        vertical-align: middle;\n",
       "    }\n",
       "\n",
       "    .dataframe tbody tr th {\n",
       "        vertical-align: top;\n",
       "    }\n",
       "\n",
       "    .dataframe thead th {\n",
       "        text-align: right;\n",
       "    }\n",
       "</style>\n",
       "<table border=\"1\" class=\"dataframe\">\n",
       "  <thead>\n",
       "    <tr style=\"text-align: right;\">\n",
       "      <th></th>\n",
       "      <th>Draw Date</th>\n",
       "      <th>Winning Numbers</th>\n",
       "      <th>Mega Ball</th>\n",
       "      <th>Multiplier</th>\n",
       "      <th>month</th>\n",
       "      <th>day</th>\n",
       "      <th>year</th>\n",
       "      <th>weekday</th>\n",
       "      <th>weekday1</th>\n",
       "      <th>quarter</th>\n",
       "    </tr>\n",
       "  </thead>\n",
       "  <tbody>\n",
       "    <tr>\n",
       "      <th>0</th>\n",
       "      <td>2020-09-25</td>\n",
       "      <td>20 36 37 48 67</td>\n",
       "      <td>16</td>\n",
       "      <td>2.0</td>\n",
       "      <td>9</td>\n",
       "      <td>25</td>\n",
       "      <td>2020</td>\n",
       "      <td>4</td>\n",
       "      <td>Friday</td>\n",
       "      <td>3</td>\n",
       "    </tr>\n",
       "    <tr>\n",
       "      <th>1</th>\n",
       "      <td>2020-09-29</td>\n",
       "      <td>14 39 43 44 67</td>\n",
       "      <td>19</td>\n",
       "      <td>3.0</td>\n",
       "      <td>9</td>\n",
       "      <td>29</td>\n",
       "      <td>2020</td>\n",
       "      <td>1</td>\n",
       "      <td>Tuesday</td>\n",
       "      <td>3</td>\n",
       "    </tr>\n",
       "    <tr>\n",
       "      <th>2</th>\n",
       "      <td>2020-10-02</td>\n",
       "      <td>09 38 47 49 68</td>\n",
       "      <td>25</td>\n",
       "      <td>2.0</td>\n",
       "      <td>10</td>\n",
       "      <td>2</td>\n",
       "      <td>2020</td>\n",
       "      <td>4</td>\n",
       "      <td>Friday</td>\n",
       "      <td>4</td>\n",
       "    </tr>\n",
       "    <tr>\n",
       "      <th>3</th>\n",
       "      <td>2020-10-06</td>\n",
       "      <td>15 16 18 39 59</td>\n",
       "      <td>17</td>\n",
       "      <td>3.0</td>\n",
       "      <td>10</td>\n",
       "      <td>6</td>\n",
       "      <td>2020</td>\n",
       "      <td>1</td>\n",
       "      <td>Tuesday</td>\n",
       "      <td>4</td>\n",
       "    </tr>\n",
       "    <tr>\n",
       "      <th>4</th>\n",
       "      <td>2020-10-09</td>\n",
       "      <td>05 11 25 27 64</td>\n",
       "      <td>13</td>\n",
       "      <td>2.0</td>\n",
       "      <td>10</td>\n",
       "      <td>9</td>\n",
       "      <td>2020</td>\n",
       "      <td>4</td>\n",
       "      <td>Friday</td>\n",
       "      <td>4</td>\n",
       "    </tr>\n",
       "  </tbody>\n",
       "</table>\n",
       "</div>"
      ],
      "text/plain": [
       "   Draw Date Winning Numbers  Mega Ball  Multiplier  month  day  year  \\\n",
       "0 2020-09-25  20 36 37 48 67         16         2.0      9   25  2020   \n",
       "1 2020-09-29  14 39 43 44 67         19         3.0      9   29  2020   \n",
       "2 2020-10-02  09 38 47 49 68         25         2.0     10    2  2020   \n",
       "3 2020-10-06  15 16 18 39 59         17         3.0     10    6  2020   \n",
       "4 2020-10-09  05 11 25 27 64         13         2.0     10    9  2020   \n",
       "\n",
       "   weekday weekday1  quarter  \n",
       "0        4   Friday        3  \n",
       "1        1  Tuesday        3  \n",
       "2        4   Friday        4  \n",
       "3        1  Tuesday        4  \n",
       "4        4   Friday        4  "
      ]
     },
     "execution_count": 216,
     "metadata": {},
     "output_type": "execute_result"
    }
   ],
   "source": [
    "Winning_Numbers['Draw Date']= pd.to_datetime(Winning_Numbers['Draw Date'])\n",
    "Winning_Numbers['month'] = pd.DatetimeIndex(Winning_Numbers['Draw Date']).month\n",
    "Winning_Numbers['day'] = pd.DatetimeIndex(Winning_Numbers['Draw Date']).day\n",
    "Winning_Numbers['year'] = pd.DatetimeIndex(Winning_Numbers['Draw Date']).year\n",
    "Winning_Numbers['weekday'] = pd.DatetimeIndex(Winning_Numbers['Draw Date']).dayofweek\n",
    "Winning_Numbers['weekday1'] = pd.DatetimeIndex(Winning_Numbers['Draw Date']).day_name()\n",
    "Winning_Numbers['quarter'] = pd.DatetimeIndex(Winning_Numbers['Draw Date']).quarter\n",
    "Winning_Numbers.head()\n"
   ]
  },
  {
   "cell_type": "code",
   "execution_count": 217,
   "id": "6a17902b",
   "metadata": {},
   "outputs": [
    {
     "name": "stdout",
     "output_type": "stream",
     "text": [
      "<class 'pandas.core.frame.DataFrame'>\n",
      "RangeIndex: 2036 entries, 0 to 2035\n",
      "Data columns (total 10 columns):\n",
      " #   Column           Non-Null Count  Dtype         \n",
      "---  ------           --------------  -----         \n",
      " 0   Draw Date        2036 non-null   datetime64[ns]\n",
      " 1   Winning Numbers  2036 non-null   object        \n",
      " 2   Mega Ball        2036 non-null   int64         \n",
      " 3   Multiplier       1133 non-null   float64       \n",
      " 4   month            2036 non-null   int64         \n",
      " 5   day              2036 non-null   int64         \n",
      " 6   year             2036 non-null   int64         \n",
      " 7   weekday          2036 non-null   int64         \n",
      " 8   weekday1         2036 non-null   object        \n",
      " 9   quarter          2036 non-null   int64         \n",
      "dtypes: datetime64[ns](1), float64(1), int64(6), object(2)\n",
      "memory usage: 159.2+ KB\n"
     ]
    }
   ],
   "source": [
    "Winning_Numbers.info()"
   ]
  },
  {
   "cell_type": "markdown",
   "id": "b0db14ce",
   "metadata": {},
   "source": [
    "#### Convert 'Winning Numbers' to string and then separate terms into individual columns (5)."
   ]
  },
  {
   "cell_type": "code",
   "execution_count": 218,
   "id": "c00df4c3",
   "metadata": {},
   "outputs": [
    {
     "data": {
      "text/html": [
       "<div>\n",
       "<style scoped>\n",
       "    .dataframe tbody tr th:only-of-type {\n",
       "        vertical-align: middle;\n",
       "    }\n",
       "\n",
       "    .dataframe tbody tr th {\n",
       "        vertical-align: top;\n",
       "    }\n",
       "\n",
       "    .dataframe thead th {\n",
       "        text-align: right;\n",
       "    }\n",
       "</style>\n",
       "<table border=\"1\" class=\"dataframe\">\n",
       "  <thead>\n",
       "    <tr style=\"text-align: right;\">\n",
       "      <th></th>\n",
       "      <th>Draw Date</th>\n",
       "      <th>Mega Ball</th>\n",
       "      <th>Multiplier</th>\n",
       "      <th>month</th>\n",
       "      <th>day</th>\n",
       "      <th>year</th>\n",
       "      <th>weekday</th>\n",
       "      <th>weekday1</th>\n",
       "      <th>quarter</th>\n",
       "      <th>Ball1</th>\n",
       "      <th>Ball2</th>\n",
       "      <th>Ball3</th>\n",
       "      <th>Ball4</th>\n",
       "      <th>Ball5</th>\n",
       "    </tr>\n",
       "  </thead>\n",
       "  <tbody>\n",
       "    <tr>\n",
       "      <th>0</th>\n",
       "      <td>2020-09-25</td>\n",
       "      <td>16</td>\n",
       "      <td>2.0</td>\n",
       "      <td>9</td>\n",
       "      <td>25</td>\n",
       "      <td>2020</td>\n",
       "      <td>4</td>\n",
       "      <td>Friday</td>\n",
       "      <td>3</td>\n",
       "      <td>20</td>\n",
       "      <td>36</td>\n",
       "      <td>37</td>\n",
       "      <td>48</td>\n",
       "      <td>67</td>\n",
       "    </tr>\n",
       "    <tr>\n",
       "      <th>1</th>\n",
       "      <td>2020-09-29</td>\n",
       "      <td>19</td>\n",
       "      <td>3.0</td>\n",
       "      <td>9</td>\n",
       "      <td>29</td>\n",
       "      <td>2020</td>\n",
       "      <td>1</td>\n",
       "      <td>Tuesday</td>\n",
       "      <td>3</td>\n",
       "      <td>14</td>\n",
       "      <td>39</td>\n",
       "      <td>43</td>\n",
       "      <td>44</td>\n",
       "      <td>67</td>\n",
       "    </tr>\n",
       "    <tr>\n",
       "      <th>2</th>\n",
       "      <td>2020-10-02</td>\n",
       "      <td>25</td>\n",
       "      <td>2.0</td>\n",
       "      <td>10</td>\n",
       "      <td>2</td>\n",
       "      <td>2020</td>\n",
       "      <td>4</td>\n",
       "      <td>Friday</td>\n",
       "      <td>4</td>\n",
       "      <td>09</td>\n",
       "      <td>38</td>\n",
       "      <td>47</td>\n",
       "      <td>49</td>\n",
       "      <td>68</td>\n",
       "    </tr>\n",
       "    <tr>\n",
       "      <th>3</th>\n",
       "      <td>2020-10-06</td>\n",
       "      <td>17</td>\n",
       "      <td>3.0</td>\n",
       "      <td>10</td>\n",
       "      <td>6</td>\n",
       "      <td>2020</td>\n",
       "      <td>1</td>\n",
       "      <td>Tuesday</td>\n",
       "      <td>4</td>\n",
       "      <td>15</td>\n",
       "      <td>16</td>\n",
       "      <td>18</td>\n",
       "      <td>39</td>\n",
       "      <td>59</td>\n",
       "    </tr>\n",
       "    <tr>\n",
       "      <th>4</th>\n",
       "      <td>2020-10-09</td>\n",
       "      <td>13</td>\n",
       "      <td>2.0</td>\n",
       "      <td>10</td>\n",
       "      <td>9</td>\n",
       "      <td>2020</td>\n",
       "      <td>4</td>\n",
       "      <td>Friday</td>\n",
       "      <td>4</td>\n",
       "      <td>05</td>\n",
       "      <td>11</td>\n",
       "      <td>25</td>\n",
       "      <td>27</td>\n",
       "      <td>64</td>\n",
       "    </tr>\n",
       "  </tbody>\n",
       "</table>\n",
       "</div>"
      ],
      "text/plain": [
       "   Draw Date  Mega Ball  Multiplier  month  day  year  weekday weekday1  \\\n",
       "0 2020-09-25         16         2.0      9   25  2020        4   Friday   \n",
       "1 2020-09-29         19         3.0      9   29  2020        1  Tuesday   \n",
       "2 2020-10-02         25         2.0     10    2  2020        4   Friday   \n",
       "3 2020-10-06         17         3.0     10    6  2020        1  Tuesday   \n",
       "4 2020-10-09         13         2.0     10    9  2020        4   Friday   \n",
       "\n",
       "   quarter Ball1 Ball2 Ball3 Ball4 Ball5  \n",
       "0        3    20    36    37    48    67  \n",
       "1        3    14    39    43    44    67  \n",
       "2        4    09    38    47    49    68  \n",
       "3        4    15    16    18    39    59  \n",
       "4        4    05    11    25    27    64  "
      ]
     },
     "execution_count": 218,
     "metadata": {},
     "output_type": "execute_result"
    }
   ],
   "source": [
    "Winning_Numbers[\"Winning Numbers\"]= Winning_Numbers[\"Winning Numbers\"].astype(str)\n",
    "Winning_Numbers[['Ball1','Ball2',\"Ball3\",\"Ball4\",\"Ball5\"]] =  Winning_Numbers['Winning Numbers'].str.split(' ', expand=True)\n",
    "Winning_Numbers.drop(columns =[\"Winning Numbers\"], inplace = True)\n",
    "Winning_Numbers.head()"
   ]
  },
  {
   "cell_type": "markdown",
   "id": "a902b181",
   "metadata": {},
   "source": [
    "### 2. Jackpots Wins May 17, 2002 to October 22, 2021"
   ]
  },
  {
   "cell_type": "code",
   "execution_count": 219,
   "id": "51503d99",
   "metadata": {},
   "outputs": [
    {
     "data": {
      "text/html": [
       "<div>\n",
       "<style scoped>\n",
       "    .dataframe tbody tr th:only-of-type {\n",
       "        vertical-align: middle;\n",
       "    }\n",
       "\n",
       "    .dataframe tbody tr th {\n",
       "        vertical-align: top;\n",
       "    }\n",
       "\n",
       "    .dataframe thead th {\n",
       "        text-align: right;\n",
       "    }\n",
       "</style>\n",
       "<table border=\"1\" class=\"dataframe\">\n",
       "  <thead>\n",
       "    <tr style=\"text-align: right;\">\n",
       "      <th></th>\n",
       "      <th>Date</th>\n",
       "      <th>amount  won</th>\n",
       "      <th>cash prize</th>\n",
       "      <th>location</th>\n",
       "      <th>state</th>\n",
       "      <th>gender</th>\n",
       "    </tr>\n",
       "  </thead>\n",
       "  <tbody>\n",
       "    <tr>\n",
       "      <th>0</th>\n",
       "      <td>5/17/2002</td>\n",
       "      <td>23300000</td>\n",
       "      <td>NaN</td>\n",
       "      <td>Chatham, Ill.</td>\n",
       "      <td>IL</td>\n",
       "      <td>Mixed</td>\n",
       "    </tr>\n",
       "    <tr>\n",
       "      <th>1</th>\n",
       "      <td>5/24/2002</td>\n",
       "      <td>23300000</td>\n",
       "      <td>NaN</td>\n",
       "      <td>Chicago, Ill.</td>\n",
       "      <td>IL</td>\n",
       "      <td>F</td>\n",
       "    </tr>\n",
       "    <tr>\n",
       "      <th>2</th>\n",
       "      <td>7/16/2002</td>\n",
       "      <td>23300000</td>\n",
       "      <td>NaN</td>\n",
       "      <td>Cliffside Park, N.J.</td>\n",
       "      <td>NJ</td>\n",
       "      <td>M</td>\n",
       "    </tr>\n",
       "    <tr>\n",
       "      <th>3</th>\n",
       "      <td>8/27/2002</td>\n",
       "      <td>23300000</td>\n",
       "      <td>NaN</td>\n",
       "      <td>New York City, N.Y.</td>\n",
       "      <td>NY</td>\n",
       "      <td>Mixed</td>\n",
       "    </tr>\n",
       "    <tr>\n",
       "      <th>4</th>\n",
       "      <td>9/6/2002</td>\n",
       "      <td>23300000</td>\n",
       "      <td>NaN</td>\n",
       "      <td>Kentwood, Mich.</td>\n",
       "      <td>MI</td>\n",
       "      <td>M</td>\n",
       "    </tr>\n",
       "  </tbody>\n",
       "</table>\n",
       "</div>"
      ],
      "text/plain": [
       "        Date   amount  won   cash prize              location state gender\n",
       "0  5/17/2002       23300000         NaN         Chatham, Ill.    IL  Mixed\n",
       "1  5/24/2002       23300000         NaN         Chicago, Ill.    IL      F\n",
       "2  7/16/2002       23300000         NaN  Cliffside Park, N.J.    NJ      M\n",
       "3  8/27/2002       23300000         NaN   New York City, N.Y.    NY  Mixed\n",
       "4   9/6/2002       23300000         NaN       Kentwood, Mich.    MI      M"
      ]
     },
     "execution_count": 219,
     "metadata": {},
     "output_type": "execute_result"
    }
   ],
   "source": [
    "Winners = pd.read_csv(\"jackpot winners.csv\")\n",
    "pd.set_option(\"display.max_columns\", None)\n",
    "Winners.head()"
   ]
  },
  {
   "cell_type": "code",
   "execution_count": 220,
   "id": "5e9fea81",
   "metadata": {},
   "outputs": [
    {
     "name": "stdout",
     "output_type": "stream",
     "text": [
      "<class 'pandas.core.frame.DataFrame'>\n",
      "RangeIndex: 223 entries, 0 to 222\n",
      "Data columns (total 6 columns):\n",
      " #   Column         Non-Null Count  Dtype  \n",
      "---  ------         --------------  -----  \n",
      " 0   Draw Date      223 non-null    object \n",
      " 1   JackpotAmount  223 non-null    int64  \n",
      " 2   cash prize     18 non-null     float64\n",
      " 3   Location       223 non-null    object \n",
      " 4   State          220 non-null    object \n",
      " 5   Gender         223 non-null    object \n",
      "dtypes: float64(1), int64(1), object(4)\n",
      "memory usage: 10.6+ KB\n"
     ]
    }
   ],
   "source": [
    "Winners.rename(columns={'Date': 'Draw Date', ' amount  won ':'JackpotAmount', 'location':'Location', 'state':'State', 'gender':'Gender'}, inplace=True)\n",
    "Winners.info()"
   ]
  },
  {
   "cell_type": "code",
   "execution_count": 221,
   "id": "d8ad476c",
   "metadata": {},
   "outputs": [],
   "source": [
    "Winners['Draw Date']= pd.to_datetime(Winners['Draw Date'])"
   ]
  },
  {
   "cell_type": "code",
   "execution_count": 222,
   "id": "db417dda",
   "metadata": {},
   "outputs": [],
   "source": [
    "Winners['Win'] = 'Y'\n",
    "Winners['Jackpot'] = 'Y'"
   ]
  },
  {
   "cell_type": "code",
   "execution_count": 223,
   "id": "09e690f1",
   "metadata": {},
   "outputs": [
    {
     "data": {
      "text/html": [
       "<div>\n",
       "<style scoped>\n",
       "    .dataframe tbody tr th:only-of-type {\n",
       "        vertical-align: middle;\n",
       "    }\n",
       "\n",
       "    .dataframe tbody tr th {\n",
       "        vertical-align: top;\n",
       "    }\n",
       "\n",
       "    .dataframe thead th {\n",
       "        text-align: right;\n",
       "    }\n",
       "</style>\n",
       "<table border=\"1\" class=\"dataframe\">\n",
       "  <thead>\n",
       "    <tr style=\"text-align: right;\">\n",
       "      <th></th>\n",
       "      <th>JackpotAmount</th>\n",
       "    </tr>\n",
       "    <tr>\n",
       "      <th>Draw Date</th>\n",
       "      <th></th>\n",
       "    </tr>\n",
       "  </thead>\n",
       "  <tbody>\n",
       "    <tr>\n",
       "      <th>2002-05-17</th>\n",
       "      <td>23300000</td>\n",
       "    </tr>\n",
       "    <tr>\n",
       "      <th>2002-05-24</th>\n",
       "      <td>23300000</td>\n",
       "    </tr>\n",
       "    <tr>\n",
       "      <th>2002-07-16</th>\n",
       "      <td>23300000</td>\n",
       "    </tr>\n",
       "    <tr>\n",
       "      <th>2002-08-27</th>\n",
       "      <td>23300000</td>\n",
       "    </tr>\n",
       "    <tr>\n",
       "      <th>2002-09-06</th>\n",
       "      <td>23300000</td>\n",
       "    </tr>\n",
       "    <tr>\n",
       "      <th>...</th>\n",
       "      <td>...</td>\n",
       "    </tr>\n",
       "    <tr>\n",
       "      <th>2021-02-23</th>\n",
       "      <td>1050000000</td>\n",
       "    </tr>\n",
       "    <tr>\n",
       "      <th>2021-05-21</th>\n",
       "      <td>516000000</td>\n",
       "    </tr>\n",
       "    <tr>\n",
       "      <th>2021-09-07</th>\n",
       "      <td>55000000</td>\n",
       "    </tr>\n",
       "    <tr>\n",
       "      <th>2021-09-21</th>\n",
       "      <td>431000000</td>\n",
       "    </tr>\n",
       "    <tr>\n",
       "      <th>2021-10-22</th>\n",
       "      <td>108000000</td>\n",
       "    </tr>\n",
       "  </tbody>\n",
       "</table>\n",
       "<p>198 rows × 1 columns</p>\n",
       "</div>"
      ],
      "text/plain": [
       "            JackpotAmount\n",
       "Draw Date                \n",
       "2002-05-17       23300000\n",
       "2002-05-24       23300000\n",
       "2002-07-16       23300000\n",
       "2002-08-27       23300000\n",
       "2002-09-06       23300000\n",
       "...                   ...\n",
       "2021-02-23     1050000000\n",
       "2021-05-21      516000000\n",
       "2021-09-07       55000000\n",
       "2021-09-21      431000000\n",
       "2021-10-22      108000000\n",
       "\n",
       "[198 rows x 1 columns]"
      ]
     },
     "execution_count": 223,
     "metadata": {},
     "output_type": "execute_result"
    }
   ],
   "source": [
    "Wins = pd.DataFrame(Winners.groupby('Draw Date')['JackpotAmount'].sum())\n",
    "Wins"
   ]
  },
  {
   "cell_type": "markdown",
   "id": "92fdd09f",
   "metadata": {},
   "source": [
    "### 3. Non-Jackpot Wins October 16, 2012 to November 26, 2021\n"
   ]
  },
  {
   "cell_type": "code",
   "execution_count": 224,
   "id": "bf553a7a",
   "metadata": {},
   "outputs": [
    {
     "data": {
      "text/html": [
       "<div>\n",
       "<style scoped>\n",
       "    .dataframe tbody tr th:only-of-type {\n",
       "        vertical-align: middle;\n",
       "    }\n",
       "\n",
       "    .dataframe tbody tr th {\n",
       "        vertical-align: top;\n",
       "    }\n",
       "\n",
       "    .dataframe thead th {\n",
       "        text-align: right;\n",
       "    }\n",
       "</style>\n",
       "<table border=\"1\" class=\"dataframe\">\n",
       "  <thead>\n",
       "    <tr style=\"text-align: right;\">\n",
       "      <th></th>\n",
       "      <th>Draw Date</th>\n",
       "      <th>Prize</th>\n",
       "      <th>Gender</th>\n",
       "      <th>City</th>\n",
       "      <th>State</th>\n",
       "    </tr>\n",
       "  </thead>\n",
       "  <tbody>\n",
       "    <tr>\n",
       "      <th>0</th>\n",
       "      <td>11/26/2021</td>\n",
       "      <td>2000000</td>\n",
       "      <td>M</td>\n",
       "      <td>Washtenaw County</td>\n",
       "      <td>MI</td>\n",
       "    </tr>\n",
       "    <tr>\n",
       "      <th>1</th>\n",
       "      <td>9/21/2021</td>\n",
       "      <td>30000</td>\n",
       "      <td>M</td>\n",
       "      <td>Baltimore</td>\n",
       "      <td>MD</td>\n",
       "    </tr>\n",
       "    <tr>\n",
       "      <th>2</th>\n",
       "      <td>8/31/2021</td>\n",
       "      <td>3000000</td>\n",
       "      <td>M</td>\n",
       "      <td>New Berlin</td>\n",
       "      <td>WI</td>\n",
       "    </tr>\n",
       "    <tr>\n",
       "      <th>3</th>\n",
       "      <td>8/20/2021</td>\n",
       "      <td>1000000</td>\n",
       "      <td>F</td>\n",
       "      <td>Newport News</td>\n",
       "      <td>VA</td>\n",
       "    </tr>\n",
       "    <tr>\n",
       "      <th>4</th>\n",
       "      <td>7/27/2021</td>\n",
       "      <td>3000000</td>\n",
       "      <td>Unk</td>\n",
       "      <td>Grand Strand</td>\n",
       "      <td>SC</td>\n",
       "    </tr>\n",
       "  </tbody>\n",
       "</table>\n",
       "</div>"
      ],
      "text/plain": [
       "    Draw Date    Prize Gender              City State\n",
       "0  11/26/2021  2000000      M  Washtenaw County    MI\n",
       "1   9/21/2021    30000      M         Baltimore    MD\n",
       "2   8/31/2021  3000000      M        New Berlin    WI\n",
       "3   8/20/2021  1000000      F      Newport News    VA\n",
       "4   7/27/2021  3000000    Unk      Grand Strand    SC"
      ]
     },
     "execution_count": 224,
     "metadata": {},
     "output_type": "execute_result"
    }
   ],
   "source": [
    "SmallWinners = pd.read_csv(\"nonjackpot winners.csv\")\n",
    "pd.set_option(\"display.max_columns\", None)\n",
    "SmallWinners.head()"
   ]
  },
  {
   "cell_type": "code",
   "execution_count": 225,
   "id": "0b419515",
   "metadata": {},
   "outputs": [
    {
     "name": "stdout",
     "output_type": "stream",
     "text": [
      "<class 'pandas.core.frame.DataFrame'>\n",
      "RangeIndex: 274 entries, 0 to 273\n",
      "Data columns (total 7 columns):\n",
      " #   Column            Non-Null Count  Dtype \n",
      "---  ------            --------------  ----- \n",
      " 0   Draw Date         274 non-null    object\n",
      " 1   NonJackpotAmount  274 non-null    int64 \n",
      " 2   Gender            274 non-null    object\n",
      " 3   Location          274 non-null    object\n",
      " 4   State             274 non-null    object\n",
      " 5   Win               274 non-null    object\n",
      " 6   Jackpot           274 non-null    object\n",
      "dtypes: int64(1), object(6)\n",
      "memory usage: 15.1+ KB\n"
     ]
    }
   ],
   "source": [
    "SmallWinners.rename(columns={'Date': 'Draw Date', 'Prize':'NonJackpotAmount', 'City':'Location'}, inplace=True)\n",
    "SmallWinners['Win'] = 'Y'\n",
    "SmallWinners['Jackpot'] = 'N'\n",
    "SmallWinners.info()"
   ]
  },
  {
   "cell_type": "code",
   "execution_count": 226,
   "id": "f00d878e",
   "metadata": {},
   "outputs": [
    {
     "data": {
      "text/html": [
       "<div>\n",
       "<style scoped>\n",
       "    .dataframe tbody tr th:only-of-type {\n",
       "        vertical-align: middle;\n",
       "    }\n",
       "\n",
       "    .dataframe tbody tr th {\n",
       "        vertical-align: top;\n",
       "    }\n",
       "\n",
       "    .dataframe thead th {\n",
       "        text-align: right;\n",
       "    }\n",
       "</style>\n",
       "<table border=\"1\" class=\"dataframe\">\n",
       "  <thead>\n",
       "    <tr style=\"text-align: right;\">\n",
       "      <th></th>\n",
       "      <th>NonJackpotAmount</th>\n",
       "    </tr>\n",
       "    <tr>\n",
       "      <th>Draw Date</th>\n",
       "      <th></th>\n",
       "    </tr>\n",
       "  </thead>\n",
       "  <tbody>\n",
       "    <tr>\n",
       "      <th>2012-10-16</th>\n",
       "      <td>3005000</td>\n",
       "    </tr>\n",
       "    <tr>\n",
       "      <th>2012-11-27</th>\n",
       "      <td>50000000</td>\n",
       "    </tr>\n",
       "    <tr>\n",
       "      <th>2013-10-25</th>\n",
       "      <td>479070</td>\n",
       "    </tr>\n",
       "    <tr>\n",
       "      <th>2013-11-01</th>\n",
       "      <td>1000000</td>\n",
       "    </tr>\n",
       "    <tr>\n",
       "      <th>2013-11-05</th>\n",
       "      <td>410115</td>\n",
       "    </tr>\n",
       "    <tr>\n",
       "      <th>...</th>\n",
       "      <td>...</td>\n",
       "    </tr>\n",
       "    <tr>\n",
       "      <th>2021-07-27</th>\n",
       "      <td>3000000</td>\n",
       "    </tr>\n",
       "    <tr>\n",
       "      <th>2021-08-20</th>\n",
       "      <td>1000000</td>\n",
       "    </tr>\n",
       "    <tr>\n",
       "      <th>2021-08-31</th>\n",
       "      <td>3000000</td>\n",
       "    </tr>\n",
       "    <tr>\n",
       "      <th>2021-09-21</th>\n",
       "      <td>30000</td>\n",
       "    </tr>\n",
       "    <tr>\n",
       "      <th>2021-11-26</th>\n",
       "      <td>2000000</td>\n",
       "    </tr>\n",
       "  </tbody>\n",
       "</table>\n",
       "<p>213 rows × 1 columns</p>\n",
       "</div>"
      ],
      "text/plain": [
       "            NonJackpotAmount\n",
       "Draw Date                   \n",
       "2012-10-16           3005000\n",
       "2012-11-27          50000000\n",
       "2013-10-25            479070\n",
       "2013-11-01           1000000\n",
       "2013-11-05            410115\n",
       "...                      ...\n",
       "2021-07-27           3000000\n",
       "2021-08-20           1000000\n",
       "2021-08-31           3000000\n",
       "2021-09-21             30000\n",
       "2021-11-26           2000000\n",
       "\n",
       "[213 rows x 1 columns]"
      ]
     },
     "execution_count": 226,
     "metadata": {},
     "output_type": "execute_result"
    }
   ],
   "source": [
    "SmallWinners['Draw Date']= pd.to_datetime(SmallWinners['Draw Date'])\n",
    "SmallWins = pd.DataFrame(SmallWinners.groupby('Draw Date')['NonJackpotAmount'].sum())\n",
    "SmallWins"
   ]
  },
  {
   "cell_type": "markdown",
   "id": "5a77a949",
   "metadata": {},
   "source": [
    "### Merging the Datasets"
   ]
  },
  {
   "cell_type": "markdown",
   "id": "f8f71eb1",
   "metadata": {},
   "source": [
    "#### A. Winning Numbers plus Total Jackpot and Non-Jackpot Winnings"
   ]
  },
  {
   "cell_type": "code",
   "execution_count": 227,
   "id": "957002d4",
   "metadata": {},
   "outputs": [
    {
     "name": "stdout",
     "output_type": "stream",
     "text": [
      "<class 'pandas.core.frame.DataFrame'>\n",
      "DatetimeIndex: 387 entries, 2002-05-17 to 2021-11-26\n",
      "Data columns (total 2 columns):\n",
      " #   Column            Non-Null Count  Dtype  \n",
      "---  ------            --------------  -----  \n",
      " 0   JackpotAmount     198 non-null    float64\n",
      " 1   NonJackpotAmount  213 non-null    float64\n",
      "dtypes: float64(2)\n",
      "memory usage: 9.1 KB\n"
     ]
    }
   ],
   "source": [
    "Prizes = Wins.merge(SmallWins, how='outer', on='Draw Date')\n",
    "Prizes.info()"
   ]
  },
  {
   "cell_type": "code",
   "execution_count": 228,
   "id": "ada131be",
   "metadata": {},
   "outputs": [],
   "source": [
    "Winning_Numbers = Winning_Numbers.merge(Prizes, how='left', on='Draw Date')"
   ]
  },
  {
   "cell_type": "code",
   "execution_count": 229,
   "id": "2dce39a6",
   "metadata": {},
   "outputs": [
    {
     "name": "stdout",
     "output_type": "stream",
     "text": [
      "<class 'pandas.core.frame.DataFrame'>\n",
      "Int64Index: 2036 entries, 0 to 2035\n",
      "Data columns (total 16 columns):\n",
      " #   Column            Non-Null Count  Dtype         \n",
      "---  ------            --------------  -----         \n",
      " 0   Draw Date         2036 non-null   datetime64[ns]\n",
      " 1   Mega Ball         2036 non-null   int64         \n",
      " 2   Multiplier        1133 non-null   float64       \n",
      " 3   month             2036 non-null   int64         \n",
      " 4   day               2036 non-null   int64         \n",
      " 5   year              2036 non-null   int64         \n",
      " 6   weekday           2036 non-null   int64         \n",
      " 7   weekday1          2036 non-null   object        \n",
      " 8   quarter           2036 non-null   int64         \n",
      " 9   Ball1             2036 non-null   object        \n",
      " 10  Ball2             2036 non-null   object        \n",
      " 11  Ball3             2036 non-null   object        \n",
      " 12  Ball4             2036 non-null   object        \n",
      " 13  Ball5             2036 non-null   object        \n",
      " 14  JackpotAmount     198 non-null    float64       \n",
      " 15  NonJackpotAmount  213 non-null    float64       \n",
      "dtypes: datetime64[ns](1), float64(3), int64(6), object(6)\n",
      "memory usage: 270.4+ KB\n"
     ]
    }
   ],
   "source": [
    "Winning_Numbers.info()"
   ]
  },
  {
   "cell_type": "code",
   "execution_count": 230,
   "id": "8d4f72b7",
   "metadata": {},
   "outputs": [
    {
     "data": {
      "text/html": [
       "<div>\n",
       "<style scoped>\n",
       "    .dataframe tbody tr th:only-of-type {\n",
       "        vertical-align: middle;\n",
       "    }\n",
       "\n",
       "    .dataframe tbody tr th {\n",
       "        vertical-align: top;\n",
       "    }\n",
       "\n",
       "    .dataframe thead th {\n",
       "        text-align: right;\n",
       "    }\n",
       "</style>\n",
       "<table border=\"1\" class=\"dataframe\">\n",
       "  <thead>\n",
       "    <tr style=\"text-align: right;\">\n",
       "      <th></th>\n",
       "      <th>Draw Date</th>\n",
       "      <th>Mega Ball</th>\n",
       "      <th>Multiplier</th>\n",
       "      <th>month</th>\n",
       "      <th>day</th>\n",
       "      <th>year</th>\n",
       "      <th>weekday</th>\n",
       "      <th>weekday1</th>\n",
       "      <th>quarter</th>\n",
       "      <th>Ball1</th>\n",
       "      <th>Ball2</th>\n",
       "      <th>Ball3</th>\n",
       "      <th>Ball4</th>\n",
       "      <th>Ball5</th>\n",
       "      <th>JackpotAmount</th>\n",
       "      <th>NonJackpotAmount</th>\n",
       "    </tr>\n",
       "  </thead>\n",
       "  <tbody>\n",
       "    <tr>\n",
       "      <th>0</th>\n",
       "      <td>2020-09-25</td>\n",
       "      <td>16</td>\n",
       "      <td>2.0</td>\n",
       "      <td>9</td>\n",
       "      <td>25</td>\n",
       "      <td>2020</td>\n",
       "      <td>4</td>\n",
       "      <td>Friday</td>\n",
       "      <td>3</td>\n",
       "      <td>20</td>\n",
       "      <td>36</td>\n",
       "      <td>37</td>\n",
       "      <td>48</td>\n",
       "      <td>67</td>\n",
       "      <td>NaN</td>\n",
       "      <td>NaN</td>\n",
       "    </tr>\n",
       "    <tr>\n",
       "      <th>1</th>\n",
       "      <td>2020-09-29</td>\n",
       "      <td>19</td>\n",
       "      <td>3.0</td>\n",
       "      <td>9</td>\n",
       "      <td>29</td>\n",
       "      <td>2020</td>\n",
       "      <td>1</td>\n",
       "      <td>Tuesday</td>\n",
       "      <td>3</td>\n",
       "      <td>14</td>\n",
       "      <td>39</td>\n",
       "      <td>43</td>\n",
       "      <td>44</td>\n",
       "      <td>67</td>\n",
       "      <td>NaN</td>\n",
       "      <td>NaN</td>\n",
       "    </tr>\n",
       "    <tr>\n",
       "      <th>2</th>\n",
       "      <td>2020-10-02</td>\n",
       "      <td>25</td>\n",
       "      <td>2.0</td>\n",
       "      <td>10</td>\n",
       "      <td>2</td>\n",
       "      <td>2020</td>\n",
       "      <td>4</td>\n",
       "      <td>Friday</td>\n",
       "      <td>4</td>\n",
       "      <td>09</td>\n",
       "      <td>38</td>\n",
       "      <td>47</td>\n",
       "      <td>49</td>\n",
       "      <td>68</td>\n",
       "      <td>NaN</td>\n",
       "      <td>NaN</td>\n",
       "    </tr>\n",
       "    <tr>\n",
       "      <th>3</th>\n",
       "      <td>2020-10-06</td>\n",
       "      <td>17</td>\n",
       "      <td>3.0</td>\n",
       "      <td>10</td>\n",
       "      <td>6</td>\n",
       "      <td>2020</td>\n",
       "      <td>1</td>\n",
       "      <td>Tuesday</td>\n",
       "      <td>4</td>\n",
       "      <td>15</td>\n",
       "      <td>16</td>\n",
       "      <td>18</td>\n",
       "      <td>39</td>\n",
       "      <td>59</td>\n",
       "      <td>NaN</td>\n",
       "      <td>NaN</td>\n",
       "    </tr>\n",
       "    <tr>\n",
       "      <th>4</th>\n",
       "      <td>2020-10-09</td>\n",
       "      <td>13</td>\n",
       "      <td>2.0</td>\n",
       "      <td>10</td>\n",
       "      <td>9</td>\n",
       "      <td>2020</td>\n",
       "      <td>4</td>\n",
       "      <td>Friday</td>\n",
       "      <td>4</td>\n",
       "      <td>05</td>\n",
       "      <td>11</td>\n",
       "      <td>25</td>\n",
       "      <td>27</td>\n",
       "      <td>64</td>\n",
       "      <td>NaN</td>\n",
       "      <td>2000000.0</td>\n",
       "    </tr>\n",
       "    <tr>\n",
       "      <th>...</th>\n",
       "      <td>...</td>\n",
       "      <td>...</td>\n",
       "      <td>...</td>\n",
       "      <td>...</td>\n",
       "      <td>...</td>\n",
       "      <td>...</td>\n",
       "      <td>...</td>\n",
       "      <td>...</td>\n",
       "      <td>...</td>\n",
       "      <td>...</td>\n",
       "      <td>...</td>\n",
       "      <td>...</td>\n",
       "      <td>...</td>\n",
       "      <td>...</td>\n",
       "      <td>...</td>\n",
       "      <td>...</td>\n",
       "    </tr>\n",
       "    <tr>\n",
       "      <th>2031</th>\n",
       "      <td>2021-11-12</td>\n",
       "      <td>15</td>\n",
       "      <td>2.0</td>\n",
       "      <td>11</td>\n",
       "      <td>12</td>\n",
       "      <td>2021</td>\n",
       "      <td>4</td>\n",
       "      <td>Friday</td>\n",
       "      <td>4</td>\n",
       "      <td>30</td>\n",
       "      <td>32</td>\n",
       "      <td>42</td>\n",
       "      <td>46</td>\n",
       "      <td>48</td>\n",
       "      <td>NaN</td>\n",
       "      <td>NaN</td>\n",
       "    </tr>\n",
       "    <tr>\n",
       "      <th>2032</th>\n",
       "      <td>2021-11-16</td>\n",
       "      <td>3</td>\n",
       "      <td>3.0</td>\n",
       "      <td>11</td>\n",
       "      <td>16</td>\n",
       "      <td>2021</td>\n",
       "      <td>1</td>\n",
       "      <td>Tuesday</td>\n",
       "      <td>4</td>\n",
       "      <td>06</td>\n",
       "      <td>22</td>\n",
       "      <td>44</td>\n",
       "      <td>53</td>\n",
       "      <td>65</td>\n",
       "      <td>NaN</td>\n",
       "      <td>NaN</td>\n",
       "    </tr>\n",
       "    <tr>\n",
       "      <th>2033</th>\n",
       "      <td>2021-11-19</td>\n",
       "      <td>18</td>\n",
       "      <td>5.0</td>\n",
       "      <td>11</td>\n",
       "      <td>19</td>\n",
       "      <td>2021</td>\n",
       "      <td>4</td>\n",
       "      <td>Friday</td>\n",
       "      <td>4</td>\n",
       "      <td>05</td>\n",
       "      <td>23</td>\n",
       "      <td>52</td>\n",
       "      <td>53</td>\n",
       "      <td>59</td>\n",
       "      <td>NaN</td>\n",
       "      <td>NaN</td>\n",
       "    </tr>\n",
       "    <tr>\n",
       "      <th>2034</th>\n",
       "      <td>2021-11-23</td>\n",
       "      <td>6</td>\n",
       "      <td>3.0</td>\n",
       "      <td>11</td>\n",
       "      <td>23</td>\n",
       "      <td>2021</td>\n",
       "      <td>1</td>\n",
       "      <td>Tuesday</td>\n",
       "      <td>4</td>\n",
       "      <td>07</td>\n",
       "      <td>24</td>\n",
       "      <td>54</td>\n",
       "      <td>57</td>\n",
       "      <td>58</td>\n",
       "      <td>NaN</td>\n",
       "      <td>NaN</td>\n",
       "    </tr>\n",
       "    <tr>\n",
       "      <th>2035</th>\n",
       "      <td>2021-11-26</td>\n",
       "      <td>2</td>\n",
       "      <td>2.0</td>\n",
       "      <td>11</td>\n",
       "      <td>26</td>\n",
       "      <td>2021</td>\n",
       "      <td>4</td>\n",
       "      <td>Friday</td>\n",
       "      <td>4</td>\n",
       "      <td>07</td>\n",
       "      <td>27</td>\n",
       "      <td>37</td>\n",
       "      <td>42</td>\n",
       "      <td>59</td>\n",
       "      <td>NaN</td>\n",
       "      <td>2000000.0</td>\n",
       "    </tr>\n",
       "  </tbody>\n",
       "</table>\n",
       "<p>2036 rows × 16 columns</p>\n",
       "</div>"
      ],
      "text/plain": [
       "      Draw Date  Mega Ball  Multiplier  month  day  year  weekday weekday1  \\\n",
       "0    2020-09-25         16         2.0      9   25  2020        4   Friday   \n",
       "1    2020-09-29         19         3.0      9   29  2020        1  Tuesday   \n",
       "2    2020-10-02         25         2.0     10    2  2020        4   Friday   \n",
       "3    2020-10-06         17         3.0     10    6  2020        1  Tuesday   \n",
       "4    2020-10-09         13         2.0     10    9  2020        4   Friday   \n",
       "...         ...        ...         ...    ...  ...   ...      ...      ...   \n",
       "2031 2021-11-12         15         2.0     11   12  2021        4   Friday   \n",
       "2032 2021-11-16          3         3.0     11   16  2021        1  Tuesday   \n",
       "2033 2021-11-19         18         5.0     11   19  2021        4   Friday   \n",
       "2034 2021-11-23          6         3.0     11   23  2021        1  Tuesday   \n",
       "2035 2021-11-26          2         2.0     11   26  2021        4   Friday   \n",
       "\n",
       "      quarter Ball1 Ball2 Ball3 Ball4 Ball5  JackpotAmount  NonJackpotAmount  \n",
       "0           3    20    36    37    48    67            NaN               NaN  \n",
       "1           3    14    39    43    44    67            NaN               NaN  \n",
       "2           4    09    38    47    49    68            NaN               NaN  \n",
       "3           4    15    16    18    39    59            NaN               NaN  \n",
       "4           4    05    11    25    27    64            NaN         2000000.0  \n",
       "...       ...   ...   ...   ...   ...   ...            ...               ...  \n",
       "2031        4    30    32    42    46    48            NaN               NaN  \n",
       "2032        4    06    22    44    53    65            NaN               NaN  \n",
       "2033        4    05    23    52    53    59            NaN               NaN  \n",
       "2034        4    07    24    54    57    58            NaN               NaN  \n",
       "2035        4    07    27    37    42    59            NaN         2000000.0  \n",
       "\n",
       "[2036 rows x 16 columns]"
      ]
     },
     "execution_count": 230,
     "metadata": {},
     "output_type": "execute_result"
    }
   ],
   "source": [
    "Winning_Numbers"
   ]
  },
  {
   "cell_type": "markdown",
   "id": "28154b43",
   "metadata": {},
   "source": [
    "##### Export data to excel file."
   ]
  },
  {
   "cell_type": "code",
   "execution_count": 231,
   "id": "b87b75cb",
   "metadata": {},
   "outputs": [],
   "source": [
    "Winning_Numbers.to_csv('Lottery_Mega_Millions_Winning_Numbers__Beginning_2002_Wrangled.csv')  "
   ]
  },
  {
   "cell_type": "markdown",
   "id": "1b1b9b0b",
   "metadata": {},
   "source": [
    "#### B. Jackpot & Non-Jackpot Winners"
   ]
  },
  {
   "cell_type": "code",
   "execution_count": 232,
   "id": "26489f08",
   "metadata": {},
   "outputs": [
    {
     "name": "stdout",
     "output_type": "stream",
     "text": [
      "<class 'pandas.core.frame.DataFrame'>\n",
      "Int64Index: 497 entries, 0 to 496\n",
      "Data columns (total 9 columns):\n",
      " #   Column            Non-Null Count  Dtype         \n",
      "---  ------            --------------  -----         \n",
      " 0   Draw Date         497 non-null    datetime64[ns]\n",
      " 1   JackpotAmount     223 non-null    float64       \n",
      " 2   cash prize        18 non-null     float64       \n",
      " 3   Location          497 non-null    object        \n",
      " 4   State             494 non-null    object        \n",
      " 5   Gender            497 non-null    object        \n",
      " 6   Win               497 non-null    object        \n",
      " 7   Jackpot           497 non-null    object        \n",
      " 8   NonJackpotAmount  274 non-null    float64       \n",
      "dtypes: datetime64[ns](1), float64(3), object(5)\n",
      "memory usage: 38.8+ KB\n"
     ]
    }
   ],
   "source": [
    "AllWinners = pd.merge(Winners, SmallWinners, on=['Draw Date', 'Location', 'State', 'Gender', 'Win', 'Jackpot'], how='outer')\n",
    "AllWinners.info()"
   ]
  },
  {
   "cell_type": "markdown",
   "id": "28154b43",
   "metadata": {},
   "source": [
    "##### Export data to excel file."
   ]
  },
  {
   "cell_type": "code",
   "execution_count": 233,
   "id": "b87b75cb",
   "metadata": {},
   "outputs": [],
   "source": [
    "AllWinners.to_csv('AllWinners.csv')  "
   ]
  },
  {
   "cell_type": "markdown",
   "id": "dcc3cce3",
   "metadata": {},
   "source": [
    "## Data Exploration"
   ]
  },
  {
   "cell_type": "markdown",
   "id": "dce1c07f",
   "metadata": {},
   "source": [
    "## Machine Learning"
   ]
  },
  {
   "cell_type": "markdown",
   "id": "7a05d0e1",
   "metadata": {},
   "source": [
    "## Decision Tree. \n",
    "Based on Balls 1-5, to what extent can I predict the megaball?"
   ]
  },
  {
   "cell_type": "code",
   "execution_count": 234,
   "id": "c5eac225",
   "metadata": {},
   "outputs": [],
   "source": [
    "import pandas as pd\n",
    "import numpy as np\n",
    "import matplotlib.pyplot as plt\n",
    "import seaborn as sns\n",
    "%matplotlib inline\n",
    "from sklearn.model_selection import train_test_split\n",
    "from sklearn.tree import DecisionTreeClassifier\n",
    "from sklearn.metrics import classification_report, confusion_matrix, accuracy_score"
   ]
  },
  {
   "cell_type": "markdown",
   "id": "8e605991",
   "metadata": {},
   "source": [
    "### Import Data."
   ]
  },
  {
   "cell_type": "markdown",
   "id": "b10305db",
   "metadata": {},
   "source": [
    "### See Data Types."
   ]
  },
  {
   "cell_type": "code",
   "execution_count": 235,
   "id": "108562a3",
   "metadata": {},
   "outputs": [
    {
     "name": "stdout",
     "output_type": "stream",
     "text": [
      "<class 'pandas.core.frame.DataFrame'>\n",
      "Int64Index: 2036 entries, 0 to 2035\n",
      "Data columns (total 16 columns):\n",
      " #   Column            Non-Null Count  Dtype         \n",
      "---  ------            --------------  -----         \n",
      " 0   Draw Date         2036 non-null   datetime64[ns]\n",
      " 1   Mega Ball         2036 non-null   int64         \n",
      " 2   Multiplier        1133 non-null   float64       \n",
      " 3   month             2036 non-null   int64         \n",
      " 4   day               2036 non-null   int64         \n",
      " 5   year              2036 non-null   int64         \n",
      " 6   weekday           2036 non-null   int64         \n",
      " 7   weekday1          2036 non-null   object        \n",
      " 8   quarter           2036 non-null   int64         \n",
      " 9   Ball1             2036 non-null   object        \n",
      " 10  Ball2             2036 non-null   object        \n",
      " 11  Ball3             2036 non-null   object        \n",
      " 12  Ball4             2036 non-null   object        \n",
      " 13  Ball5             2036 non-null   object        \n",
      " 14  JackpotAmount     198 non-null    float64       \n",
      " 15  NonJackpotAmount  213 non-null    float64       \n",
      "dtypes: datetime64[ns](1), float64(3), int64(6), object(6)\n",
      "memory usage: 270.4+ KB\n"
     ]
    }
   ],
   "source": [
    "Winning_Numbers.info()"
   ]
  },
  {
   "cell_type": "markdown",
   "id": "bcf98fe9",
   "metadata": {},
   "source": [
    "### Rename 'Mega Ball' column."
   ]
  },
  {
   "cell_type": "code",
   "execution_count": 236,
   "id": "2474575a",
   "metadata": {},
   "outputs": [],
   "source": [
    "Winning_Numbers = Winning_Numbers.rename(columns={'Mega Ball': 'Mega_Ball'})\n",
    "# df = df.rename(columns={'oldName1': 'newName1', 'oldName2': 'newName2'})"
   ]
  },
  {
   "cell_type": "markdown",
   "id": "5209569e",
   "metadata": {},
   "source": [
    "### See Data Types Again."
   ]
  },
  {
   "cell_type": "code",
   "execution_count": 237,
   "id": "554869de",
   "metadata": {},
   "outputs": [
    {
     "name": "stdout",
     "output_type": "stream",
     "text": [
      "<class 'pandas.core.frame.DataFrame'>\n",
      "Int64Index: 2036 entries, 0 to 2035\n",
      "Data columns (total 16 columns):\n",
      " #   Column            Non-Null Count  Dtype         \n",
      "---  ------            --------------  -----         \n",
      " 0   Draw Date         2036 non-null   datetime64[ns]\n",
      " 1   Mega_Ball         2036 non-null   int64         \n",
      " 2   Multiplier        1133 non-null   float64       \n",
      " 3   month             2036 non-null   int64         \n",
      " 4   day               2036 non-null   int64         \n",
      " 5   year              2036 non-null   int64         \n",
      " 6   weekday           2036 non-null   int64         \n",
      " 7   weekday1          2036 non-null   object        \n",
      " 8   quarter           2036 non-null   int64         \n",
      " 9   Ball1             2036 non-null   object        \n",
      " 10  Ball2             2036 non-null   object        \n",
      " 11  Ball3             2036 non-null   object        \n",
      " 12  Ball4             2036 non-null   object        \n",
      " 13  Ball5             2036 non-null   object        \n",
      " 14  JackpotAmount     198 non-null    float64       \n",
      " 15  NonJackpotAmount  213 non-null    float64       \n",
      "dtypes: datetime64[ns](1), float64(3), int64(6), object(6)\n",
      "memory usage: 270.4+ KB\n"
     ]
    }
   ],
   "source": [
    "Winning_Numbers.info()"
   ]
  },
  {
   "cell_type": "markdown",
   "id": "ff89dc74",
   "metadata": {},
   "source": [
    "### Set data types."
   ]
  },
  {
   "cell_type": "code",
   "execution_count": 238,
   "id": "3fa0fc0c",
   "metadata": {},
   "outputs": [],
   "source": [
    "Winning_Numbers.Ball1 = Winning_Numbers.Ball1.astype(int)\n",
    "Winning_Numbers.Ball2 = Winning_Numbers.Ball2.astype(int)\n",
    "Winning_Numbers.Ball3 = Winning_Numbers.Ball3.astype(int)\n",
    "Winning_Numbers.Ball4 = Winning_Numbers.Ball4.astype(int)\n",
    "Winning_Numbers.Ball5 = Winning_Numbers.Ball5.astype(int)\n",
    "Winning_Numbers.Mega_Ball = Winning_Numbers.Mega_Ball.astype(int)\n",
    "# Titanic.fare = Titanic.fare.astype(int)"
   ]
  },
  {
   "cell_type": "markdown",
   "id": "fb19e939",
   "metadata": {},
   "source": [
    "### See Data Types Again."
   ]
  },
  {
   "cell_type": "code",
   "execution_count": 239,
   "id": "b300c329",
   "metadata": {},
   "outputs": [
    {
     "name": "stdout",
     "output_type": "stream",
     "text": [
      "<class 'pandas.core.frame.DataFrame'>\n",
      "Int64Index: 2036 entries, 0 to 2035\n",
      "Data columns (total 16 columns):\n",
      " #   Column            Non-Null Count  Dtype         \n",
      "---  ------            --------------  -----         \n",
      " 0   Draw Date         2036 non-null   datetime64[ns]\n",
      " 1   Mega_Ball         2036 non-null   int32         \n",
      " 2   Multiplier        1133 non-null   float64       \n",
      " 3   month             2036 non-null   int64         \n",
      " 4   day               2036 non-null   int64         \n",
      " 5   year              2036 non-null   int64         \n",
      " 6   weekday           2036 non-null   int64         \n",
      " 7   weekday1          2036 non-null   object        \n",
      " 8   quarter           2036 non-null   int64         \n",
      " 9   Ball1             2036 non-null   int32         \n",
      " 10  Ball2             2036 non-null   int32         \n",
      " 11  Ball3             2036 non-null   int32         \n",
      " 12  Ball4             2036 non-null   int32         \n",
      " 13  Ball5             2036 non-null   int32         \n",
      " 14  JackpotAmount     198 non-null    float64       \n",
      " 15  NonJackpotAmount  213 non-null    float64       \n",
      "dtypes: datetime64[ns](1), float64(3), int32(6), int64(5), object(1)\n",
      "memory usage: 222.7+ KB\n"
     ]
    }
   ],
   "source": [
    "Winning_Numbers.info()"
   ]
  },
  {
   "cell_type": "markdown",
   "id": "da49b621",
   "metadata": {},
   "source": [
    "### Specify Predictor and Response Variables."
   ]
  },
  {
   "cell_type": "code",
   "execution_count": 240,
   "id": "b959c4ae",
   "metadata": {},
   "outputs": [],
   "source": [
    "x = Winning_Numbers.drop(['Draw Date', 'Multiplier', 'month', 'day', 'year', 'weekday', 'weekday1', 'quarter', 'JackpotAmount', 'NonJackpotAmount'], axis=1)\n",
    "y = Winning_Numbers['Mega_Ball']\n",
    "# x = Titanic.drop('survived', axis=1)\n",
    "# y = Titanic['survived']"
   ]
  },
  {
   "cell_type": "markdown",
   "id": "4b1bf4d1",
   "metadata": {},
   "source": [
    "### Train-Test-Split."
   ]
  },
  {
   "cell_type": "code",
   "execution_count": 241,
   "id": "ee9b815e",
   "metadata": {},
   "outputs": [],
   "source": [
    "x_train, x_test, y_train, y_test = train_test_split(x,y, test_size=0.50)"
   ]
  },
  {
   "cell_type": "markdown",
   "id": "e1c96e95",
   "metadata": {},
   "source": [
    "### Implement Decision Tree."
   ]
  },
  {
   "cell_type": "code",
   "execution_count": 242,
   "id": "087d7b1d",
   "metadata": {},
   "outputs": [
    {
     "data": {
      "text/plain": [
       "DecisionTreeClassifier(random_state=76)"
      ]
     },
     "execution_count": 242,
     "metadata": {},
     "output_type": "execute_result"
    }
   ],
   "source": [
    "decisionTree = DecisionTreeClassifier(random_state=76)\n",
    "decisionTree.fit(x_train, y_train)"
   ]
  },
  {
   "cell_type": "code",
   "execution_count": 243,
   "id": "c4030ef5",
   "metadata": {},
   "outputs": [
    {
     "data": {
      "text/plain": [
       "array([ 9, 38, 49, ...,  9, 19, 22])"
      ]
     },
     "execution_count": 243,
     "metadata": {},
     "output_type": "execute_result"
    }
   ],
   "source": [
    "treePredictions = decisionTree.predict(x_test)\n",
    "treePredictions"
   ]
  },
  {
   "cell_type": "code",
   "execution_count": 244,
   "id": "161b3e90",
   "metadata": {},
   "outputs": [
    {
     "name": "stdout",
     "output_type": "stream",
     "text": [
      "[[35  0  0 ...  0  0  0]\n",
      " [ 0 34  0 ...  0  0  0]\n",
      " [ 0  0 38 ...  0  0  0]\n",
      " ...\n",
      " [ 0  0  0 ...  1  0  0]\n",
      " [ 0  0  0 ...  0  0  0]\n",
      " [ 0  0  0 ...  0  0  4]]\n",
      "              precision    recall  f1-score   support\n",
      "\n",
      "           1       1.00      1.00      1.00        35\n",
      "           2       1.00      1.00      1.00        34\n",
      "           3       1.00      1.00      1.00        38\n",
      "           4       1.00      1.00      1.00        37\n",
      "           5       1.00      1.00      1.00        28\n",
      "           6       1.00      1.00      1.00        38\n",
      "           7       1.00      1.00      1.00        35\n",
      "           8       1.00      1.00      1.00        33\n",
      "           9       1.00      1.00      1.00        35\n",
      "          10       1.00      1.00      1.00        37\n",
      "          11       1.00      1.00      1.00        34\n",
      "          12       1.00      1.00      1.00        34\n",
      "          13       1.00      1.00      1.00        38\n",
      "          14       1.00      1.00      1.00        30\n",
      "          15       1.00      1.00      1.00        39\n",
      "          16       1.00      1.00      1.00        17\n",
      "          17       1.00      1.00      1.00        19\n",
      "          18       1.00      1.00      1.00        16\n",
      "          19       1.00      1.00      1.00        20\n",
      "          20       1.00      1.00      1.00        18\n",
      "          21       1.00      1.00      1.00        24\n",
      "          22       1.00      1.00      1.00        25\n",
      "          23       1.00      1.00      1.00        16\n",
      "          24       1.00      1.00      1.00        24\n",
      "          25       1.00      1.00      1.00        18\n",
      "          26       1.00      1.00      1.00        19\n",
      "          27       1.00      1.00      1.00         8\n",
      "          28       1.00      1.00      1.00        11\n",
      "          29       1.00      1.00      1.00        17\n",
      "          30       1.00      1.00      1.00        17\n",
      "          31       1.00      1.00      1.00        11\n",
      "          32       1.00      1.00      1.00         9\n",
      "          33       1.00      1.00      1.00        12\n",
      "          34       1.00      1.00      1.00        16\n",
      "          35       1.00      1.00      1.00        15\n",
      "          36       1.00      1.00      1.00        18\n",
      "          37       1.00      1.00      1.00         8\n",
      "          38       1.00      1.00      1.00        20\n",
      "          39       1.00      1.00      1.00         8\n",
      "          40       1.00      1.00      1.00        15\n",
      "          41       1.00      1.00      1.00        14\n",
      "          42       1.00      1.00      1.00        13\n",
      "          43       1.00      1.00      1.00        12\n",
      "          44       1.00      1.00      1.00        12\n",
      "          45       1.00      1.00      1.00        10\n",
      "          46       1.00      1.00      1.00        13\n",
      "          47       0.50      1.00      0.67         4\n",
      "          48       0.00      0.00      0.00         4\n",
      "          49       0.50      0.67      0.57         3\n",
      "          50       0.50      0.50      0.50         2\n",
      "          51       0.00      0.00      0.00         1\n",
      "          52       1.00      1.00      1.00         4\n",
      "\n",
      "    accuracy                           0.99      1018\n",
      "   macro avg       0.93      0.95      0.94      1018\n",
      "weighted avg       0.99      0.99      0.99      1018\n",
      "\n"
     ]
    },
    {
     "name": "stderr",
     "output_type": "stream",
     "text": [
      "C:\\Users\\betre\\anaconda3\\lib\\site-packages\\sklearn\\metrics\\_classification.py:1245: UndefinedMetricWarning: Precision and F-score are ill-defined and being set to 0.0 in labels with no predicted samples. Use `zero_division` parameter to control this behavior.\n",
      "  _warn_prf(average, modifier, msg_start, len(result))\n",
      "C:\\Users\\betre\\anaconda3\\lib\\site-packages\\sklearn\\metrics\\_classification.py:1245: UndefinedMetricWarning: Precision and F-score are ill-defined and being set to 0.0 in labels with no predicted samples. Use `zero_division` parameter to control this behavior.\n",
      "  _warn_prf(average, modifier, msg_start, len(result))\n",
      "C:\\Users\\betre\\anaconda3\\lib\\site-packages\\sklearn\\metrics\\_classification.py:1245: UndefinedMetricWarning: Precision and F-score are ill-defined and being set to 0.0 in labels with no predicted samples. Use `zero_division` parameter to control this behavior.\n",
      "  _warn_prf(average, modifier, msg_start, len(result))\n"
     ]
    }
   ],
   "source": [
    "treePredictions = decisionTree.predict(x_test)\n",
    "from sklearn.metrics import classification_report, confusion_matrix, accuracy_score\n",
    "print(confusion_matrix(y_test, treePredictions))\n",
    "print(classification_report(y_test, treePredictions))\n",
    "# 1. Support is the number of actual occurrences of the class in the specified dataset.\n",
    "# 2. A Confusion matrix is an N x N matrix used for evaluating the performance of a classification model, \n",
    "# where N is the number of target classes. The matrix compares the actual target values with those predicted \n",
    "# by the machine learning model."
   ]
  },
  {
   "cell_type": "code",
   "execution_count": 245,
   "id": "f7e0f966",
   "metadata": {},
   "outputs": [
    {
     "name": "stdout",
     "output_type": "stream",
     "text": [
      "[[35  0  0 ...  0  0  0]\n",
      " [ 0 34  0 ...  0  0  0]\n",
      " [ 0  0 38 ...  0  0  0]\n",
      " ...\n",
      " [ 0  0  0 ...  1  0  0]\n",
      " [ 0  0  0 ...  0  0  0]\n",
      " [ 0  0  0 ...  0  0  4]]\n"
     ]
    }
   ],
   "source": [
    "# Redundant\n",
    "print(confusion_matrix(y_test, treePredictions))"
   ]
  },
  {
   "cell_type": "code",
   "execution_count": 246,
   "id": "730adc75",
   "metadata": {},
   "outputs": [
    {
     "name": "stdout",
     "output_type": "stream",
     "text": [
      "              precision    recall  f1-score   support\n",
      "\n",
      "           1       1.00      1.00      1.00        35\n",
      "           2       1.00      1.00      1.00        34\n",
      "           3       1.00      1.00      1.00        38\n",
      "           4       1.00      1.00      1.00        37\n",
      "           5       1.00      1.00      1.00        28\n",
      "           6       1.00      1.00      1.00        38\n",
      "           7       1.00      1.00      1.00        35\n",
      "           8       1.00      1.00      1.00        33\n",
      "           9       1.00      1.00      1.00        35\n",
      "          10       1.00      1.00      1.00        37\n",
      "          11       1.00      1.00      1.00        34\n",
      "          12       1.00      1.00      1.00        34\n",
      "          13       1.00      1.00      1.00        38\n",
      "          14       1.00      1.00      1.00        30\n",
      "          15       1.00      1.00      1.00        39\n",
      "          16       1.00      1.00      1.00        17\n",
      "          17       1.00      1.00      1.00        19\n",
      "          18       1.00      1.00      1.00        16\n",
      "          19       1.00      1.00      1.00        20\n",
      "          20       1.00      1.00      1.00        18\n",
      "          21       1.00      1.00      1.00        24\n",
      "          22       1.00      1.00      1.00        25\n",
      "          23       1.00      1.00      1.00        16\n",
      "          24       1.00      1.00      1.00        24\n",
      "          25       1.00      1.00      1.00        18\n",
      "          26       1.00      1.00      1.00        19\n",
      "          27       1.00      1.00      1.00         8\n",
      "          28       1.00      1.00      1.00        11\n",
      "          29       1.00      1.00      1.00        17\n",
      "          30       1.00      1.00      1.00        17\n",
      "          31       1.00      1.00      1.00        11\n",
      "          32       1.00      1.00      1.00         9\n",
      "          33       1.00      1.00      1.00        12\n",
      "          34       1.00      1.00      1.00        16\n",
      "          35       1.00      1.00      1.00        15\n",
      "          36       1.00      1.00      1.00        18\n",
      "          37       1.00      1.00      1.00         8\n",
      "          38       1.00      1.00      1.00        20\n",
      "          39       1.00      1.00      1.00         8\n",
      "          40       1.00      1.00      1.00        15\n",
      "          41       1.00      1.00      1.00        14\n",
      "          42       1.00      1.00      1.00        13\n",
      "          43       1.00      1.00      1.00        12\n",
      "          44       1.00      1.00      1.00        12\n",
      "          45       1.00      1.00      1.00        10\n",
      "          46       1.00      1.00      1.00        13\n",
      "          47       0.50      1.00      0.67         4\n",
      "          48       0.00      0.00      0.00         4\n",
      "          49       0.50      0.67      0.57         3\n",
      "          50       0.50      0.50      0.50         2\n",
      "          51       0.00      0.00      0.00         1\n",
      "          52       1.00      1.00      1.00         4\n",
      "\n",
      "    accuracy                           0.99      1018\n",
      "   macro avg       0.93      0.95      0.94      1018\n",
      "weighted avg       0.99      0.99      0.99      1018\n",
      "\n"
     ]
    },
    {
     "name": "stderr",
     "output_type": "stream",
     "text": [
      "C:\\Users\\betre\\anaconda3\\lib\\site-packages\\sklearn\\metrics\\_classification.py:1245: UndefinedMetricWarning: Precision and F-score are ill-defined and being set to 0.0 in labels with no predicted samples. Use `zero_division` parameter to control this behavior.\n",
      "  _warn_prf(average, modifier, msg_start, len(result))\n",
      "C:\\Users\\betre\\anaconda3\\lib\\site-packages\\sklearn\\metrics\\_classification.py:1245: UndefinedMetricWarning: Precision and F-score are ill-defined and being set to 0.0 in labels with no predicted samples. Use `zero_division` parameter to control this behavior.\n",
      "  _warn_prf(average, modifier, msg_start, len(result))\n",
      "C:\\Users\\betre\\anaconda3\\lib\\site-packages\\sklearn\\metrics\\_classification.py:1245: UndefinedMetricWarning: Precision and F-score are ill-defined and being set to 0.0 in labels with no predicted samples. Use `zero_division` parameter to control this behavior.\n",
      "  _warn_prf(average, modifier, msg_start, len(result))\n"
     ]
    }
   ],
   "source": [
    "# Redundant\n",
    "print(classification_report(y_test, treePredictions))"
   ]
  },
  {
   "cell_type": "code",
   "execution_count": 247,
   "id": "786c0bf9",
   "metadata": {},
   "outputs": [],
   "source": [
    "# from sklearn.linear_model import LinearRegression\n",
    "# from sklearn.model_selection import train_test_split\n",
    "# %matplotlib inline\n",
    "# from sklearn import metrics\n"
   ]
  },
  {
   "cell_type": "code",
   "execution_count": 248,
   "id": "90222768",
   "metadata": {},
   "outputs": [],
   "source": [
    "# Winning_Numbers['Ball1'] =Winning_Numbers['Ball1'].astype('category')\n",
    "# Winning_Numbers['Ball2'] =Winning_Numbers['Ball2'].astype('category')\n",
    "# Winning_Numbers['Ball3'] =Winning_Numbers['Ball3'].astype('category')\n",
    "# Winning_Numbers['Ball4'] =Winning_Numbers['Ball4'].astype('category')\n",
    "# Winning_Numbers['Ball5'] =Winning_Numbers['Ball5'].astype('category')\n",
    "# Winning_Numbers['Mega Ball'] =Winning_Numbers['Mega Ball'].astype('category')\n",
    "\n",
    "# cat_feat = ['Mega Ball','Multiplier']\n",
    "# for feat in cat_feat:\n",
    "#     Winning_Numbers[feat] = Winning_Numbers[feat].astype('category')"
   ]
  },
  {
   "cell_type": "code",
   "execution_count": 249,
   "id": "3172027d",
   "metadata": {},
   "outputs": [],
   "source": [
    "# x = realestate[['X2 house age', 'X3 distance to the nearest MRT station', 'X4 number of convenience stores', 'X5 latitude', 'X6 longitude']]"
   ]
  },
  {
   "cell_type": "code",
   "execution_count": 250,
   "id": "8c3b968b",
   "metadata": {},
   "outputs": [],
   "source": [
    "# y = realestate['Y house price of unit area']\n"
   ]
  },
  {
   "cell_type": "code",
   "execution_count": 251,
   "id": "23cb1f88",
   "metadata": {},
   "outputs": [],
   "source": [
    "# Winning_Numbers1 = LinearRegression()\n",
    "# Winning_Numbers1.fit(x_train, y_train)\n",
    "\n",
    "# lm = LinearRegression()\n",
    "# lm.fit(x_train, y_train)"
   ]
  },
  {
   "cell_type": "code",
   "execution_count": 252,
   "id": "d050149e",
   "metadata": {},
   "outputs": [],
   "source": [
    "# LinearRegression(copy_X=True, fit_intercept=True, n_jobs=None,\n",
    "#          normalize=False)"
   ]
  },
  {
   "cell_type": "code",
   "execution_count": 253,
   "id": "9f1637c6",
   "metadata": {},
   "outputs": [],
   "source": [
    "# X = Winning_Numbers.drop(['Mega Ball'],axis=1)\n",
    "# y = Winning_Numbers['Mega Ball']"
   ]
  },
  {
   "cell_type": "code",
   "execution_count": 254,
   "id": "1e31320c",
   "metadata": {},
   "outputs": [],
   "source": [
    "#from sklearn.linear_model import LogisticRegression\n",
    "#from sklearn.metrics import classification_report, confusion_matrix\n",
    "#models = []\n",
    "#models.append((\"LR\",LogisticRegression(solver='liblinear')))\n",
    "#print(models)"
   ]
  },
  {
   "cell_type": "code",
   "execution_count": 255,
   "id": "13b4c9a3",
   "metadata": {},
   "outputs": [],
   "source": [
    "#import statsmodels.formula.api as smf\n",
    "#model_fit3 = smf.logit(formula='MegaBall ~C(Ball1)+C(Ball2)', data=winning_numbers).fit()"
   ]
  }
 ],
 "metadata": {
  "kernelspec": {
   "display_name": "Python 3",
   "language": "python",
   "name": "python3"
  },
  "language_info": {
   "codemirror_mode": {
    "name": "ipython",
    "version": 3
   },
   "file_extension": ".py",
   "mimetype": "text/x-python",
   "name": "python",
   "nbconvert_exporter": "python",
   "pygments_lexer": "ipython3",
   "version": "3.8.8"
  }
 },
 "nbformat": 4,
 "nbformat_minor": 5
}
