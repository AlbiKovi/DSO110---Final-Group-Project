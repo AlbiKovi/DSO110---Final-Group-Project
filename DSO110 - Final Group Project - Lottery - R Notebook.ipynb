{
 "cells": [
  {
   "cell_type": "markdown",
   "id": "75ed6a7e",
   "metadata": {},
   "source": [
    "## Setup"
   ]
  },
  {
   "cell_type": "markdown",
   "id": "cf0abd25",
   "metadata": {},
   "source": [
    "### import packages"
   ]
  },
  {
   "cell_type": "code",
   "execution_count": 4,
   "id": "ccd57ec8",
   "metadata": {},
   "outputs": [
    {
     "ename": "ERROR",
     "evalue": "Error in library(rcompanion): there is no package called 'rcompanion'\n",
     "output_type": "error",
     "traceback": [
      "Error in library(rcompanion): there is no package called 'rcompanion'\nTraceback:\n",
      "1. library(rcompanion)"
     ]
    }
   ],
   "source": [
    "library(tidyr)\n",
    "library(gridExtra)\n",
    "library(dplyr)\n",
    "library(datasets)\n",
    "library(ggplot2)\n",
    "library(Ecdat)\n",
    "library(car)\n",
    "library(multcomp)\n",
    "library(gmodels)\n",
    "library(rcompanion)"
   ]
  },
  {
   "cell_type": "markdown",
   "id": "5d445e23",
   "metadata": {},
   "source": [
    "### import datasets"
   ]
  },
  {
   "cell_type": "code",
   "execution_count": 2,
   "id": "9db4b342",
   "metadata": {},
   "outputs": [],
   "source": [
    "\n",
    "WinningNumbers <- read.csv(\"Lottery_Mega_Millions_Winning_Numbers__Beginning_2002_Wrangled.csv\")\n",
    "Wins <- read.csv(\"jackpot winners.csv\")\n",
    "SmallWins <- read.csv(\"nonjackpot winners.csv\")\n",
    "EdAid<- read.csv(\"Lottery_Aid_to_Education__Beginning_2002.csv\")"
   ]
  },
  {
   "cell_type": "markdown",
   "id": "8b44cf74",
   "metadata": {},
   "source": [
    "## Data Wrangling"
   ]
  },
  {
   "cell_type": "code",
   "execution_count": 84,
   "id": "971eda1e",
   "metadata": {},
   "outputs": [
    {
     "data": {
      "text/html": [
       "<ol class=list-inline>\n",
       "\t<li>'Date'</li>\n",
       "\t<li>'amount..won'</li>\n",
       "\t<li>'cash.prize'</li>\n",
       "\t<li>'location'</li>\n",
       "\t<li>'state'</li>\n",
       "\t<li>'gender'</li>\n",
       "</ol>\n"
      ],
      "text/latex": [
       "\\begin{enumerate*}\n",
       "\\item 'Date'\n",
       "\\item 'amount..won'\n",
       "\\item 'cash.prize'\n",
       "\\item 'location'\n",
       "\\item 'state'\n",
       "\\item 'gender'\n",
       "\\end{enumerate*}\n"
      ],
      "text/markdown": [
       "1. 'Date'\n",
       "2. 'amount..won'\n",
       "3. 'cash.prize'\n",
       "4. 'location'\n",
       "5. 'state'\n",
       "6. 'gender'\n",
       "\n",
       "\n"
      ],
      "text/plain": [
       "[1] \"Date\"        \"amount..won\" \"cash.prize\"  \"location\"    \"state\"      \n",
       "[6] \"gender\"     "
      ]
     },
     "metadata": {},
     "output_type": "display_data"
    }
   ],
   "source": [
    "colnames(Wins)"
   ]
  },
  {
   "cell_type": "code",
   "execution_count": 85,
   "id": "dce1834a",
   "metadata": {},
   "outputs": [
    {
     "data": {
      "text/html": [
       "<ol class=list-inline>\n",
       "\t<li>'ï..Draw.Date'</li>\n",
       "\t<li>'Prize'</li>\n",
       "\t<li>'Gender'</li>\n",
       "\t<li>'City'</li>\n",
       "\t<li>'State'</li>\n",
       "</ol>\n"
      ],
      "text/latex": [
       "\\begin{enumerate*}\n",
       "\\item 'ï..Draw.Date'\n",
       "\\item 'Prize'\n",
       "\\item 'Gender'\n",
       "\\item 'City'\n",
       "\\item 'State'\n",
       "\\end{enumerate*}\n"
      ],
      "text/markdown": [
       "1. 'ï..Draw.Date'\n",
       "2. 'Prize'\n",
       "3. 'Gender'\n",
       "4. 'City'\n",
       "5. 'State'\n",
       "\n",
       "\n"
      ],
      "text/plain": [
       "[1] \"ï..Draw.Date\" \"Prize\"        \"Gender\"       \"City\"         \"State\"       "
      ]
     },
     "metadata": {},
     "output_type": "display_data"
    }
   ],
   "source": [
    "colnames(SmallWins)"
   ]
  },
  {
   "cell_type": "code",
   "execution_count": 3,
   "id": "a7abbc99",
   "metadata": {},
   "outputs": [],
   "source": [
    "names(Wins)[names(Wins) == \"amount..won\"] <- \"Jackpot\"\n",
    "names(Wins)[names(Wins) == \"state\"] <- \"State\"\n",
    "names(Wins)[names(Wins) == \"location\"] <- \"Location\"\n",
    "names(Wins)[names(Wins) == \"gender\"] <- \"Gender\"\n",
    "keeps <- c(\"Date\", \"Jackpot\", \"State\", \"Location\", \"Gender\")\n",
    "Wins <- Wins[keeps]\n",
    "names(SmallWins)[names(SmallWins) == \"ï..Draw.Date\"] <- \"Date\"\n",
    "names(SmallWins)[names(SmallWins) == \"City\"] <- \"Location\""
   ]
  },
  {
   "cell_type": "code",
   "execution_count": 4,
   "id": "8e4692c0",
   "metadata": {},
   "outputs": [
    {
     "data": {
      "text/html": [
       "<table>\n",
       "<thead><tr><th scope=col>Date</th><th scope=col>Location</th><th scope=col>State</th><th scope=col>Gender</th><th scope=col>Jackpot</th><th scope=col>Prize</th></tr></thead>\n",
       "<tbody>\n",
       "\t<tr><td>1/1/2008         </td><td>Fort Worth, Texas</td><td>TX               </td><td>M                </td><td>3.30e+07         </td><td>     NA          </td></tr>\n",
       "\t<tr><td>1/1/2019         </td><td>Long Island, N.Y </td><td>NY               </td><td>Mixed            </td><td>4.37e+08         </td><td>     NA          </td></tr>\n",
       "\t<tr><td>1/1/2019         </td><td>Bayside          </td><td> NY              </td><td>M                </td><td>      NA         </td><td>1000000          </td></tr>\n",
       "\t<tr><td>1/13/2009        </td><td>Merrick, N.Y.    </td><td>NY               </td><td>F                </td><td>2.20e+07         </td><td>     NA          </td></tr>\n",
       "\t<tr><td>1/16/2015        </td><td>Naperville, Il   </td><td>IL               </td><td>M                </td><td>2.65e+08         </td><td>     NA          </td></tr>\n",
       "\t<tr><td>1/18/2005        </td><td>Washington, Ga.  </td><td>GA               </td><td>F                </td><td>1.31e+08         </td><td>     NA          </td></tr>\n",
       "</tbody>\n",
       "</table>\n"
      ],
      "text/latex": [
       "\\begin{tabular}{r|llllll}\n",
       " Date & Location & State & Gender & Jackpot & Prize\\\\\n",
       "\\hline\n",
       "\t 1/1/2008          & Fort Worth, Texas & TX                & M                 & 3.30e+07          &      NA          \\\\\n",
       "\t 1/1/2019          & Long Island, N.Y  & NY                & Mixed             & 4.37e+08          &      NA          \\\\\n",
       "\t 1/1/2019          & Bayside           &  NY               & M                 &       NA          & 1000000          \\\\\n",
       "\t 1/13/2009         & Merrick, N.Y.     & NY                & F                 & 2.20e+07          &      NA          \\\\\n",
       "\t 1/16/2015         & Naperville, Il    & IL                & M                 & 2.65e+08          &      NA          \\\\\n",
       "\t 1/18/2005         & Washington, Ga.   & GA                & F                 & 1.31e+08          &      NA          \\\\\n",
       "\\end{tabular}\n"
      ],
      "text/markdown": [
       "\n",
       "| Date | Location | State | Gender | Jackpot | Prize |\n",
       "|---|---|---|---|---|---|\n",
       "| 1/1/2008          | Fort Worth, Texas | TX                | M                 | 3.30e+07          |      NA           |\n",
       "| 1/1/2019          | Long Island, N.Y  | NY                | Mixed             | 4.37e+08          |      NA           |\n",
       "| 1/1/2019          | Bayside           |  NY               | M                 |       NA          | 1000000           |\n",
       "| 1/13/2009         | Merrick, N.Y.     | NY                | F                 | 2.20e+07          |      NA           |\n",
       "| 1/16/2015         | Naperville, Il    | IL                | M                 | 2.65e+08          |      NA           |\n",
       "| 1/18/2005         | Washington, Ga.   | GA                | F                 | 1.31e+08          |      NA           |\n",
       "\n"
      ],
      "text/plain": [
       "  Date      Location          State Gender Jackpot  Prize  \n",
       "1 1/1/2008  Fort Worth, Texas TX    M      3.30e+07      NA\n",
       "2 1/1/2019  Long Island, N.Y  NY    Mixed  4.37e+08      NA\n",
       "3 1/1/2019  Bayside            NY   M            NA 1000000\n",
       "4 1/13/2009 Merrick, N.Y.     NY    F      2.20e+07      NA\n",
       "5 1/16/2015 Naperville, Il    IL    M      2.65e+08      NA\n",
       "6 1/18/2005 Washington, Ga.   GA    F      1.31e+08      NA"
      ]
     },
     "metadata": {},
     "output_type": "display_data"
    }
   ],
   "source": [
    "Wins2 <- merge(Wins, SmallWins, by=c(\"Date\", \"Location\",\"State\",\"Gender\"), all=TRUE)\n",
    "head(Wins2)"
   ]
  },
  {
   "cell_type": "markdown",
   "id": "9b170f86",
   "metadata": {},
   "source": [
    "## Data Exploration"
   ]
  },
  {
   "cell_type": "code",
   "execution_count": 107,
   "id": "00e140ec",
   "metadata": {},
   "outputs": [
    {
     "data": {
      "text/html": [
       "<table>\n",
       "<thead><tr><th scope=col>Gender</th><th scope=col>Jackpot</th></tr></thead>\n",
       "<tbody>\n",
       "\t<tr><td>F          </td><td> 2717200000</td></tr>\n",
       "\t<tr><td>M          </td><td> 8688200000</td></tr>\n",
       "\t<tr><td>Mixed      </td><td> 7243500000</td></tr>\n",
       "\t<tr><td>Unk        </td><td>22607300000</td></tr>\n",
       "</tbody>\n",
       "</table>\n"
      ],
      "text/latex": [
       "\\begin{tabular}{r|ll}\n",
       " Gender & Jackpot\\\\\n",
       "\\hline\n",
       "\t F           &  2717200000\\\\\n",
       "\t M           &  8688200000\\\\\n",
       "\t Mixed       &  7243500000\\\\\n",
       "\t Unk         & 22607300000\\\\\n",
       "\\end{tabular}\n"
      ],
      "text/markdown": [
       "\n",
       "| Gender | Jackpot |\n",
       "|---|---|\n",
       "| F           |  2717200000 |\n",
       "| M           |  8688200000 |\n",
       "| Mixed       |  7243500000 |\n",
       "| Unk         | 22607300000 |\n",
       "\n"
      ],
      "text/plain": [
       "  Gender Jackpot    \n",
       "1 F       2717200000\n",
       "2 M       8688200000\n",
       "3 Mixed   7243500000\n",
       "4 Unk    22607300000"
      ]
     },
     "metadata": {},
     "output_type": "display_data"
    }
   ],
   "source": [
    "JackpotByGender <- aggregate(Jackpot~Gender, Wins2, sum)\n",
    "JackpotByGender"
   ]
  },
  {
   "cell_type": "code",
   "execution_count": 103,
   "id": "cc461d50",
   "metadata": {},
   "outputs": [
    {
     "data": {
      "text/html": [
       "<table>\n",
       "<thead><tr><th scope=col>Gender</th><th scope=col>Prize</th></tr></thead>\n",
       "<tbody>\n",
       "\t<tr><td>F         </td><td>  98204348</td></tr>\n",
       "\t<tr><td>M         </td><td>1306538101</td></tr>\n",
       "\t<tr><td>Mixed     </td><td>  45973066</td></tr>\n",
       "\t<tr><td>Unk       </td><td>1170000000</td></tr>\n",
       "\t<tr><td>M         </td><td>   3000000</td></tr>\n",
       "</tbody>\n",
       "</table>\n"
      ],
      "text/latex": [
       "\\begin{tabular}{r|ll}\n",
       " Gender & Prize\\\\\n",
       "\\hline\n",
       "\t F          &   98204348\\\\\n",
       "\t M          & 1306538101\\\\\n",
       "\t Mixed      &   45973066\\\\\n",
       "\t Unk        & 1170000000\\\\\n",
       "\t M          &    3000000\\\\\n",
       "\\end{tabular}\n"
      ],
      "text/markdown": [
       "\n",
       "| Gender | Prize |\n",
       "|---|---|\n",
       "| F          |   98204348 |\n",
       "| M          | 1306538101 |\n",
       "| Mixed      |   45973066 |\n",
       "| Unk        | 1170000000 |\n",
       "| M          |    3000000 |\n",
       "\n"
      ],
      "text/plain": [
       "  Gender Prize     \n",
       "1 F        98204348\n",
       "2 M      1306538101\n",
       "3 Mixed    45973066\n",
       "4 Unk    1170000000\n",
       "5 M         3000000"
      ]
     },
     "metadata": {},
     "output_type": "display_data"
    }
   ],
   "source": [
    "PrizeByGender <- aggregate(Prize~Gender, Wins2, sum)\n",
    "PrizeByGender"
   ]
  },
  {
   "cell_type": "code",
   "execution_count": 89,
   "id": "230e19ca",
   "metadata": {},
   "outputs": [
    {
     "data": {
      "text/html": [
       "<table>\n",
       "<thead><tr><th scope=col>Date</th><th scope=col>Location</th><th scope=col>State</th><th scope=col>Gender</th><th scope=col>Jackpot</th><th scope=col>Prize</th></tr></thead>\n",
       "<tbody>\n",
       "\t<tr><td>1/13/2009                   </td><td>Merrick, N.Y.               </td><td>NY                          </td><td>F                           </td><td>2.20e+07                    </td><td>     NA                     </td></tr>\n",
       "\t<tr><td>1/18/2005                   </td><td>Washington, Ga.             </td><td>GA                          </td><td>F                           </td><td>1.31e+08                    </td><td>     NA                     </td></tr>\n",
       "\t<tr><td>1/24/2012                   </td><td>Atlanta, Ga                 </td><td>GA                          </td><td>F                           </td><td>7.20e+07                    </td><td>     NA                     </td></tr>\n",
       "\t<tr><td>1/4/2011                    </td><td>Ephrata, Wash.              </td><td>WA                          </td><td>F                           </td><td>1.90e+08                    </td><td>     NA                     </td></tr>\n",
       "\t<tr><td>1/5/2018                    </td><td>Duncan                      </td><td> OK                         </td><td>F                           </td><td>      NA                    </td><td>3000000                     </td></tr>\n",
       "\t<tr><td>1/8/2016                    </td><td>Staten Island, N.Y.         </td><td>NY                          </td><td>F                           </td><td>1.69e+08                    </td><td>     NA                     </td></tr>\n",
       "\t<tr><td>10/11/2016                  </td><td>Alexandria                  </td><td> VA                         </td><td>F                           </td><td>      NA                    </td><td>1000000                     </td></tr>\n",
       "\t<tr><td>10/23/2018                  </td><td>Aylett                      </td><td> VA                         </td><td>F                           </td><td>      NA                    </td><td>1000000                     </td></tr>\n",
       "\t<tr><td>10/23/2018                  </td><td>Dartmouth                   </td><td> MA                         </td><td>F                           </td><td>      NA                    </td><td>1000000                     </td></tr>\n",
       "\t<tr><td>10/5/2007                   </td><td>Essex, Md.                  </td><td>MD                          </td><td>F                           </td><td>8.15e+07                    </td><td>     NA                     </td></tr>\n",
       "\t<tr><td>10/7/2003                   </td><td>Neptune Township N.J.       </td><td>MJ                          </td><td>F                           </td><td>2.33e+07                    </td><td>     NA                     </td></tr>\n",
       "\t<tr><td>11/10/2009                  </td><td>South San Francisco, Calif. </td><td>CA                          </td><td>F                           </td><td>3.85e+07                    </td><td>     NA                     </td></tr>\n",
       "\t<tr><td>11/14/2006                  </td><td>Detroit, Mich.              </td><td>MI                          </td><td>F                           </td><td>7.50e+07                    </td><td>     NA                     </td></tr>\n",
       "\t<tr><td>11/4/2014                   </td><td>Coram                       </td><td> NY                         </td><td>F                           </td><td>      NA                    </td><td>4000000                     </td></tr>\n",
       "\t<tr><td>12/17/2013                  </td><td>Chicago                     </td><td> IL                         </td><td>F                           </td><td>      NA                    </td><td>1000000                     </td></tr>\n",
       "\t<tr><td>12/17/2013                  </td><td>Brownsville                 </td><td> TX                         </td><td>F                           </td><td>      NA                    </td><td>1000000                     </td></tr>\n",
       "\t<tr><td>12/17/2013                  </td><td>Niles                       </td><td> MI                         </td><td>F                           </td><td>      NA                    </td><td>1000000                     </td></tr>\n",
       "\t<tr><td>12/30/2003                  </td><td>South Euclid, Ohio          </td><td>OH                          </td><td>F                           </td><td>1.62e+08                    </td><td>     NA                     </td></tr>\n",
       "\t<tr><td>2/27/2015                   </td><td>South Fallsburg, N.Y.       </td><td>NY                          </td><td>F                           </td><td>1.26e+08                    </td><td>     NA                     </td></tr>\n",
       "\t<tr><td>2/5/2013                    </td><td>Atlantic Mine, Mi           </td><td>MI                          </td><td>F                           </td><td>1.90e+07                    </td><td>     NA                     </td></tr>\n",
       "\t<tr><td>3/13/2009                   </td><td>Suffolk County, N.Y.        </td><td>NY                          </td><td>F                           </td><td>2.60e+07                    </td><td>     NA                     </td></tr>\n",
       "\t<tr><td>4/28/2017                   </td><td>Richland County             </td><td> OH                         </td><td>F                           </td><td>      NA                    </td><td>1000000                     </td></tr>\n",
       "\t<tr><td>5/15/2012                   </td><td>Beverly Hills, Ca           </td><td>CA                          </td><td>F                           </td><td>2.50e+07                    </td><td>     NA                     </td></tr>\n",
       "\t<tr><td>5/16/2006                   </td><td>El Paso, Texas              </td><td>TX                          </td><td>F                           </td><td>9.40e+07                    </td><td>     NA                     </td></tr>\n",
       "\t<tr><td>5/20/2014                   </td><td>Kentwood                    </td><td> MI                         </td><td>F                           </td><td>      NA                    </td><td>1000000                     </td></tr>\n",
       "\t<tr><td>5/24/2002                   </td><td>Chicago, Ill.               </td><td>IL                          </td><td>F                           </td><td>2.33e+07                    </td><td>     NA                     </td></tr>\n",
       "\t<tr><td>5/25/2010                   </td><td>Brooklyn, N.Y.              </td><td>NY                          </td><td>F                           </td><td>6.40e+07                    </td><td>     NA                     </td></tr>\n",
       "\t<tr><td>5/29/2012                   </td><td>Pomona, Ca                  </td><td>CA                          </td><td>F                           </td><td>3.20e+07                    </td><td>     NA                     </td></tr>\n",
       "\t<tr><td>6/13/2014                   </td><td>Port Huron, Mi              </td><td>MI                          </td><td>F                           </td><td>6.60e+07                    </td><td>     NA                     </td></tr>\n",
       "\t<tr><td>6/2/2015                    </td><td>Amherst                     </td><td> NY                         </td><td>F                           </td><td>      NA                    </td><td>1000000                     </td></tr>\n",
       "\t<tr><td>...</td><td>...</td><td>...</td><td>...</td><td>...</td><td>...</td></tr>\n",
       "\t<tr><td>2/16/2016      </td><td>Plainview      </td><td> NY            </td><td>F              </td><td>NA             </td><td>1000000        </td></tr>\n",
       "\t<tr><td>2/9/2018       </td><td>Moorestown     </td><td> NJ            </td><td>F              </td><td>NA             </td><td>1000000        </td></tr>\n",
       "\t<tr><td>3/1/2016       </td><td>Temecula       </td><td> CA            </td><td>F              </td><td>NA             </td><td> 802153        </td></tr>\n",
       "\t<tr><td>3/10/2015      </td><td>San Pedro      </td><td> CA            </td><td>F              </td><td>NA             </td><td>1100000        </td></tr>\n",
       "\t<tr><td>3/13/2018      </td><td>Stratford      </td><td> CT            </td><td>F              </td><td>NA             </td><td>5000000        </td></tr>\n",
       "\t<tr><td>3/14/2014      </td><td>Chantilly      </td><td> VA            </td><td>F              </td><td>NA             </td><td>3000000        </td></tr>\n",
       "\t<tr><td>3/14/2014      </td><td>Lepanto        </td><td> AR            </td><td>F              </td><td>NA             </td><td>3000000        </td></tr>\n",
       "\t<tr><td>3/4/2014       </td><td>San Jose       </td><td> CA            </td><td>F              </td><td>NA             </td><td> 421811        </td></tr>\n",
       "\t<tr><td>4/1/2014       </td><td>Westland       </td><td> MI            </td><td>F              </td><td>NA             </td><td>1000000        </td></tr>\n",
       "\t<tr><td>4/19/2019      </td><td>Sioux City     </td><td> IA            </td><td>F              </td><td>NA             </td><td>1000000        </td></tr>\n",
       "\t<tr><td>5/19/2017      </td><td>Penhook        </td><td> VA            </td><td>F              </td><td>NA             </td><td>1000000        </td></tr>\n",
       "\t<tr><td>5/8/2015       </td><td>Steubenville   </td><td> OH            </td><td>F              </td><td>NA             </td><td>1000000        </td></tr>\n",
       "\t<tr><td>5/8/2018       </td><td>Woodside       </td><td> NY            </td><td>F              </td><td>NA             </td><td>1000000        </td></tr>\n",
       "\t<tr><td>5/9/2014       </td><td>Alameda County </td><td> CA            </td><td>F              </td><td>NA             </td><td> 468905        </td></tr>\n",
       "\t<tr><td>6/1/2021       </td><td>Grand Rapids   </td><td> MI            </td><td>F              </td><td>NA             </td><td>1000000        </td></tr>\n",
       "\t<tr><td>6/15/2018      </td><td>Indian Head    </td><td> MD            </td><td>F              </td><td>NA             </td><td>1000000        </td></tr>\n",
       "\t<tr><td>6/23/2017      </td><td>Bayside Queens </td><td> NY            </td><td>F              </td><td>NA             </td><td>1000000        </td></tr>\n",
       "\t<tr><td>6/8/2021       </td><td>Urbana         </td><td> IA            </td><td>F              </td><td>NA             </td><td>1000000        </td></tr>\n",
       "\t<tr><td>7/18/2017      </td><td>Ontario        </td><td> Canada        </td><td>F              </td><td>NA             </td><td>1000000        </td></tr>\n",
       "\t<tr><td>7/5/2016       </td><td>Coral Gables   </td><td> FL            </td><td>F              </td><td>NA             </td><td>1000000        </td></tr>\n",
       "\t<tr><td>7/7/2015       </td><td>Beebe          </td><td> AR            </td><td>F              </td><td>NA             </td><td>3000000        </td></tr>\n",
       "\t<tr><td>8/1/2017       </td><td>Levittown      </td><td> NY            </td><td>F              </td><td>NA             </td><td>1000000        </td></tr>\n",
       "\t<tr><td>8/20/2021      </td><td>Newport News   </td><td> VA            </td><td>F              </td><td>NA             </td><td>1000000        </td></tr>\n",
       "\t<tr><td>8/21/2015      </td><td>Mifflintown    </td><td> PA            </td><td>F              </td><td>NA             </td><td>1000000        </td></tr>\n",
       "\t<tr><td>8/23/2016      </td><td>New Hyde Park  </td><td> NY            </td><td>F              </td><td>NA             </td><td>1000000        </td></tr>\n",
       "\t<tr><td>8/7/2015       </td><td>Champion       </td><td> MI            </td><td>F              </td><td>NA             </td><td>1000000        </td></tr>\n",
       "\t<tr><td>8/8/2014       </td><td>New Bedford    </td><td> MA            </td><td>F              </td><td>NA             </td><td>1000000        </td></tr>\n",
       "\t<tr><td>9/23/2014      </td><td>Abingdon       </td><td> VA            </td><td>F              </td><td>NA             </td><td>1000000        </td></tr>\n",
       "\t<tr><td>9/5/2014       </td><td>Birmingham     </td><td> AL            </td><td>F              </td><td>NA             </td><td>1000000        </td></tr>\n",
       "\t<tr><td>9/9/2014       </td><td>Capitol Heights</td><td> MD            </td><td>F              </td><td>NA             </td><td>1000000        </td></tr>\n",
       "</tbody>\n",
       "</table>\n"
      ],
      "text/latex": [
       "\\begin{tabular}{r|llllll}\n",
       " Date & Location & State & Gender & Jackpot & Prize\\\\\n",
       "\\hline\n",
       "\t 1/13/2009                    & Merrick, N.Y.                & NY                           & F                            & 2.20e+07                     &      NA                     \\\\\n",
       "\t 1/18/2005                    & Washington, Ga.              & GA                           & F                            & 1.31e+08                     &      NA                     \\\\\n",
       "\t 1/24/2012                    & Atlanta, Ga                  & GA                           & F                            & 7.20e+07                     &      NA                     \\\\\n",
       "\t 1/4/2011                     & Ephrata, Wash.               & WA                           & F                            & 1.90e+08                     &      NA                     \\\\\n",
       "\t 1/5/2018                     & Duncan                       &  OK                          & F                            &       NA                     & 3000000                     \\\\\n",
       "\t 1/8/2016                     & Staten Island, N.Y.          & NY                           & F                            & 1.69e+08                     &      NA                     \\\\\n",
       "\t 10/11/2016                   & Alexandria                   &  VA                          & F                            &       NA                     & 1000000                     \\\\\n",
       "\t 10/23/2018                   & Aylett                       &  VA                          & F                            &       NA                     & 1000000                     \\\\\n",
       "\t 10/23/2018                   & Dartmouth                    &  MA                          & F                            &       NA                     & 1000000                     \\\\\n",
       "\t 10/5/2007                    & Essex, Md.                   & MD                           & F                            & 8.15e+07                     &      NA                     \\\\\n",
       "\t 10/7/2003                    & Neptune Township N.J.        & MJ                           & F                            & 2.33e+07                     &      NA                     \\\\\n",
       "\t 11/10/2009                   & South San Francisco, Calif.  & CA                           & F                            & 3.85e+07                     &      NA                     \\\\\n",
       "\t 11/14/2006                   & Detroit, Mich.               & MI                           & F                            & 7.50e+07                     &      NA                     \\\\\n",
       "\t 11/4/2014                    & Coram                        &  NY                          & F                            &       NA                     & 4000000                     \\\\\n",
       "\t 12/17/2013                   & Chicago                      &  IL                          & F                            &       NA                     & 1000000                     \\\\\n",
       "\t 12/17/2013                   & Brownsville                  &  TX                          & F                            &       NA                     & 1000000                     \\\\\n",
       "\t 12/17/2013                   & Niles                        &  MI                          & F                            &       NA                     & 1000000                     \\\\\n",
       "\t 12/30/2003                   & South Euclid, Ohio           & OH                           & F                            & 1.62e+08                     &      NA                     \\\\\n",
       "\t 2/27/2015                    & South Fallsburg, N.Y.        & NY                           & F                            & 1.26e+08                     &      NA                     \\\\\n",
       "\t 2/5/2013                     & Atlantic Mine, Mi            & MI                           & F                            & 1.90e+07                     &      NA                     \\\\\n",
       "\t 3/13/2009                    & Suffolk County, N.Y.         & NY                           & F                            & 2.60e+07                     &      NA                     \\\\\n",
       "\t 4/28/2017                    & Richland County              &  OH                          & F                            &       NA                     & 1000000                     \\\\\n",
       "\t 5/15/2012                    & Beverly Hills, Ca            & CA                           & F                            & 2.50e+07                     &      NA                     \\\\\n",
       "\t 5/16/2006                    & El Paso, Texas               & TX                           & F                            & 9.40e+07                     &      NA                     \\\\\n",
       "\t 5/20/2014                    & Kentwood                     &  MI                          & F                            &       NA                     & 1000000                     \\\\\n",
       "\t 5/24/2002                    & Chicago, Ill.                & IL                           & F                            & 2.33e+07                     &      NA                     \\\\\n",
       "\t 5/25/2010                    & Brooklyn, N.Y.               & NY                           & F                            & 6.40e+07                     &      NA                     \\\\\n",
       "\t 5/29/2012                    & Pomona, Ca                   & CA                           & F                            & 3.20e+07                     &      NA                     \\\\\n",
       "\t 6/13/2014                    & Port Huron, Mi               & MI                           & F                            & 6.60e+07                     &      NA                     \\\\\n",
       "\t 6/2/2015                     & Amherst                      &  NY                          & F                            &       NA                     & 1000000                     \\\\\n",
       "\t ... & ... & ... & ... & ... & ...\\\\\n",
       "\t 2/16/2016       & Plainview       &  NY             & F               & NA              & 1000000        \\\\\n",
       "\t 2/9/2018        & Moorestown      &  NJ             & F               & NA              & 1000000        \\\\\n",
       "\t 3/1/2016        & Temecula        &  CA             & F               & NA              &  802153        \\\\\n",
       "\t 3/10/2015       & San Pedro       &  CA             & F               & NA              & 1100000        \\\\\n",
       "\t 3/13/2018       & Stratford       &  CT             & F               & NA              & 5000000        \\\\\n",
       "\t 3/14/2014       & Chantilly       &  VA             & F               & NA              & 3000000        \\\\\n",
       "\t 3/14/2014       & Lepanto         &  AR             & F               & NA              & 3000000        \\\\\n",
       "\t 3/4/2014        & San Jose        &  CA             & F               & NA              &  421811        \\\\\n",
       "\t 4/1/2014        & Westland        &  MI             & F               & NA              & 1000000        \\\\\n",
       "\t 4/19/2019       & Sioux City      &  IA             & F               & NA              & 1000000        \\\\\n",
       "\t 5/19/2017       & Penhook         &  VA             & F               & NA              & 1000000        \\\\\n",
       "\t 5/8/2015        & Steubenville    &  OH             & F               & NA              & 1000000        \\\\\n",
       "\t 5/8/2018        & Woodside        &  NY             & F               & NA              & 1000000        \\\\\n",
       "\t 5/9/2014        & Alameda County  &  CA             & F               & NA              &  468905        \\\\\n",
       "\t 6/1/2021        & Grand Rapids    &  MI             & F               & NA              & 1000000        \\\\\n",
       "\t 6/15/2018       & Indian Head     &  MD             & F               & NA              & 1000000        \\\\\n",
       "\t 6/23/2017       & Bayside Queens  &  NY             & F               & NA              & 1000000        \\\\\n",
       "\t 6/8/2021        & Urbana          &  IA             & F               & NA              & 1000000        \\\\\n",
       "\t 7/18/2017       & Ontario         &  Canada         & F               & NA              & 1000000        \\\\\n",
       "\t 7/5/2016        & Coral Gables    &  FL             & F               & NA              & 1000000        \\\\\n",
       "\t 7/7/2015        & Beebe           &  AR             & F               & NA              & 3000000        \\\\\n",
       "\t 8/1/2017        & Levittown       &  NY             & F               & NA              & 1000000        \\\\\n",
       "\t 8/20/2021       & Newport News    &  VA             & F               & NA              & 1000000        \\\\\n",
       "\t 8/21/2015       & Mifflintown     &  PA             & F               & NA              & 1000000        \\\\\n",
       "\t 8/23/2016       & New Hyde Park   &  NY             & F               & NA              & 1000000        \\\\\n",
       "\t 8/7/2015        & Champion        &  MI             & F               & NA              & 1000000        \\\\\n",
       "\t 8/8/2014        & New Bedford     &  MA             & F               & NA              & 1000000        \\\\\n",
       "\t 9/23/2014       & Abingdon        &  VA             & F               & NA              & 1000000        \\\\\n",
       "\t 9/5/2014        & Birmingham      &  AL             & F               & NA              & 1000000        \\\\\n",
       "\t 9/9/2014        & Capitol Heights &  MD             & F               & NA              & 1000000        \\\\\n",
       "\\end{tabular}\n"
      ],
      "text/markdown": [
       "\n",
       "| Date | Location | State | Gender | Jackpot | Prize |\n",
       "|---|---|---|---|---|---|\n",
       "| 1/13/2009                    | Merrick, N.Y.                | NY                           | F                            | 2.20e+07                     |      NA                      |\n",
       "| 1/18/2005                    | Washington, Ga.              | GA                           | F                            | 1.31e+08                     |      NA                      |\n",
       "| 1/24/2012                    | Atlanta, Ga                  | GA                           | F                            | 7.20e+07                     |      NA                      |\n",
       "| 1/4/2011                     | Ephrata, Wash.               | WA                           | F                            | 1.90e+08                     |      NA                      |\n",
       "| 1/5/2018                     | Duncan                       |  OK                          | F                            |       NA                     | 3000000                      |\n",
       "| 1/8/2016                     | Staten Island, N.Y.          | NY                           | F                            | 1.69e+08                     |      NA                      |\n",
       "| 10/11/2016                   | Alexandria                   |  VA                          | F                            |       NA                     | 1000000                      |\n",
       "| 10/23/2018                   | Aylett                       |  VA                          | F                            |       NA                     | 1000000                      |\n",
       "| 10/23/2018                   | Dartmouth                    |  MA                          | F                            |       NA                     | 1000000                      |\n",
       "| 10/5/2007                    | Essex, Md.                   | MD                           | F                            | 8.15e+07                     |      NA                      |\n",
       "| 10/7/2003                    | Neptune Township N.J.        | MJ                           | F                            | 2.33e+07                     |      NA                      |\n",
       "| 11/10/2009                   | South San Francisco, Calif.  | CA                           | F                            | 3.85e+07                     |      NA                      |\n",
       "| 11/14/2006                   | Detroit, Mich.               | MI                           | F                            | 7.50e+07                     |      NA                      |\n",
       "| 11/4/2014                    | Coram                        |  NY                          | F                            |       NA                     | 4000000                      |\n",
       "| 12/17/2013                   | Chicago                      |  IL                          | F                            |       NA                     | 1000000                      |\n",
       "| 12/17/2013                   | Brownsville                  |  TX                          | F                            |       NA                     | 1000000                      |\n",
       "| 12/17/2013                   | Niles                        |  MI                          | F                            |       NA                     | 1000000                      |\n",
       "| 12/30/2003                   | South Euclid, Ohio           | OH                           | F                            | 1.62e+08                     |      NA                      |\n",
       "| 2/27/2015                    | South Fallsburg, N.Y.        | NY                           | F                            | 1.26e+08                     |      NA                      |\n",
       "| 2/5/2013                     | Atlantic Mine, Mi            | MI                           | F                            | 1.90e+07                     |      NA                      |\n",
       "| 3/13/2009                    | Suffolk County, N.Y.         | NY                           | F                            | 2.60e+07                     |      NA                      |\n",
       "| 4/28/2017                    | Richland County              |  OH                          | F                            |       NA                     | 1000000                      |\n",
       "| 5/15/2012                    | Beverly Hills, Ca            | CA                           | F                            | 2.50e+07                     |      NA                      |\n",
       "| 5/16/2006                    | El Paso, Texas               | TX                           | F                            | 9.40e+07                     |      NA                      |\n",
       "| 5/20/2014                    | Kentwood                     |  MI                          | F                            |       NA                     | 1000000                      |\n",
       "| 5/24/2002                    | Chicago, Ill.                | IL                           | F                            | 2.33e+07                     |      NA                      |\n",
       "| 5/25/2010                    | Brooklyn, N.Y.               | NY                           | F                            | 6.40e+07                     |      NA                      |\n",
       "| 5/29/2012                    | Pomona, Ca                   | CA                           | F                            | 3.20e+07                     |      NA                      |\n",
       "| 6/13/2014                    | Port Huron, Mi               | MI                           | F                            | 6.60e+07                     |      NA                      |\n",
       "| 6/2/2015                     | Amherst                      |  NY                          | F                            |       NA                     | 1000000                      |\n",
       "| ... | ... | ... | ... | ... | ... |\n",
       "| 2/16/2016       | Plainview       |  NY             | F               | NA              | 1000000         |\n",
       "| 2/9/2018        | Moorestown      |  NJ             | F               | NA              | 1000000         |\n",
       "| 3/1/2016        | Temecula        |  CA             | F               | NA              |  802153         |\n",
       "| 3/10/2015       | San Pedro       |  CA             | F               | NA              | 1100000         |\n",
       "| 3/13/2018       | Stratford       |  CT             | F               | NA              | 5000000         |\n",
       "| 3/14/2014       | Chantilly       |  VA             | F               | NA              | 3000000         |\n",
       "| 3/14/2014       | Lepanto         |  AR             | F               | NA              | 3000000         |\n",
       "| 3/4/2014        | San Jose        |  CA             | F               | NA              |  421811         |\n",
       "| 4/1/2014        | Westland        |  MI             | F               | NA              | 1000000         |\n",
       "| 4/19/2019       | Sioux City      |  IA             | F               | NA              | 1000000         |\n",
       "| 5/19/2017       | Penhook         |  VA             | F               | NA              | 1000000         |\n",
       "| 5/8/2015        | Steubenville    |  OH             | F               | NA              | 1000000         |\n",
       "| 5/8/2018        | Woodside        |  NY             | F               | NA              | 1000000         |\n",
       "| 5/9/2014        | Alameda County  |  CA             | F               | NA              |  468905         |\n",
       "| 6/1/2021        | Grand Rapids    |  MI             | F               | NA              | 1000000         |\n",
       "| 6/15/2018       | Indian Head     |  MD             | F               | NA              | 1000000         |\n",
       "| 6/23/2017       | Bayside Queens  |  NY             | F               | NA              | 1000000         |\n",
       "| 6/8/2021        | Urbana          |  IA             | F               | NA              | 1000000         |\n",
       "| 7/18/2017       | Ontario         |  Canada         | F               | NA              | 1000000         |\n",
       "| 7/5/2016        | Coral Gables    |  FL             | F               | NA              | 1000000         |\n",
       "| 7/7/2015        | Beebe           |  AR             | F               | NA              | 3000000         |\n",
       "| 8/1/2017        | Levittown       |  NY             | F               | NA              | 1000000         |\n",
       "| 8/20/2021       | Newport News    |  VA             | F               | NA              | 1000000         |\n",
       "| 8/21/2015       | Mifflintown     |  PA             | F               | NA              | 1000000         |\n",
       "| 8/23/2016       | New Hyde Park   |  NY             | F               | NA              | 1000000         |\n",
       "| 8/7/2015        | Champion        |  MI             | F               | NA              | 1000000         |\n",
       "| 8/8/2014        | New Bedford     |  MA             | F               | NA              | 1000000         |\n",
       "| 9/23/2014       | Abingdon        |  VA             | F               | NA              | 1000000         |\n",
       "| 9/5/2014        | Birmingham      |  AL             | F               | NA              | 1000000         |\n",
       "| 9/9/2014        | Capitol Heights |  MD             | F               | NA              | 1000000         |\n",
       "\n"
      ],
      "text/plain": [
       "    Date       Location                     State   Gender Jackpot  Prize  \n",
       "1   1/13/2009  Merrick, N.Y.                NY      F      2.20e+07      NA\n",
       "2   1/18/2005  Washington, Ga.              GA      F      1.31e+08      NA\n",
       "3   1/24/2012  Atlanta, Ga                  GA      F      7.20e+07      NA\n",
       "4   1/4/2011   Ephrata, Wash.               WA      F      1.90e+08      NA\n",
       "5   1/5/2018   Duncan                        OK     F            NA 3000000\n",
       "6   1/8/2016   Staten Island, N.Y.          NY      F      1.69e+08      NA\n",
       "7   10/11/2016 Alexandria                    VA     F            NA 1000000\n",
       "8   10/23/2018 Aylett                        VA     F            NA 1000000\n",
       "9   10/23/2018 Dartmouth                     MA     F            NA 1000000\n",
       "10  10/5/2007  Essex, Md.                   MD      F      8.15e+07      NA\n",
       "11  10/7/2003  Neptune Township N.J.        MJ      F      2.33e+07      NA\n",
       "12  11/10/2009 South San Francisco, Calif.  CA      F      3.85e+07      NA\n",
       "13  11/14/2006 Detroit, Mich.               MI      F      7.50e+07      NA\n",
       "14  11/4/2014  Coram                         NY     F            NA 4000000\n",
       "15  12/17/2013 Chicago                       IL     F            NA 1000000\n",
       "16  12/17/2013 Brownsville                   TX     F            NA 1000000\n",
       "17  12/17/2013 Niles                         MI     F            NA 1000000\n",
       "18  12/30/2003 South Euclid, Ohio           OH      F      1.62e+08      NA\n",
       "19  2/27/2015  South Fallsburg, N.Y.        NY      F      1.26e+08      NA\n",
       "20  2/5/2013   Atlantic Mine, Mi            MI      F      1.90e+07      NA\n",
       "21  3/13/2009  Suffolk County, N.Y.         NY      F      2.60e+07      NA\n",
       "22  4/28/2017  Richland County               OH     F            NA 1000000\n",
       "23  5/15/2012  Beverly Hills, Ca            CA      F      2.50e+07      NA\n",
       "24  5/16/2006  El Paso, Texas               TX      F      9.40e+07      NA\n",
       "25  5/20/2014  Kentwood                      MI     F            NA 1000000\n",
       "26  5/24/2002  Chicago, Ill.                IL      F      2.33e+07      NA\n",
       "27  5/25/2010  Brooklyn, N.Y.               NY      F      6.40e+07      NA\n",
       "28  5/29/2012  Pomona, Ca                   CA      F      3.20e+07      NA\n",
       "29  6/13/2014  Port Huron, Mi               MI      F      6.60e+07      NA\n",
       "30  6/2/2015   Amherst                       NY     F            NA 1000000\n",
       "... ...        ...                          ...     ...    ...      ...    \n",
       "73  2/16/2016  Plainview                     NY     F      NA       1000000\n",
       "74  2/9/2018   Moorestown                    NJ     F      NA       1000000\n",
       "75  3/1/2016   Temecula                      CA     F      NA        802153\n",
       "76  3/10/2015  San Pedro                     CA     F      NA       1100000\n",
       "77  3/13/2018  Stratford                     CT     F      NA       5000000\n",
       "78  3/14/2014  Chantilly                     VA     F      NA       3000000\n",
       "79  3/14/2014  Lepanto                       AR     F      NA       3000000\n",
       "80  3/4/2014   San Jose                      CA     F      NA        421811\n",
       "81  4/1/2014   Westland                      MI     F      NA       1000000\n",
       "82  4/19/2019  Sioux City                    IA     F      NA       1000000\n",
       "83  5/19/2017  Penhook                       VA     F      NA       1000000\n",
       "84  5/8/2015   Steubenville                  OH     F      NA       1000000\n",
       "85  5/8/2018   Woodside                      NY     F      NA       1000000\n",
       "86  5/9/2014   Alameda County                CA     F      NA        468905\n",
       "87  6/1/2021   Grand Rapids                  MI     F      NA       1000000\n",
       "88  6/15/2018  Indian Head                   MD     F      NA       1000000\n",
       "89  6/23/2017  Bayside Queens                NY     F      NA       1000000\n",
       "90  6/8/2021   Urbana                        IA     F      NA       1000000\n",
       "91  7/18/2017  Ontario                       Canada F      NA       1000000\n",
       "92  7/5/2016   Coral Gables                  FL     F      NA       1000000\n",
       "93  7/7/2015   Beebe                         AR     F      NA       3000000\n",
       "94  8/1/2017   Levittown                     NY     F      NA       1000000\n",
       "95  8/20/2021  Newport News                  VA     F      NA       1000000\n",
       "96  8/21/2015  Mifflintown                   PA     F      NA       1000000\n",
       "97  8/23/2016  New Hyde Park                 NY     F      NA       1000000\n",
       "98  8/7/2015   Champion                      MI     F      NA       1000000\n",
       "99  8/8/2014   New Bedford                   MA     F      NA       1000000\n",
       "100 9/23/2014  Abingdon                      VA     F      NA       1000000\n",
       "101 9/5/2014   Birmingham                    AL     F      NA       1000000\n",
       "102 9/9/2014   Capitol Heights               MD     F      NA       1000000"
      ]
     },
     "metadata": {},
     "output_type": "display_data"
    }
   ],
   "source": [
    "Women = data.frame(Wins2 %>% filter(Gender == \"F\"))\n",
    "Women"
   ]
  },
  {
   "cell_type": "code",
   "execution_count": 35,
   "id": "6a34837d",
   "metadata": {},
   "outputs": [
    {
     "data": {
      "text/html": [
       "93696551.7241379"
      ],
      "text/latex": [
       "93696551.7241379"
      ],
      "text/markdown": [
       "93696551.7241379"
      ],
      "text/plain": [
       "[1] 93696552"
      ]
     },
     "metadata": {},
     "output_type": "display_data"
    }
   ],
   "source": [
    "FWins<-Women$Jackpot\n",
    "mean(FWins)"
   ]
  },
  {
   "cell_type": "code",
   "execution_count": 36,
   "id": "7d288cff",
   "metadata": {},
   "outputs": [
    {
     "data": {
      "text/html": [
       "<table>\n",
       "<thead><tr><th scope=col>Date</th><th scope=col>Jackpot</th><th scope=col>cash.prize</th><th scope=col>location</th><th scope=col>state</th><th scope=col>gender</th></tr></thead>\n",
       "<tbody>\n",
       "\t<tr><td>7/16/2002              </td><td>2.33e+07               </td><td>NA                     </td><td>Cliffside Park, N.J.   </td><td>NJ                     </td><td>M                      </td></tr>\n",
       "\t<tr><td>9/6/2002               </td><td>2.33e+07               </td><td>NA                     </td><td>Kentwood, Mich.        </td><td>MI                     </td><td>M                      </td></tr>\n",
       "\t<tr><td>2/11/2003              </td><td>2.33e+07               </td><td>NA                     </td><td>Brooklyn, N.Y.         </td><td>NY                     </td><td>M                      </td></tr>\n",
       "\t<tr><td>8/8/2003               </td><td>2.33e+07               </td><td>NA                     </td><td>Savannah, Ga.          </td><td>GA                     </td><td>M                      </td></tr>\n",
       "\t<tr><td>9/30/2003              </td><td>2.33e+07               </td><td>NA                     </td><td>Fitzgerald, Ga.        </td><td>GA                     </td><td>M                      </td></tr>\n",
       "\t<tr><td>11/11/2003             </td><td>2.33e+07               </td><td>NA                     </td><td>Roswell, Ga.           </td><td>GA                     </td><td>M                      </td></tr>\n",
       "\t<tr><td>11/11/2003             </td><td>2.33e+07               </td><td>NA                     </td><td>Roswell, Ga.           </td><td>GA                     </td><td>M                      </td></tr>\n",
       "\t<tr><td>3/2/2004               </td><td>2.10e+07               </td><td>NA                     </td><td>Dayton, Ohio           </td><td>OH                     </td><td>M                      </td></tr>\n",
       "\t<tr><td>7/23/2004              </td><td>4.70e+07               </td><td>NA                     </td><td>Pullman, Mich.         </td><td>MI                     </td><td>M                      </td></tr>\n",
       "\t<tr><td>7/27/2004              </td><td>1.00e+07               </td><td>NA                     </td><td>Cherry Hill, N.J.      </td><td>NJ                     </td><td>M                      </td></tr>\n",
       "\t<tr><td>11/19/2004             </td><td>1.49e+08               </td><td>NA                     </td><td>Queens, N.Y.           </td><td>NY                     </td><td>M                      </td></tr>\n",
       "\t<tr><td>1/6/2006               </td><td>1.50e+07               </td><td>NA                     </td><td>Ohio                   </td><td>OH                     </td><td>M                      </td></tr>\n",
       "\t<tr><td>2/28/2006              </td><td>2.70e+08               </td><td>NA                     </td><td>Ohio                   </td><td>OH                     </td><td>M                      </td></tr>\n",
       "\t<tr><td>4/18/2006              </td><td>2.65e+08               </td><td>NA                     </td><td>Ohio                   </td><td>OH                     </td><td>M                      </td></tr>\n",
       "\t<tr><td>6/2/2006               </td><td>4.70e+07               </td><td>NA                     </td><td>New Brunswick, N.J.    </td><td>NJ                     </td><td>M                      </td></tr>\n",
       "\t<tr><td>6/16/2006              </td><td>3.50e+07               </td><td>NA                     </td><td>La Quinta, Calif.      </td><td>CA                     </td><td>M                      </td></tr>\n",
       "\t<tr><td>9/15/2006              </td><td>1.63e+08               </td><td>NA                     </td><td>Bainbridge, Ga.        </td><td>GA                     </td><td>M                      </td></tr>\n",
       "\t<tr><td>9/19/2006              </td><td>1.20e+07               </td><td>NA                     </td><td>Bronx, N.Y.            </td><td>NY                     </td><td>M                      </td></tr>\n",
       "\t<tr><td>9/26/2006              </td><td>1.50e+07               </td><td>NA                     </td><td>Hasbrouck Heights, N.J.</td><td>NJ                     </td><td>M                      </td></tr>\n",
       "\t<tr><td>10/17/2006             </td><td>5.50e+07               </td><td>NA                     </td><td>North Bend, Wash.      </td><td>WA                     </td><td>M                      </td></tr>\n",
       "\t<tr><td>12/1/2006              </td><td>4.00e+07               </td><td>NA                     </td><td>Columbus, Ohio         </td><td>OH                     </td><td>M                      </td></tr>\n",
       "\t<tr><td>3/6/2007               </td><td>1.95e+08               </td><td>NA                     </td><td> Dalton, Ga.           </td><td>GA                     </td><td>M                      </td></tr>\n",
       "\t<tr><td>4/6/2007               </td><td>1.05e+08               </td><td>NA                     </td><td>Queens, N.Y.           </td><td>NY                     </td><td>M                      </td></tr>\n",
       "\t<tr><td>5/11/2007              </td><td>1.13e+08               </td><td>NA                     </td><td>Hawthorne, Calif.      </td><td>CA                     </td><td>M                      </td></tr>\n",
       "\t<tr><td>8/31/2007              </td><td>8.25e+07               </td><td>NA                     </td><td>Buckingham, Va         </td><td>VA                     </td><td>M                      </td></tr>\n",
       "\t<tr><td>8/31/2007              </td><td>8.25e+07               </td><td>NA                     </td><td>Dundalk, Md            </td><td>MD                     </td><td>M                      </td></tr>\n",
       "\t<tr><td>11/2/2007              </td><td>8.15e+07               </td><td>NA                     </td><td>Mahopac, N.Y.          </td><td>NY                     </td><td>M                      </td></tr>\n",
       "\t<tr><td>1/1/2008               </td><td>3.30e+07               </td><td>NA                     </td><td>Fort Worth, Texas      </td><td>TX                     </td><td>M                      </td></tr>\n",
       "\t<tr><td>2/22/2008              </td><td>2.75e+08               </td><td>NA                     </td><td>Portal, Ga.            </td><td>GA                     </td><td>M                      </td></tr>\n",
       "\t<tr><td>4/1/2008               </td><td>1.36e+08               </td><td>NA                     </td><td>Livonia, Mich.         </td><td>MI                     </td><td>M                      </td></tr>\n",
       "\t<tr><td>...</td><td>...</td><td>...</td><td>...</td><td>...</td><td>...</td></tr>\n",
       "\t<tr><td>10/16/2012                                         </td><td>3.05e+07                                           </td><td>       NA                                          </td><td>Fresno, Ca                                         </td><td>CA                                                 </td><td>M                                                  </td></tr>\n",
       "\t<tr><td>10/16/2012                                         </td><td>3.05e+07                                           </td><td>       NA                                          </td><td>Hyannis, Ma                                        </td><td>MA                                                 </td><td>M                                                  </td></tr>\n",
       "\t<tr><td>11/2/2012                                          </td><td>3.30e+07                                           </td><td>       NA                                          </td><td>Garden City Park, N.Y.                             </td><td>NY                                                 </td><td>M                                                  </td></tr>\n",
       "\t<tr><td>11/27/2012                                         </td><td>5.00e+07                                           </td><td>       NA                                          </td><td>Thomasville, Ga                                    </td><td>GA                                                 </td><td>M                                                  </td></tr>\n",
       "\t<tr><td>1/25/2013                                          </td><td>8.90e+07                                           </td><td>       NA                                          </td><td>Orange, N.J                                        </td><td>NJ                                                 </td><td>M                                                  </td></tr>\n",
       "\t<tr><td>5/17/2013                                          </td><td>9.90e+07                                           </td><td>       NA                                          </td><td>Tinton Falls, N.J.                                 </td><td>NJ                                                 </td><td>M                                                  </td></tr>\n",
       "\t<tr><td>5/17/2013                                          </td><td>9.90e+07                                           </td><td>       NA                                          </td><td>Cumberland, Va                                     </td><td>VA                                                 </td><td>M                                                  </td></tr>\n",
       "\t<tr><td>7/5/2013                                           </td><td>8.00e+07                                           </td><td>       NA                                          </td><td>Troy, Mi                                           </td><td>MI                                                 </td><td>M                                                  </td></tr>\n",
       "\t<tr><td>12/17/2013                                         </td><td>3.24e+08                                           </td><td>       NA                                          </td><td>Northern California                                </td><td>CA                                                 </td><td>M                                                  </td></tr>\n",
       "\t<tr><td>12/17/2013                                         </td><td>3.24e+08                                           </td><td>       NA                                          </td><td>Stone Mountain, Ga.                                </td><td>GA                                                 </td><td>M                                                  </td></tr>\n",
       "\t<tr><td>3/25/2014                                          </td><td>2.00e+07                                           </td><td>       NA                                          </td><td>Suffolk County, N.Y                                </td><td>NY                                                 </td><td>M                                                  </td></tr>\n",
       "\t<tr><td>4/4/2014                                           </td><td>3.00e+07                                           </td><td>       NA                                          </td><td>Los Angeles, Ca                                    </td><td>CA                                                 </td><td>M                                                  </td></tr>\n",
       "\t<tr><td>5/20/2014                                          </td><td>1.49e+08                                           </td><td>       NA                                          </td><td>Pittsburgh, Penn.                                  </td><td>PA                                                 </td><td>M                                                  </td></tr>\n",
       "\t<tr><td>8/22/2014                                          </td><td>1.80e+08                                           </td><td>       NA                                          </td><td>Calimesa, Ca                                       </td><td>CA                                                 </td><td>M                                                  </td></tr>\n",
       "\t<tr><td>11/4/2014                                          </td><td>3.26e+08                                           </td><td>       NA                                          </td><td>Wurtsboro, N.Y                                     </td><td>NY                                                 </td><td>M                                                  </td></tr>\n",
       "\t<tr><td>1/16/2015                                          </td><td>2.65e+08                                           </td><td>       NA                                          </td><td>Naperville, Il                                     </td><td>IL                                                 </td><td>M                                                  </td></tr>\n",
       "\t<tr><td>6/2/2015                                           </td><td>2.62e+08                                           </td><td>       NA                                          </td><td>Blue Island, Il                                    </td><td>IL                                                 </td><td>M                                                  </td></tr>\n",
       "\t<tr><td>7/21/2015                                          </td><td>1.53e+08                                           </td><td>       NA                                          </td><td>Mechanicsville, Va.; ticket bought in Milton, Penn.</td><td>PA                                                 </td><td>M                                                  </td></tr>\n",
       "\t<tr><td>3/8/2016                                           </td><td>1.57e+08                                           </td><td>       NA                                          </td><td>Seattle, Wash.                                     </td><td>WA                                                 </td><td>M                                                  </td></tr>\n",
       "\t<tr><td>7/22/2016                                          </td><td>7.50e+06                                           </td><td>       NA                                          </td><td>Bristow, Va                                        </td><td>VA                                                 </td><td>M                                                  </td></tr>\n",
       "\t<tr><td>1/27/2017                                          </td><td>1.91e+08                                           </td><td>       NA                                          </td><td>Nipton, Ca                                         </td><td>CA                                                 </td><td>M                                                  </td></tr>\n",
       "\t<tr><td>3/31/2017                                          </td><td>1.77e+08                                           </td><td>       NA                                          </td><td>Stuttgart, Ark                                     </td><td>AK                                                 </td><td>M                                                  </td></tr>\n",
       "\t<tr><td>4/28/2017                                          </td><td>6.10e+07                                           </td><td>       NA                                          </td><td>Laguna Hills, Calif.                               </td><td>CA                                                 </td><td>M                                                  </td></tr>\n",
       "\t<tr><td>9/22/2017                                          </td><td>1.05e+08                                           </td><td>       NA                                          </td><td>Homer, N.Y.                                        </td><td>NY                                                 </td><td>M                                                  </td></tr>\n",
       "\t<tr><td>10/13/2017                                         </td><td>2.10e+07                                           </td><td>       NA                                          </td><td>Providence, R.I.                                   </td><td>RI                                                 </td><td>M                                                  </td></tr>\n",
       "\t<tr><td>3/30/2018                                          </td><td>5.33e+08                                           </td><td>       NA                                          </td><td>Vernon, N.J.                                       </td><td>NJ                                                 </td><td>M                                                  </td></tr>\n",
       "\t<tr><td>3/1/2019                                           </td><td>2.73e+08                                           </td><td>162600000                                          </td><td>Alpha, N.J                                         </td><td>NJ                                                 </td><td>M                                                  </td></tr>\n",
       "\t<tr><td>3/12/2019                                          </td><td>5.00e+07                                           </td><td> 30200000                                          </td><td>Kansas City, Mo.                                   </td><td>MO                                                 </td><td>M                                                  </td></tr>\n",
       "\t<tr><td>7/31/2020                                          </td><td>2.20e+07                                           </td><td> 17900000                                          </td><td>Mira Loma, Calif                                   </td><td>CA                                                 </td><td>M                                                  </td></tr>\n",
       "\t<tr><td>9/15/2020                                          </td><td>1.20e+08                                           </td><td> 95400000                                          </td><td>Â Racine, Wis                                      </td><td>WI                                                 </td><td>M                                                  </td></tr>\n",
       "</tbody>\n",
       "</table>\n"
      ],
      "text/latex": [
       "\\begin{tabular}{r|llllll}\n",
       " Date & Jackpot & cash.prize & location & state & gender\\\\\n",
       "\\hline\n",
       "\t 7/16/2002               & 2.33e+07                & NA                      & Cliffside Park, N.J.    & NJ                      & M                      \\\\\n",
       "\t 9/6/2002                & 2.33e+07                & NA                      & Kentwood, Mich.         & MI                      & M                      \\\\\n",
       "\t 2/11/2003               & 2.33e+07                & NA                      & Brooklyn, N.Y.          & NY                      & M                      \\\\\n",
       "\t 8/8/2003                & 2.33e+07                & NA                      & Savannah, Ga.           & GA                      & M                      \\\\\n",
       "\t 9/30/2003               & 2.33e+07                & NA                      & Fitzgerald, Ga.         & GA                      & M                      \\\\\n",
       "\t 11/11/2003              & 2.33e+07                & NA                      & Roswell, Ga.            & GA                      & M                      \\\\\n",
       "\t 11/11/2003              & 2.33e+07                & NA                      & Roswell, Ga.            & GA                      & M                      \\\\\n",
       "\t 3/2/2004                & 2.10e+07                & NA                      & Dayton, Ohio            & OH                      & M                      \\\\\n",
       "\t 7/23/2004               & 4.70e+07                & NA                      & Pullman, Mich.          & MI                      & M                      \\\\\n",
       "\t 7/27/2004               & 1.00e+07                & NA                      & Cherry Hill, N.J.       & NJ                      & M                      \\\\\n",
       "\t 11/19/2004              & 1.49e+08                & NA                      & Queens, N.Y.            & NY                      & M                      \\\\\n",
       "\t 1/6/2006                & 1.50e+07                & NA                      & Ohio                    & OH                      & M                      \\\\\n",
       "\t 2/28/2006               & 2.70e+08                & NA                      & Ohio                    & OH                      & M                      \\\\\n",
       "\t 4/18/2006               & 2.65e+08                & NA                      & Ohio                    & OH                      & M                      \\\\\n",
       "\t 6/2/2006                & 4.70e+07                & NA                      & New Brunswick, N.J.     & NJ                      & M                      \\\\\n",
       "\t 6/16/2006               & 3.50e+07                & NA                      & La Quinta, Calif.       & CA                      & M                      \\\\\n",
       "\t 9/15/2006               & 1.63e+08                & NA                      & Bainbridge, Ga.         & GA                      & M                      \\\\\n",
       "\t 9/19/2006               & 1.20e+07                & NA                      & Bronx, N.Y.             & NY                      & M                      \\\\\n",
       "\t 9/26/2006               & 1.50e+07                & NA                      & Hasbrouck Heights, N.J. & NJ                      & M                      \\\\\n",
       "\t 10/17/2006              & 5.50e+07                & NA                      & North Bend, Wash.       & WA                      & M                      \\\\\n",
       "\t 12/1/2006               & 4.00e+07                & NA                      & Columbus, Ohio          & OH                      & M                      \\\\\n",
       "\t 3/6/2007                & 1.95e+08                & NA                      &  Dalton, Ga.            & GA                      & M                      \\\\\n",
       "\t 4/6/2007                & 1.05e+08                & NA                      & Queens, N.Y.            & NY                      & M                      \\\\\n",
       "\t 5/11/2007               & 1.13e+08                & NA                      & Hawthorne, Calif.       & CA                      & M                      \\\\\n",
       "\t 8/31/2007               & 8.25e+07                & NA                      & Buckingham, Va          & VA                      & M                      \\\\\n",
       "\t 8/31/2007               & 8.25e+07                & NA                      & Dundalk, Md             & MD                      & M                      \\\\\n",
       "\t 11/2/2007               & 8.15e+07                & NA                      & Mahopac, N.Y.           & NY                      & M                      \\\\\n",
       "\t 1/1/2008                & 3.30e+07                & NA                      & Fort Worth, Texas       & TX                      & M                      \\\\\n",
       "\t 2/22/2008               & 2.75e+08                & NA                      & Portal, Ga.             & GA                      & M                      \\\\\n",
       "\t 4/1/2008                & 1.36e+08                & NA                      & Livonia, Mich.          & MI                      & M                      \\\\\n",
       "\t ... & ... & ... & ... & ... & ...\\\\\n",
       "\t 10/16/2012                                          & 3.05e+07                                            &        NA                                           & Fresno, Ca                                          & CA                                                  & M                                                  \\\\\n",
       "\t 10/16/2012                                          & 3.05e+07                                            &        NA                                           & Hyannis, Ma                                         & MA                                                  & M                                                  \\\\\n",
       "\t 11/2/2012                                           & 3.30e+07                                            &        NA                                           & Garden City Park, N.Y.                              & NY                                                  & M                                                  \\\\\n",
       "\t 11/27/2012                                          & 5.00e+07                                            &        NA                                           & Thomasville, Ga                                     & GA                                                  & M                                                  \\\\\n",
       "\t 1/25/2013                                           & 8.90e+07                                            &        NA                                           & Orange, N.J                                         & NJ                                                  & M                                                  \\\\\n",
       "\t 5/17/2013                                           & 9.90e+07                                            &        NA                                           & Tinton Falls, N.J.                                  & NJ                                                  & M                                                  \\\\\n",
       "\t 5/17/2013                                           & 9.90e+07                                            &        NA                                           & Cumberland, Va                                      & VA                                                  & M                                                  \\\\\n",
       "\t 7/5/2013                                            & 8.00e+07                                            &        NA                                           & Troy, Mi                                            & MI                                                  & M                                                  \\\\\n",
       "\t 12/17/2013                                          & 3.24e+08                                            &        NA                                           & Northern California                                 & CA                                                  & M                                                  \\\\\n",
       "\t 12/17/2013                                          & 3.24e+08                                            &        NA                                           & Stone Mountain, Ga.                                 & GA                                                  & M                                                  \\\\\n",
       "\t 3/25/2014                                           & 2.00e+07                                            &        NA                                           & Suffolk County, N.Y                                 & NY                                                  & M                                                  \\\\\n",
       "\t 4/4/2014                                            & 3.00e+07                                            &        NA                                           & Los Angeles, Ca                                     & CA                                                  & M                                                  \\\\\n",
       "\t 5/20/2014                                           & 1.49e+08                                            &        NA                                           & Pittsburgh, Penn.                                   & PA                                                  & M                                                  \\\\\n",
       "\t 8/22/2014                                           & 1.80e+08                                            &        NA                                           & Calimesa, Ca                                        & CA                                                  & M                                                  \\\\\n",
       "\t 11/4/2014                                           & 3.26e+08                                            &        NA                                           & Wurtsboro, N.Y                                      & NY                                                  & M                                                  \\\\\n",
       "\t 1/16/2015                                           & 2.65e+08                                            &        NA                                           & Naperville, Il                                      & IL                                                  & M                                                  \\\\\n",
       "\t 6/2/2015                                            & 2.62e+08                                            &        NA                                           & Blue Island, Il                                     & IL                                                  & M                                                  \\\\\n",
       "\t 7/21/2015                                           & 1.53e+08                                            &        NA                                           & Mechanicsville, Va.; ticket bought in Milton, Penn. & PA                                                  & M                                                  \\\\\n",
       "\t 3/8/2016                                            & 1.57e+08                                            &        NA                                           & Seattle, Wash.                                      & WA                                                  & M                                                  \\\\\n",
       "\t 7/22/2016                                           & 7.50e+06                                            &        NA                                           & Bristow, Va                                         & VA                                                  & M                                                  \\\\\n",
       "\t 1/27/2017                                           & 1.91e+08                                            &        NA                                           & Nipton, Ca                                          & CA                                                  & M                                                  \\\\\n",
       "\t 3/31/2017                                           & 1.77e+08                                            &        NA                                           & Stuttgart, Ark                                      & AK                                                  & M                                                  \\\\\n",
       "\t 4/28/2017                                           & 6.10e+07                                            &        NA                                           & Laguna Hills, Calif.                                & CA                                                  & M                                                  \\\\\n",
       "\t 9/22/2017                                           & 1.05e+08                                            &        NA                                           & Homer, N.Y.                                         & NY                                                  & M                                                  \\\\\n",
       "\t 10/13/2017                                          & 2.10e+07                                            &        NA                                           & Providence, R.I.                                    & RI                                                  & M                                                  \\\\\n",
       "\t 3/30/2018                                           & 5.33e+08                                            &        NA                                           & Vernon, N.J.                                        & NJ                                                  & M                                                  \\\\\n",
       "\t 3/1/2019                                            & 2.73e+08                                            & 162600000                                           & Alpha, N.J                                          & NJ                                                  & M                                                  \\\\\n",
       "\t 3/12/2019                                           & 5.00e+07                                            &  30200000                                           & Kansas City, Mo.                                    & MO                                                  & M                                                  \\\\\n",
       "\t 7/31/2020                                           & 2.20e+07                                            &  17900000                                           & Mira Loma, Calif                                    & CA                                                  & M                                                  \\\\\n",
       "\t 9/15/2020                                           & 1.20e+08                                            &  95400000                                           & Â Racine, Wis                                       & WI                                                  & M                                                  \\\\\n",
       "\\end{tabular}\n"
      ],
      "text/markdown": [
       "\n",
       "| Date | Jackpot | cash.prize | location | state | gender |\n",
       "|---|---|---|---|---|---|\n",
       "| 7/16/2002               | 2.33e+07                | NA                      | Cliffside Park, N.J.    | NJ                      | M                       |\n",
       "| 9/6/2002                | 2.33e+07                | NA                      | Kentwood, Mich.         | MI                      | M                       |\n",
       "| 2/11/2003               | 2.33e+07                | NA                      | Brooklyn, N.Y.          | NY                      | M                       |\n",
       "| 8/8/2003                | 2.33e+07                | NA                      | Savannah, Ga.           | GA                      | M                       |\n",
       "| 9/30/2003               | 2.33e+07                | NA                      | Fitzgerald, Ga.         | GA                      | M                       |\n",
       "| 11/11/2003              | 2.33e+07                | NA                      | Roswell, Ga.            | GA                      | M                       |\n",
       "| 11/11/2003              | 2.33e+07                | NA                      | Roswell, Ga.            | GA                      | M                       |\n",
       "| 3/2/2004                | 2.10e+07                | NA                      | Dayton, Ohio            | OH                      | M                       |\n",
       "| 7/23/2004               | 4.70e+07                | NA                      | Pullman, Mich.          | MI                      | M                       |\n",
       "| 7/27/2004               | 1.00e+07                | NA                      | Cherry Hill, N.J.       | NJ                      | M                       |\n",
       "| 11/19/2004              | 1.49e+08                | NA                      | Queens, N.Y.            | NY                      | M                       |\n",
       "| 1/6/2006                | 1.50e+07                | NA                      | Ohio                    | OH                      | M                       |\n",
       "| 2/28/2006               | 2.70e+08                | NA                      | Ohio                    | OH                      | M                       |\n",
       "| 4/18/2006               | 2.65e+08                | NA                      | Ohio                    | OH                      | M                       |\n",
       "| 6/2/2006                | 4.70e+07                | NA                      | New Brunswick, N.J.     | NJ                      | M                       |\n",
       "| 6/16/2006               | 3.50e+07                | NA                      | La Quinta, Calif.       | CA                      | M                       |\n",
       "| 9/15/2006               | 1.63e+08                | NA                      | Bainbridge, Ga.         | GA                      | M                       |\n",
       "| 9/19/2006               | 1.20e+07                | NA                      | Bronx, N.Y.             | NY                      | M                       |\n",
       "| 9/26/2006               | 1.50e+07                | NA                      | Hasbrouck Heights, N.J. | NJ                      | M                       |\n",
       "| 10/17/2006              | 5.50e+07                | NA                      | North Bend, Wash.       | WA                      | M                       |\n",
       "| 12/1/2006               | 4.00e+07                | NA                      | Columbus, Ohio          | OH                      | M                       |\n",
       "| 3/6/2007                | 1.95e+08                | NA                      |  Dalton, Ga.            | GA                      | M                       |\n",
       "| 4/6/2007                | 1.05e+08                | NA                      | Queens, N.Y.            | NY                      | M                       |\n",
       "| 5/11/2007               | 1.13e+08                | NA                      | Hawthorne, Calif.       | CA                      | M                       |\n",
       "| 8/31/2007               | 8.25e+07                | NA                      | Buckingham, Va          | VA                      | M                       |\n",
       "| 8/31/2007               | 8.25e+07                | NA                      | Dundalk, Md             | MD                      | M                       |\n",
       "| 11/2/2007               | 8.15e+07                | NA                      | Mahopac, N.Y.           | NY                      | M                       |\n",
       "| 1/1/2008                | 3.30e+07                | NA                      | Fort Worth, Texas       | TX                      | M                       |\n",
       "| 2/22/2008               | 2.75e+08                | NA                      | Portal, Ga.             | GA                      | M                       |\n",
       "| 4/1/2008                | 1.36e+08                | NA                      | Livonia, Mich.          | MI                      | M                       |\n",
       "| ... | ... | ... | ... | ... | ... |\n",
       "| 10/16/2012                                          | 3.05e+07                                            |        NA                                           | Fresno, Ca                                          | CA                                                  | M                                                   |\n",
       "| 10/16/2012                                          | 3.05e+07                                            |        NA                                           | Hyannis, Ma                                         | MA                                                  | M                                                   |\n",
       "| 11/2/2012                                           | 3.30e+07                                            |        NA                                           | Garden City Park, N.Y.                              | NY                                                  | M                                                   |\n",
       "| 11/27/2012                                          | 5.00e+07                                            |        NA                                           | Thomasville, Ga                                     | GA                                                  | M                                                   |\n",
       "| 1/25/2013                                           | 8.90e+07                                            |        NA                                           | Orange, N.J                                         | NJ                                                  | M                                                   |\n",
       "| 5/17/2013                                           | 9.90e+07                                            |        NA                                           | Tinton Falls, N.J.                                  | NJ                                                  | M                                                   |\n",
       "| 5/17/2013                                           | 9.90e+07                                            |        NA                                           | Cumberland, Va                                      | VA                                                  | M                                                   |\n",
       "| 7/5/2013                                            | 8.00e+07                                            |        NA                                           | Troy, Mi                                            | MI                                                  | M                                                   |\n",
       "| 12/17/2013                                          | 3.24e+08                                            |        NA                                           | Northern California                                 | CA                                                  | M                                                   |\n",
       "| 12/17/2013                                          | 3.24e+08                                            |        NA                                           | Stone Mountain, Ga.                                 | GA                                                  | M                                                   |\n",
       "| 3/25/2014                                           | 2.00e+07                                            |        NA                                           | Suffolk County, N.Y                                 | NY                                                  | M                                                   |\n",
       "| 4/4/2014                                            | 3.00e+07                                            |        NA                                           | Los Angeles, Ca                                     | CA                                                  | M                                                   |\n",
       "| 5/20/2014                                           | 1.49e+08                                            |        NA                                           | Pittsburgh, Penn.                                   | PA                                                  | M                                                   |\n",
       "| 8/22/2014                                           | 1.80e+08                                            |        NA                                           | Calimesa, Ca                                        | CA                                                  | M                                                   |\n",
       "| 11/4/2014                                           | 3.26e+08                                            |        NA                                           | Wurtsboro, N.Y                                      | NY                                                  | M                                                   |\n",
       "| 1/16/2015                                           | 2.65e+08                                            |        NA                                           | Naperville, Il                                      | IL                                                  | M                                                   |\n",
       "| 6/2/2015                                            | 2.62e+08                                            |        NA                                           | Blue Island, Il                                     | IL                                                  | M                                                   |\n",
       "| 7/21/2015                                           | 1.53e+08                                            |        NA                                           | Mechanicsville, Va.; ticket bought in Milton, Penn. | PA                                                  | M                                                   |\n",
       "| 3/8/2016                                            | 1.57e+08                                            |        NA                                           | Seattle, Wash.                                      | WA                                                  | M                                                   |\n",
       "| 7/22/2016                                           | 7.50e+06                                            |        NA                                           | Bristow, Va                                         | VA                                                  | M                                                   |\n",
       "| 1/27/2017                                           | 1.91e+08                                            |        NA                                           | Nipton, Ca                                          | CA                                                  | M                                                   |\n",
       "| 3/31/2017                                           | 1.77e+08                                            |        NA                                           | Stuttgart, Ark                                      | AK                                                  | M                                                   |\n",
       "| 4/28/2017                                           | 6.10e+07                                            |        NA                                           | Laguna Hills, Calif.                                | CA                                                  | M                                                   |\n",
       "| 9/22/2017                                           | 1.05e+08                                            |        NA                                           | Homer, N.Y.                                         | NY                                                  | M                                                   |\n",
       "| 10/13/2017                                          | 2.10e+07                                            |        NA                                           | Providence, R.I.                                    | RI                                                  | M                                                   |\n",
       "| 3/30/2018                                           | 5.33e+08                                            |        NA                                           | Vernon, N.J.                                        | NJ                                                  | M                                                   |\n",
       "| 3/1/2019                                            | 2.73e+08                                            | 162600000                                           | Alpha, N.J                                          | NJ                                                  | M                                                   |\n",
       "| 3/12/2019                                           | 5.00e+07                                            |  30200000                                           | Kansas City, Mo.                                    | MO                                                  | M                                                   |\n",
       "| 7/31/2020                                           | 2.20e+07                                            |  17900000                                           | Mira Loma, Calif                                    | CA                                                  | M                                                   |\n",
       "| 9/15/2020                                           | 1.20e+08                                            |  95400000                                           | Â Racine, Wis                                       | WI                                                  | M                                                   |\n",
       "\n"
      ],
      "text/plain": [
       "    Date       Jackpot  cash.prize\n",
       "1   7/16/2002  2.33e+07 NA        \n",
       "2   9/6/2002   2.33e+07 NA        \n",
       "3   2/11/2003  2.33e+07 NA        \n",
       "4   8/8/2003   2.33e+07 NA        \n",
       "5   9/30/2003  2.33e+07 NA        \n",
       "6   11/11/2003 2.33e+07 NA        \n",
       "7   11/11/2003 2.33e+07 NA        \n",
       "8   3/2/2004   2.10e+07 NA        \n",
       "9   7/23/2004  4.70e+07 NA        \n",
       "10  7/27/2004  1.00e+07 NA        \n",
       "11  11/19/2004 1.49e+08 NA        \n",
       "12  1/6/2006   1.50e+07 NA        \n",
       "13  2/28/2006  2.70e+08 NA        \n",
       "14  4/18/2006  2.65e+08 NA        \n",
       "15  6/2/2006   4.70e+07 NA        \n",
       "16  6/16/2006  3.50e+07 NA        \n",
       "17  9/15/2006  1.63e+08 NA        \n",
       "18  9/19/2006  1.20e+07 NA        \n",
       "19  9/26/2006  1.50e+07 NA        \n",
       "20  10/17/2006 5.50e+07 NA        \n",
       "21  12/1/2006  4.00e+07 NA        \n",
       "22  3/6/2007   1.95e+08 NA        \n",
       "23  4/6/2007   1.05e+08 NA        \n",
       "24  5/11/2007  1.13e+08 NA        \n",
       "25  8/31/2007  8.25e+07 NA        \n",
       "26  8/31/2007  8.25e+07 NA        \n",
       "27  11/2/2007  8.15e+07 NA        \n",
       "28  1/1/2008   3.30e+07 NA        \n",
       "29  2/22/2008  2.75e+08 NA        \n",
       "30  4/1/2008   1.36e+08 NA        \n",
       "... ...        ...      ...       \n",
       "52  10/16/2012 3.05e+07        NA \n",
       "53  10/16/2012 3.05e+07        NA \n",
       "54  11/2/2012  3.30e+07        NA \n",
       "55  11/27/2012 5.00e+07        NA \n",
       "56  1/25/2013  8.90e+07        NA \n",
       "57  5/17/2013  9.90e+07        NA \n",
       "58  5/17/2013  9.90e+07        NA \n",
       "59  7/5/2013   8.00e+07        NA \n",
       "60  12/17/2013 3.24e+08        NA \n",
       "61  12/17/2013 3.24e+08        NA \n",
       "62  3/25/2014  2.00e+07        NA \n",
       "63  4/4/2014   3.00e+07        NA \n",
       "64  5/20/2014  1.49e+08        NA \n",
       "65  8/22/2014  1.80e+08        NA \n",
       "66  11/4/2014  3.26e+08        NA \n",
       "67  1/16/2015  2.65e+08        NA \n",
       "68  6/2/2015   2.62e+08        NA \n",
       "69  7/21/2015  1.53e+08        NA \n",
       "70  3/8/2016   1.57e+08        NA \n",
       "71  7/22/2016  7.50e+06        NA \n",
       "72  1/27/2017  1.91e+08        NA \n",
       "73  3/31/2017  1.77e+08        NA \n",
       "74  4/28/2017  6.10e+07        NA \n",
       "75  9/22/2017  1.05e+08        NA \n",
       "76  10/13/2017 2.10e+07        NA \n",
       "77  3/30/2018  5.33e+08        NA \n",
       "78  3/1/2019   2.73e+08 162600000 \n",
       "79  3/12/2019  5.00e+07  30200000 \n",
       "80  7/31/2020  2.20e+07  17900000 \n",
       "81  9/15/2020  1.20e+08  95400000 \n",
       "    location                                            state gender\n",
       "1   Cliffside Park, N.J.                                NJ    M     \n",
       "2   Kentwood, Mich.                                     MI    M     \n",
       "3   Brooklyn, N.Y.                                      NY    M     \n",
       "4   Savannah, Ga.                                       GA    M     \n",
       "5   Fitzgerald, Ga.                                     GA    M     \n",
       "6   Roswell, Ga.                                        GA    M     \n",
       "7   Roswell, Ga.                                        GA    M     \n",
       "8   Dayton, Ohio                                        OH    M     \n",
       "9   Pullman, Mich.                                      MI    M     \n",
       "10  Cherry Hill, N.J.                                   NJ    M     \n",
       "11  Queens, N.Y.                                        NY    M     \n",
       "12  Ohio                                                OH    M     \n",
       "13  Ohio                                                OH    M     \n",
       "14  Ohio                                                OH    M     \n",
       "15  New Brunswick, N.J.                                 NJ    M     \n",
       "16  La Quinta, Calif.                                   CA    M     \n",
       "17  Bainbridge, Ga.                                     GA    M     \n",
       "18  Bronx, N.Y.                                         NY    M     \n",
       "19  Hasbrouck Heights, N.J.                             NJ    M     \n",
       "20  North Bend, Wash.                                   WA    M     \n",
       "21  Columbus, Ohio                                      OH    M     \n",
       "22   Dalton, Ga.                                        GA    M     \n",
       "23  Queens, N.Y.                                        NY    M     \n",
       "24  Hawthorne, Calif.                                   CA    M     \n",
       "25  Buckingham, Va                                      VA    M     \n",
       "26  Dundalk, Md                                         MD    M     \n",
       "27  Mahopac, N.Y.                                       NY    M     \n",
       "28  Fort Worth, Texas                                   TX    M     \n",
       "29  Portal, Ga.                                         GA    M     \n",
       "30  Livonia, Mich.                                      MI    M     \n",
       "... ...                                                 ...   ...   \n",
       "52  Fresno, Ca                                          CA    M     \n",
       "53  Hyannis, Ma                                         MA    M     \n",
       "54  Garden City Park, N.Y.                              NY    M     \n",
       "55  Thomasville, Ga                                     GA    M     \n",
       "56  Orange, N.J                                         NJ    M     \n",
       "57  Tinton Falls, N.J.                                  NJ    M     \n",
       "58  Cumberland, Va                                      VA    M     \n",
       "59  Troy, Mi                                            MI    M     \n",
       "60  Northern California                                 CA    M     \n",
       "61  Stone Mountain, Ga.                                 GA    M     \n",
       "62  Suffolk County, N.Y                                 NY    M     \n",
       "63  Los Angeles, Ca                                     CA    M     \n",
       "64  Pittsburgh, Penn.                                   PA    M     \n",
       "65  Calimesa, Ca                                        CA    M     \n",
       "66  Wurtsboro, N.Y                                      NY    M     \n",
       "67  Naperville, Il                                      IL    M     \n",
       "68  Blue Island, Il                                     IL    M     \n",
       "69  Mechanicsville, Va.; ticket bought in Milton, Penn. PA    M     \n",
       "70  Seattle, Wash.                                      WA    M     \n",
       "71  Bristow, Va                                         VA    M     \n",
       "72  Nipton, Ca                                          CA    M     \n",
       "73  Stuttgart, Ark                                      AK    M     \n",
       "74  Laguna Hills, Calif.                                CA    M     \n",
       "75  Homer, N.Y.                                         NY    M     \n",
       "76  Providence, R.I.                                    RI    M     \n",
       "77  Vernon, N.J.                                        NJ    M     \n",
       "78  Alpha, N.J                                          NJ    M     \n",
       "79  Kansas City, Mo.                                    MO    M     \n",
       "80  Mira Loma, Calif                                    CA    M     \n",
       "81  Â Racine, Wis                                       WI    M     "
      ]
     },
     "metadata": {},
     "output_type": "display_data"
    }
   ],
   "source": [
    "Men = data.frame(Wins2 %>% filter(Gender == \"M\"))\n",
    "Men"
   ]
  },
  {
   "cell_type": "code",
   "execution_count": 108,
   "id": "832bd0e9",
   "metadata": {},
   "outputs": [
    {
     "data": {
      "text/html": [
       "107261728.395062"
      ],
      "text/latex": [
       "107261728.395062"
      ],
      "text/markdown": [
       "107261728.395062"
      ],
      "text/plain": [
       "[1] 107261728"
      ]
     },
     "metadata": {},
     "output_type": "display_data"
    }
   ],
   "source": [
    "MWins<-Men$Jackpot\n",
    "mean(MWins)"
   ]
  },
  {
   "cell_type": "code",
   "execution_count": 113,
   "id": "a7a739de",
   "metadata": {},
   "outputs": [
    {
     "data": {
      "text/html": [
       "<table>\n",
       "<thead><tr><th scope=col>Date</th><th scope=col>Location</th><th scope=col>State</th><th scope=col>Gender</th><th scope=col>Jackpot</th><th scope=col>Prize</th></tr></thead>\n",
       "<tbody>\n",
       "\t<tr><td>1/1/2019                </td><td>Long Island, N.Y        </td><td>NY                      </td><td>Mixed                   </td><td>4.37e+08                </td><td>     NA                 </td></tr>\n",
       "\t<tr><td>1/3/2014                </td><td>Nashville, Tenn         </td><td>TN                      </td><td>Mixed                   </td><td>6.10e+07                </td><td>     NA                 </td></tr>\n",
       "\t<tr><td>1/4/2011                </td><td> Rathdrum, Idaho.       </td><td>ID                      </td><td>Mixed                   </td><td>1.90e+08                </td><td>     NA                 </td></tr>\n",
       "\t<tr><td>10/1/2013               </td><td>Anne Arundel County, Md.</td><td>MD                      </td><td>Mixed                   </td><td>1.89e+08                </td><td>     NA                 </td></tr>\n",
       "\t<tr><td>10/13/2017              </td><td>Waterford, MI           </td><td>MI                      </td><td>Mixed                   </td><td>2.10e+07                </td><td>     NA                 </td></tr>\n",
       "\t<tr><td>10/22/2021              </td><td>lake havasu city AZ     </td><td>AZ                      </td><td>Mixed                   </td><td>1.08e+08                </td><td>     NA                 </td></tr>\n",
       "\t<tr><td>10/23/2018              </td><td>Hudsonville             </td><td> MI                     </td><td>Mixed                   </td><td>      NA                </td><td>1000000                 </td></tr>\n",
       "\t<tr><td>10/23/2018              </td><td>Mount Pleasant          </td><td> MI                     </td><td>Mixed                   </td><td>      NA                </td><td>1000000                 </td></tr>\n",
       "\t<tr><td>10/3/2008               </td><td>Washington, Mich.       </td><td>MI                      </td><td>Mixed                   </td><td>4.20e+07                </td><td>     NA                 </td></tr>\n",
       "\t<tr><td>11/10/2009              </td><td>Union County, N.J.      </td><td>NJ                      </td><td>Mixed                   </td><td>3.85e+07                </td><td>     NA                 </td></tr>\n",
       "\t<tr><td>11/11/2003              </td><td>Battle Creek, Mich.     </td><td>MI                      </td><td>Mixed                   </td><td>2.33e+07                </td><td>     NA                 </td></tr>\n",
       "\t<tr><td>11/13/2015              </td><td>Columbus, Oh            </td><td>OH                      </td><td>Mixed                   </td><td>2.02e+08                </td><td>     NA                 </td></tr>\n",
       "\t<tr><td>11/15/2005              </td><td>Anaheim, Calif.         </td><td>CA                      </td><td>Mixed                   </td><td>3.15e+08                </td><td>     NA                 </td></tr>\n",
       "\t<tr><td>11/19/2002              </td><td>New York City, N.Y.     </td><td>NY                      </td><td>Mixed                   </td><td>2.33e+07                </td><td>     NA                 </td></tr>\n",
       "\t<tr><td>11/29/2005              </td><td>Saginaw, Mich.          </td><td>MI                      </td><td>Mixed                   </td><td>1.75e+07                </td><td>     NA                 </td></tr>\n",
       "\t<tr><td>11/4/2014               </td><td>Stockton                </td><td> CA                     </td><td>Mixed                   </td><td>      NA                </td><td> 597933                 </td></tr>\n",
       "\t<tr><td>11/8/2002               </td><td>Hoquiam, Wash.          </td><td>WA                      </td><td>Mixed                   </td><td>2.33e+07                </td><td>     NA                 </td></tr>\n",
       "\t<tr><td>12/17/2013              </td><td>Columbus                </td><td> NE                     </td><td>Mixed                   </td><td>      NA                </td><td>1000000                 </td></tr>\n",
       "\t<tr><td>12/18/2007              </td><td>Chicago                 </td><td>IL                      </td><td>Mixed                   </td><td>8.15e+07                </td><td>     NA                 </td></tr>\n",
       "\t<tr><td>12/18/2007              </td><td>Morris County, N.J.     </td><td>NJ                      </td><td>Mixed                   </td><td>8.15e+07                </td><td>     NA                 </td></tr>\n",
       "\t<tr><td>12/22/2009              </td><td>Suffolk County, N.Y.    </td><td>NY                      </td><td>Mixed                   </td><td>1.65e+08                </td><td>     NA                 </td></tr>\n",
       "\t<tr><td>12/30/2005              </td><td>Montebello, Calif.      </td><td>CA                      </td><td>Mixed                   </td><td>8.80e+07                </td><td>     NA                 </td></tr>\n",
       "\t<tr><td>2/1/2011                </td><td>Belleville, Mi.         </td><td>MI                      </td><td>Mixed                   </td><td>4.65e+07                </td><td>     NA                 </td></tr>\n",
       "\t<tr><td>2/1/2011                </td><td>Munster, Ind.           </td><td>IN                      </td><td>Mixed                   </td><td>4.65e+07                </td><td>     NA                 </td></tr>\n",
       "\t<tr><td>2/16/2021               </td><td>Blossvale NY            </td><td>NY                      </td><td>Mixed                   </td><td>9.60e+07                </td><td>     NA                 </td></tr>\n",
       "\t<tr><td>2/20/2004               </td><td>Winchester, Va.         </td><td>VA                      </td><td>Mixed                   </td><td>2.39e+08                </td><td>     NA                 </td></tr>\n",
       "\t<tr><td>3/12/2010               </td><td>Hennepin, Ill.          </td><td>IL                      </td><td>Mixed                   </td><td>2.00e+07                </td><td>     NA                 </td></tr>\n",
       "\t<tr><td>3/12/2013               </td><td>Westlake, Oh            </td><td>OH                      </td><td>Mixed                   </td><td>4.10e+07                </td><td>     NA                 </td></tr>\n",
       "\t<tr><td>3/14/2003               </td><td>Englewood, N.J.         </td><td>NJ                      </td><td>Mixed                   </td><td>2.33e+07                </td><td>     NA                 </td></tr>\n",
       "\t<tr><td>3/18/2014               </td><td>Merritt Island, Fl      </td><td>FL                      </td><td>Mixed                   </td><td>2.07e+08                </td><td>     NA                 </td></tr>\n",
       "\t<tr><td>...</td><td>...</td><td>...</td><td>...</td><td>...</td><td>...</td></tr>\n",
       "\t<tr><td>1/19/2016            </td><td>Brooklyn             </td><td> NY                  </td><td>Mixed                </td><td>NA                   </td><td>1000000              </td></tr>\n",
       "\t<tr><td>1/9/2015             </td><td>Waterbury            </td><td> CT                  </td><td>Mixed                </td><td>NA                   </td><td>1000000              </td></tr>\n",
       "\t<tr><td>10/10/2014           </td><td>Long Beach           </td><td> CA                  </td><td>Mixed                </td><td>NA                   </td><td>1300000              </td></tr>\n",
       "\t<tr><td>10/12/2018           </td><td>Sheridan             </td><td> AR                  </td><td>Mixed                </td><td>NA                   </td><td>3000000              </td></tr>\n",
       "\t<tr><td>10/16/2020           </td><td>Tigard               </td><td> OR                  </td><td>Mixed                </td><td>NA                   </td><td>1000000              </td></tr>\n",
       "\t<tr><td>10/17/2014           </td><td>Delavan              </td><td> WI                  </td><td>Mixed                </td><td>NA                   </td><td>1000000              </td></tr>\n",
       "\t<tr><td>10/19/2018           </td><td>Eden                 </td><td> NC                  </td><td>Mixed                </td><td>NA                   </td><td>1000000              </td></tr>\n",
       "\t<tr><td>10/21/2014           </td><td>Oakbrook             </td><td> IL                  </td><td>Mixed                </td><td>NA                   </td><td>1000000              </td></tr>\n",
       "\t<tr><td>10/9/2018            </td><td>Aurora               </td><td> CO                  </td><td>Mixed                </td><td>NA                   </td><td>1000000              </td></tr>\n",
       "\t<tr><td>11/12/2013           </td><td>Floral Park Village  </td><td> NY                  </td><td>Mixed                </td><td>NA                   </td><td>1000000              </td></tr>\n",
       "\t<tr><td>11/19/2013           </td><td>Holbrook             </td><td> MA                  </td><td>Mixed                </td><td>NA                   </td><td>1000000              </td></tr>\n",
       "\t<tr><td>11/20/2015               </td><td>Burlington &amp; Winfield</td><td> IA                      </td><td>Mixed                    </td><td>NA                       </td><td>1000000                  </td></tr>\n",
       "\t<tr><td>12/13/2013           </td><td>Syracuse             </td><td> NY                  </td><td>Mixed                </td><td>NA                   </td><td>1000000              </td></tr>\n",
       "\t<tr><td>12/27/2016           </td><td>Virginia Beach       </td><td> VA                  </td><td>Mixed                </td><td>NA                   </td><td>1000000              </td></tr>\n",
       "\t<tr><td>2/13/2018            </td><td>Queens               </td><td> NY                  </td><td>Mixed                </td><td>NA                   </td><td>1000000              </td></tr>\n",
       "\t<tr><td>2/14/2014            </td><td>Los Angeles          </td><td> CA                  </td><td>Mixed                </td><td>NA                   </td><td> 505010              </td></tr>\n",
       "\t<tr><td>3/11/2014            </td><td>Fort Worth           </td><td> TX                  </td><td>Mixed                </td><td>NA                   </td><td>1000000              </td></tr>\n",
       "\t<tr><td>5/11/2018            </td><td>Kansas City          </td><td> MO                  </td><td>Mixed                </td><td>NA                   </td><td>1000000              </td></tr>\n",
       "\t<tr><td>5/18/2021            </td><td>Newark               </td><td> DE                  </td><td>Mixed                </td><td>NA                   </td><td>1000000              </td></tr>\n",
       "\t<tr><td>6/10/2016            </td><td>Wilmington           </td><td> NC                  </td><td>Mixed                </td><td>NA                   </td><td>1000000              </td></tr>\n",
       "\t<tr><td>6/26/2015            </td><td>Broadway             </td><td> VA                  </td><td>Mixed                </td><td>NA                   </td><td>1000000              </td></tr>\n",
       "\t<tr><td>7/15/2014            </td><td>Winchester           </td><td> KY                  </td><td>Mixed                </td><td>NA                   </td><td>1000000              </td></tr>\n",
       "\t<tr><td>7/18/2014            </td><td>Umatilla             </td><td> OR                  </td><td>Mixed                </td><td>NA                   </td><td>1000000              </td></tr>\n",
       "\t<tr><td>7/21/2017            </td><td>Richmond             </td><td> VA                  </td><td>Mixed                </td><td>NA                   </td><td>1000000              </td></tr>\n",
       "\t<tr><td>7/3/2015             </td><td>Newport              </td><td> KY                  </td><td>Mixed                </td><td>NA                   </td><td>1000000              </td></tr>\n",
       "\t<tr><td>8/1/2014             </td><td>Johnston             </td><td> IA                  </td><td>Mixed                </td><td>NA                   </td><td>1000000              </td></tr>\n",
       "\t<tr><td>8/2/2016             </td><td>Morgantown           </td><td> WV                  </td><td>Mixed                </td><td>NA                   </td><td>1000000              </td></tr>\n",
       "\t<tr><td>8/24/2018            </td><td>Fairfield            </td><td> CT                  </td><td>Mixed                </td><td>NA                   </td><td>2000000              </td></tr>\n",
       "\t<tr><td>8/27/2019            </td><td>Painted Post         </td><td> NY                  </td><td>Mixed                </td><td>NA                   </td><td>1000000              </td></tr>\n",
       "\t<tr><td>8/8/2017             </td><td>New York             </td><td> NY                  </td><td>Mixed                </td><td>NA                   </td><td>1000000              </td></tr>\n",
       "</tbody>\n",
       "</table>\n"
      ],
      "text/latex": [
       "\\begin{tabular}{r|llllll}\n",
       " Date & Location & State & Gender & Jackpot & Prize\\\\\n",
       "\\hline\n",
       "\t 1/1/2019                 & Long Island, N.Y         & NY                       & Mixed                    & 4.37e+08                 &      NA                 \\\\\n",
       "\t 1/3/2014                 & Nashville, Tenn          & TN                       & Mixed                    & 6.10e+07                 &      NA                 \\\\\n",
       "\t 1/4/2011                 &  Rathdrum, Idaho.        & ID                       & Mixed                    & 1.90e+08                 &      NA                 \\\\\n",
       "\t 10/1/2013                & Anne Arundel County, Md. & MD                       & Mixed                    & 1.89e+08                 &      NA                 \\\\\n",
       "\t 10/13/2017               & Waterford, MI            & MI                       & Mixed                    & 2.10e+07                 &      NA                 \\\\\n",
       "\t 10/22/2021               & lake havasu city AZ      & AZ                       & Mixed                    & 1.08e+08                 &      NA                 \\\\\n",
       "\t 10/23/2018               & Hudsonville              &  MI                      & Mixed                    &       NA                 & 1000000                 \\\\\n",
       "\t 10/23/2018               & Mount Pleasant           &  MI                      & Mixed                    &       NA                 & 1000000                 \\\\\n",
       "\t 10/3/2008                & Washington, Mich.        & MI                       & Mixed                    & 4.20e+07                 &      NA                 \\\\\n",
       "\t 11/10/2009               & Union County, N.J.       & NJ                       & Mixed                    & 3.85e+07                 &      NA                 \\\\\n",
       "\t 11/11/2003               & Battle Creek, Mich.      & MI                       & Mixed                    & 2.33e+07                 &      NA                 \\\\\n",
       "\t 11/13/2015               & Columbus, Oh             & OH                       & Mixed                    & 2.02e+08                 &      NA                 \\\\\n",
       "\t 11/15/2005               & Anaheim, Calif.          & CA                       & Mixed                    & 3.15e+08                 &      NA                 \\\\\n",
       "\t 11/19/2002               & New York City, N.Y.      & NY                       & Mixed                    & 2.33e+07                 &      NA                 \\\\\n",
       "\t 11/29/2005               & Saginaw, Mich.           & MI                       & Mixed                    & 1.75e+07                 &      NA                 \\\\\n",
       "\t 11/4/2014                & Stockton                 &  CA                      & Mixed                    &       NA                 &  597933                 \\\\\n",
       "\t 11/8/2002                & Hoquiam, Wash.           & WA                       & Mixed                    & 2.33e+07                 &      NA                 \\\\\n",
       "\t 12/17/2013               & Columbus                 &  NE                      & Mixed                    &       NA                 & 1000000                 \\\\\n",
       "\t 12/18/2007               & Chicago                  & IL                       & Mixed                    & 8.15e+07                 &      NA                 \\\\\n",
       "\t 12/18/2007               & Morris County, N.J.      & NJ                       & Mixed                    & 8.15e+07                 &      NA                 \\\\\n",
       "\t 12/22/2009               & Suffolk County, N.Y.     & NY                       & Mixed                    & 1.65e+08                 &      NA                 \\\\\n",
       "\t 12/30/2005               & Montebello, Calif.       & CA                       & Mixed                    & 8.80e+07                 &      NA                 \\\\\n",
       "\t 2/1/2011                 & Belleville, Mi.          & MI                       & Mixed                    & 4.65e+07                 &      NA                 \\\\\n",
       "\t 2/1/2011                 & Munster, Ind.            & IN                       & Mixed                    & 4.65e+07                 &      NA                 \\\\\n",
       "\t 2/16/2021                & Blossvale NY             & NY                       & Mixed                    & 9.60e+07                 &      NA                 \\\\\n",
       "\t 2/20/2004                & Winchester, Va.          & VA                       & Mixed                    & 2.39e+08                 &      NA                 \\\\\n",
       "\t 3/12/2010                & Hennepin, Ill.           & IL                       & Mixed                    & 2.00e+07                 &      NA                 \\\\\n",
       "\t 3/12/2013                & Westlake, Oh             & OH                       & Mixed                    & 4.10e+07                 &      NA                 \\\\\n",
       "\t 3/14/2003                & Englewood, N.J.          & NJ                       & Mixed                    & 2.33e+07                 &      NA                 \\\\\n",
       "\t 3/18/2014                & Merritt Island, Fl       & FL                       & Mixed                    & 2.07e+08                 &      NA                 \\\\\n",
       "\t ... & ... & ... & ... & ... & ...\\\\\n",
       "\t 1/19/2016             & Brooklyn              &  NY                   & Mixed                 & NA                    & 1000000              \\\\\n",
       "\t 1/9/2015              & Waterbury             &  CT                   & Mixed                 & NA                    & 1000000              \\\\\n",
       "\t 10/10/2014            & Long Beach            &  CA                   & Mixed                 & NA                    & 1300000              \\\\\n",
       "\t 10/12/2018            & Sheridan              &  AR                   & Mixed                 & NA                    & 3000000              \\\\\n",
       "\t 10/16/2020            & Tigard                &  OR                   & Mixed                 & NA                    & 1000000              \\\\\n",
       "\t 10/17/2014            & Delavan               &  WI                   & Mixed                 & NA                    & 1000000              \\\\\n",
       "\t 10/19/2018            & Eden                  &  NC                   & Mixed                 & NA                    & 1000000              \\\\\n",
       "\t 10/21/2014            & Oakbrook              &  IL                   & Mixed                 & NA                    & 1000000              \\\\\n",
       "\t 10/9/2018             & Aurora                &  CO                   & Mixed                 & NA                    & 1000000              \\\\\n",
       "\t 11/12/2013            & Floral Park Village   &  NY                   & Mixed                 & NA                    & 1000000              \\\\\n",
       "\t 11/19/2013            & Holbrook              &  MA                   & Mixed                 & NA                    & 1000000              \\\\\n",
       "\t 11/20/2015              & Burlington \\& Winfield &  IA                     & Mixed                   & NA                      & 1000000                \\\\\n",
       "\t 12/13/2013            & Syracuse              &  NY                   & Mixed                 & NA                    & 1000000              \\\\\n",
       "\t 12/27/2016            & Virginia Beach        &  VA                   & Mixed                 & NA                    & 1000000              \\\\\n",
       "\t 2/13/2018             & Queens                &  NY                   & Mixed                 & NA                    & 1000000              \\\\\n",
       "\t 2/14/2014             & Los Angeles           &  CA                   & Mixed                 & NA                    &  505010              \\\\\n",
       "\t 3/11/2014             & Fort Worth            &  TX                   & Mixed                 & NA                    & 1000000              \\\\\n",
       "\t 5/11/2018             & Kansas City           &  MO                   & Mixed                 & NA                    & 1000000              \\\\\n",
       "\t 5/18/2021             & Newark                &  DE                   & Mixed                 & NA                    & 1000000              \\\\\n",
       "\t 6/10/2016             & Wilmington            &  NC                   & Mixed                 & NA                    & 1000000              \\\\\n",
       "\t 6/26/2015             & Broadway              &  VA                   & Mixed                 & NA                    & 1000000              \\\\\n",
       "\t 7/15/2014             & Winchester            &  KY                   & Mixed                 & NA                    & 1000000              \\\\\n",
       "\t 7/18/2014             & Umatilla              &  OR                   & Mixed                 & NA                    & 1000000              \\\\\n",
       "\t 7/21/2017             & Richmond              &  VA                   & Mixed                 & NA                    & 1000000              \\\\\n",
       "\t 7/3/2015              & Newport               &  KY                   & Mixed                 & NA                    & 1000000              \\\\\n",
       "\t 8/1/2014              & Johnston              &  IA                   & Mixed                 & NA                    & 1000000              \\\\\n",
       "\t 8/2/2016              & Morgantown            &  WV                   & Mixed                 & NA                    & 1000000              \\\\\n",
       "\t 8/24/2018             & Fairfield             &  CT                   & Mixed                 & NA                    & 2000000              \\\\\n",
       "\t 8/27/2019             & Painted Post          &  NY                   & Mixed                 & NA                    & 1000000              \\\\\n",
       "\t 8/8/2017              & New York              &  NY                   & Mixed                 & NA                    & 1000000              \\\\\n",
       "\\end{tabular}\n"
      ],
      "text/markdown": [
       "\n",
       "| Date | Location | State | Gender | Jackpot | Prize |\n",
       "|---|---|---|---|---|---|\n",
       "| 1/1/2019                 | Long Island, N.Y         | NY                       | Mixed                    | 4.37e+08                 |      NA                  |\n",
       "| 1/3/2014                 | Nashville, Tenn          | TN                       | Mixed                    | 6.10e+07                 |      NA                  |\n",
       "| 1/4/2011                 |  Rathdrum, Idaho.        | ID                       | Mixed                    | 1.90e+08                 |      NA                  |\n",
       "| 10/1/2013                | Anne Arundel County, Md. | MD                       | Mixed                    | 1.89e+08                 |      NA                  |\n",
       "| 10/13/2017               | Waterford, MI            | MI                       | Mixed                    | 2.10e+07                 |      NA                  |\n",
       "| 10/22/2021               | lake havasu city AZ      | AZ                       | Mixed                    | 1.08e+08                 |      NA                  |\n",
       "| 10/23/2018               | Hudsonville              |  MI                      | Mixed                    |       NA                 | 1000000                  |\n",
       "| 10/23/2018               | Mount Pleasant           |  MI                      | Mixed                    |       NA                 | 1000000                  |\n",
       "| 10/3/2008                | Washington, Mich.        | MI                       | Mixed                    | 4.20e+07                 |      NA                  |\n",
       "| 11/10/2009               | Union County, N.J.       | NJ                       | Mixed                    | 3.85e+07                 |      NA                  |\n",
       "| 11/11/2003               | Battle Creek, Mich.      | MI                       | Mixed                    | 2.33e+07                 |      NA                  |\n",
       "| 11/13/2015               | Columbus, Oh             | OH                       | Mixed                    | 2.02e+08                 |      NA                  |\n",
       "| 11/15/2005               | Anaheim, Calif.          | CA                       | Mixed                    | 3.15e+08                 |      NA                  |\n",
       "| 11/19/2002               | New York City, N.Y.      | NY                       | Mixed                    | 2.33e+07                 |      NA                  |\n",
       "| 11/29/2005               | Saginaw, Mich.           | MI                       | Mixed                    | 1.75e+07                 |      NA                  |\n",
       "| 11/4/2014                | Stockton                 |  CA                      | Mixed                    |       NA                 |  597933                  |\n",
       "| 11/8/2002                | Hoquiam, Wash.           | WA                       | Mixed                    | 2.33e+07                 |      NA                  |\n",
       "| 12/17/2013               | Columbus                 |  NE                      | Mixed                    |       NA                 | 1000000                  |\n",
       "| 12/18/2007               | Chicago                  | IL                       | Mixed                    | 8.15e+07                 |      NA                  |\n",
       "| 12/18/2007               | Morris County, N.J.      | NJ                       | Mixed                    | 8.15e+07                 |      NA                  |\n",
       "| 12/22/2009               | Suffolk County, N.Y.     | NY                       | Mixed                    | 1.65e+08                 |      NA                  |\n",
       "| 12/30/2005               | Montebello, Calif.       | CA                       | Mixed                    | 8.80e+07                 |      NA                  |\n",
       "| 2/1/2011                 | Belleville, Mi.          | MI                       | Mixed                    | 4.65e+07                 |      NA                  |\n",
       "| 2/1/2011                 | Munster, Ind.            | IN                       | Mixed                    | 4.65e+07                 |      NA                  |\n",
       "| 2/16/2021                | Blossvale NY             | NY                       | Mixed                    | 9.60e+07                 |      NA                  |\n",
       "| 2/20/2004                | Winchester, Va.          | VA                       | Mixed                    | 2.39e+08                 |      NA                  |\n",
       "| 3/12/2010                | Hennepin, Ill.           | IL                       | Mixed                    | 2.00e+07                 |      NA                  |\n",
       "| 3/12/2013                | Westlake, Oh             | OH                       | Mixed                    | 4.10e+07                 |      NA                  |\n",
       "| 3/14/2003                | Englewood, N.J.          | NJ                       | Mixed                    | 2.33e+07                 |      NA                  |\n",
       "| 3/18/2014                | Merritt Island, Fl       | FL                       | Mixed                    | 2.07e+08                 |      NA                  |\n",
       "| ... | ... | ... | ... | ... | ... |\n",
       "| 1/19/2016             | Brooklyn              |  NY                   | Mixed                 | NA                    | 1000000               |\n",
       "| 1/9/2015              | Waterbury             |  CT                   | Mixed                 | NA                    | 1000000               |\n",
       "| 10/10/2014            | Long Beach            |  CA                   | Mixed                 | NA                    | 1300000               |\n",
       "| 10/12/2018            | Sheridan              |  AR                   | Mixed                 | NA                    | 3000000               |\n",
       "| 10/16/2020            | Tigard                |  OR                   | Mixed                 | NA                    | 1000000               |\n",
       "| 10/17/2014            | Delavan               |  WI                   | Mixed                 | NA                    | 1000000               |\n",
       "| 10/19/2018            | Eden                  |  NC                   | Mixed                 | NA                    | 1000000               |\n",
       "| 10/21/2014            | Oakbrook              |  IL                   | Mixed                 | NA                    | 1000000               |\n",
       "| 10/9/2018             | Aurora                |  CO                   | Mixed                 | NA                    | 1000000               |\n",
       "| 11/12/2013            | Floral Park Village   |  NY                   | Mixed                 | NA                    | 1000000               |\n",
       "| 11/19/2013            | Holbrook              |  MA                   | Mixed                 | NA                    | 1000000               |\n",
       "| 11/20/2015            | Burlington & Winfield |  IA                   | Mixed                 | NA                    | 1000000               |\n",
       "| 12/13/2013            | Syracuse              |  NY                   | Mixed                 | NA                    | 1000000               |\n",
       "| 12/27/2016            | Virginia Beach        |  VA                   | Mixed                 | NA                    | 1000000               |\n",
       "| 2/13/2018             | Queens                |  NY                   | Mixed                 | NA                    | 1000000               |\n",
       "| 2/14/2014             | Los Angeles           |  CA                   | Mixed                 | NA                    |  505010               |\n",
       "| 3/11/2014             | Fort Worth            |  TX                   | Mixed                 | NA                    | 1000000               |\n",
       "| 5/11/2018             | Kansas City           |  MO                   | Mixed                 | NA                    | 1000000               |\n",
       "| 5/18/2021             | Newark                |  DE                   | Mixed                 | NA                    | 1000000               |\n",
       "| 6/10/2016             | Wilmington            |  NC                   | Mixed                 | NA                    | 1000000               |\n",
       "| 6/26/2015             | Broadway              |  VA                   | Mixed                 | NA                    | 1000000               |\n",
       "| 7/15/2014             | Winchester            |  KY                   | Mixed                 | NA                    | 1000000               |\n",
       "| 7/18/2014             | Umatilla              |  OR                   | Mixed                 | NA                    | 1000000               |\n",
       "| 7/21/2017             | Richmond              |  VA                   | Mixed                 | NA                    | 1000000               |\n",
       "| 7/3/2015              | Newport               |  KY                   | Mixed                 | NA                    | 1000000               |\n",
       "| 8/1/2014              | Johnston              |  IA                   | Mixed                 | NA                    | 1000000               |\n",
       "| 8/2/2016              | Morgantown            |  WV                   | Mixed                 | NA                    | 1000000               |\n",
       "| 8/24/2018             | Fairfield             |  CT                   | Mixed                 | NA                    | 2000000               |\n",
       "| 8/27/2019             | Painted Post          |  NY                   | Mixed                 | NA                    | 1000000               |\n",
       "| 8/8/2017              | New York              |  NY                   | Mixed                 | NA                    | 1000000               |\n",
       "\n"
      ],
      "text/plain": [
       "    Date       Location                 State Gender Jackpot  Prize  \n",
       "1   1/1/2019   Long Island, N.Y         NY    Mixed  4.37e+08      NA\n",
       "2   1/3/2014   Nashville, Tenn          TN    Mixed  6.10e+07      NA\n",
       "3   1/4/2011    Rathdrum, Idaho.        ID    Mixed  1.90e+08      NA\n",
       "4   10/1/2013  Anne Arundel County, Md. MD    Mixed  1.89e+08      NA\n",
       "5   10/13/2017 Waterford, MI            MI    Mixed  2.10e+07      NA\n",
       "6   10/22/2021 lake havasu city AZ      AZ    Mixed  1.08e+08      NA\n",
       "7   10/23/2018 Hudsonville               MI   Mixed        NA 1000000\n",
       "8   10/23/2018 Mount Pleasant            MI   Mixed        NA 1000000\n",
       "9   10/3/2008  Washington, Mich.        MI    Mixed  4.20e+07      NA\n",
       "10  11/10/2009 Union County, N.J.       NJ    Mixed  3.85e+07      NA\n",
       "11  11/11/2003 Battle Creek, Mich.      MI    Mixed  2.33e+07      NA\n",
       "12  11/13/2015 Columbus, Oh             OH    Mixed  2.02e+08      NA\n",
       "13  11/15/2005 Anaheim, Calif.          CA    Mixed  3.15e+08      NA\n",
       "14  11/19/2002 New York City, N.Y.      NY    Mixed  2.33e+07      NA\n",
       "15  11/29/2005 Saginaw, Mich.           MI    Mixed  1.75e+07      NA\n",
       "16  11/4/2014  Stockton                  CA   Mixed        NA  597933\n",
       "17  11/8/2002  Hoquiam, Wash.           WA    Mixed  2.33e+07      NA\n",
       "18  12/17/2013 Columbus                  NE   Mixed        NA 1000000\n",
       "19  12/18/2007 Chicago                  IL    Mixed  8.15e+07      NA\n",
       "20  12/18/2007 Morris County, N.J.      NJ    Mixed  8.15e+07      NA\n",
       "21  12/22/2009 Suffolk County, N.Y.     NY    Mixed  1.65e+08      NA\n",
       "22  12/30/2005 Montebello, Calif.       CA    Mixed  8.80e+07      NA\n",
       "23  2/1/2011   Belleville, Mi.          MI    Mixed  4.65e+07      NA\n",
       "24  2/1/2011   Munster, Ind.            IN    Mixed  4.65e+07      NA\n",
       "25  2/16/2021  Blossvale NY             NY    Mixed  9.60e+07      NA\n",
       "26  2/20/2004  Winchester, Va.          VA    Mixed  2.39e+08      NA\n",
       "27  3/12/2010  Hennepin, Ill.           IL    Mixed  2.00e+07      NA\n",
       "28  3/12/2013  Westlake, Oh             OH    Mixed  4.10e+07      NA\n",
       "29  3/14/2003  Englewood, N.J.          NJ    Mixed  2.33e+07      NA\n",
       "30  3/18/2014  Merritt Island, Fl       FL    Mixed  2.07e+08      NA\n",
       "... ...        ...                      ...   ...    ...      ...    \n",
       "79  1/19/2016  Brooklyn                  NY   Mixed  NA       1000000\n",
       "80  1/9/2015   Waterbury                 CT   Mixed  NA       1000000\n",
       "81  10/10/2014 Long Beach                CA   Mixed  NA       1300000\n",
       "82  10/12/2018 Sheridan                  AR   Mixed  NA       3000000\n",
       "83  10/16/2020 Tigard                    OR   Mixed  NA       1000000\n",
       "84  10/17/2014 Delavan                   WI   Mixed  NA       1000000\n",
       "85  10/19/2018 Eden                      NC   Mixed  NA       1000000\n",
       "86  10/21/2014 Oakbrook                  IL   Mixed  NA       1000000\n",
       "87  10/9/2018  Aurora                    CO   Mixed  NA       1000000\n",
       "88  11/12/2013 Floral Park Village       NY   Mixed  NA       1000000\n",
       "89  11/19/2013 Holbrook                  MA   Mixed  NA       1000000\n",
       "90  11/20/2015 Burlington & Winfield     IA   Mixed  NA       1000000\n",
       "91  12/13/2013 Syracuse                  NY   Mixed  NA       1000000\n",
       "92  12/27/2016 Virginia Beach            VA   Mixed  NA       1000000\n",
       "93  2/13/2018  Queens                    NY   Mixed  NA       1000000\n",
       "94  2/14/2014  Los Angeles               CA   Mixed  NA        505010\n",
       "95  3/11/2014  Fort Worth                TX   Mixed  NA       1000000\n",
       "96  5/11/2018  Kansas City               MO   Mixed  NA       1000000\n",
       "97  5/18/2021  Newark                    DE   Mixed  NA       1000000\n",
       "98  6/10/2016  Wilmington                NC   Mixed  NA       1000000\n",
       "99  6/26/2015  Broadway                  VA   Mixed  NA       1000000\n",
       "100 7/15/2014  Winchester                KY   Mixed  NA       1000000\n",
       "101 7/18/2014  Umatilla                  OR   Mixed  NA       1000000\n",
       "102 7/21/2017  Richmond                  VA   Mixed  NA       1000000\n",
       "103 7/3/2015   Newport                   KY   Mixed  NA       1000000\n",
       "104 8/1/2014   Johnston                  IA   Mixed  NA       1000000\n",
       "105 8/2/2016   Morgantown                WV   Mixed  NA       1000000\n",
       "106 8/24/2018  Fairfield                 CT   Mixed  NA       2000000\n",
       "107 8/27/2019  Painted Post              NY   Mixed  NA       1000000\n",
       "108 8/8/2017   New York                  NY   Mixed  NA       1000000"
      ]
     },
     "metadata": {},
     "output_type": "display_data"
    }
   ],
   "source": [
    "Groups = data.frame(Wins2 %>% filter(Gender == \"Mixed\"))\n",
    "Groups"
   ]
  },
  {
   "cell_type": "code",
   "execution_count": 114,
   "id": "97d26adf",
   "metadata": {},
   "outputs": [
    {
     "data": {
      "text/html": [
       "&lt;NA&gt;"
      ],
      "text/latex": [
       "<NA>"
      ],
      "text/markdown": [
       "&lt;NA&gt;"
      ],
      "text/plain": [
       "[1] NA"
      ]
     },
     "metadata": {},
     "output_type": "display_data"
    }
   ],
   "source": [
    "GWins<-Groups$Jackpot\n",
    "mean(GWins)"
   ]
  },
  {
   "cell_type": "code",
   "execution_count": 90,
   "id": "e157b708",
   "metadata": {},
   "outputs": [
    {
     "data": {
      "text/html": [
       "<table>\n",
       "<thead><tr><th scope=col>Date</th><th scope=col>Location</th><th scope=col>State</th><th scope=col>Gender</th><th scope=col>Jackpot</th><th scope=col>Prize</th></tr></thead>\n",
       "<tbody>\n",
       "\t<tr><td>1/1/2019                </td><td>Long Island, N.Y        </td><td>NY                      </td><td>Mixed                   </td><td>4.370e+08               </td><td>     NA                 </td></tr>\n",
       "\t<tr><td>1/3/2014                </td><td>Nashville, Tenn         </td><td>TN                      </td><td>Mixed                   </td><td>6.100e+07               </td><td>     NA                 </td></tr>\n",
       "\t<tr><td>1/4/2011                </td><td> Rathdrum, Idaho.       </td><td>ID                      </td><td>Mixed                   </td><td>1.900e+08               </td><td>     NA                 </td></tr>\n",
       "\t<tr><td>1/5/2018                </td><td>Port Richey, Fl         </td><td>FL                      </td><td>Unk                     </td><td>4.510e+08               </td><td>     NA                 </td></tr>\n",
       "\t<tr><td>1/9/2007                </td><td>Amarillo, Texas         </td><td>TX                      </td><td>Unk                     </td><td>1.250e+08               </td><td>     NA                 </td></tr>\n",
       "\t<tr><td>10/1/2004               </td><td>Carrollton, Texas       </td><td>TX                      </td><td>Unk                     </td><td>1.060e+08               </td><td>     NA                 </td></tr>\n",
       "\t<tr><td>10/1/2013               </td><td>Anne Arundel County, Md.</td><td>MD                      </td><td>Mixed                   </td><td>1.890e+08               </td><td>     NA                 </td></tr>\n",
       "\t<tr><td>10/11/2016              </td><td>Rockwall, Texas         </td><td>TX                      </td><td>Unk                     </td><td>4.900e+07               </td><td>     NA                 </td></tr>\n",
       "\t<tr><td>10/13/2017              </td><td>Waterford, MI           </td><td>MI                      </td><td>Mixed                   </td><td>2.100e+07               </td><td>     NA                 </td></tr>\n",
       "\t<tr><td>10/22/2021              </td><td>lake havasu city AZ     </td><td>AZ                      </td><td>Mixed                   </td><td>1.080e+08               </td><td>     NA                 </td></tr>\n",
       "\t<tr><td>10/23/2018              </td><td>south carolina          </td><td>SC                      </td><td>Unk                     </td><td>1.537e+10               </td><td>     NA                 </td></tr>\n",
       "\t<tr><td>10/23/2018              </td><td>Hudsonville             </td><td> MI                     </td><td>Mixed                   </td><td>       NA               </td><td>1000000                 </td></tr>\n",
       "\t<tr><td>10/23/2018              </td><td>Mount Pleasant          </td><td> MI                     </td><td>Mixed                   </td><td>       NA               </td><td>1000000                 </td></tr>\n",
       "\t<tr><td>10/3/2008               </td><td>Washington, Mich.       </td><td>MI                      </td><td>Mixed                   </td><td>4.200e+07               </td><td>     NA                 </td></tr>\n",
       "\t<tr><td>11/10/2009              </td><td>Union County, N.J.      </td><td>NJ                      </td><td>Mixed                   </td><td>3.850e+07               </td><td>     NA                 </td></tr>\n",
       "\t<tr><td>11/11/2003              </td><td>Battle Creek, Mich.     </td><td>MI                      </td><td>Mixed                   </td><td>2.330e+07               </td><td>     NA                 </td></tr>\n",
       "\t<tr><td>11/13/2015              </td><td>Columbus, Oh            </td><td>OH                      </td><td>Mixed                   </td><td>2.020e+08               </td><td>     NA                 </td></tr>\n",
       "\t<tr><td>11/15/2005              </td><td>Anaheim, Calif.         </td><td>CA                      </td><td>Mixed                   </td><td>3.150e+08               </td><td>     NA                 </td></tr>\n",
       "\t<tr><td>11/18/2016              </td><td>Georgia                 </td><td>GA                      </td><td>Unk                     </td><td>8.300e+07               </td><td>     NA                 </td></tr>\n",
       "\t<tr><td>11/19/2002              </td><td>New York City, N.Y.     </td><td>NY                      </td><td>Mixed                   </td><td>2.330e+07               </td><td>     NA                 </td></tr>\n",
       "\t<tr><td>11/29/2005              </td><td>Saginaw, Mich.          </td><td>MI                      </td><td>Mixed                   </td><td>1.750e+07               </td><td>     NA                 </td></tr>\n",
       "\t<tr><td>11/29/2005              </td><td>Wilmington, Calif.      </td><td>CA                      </td><td>Unk                     </td><td>1.750e+07               </td><td>     NA                 </td></tr>\n",
       "\t<tr><td>11/4/2014               </td><td>Stockton                </td><td> CA                     </td><td>Mixed                   </td><td>       NA               </td><td> 597933                 </td></tr>\n",
       "\t<tr><td>11/8/2002               </td><td>Hoquiam, Wash.          </td><td>WA                      </td><td>Mixed                   </td><td>2.330e+07               </td><td>     NA                 </td></tr>\n",
       "\t<tr><td>11/9/2010               </td><td>Broadview Heights, Ohio </td><td>OH                      </td><td>Unk                     </td><td>2.500e+07               </td><td>     NA                 </td></tr>\n",
       "\t<tr><td>12/14/2012              </td><td>Bellflower, Ca          </td><td>CA                      </td><td>Unk                     </td><td>3.500e+07               </td><td>     NA                 </td></tr>\n",
       "\t<tr><td>12/17/2013              </td><td>Columbus                </td><td> NE                     </td><td>Mixed                   </td><td>       NA               </td><td>1000000                 </td></tr>\n",
       "\t<tr><td>12/17/2019              </td><td>OH                      </td><td>OH                      </td><td>Unk                     </td><td>3.750e+08               </td><td>     NA                 </td></tr>\n",
       "\t<tr><td>12/17/2019              </td><td>Eldora                  </td><td> IA                     </td><td>Unk                     </td><td>       NA               </td><td>1000000                 </td></tr>\n",
       "\t<tr><td>12/18/2007              </td><td>Chicago                 </td><td>IL                      </td><td>Mixed                   </td><td>8.150e+07               </td><td>     NA                 </td></tr>\n",
       "\t<tr><td>...</td><td>...</td><td>...</td><td>...</td><td>...</td><td>...</td></tr>\n",
       "\t<tr><td>12/27/2016    </td><td>Virginia Beach</td><td> VA           </td><td>Mixed         </td><td>NA            </td><td>1000000       </td></tr>\n",
       "\t<tr><td>2/13/2018     </td><td>Queens        </td><td> NY           </td><td>Mixed         </td><td>NA            </td><td>1000000       </td></tr>\n",
       "\t<tr><td>2/14/2014     </td><td>Los Angeles   </td><td> CA           </td><td>Mixed         </td><td>NA            </td><td> 505010       </td></tr>\n",
       "\t<tr><td>2/2/2021      </td><td>Kansas City   </td><td> MO           </td><td>Unk           </td><td>NA            </td><td>1000000       </td></tr>\n",
       "\t<tr><td>2/25/2014     </td><td>Essex         </td><td> MD           </td><td>Unk           </td><td>NA            </td><td>1000000       </td></tr>\n",
       "\t<tr><td>3/11/2014     </td><td>Fort Worth    </td><td> TX           </td><td>Mixed         </td><td>NA            </td><td>1000000       </td></tr>\n",
       "\t<tr><td>3/16/2018     </td><td>Lincoln County</td><td> KS           </td><td>Unk           </td><td>NA            </td><td>1000000       </td></tr>\n",
       "\t<tr><td>3/30/2021     </td><td>Fargo         </td><td> ND           </td><td>Unk           </td><td>NA            </td><td>3000000       </td></tr>\n",
       "\t<tr><td>3/5/2021      </td><td>Louisville    </td><td> KY           </td><td>Unk           </td><td>NA            </td><td>1000000       </td></tr>\n",
       "\t<tr><td>4/21/2015     </td><td>Columbia      </td><td> SC           </td><td>Unk           </td><td>NA            </td><td>1000000       </td></tr>\n",
       "\t<tr><td>4/27/2018     </td><td>Conway        </td><td> SC           </td><td>Unk           </td><td>NA            </td><td>2000000       </td></tr>\n",
       "\t<tr><td>4/28/2015     </td><td>Wichita       </td><td> KS           </td><td>Unk           </td><td>NA            </td><td>1000000       </td></tr>\n",
       "\t<tr><td>5/11/2018     </td><td>Kansas City   </td><td> MO           </td><td>Mixed         </td><td>NA            </td><td>1000000       </td></tr>\n",
       "\t<tr><td>5/13/2016     </td><td>Baltimore     </td><td> MD           </td><td>Unk           </td><td>NA            </td><td>1000000       </td></tr>\n",
       "\t<tr><td>5/17/2016     </td><td>Williston     </td><td> ND           </td><td>Unk           </td><td>NA            </td><td>3000000       </td></tr>\n",
       "\t<tr><td>5/18/2021     </td><td>Newark        </td><td> DE           </td><td>Mixed         </td><td>NA            </td><td>1000000       </td></tr>\n",
       "\t<tr><td>6/10/2016     </td><td>Wilmington    </td><td> NC           </td><td>Mixed         </td><td>NA            </td><td>1000000       </td></tr>\n",
       "\t<tr><td>6/26/2015     </td><td>Broadway      </td><td> VA           </td><td>Mixed         </td><td>NA            </td><td>1000000       </td></tr>\n",
       "\t<tr><td>7/14/2020     </td><td>Malad City    </td><td> ID           </td><td>Unk           </td><td>NA            </td><td>4000000       </td></tr>\n",
       "\t<tr><td>7/15/2014     </td><td>Winchester    </td><td> KY           </td><td>Mixed         </td><td>NA            </td><td>1000000       </td></tr>\n",
       "\t<tr><td>7/18/2014     </td><td>Umatilla      </td><td> OR           </td><td>Mixed         </td><td>NA            </td><td>1000000       </td></tr>\n",
       "\t<tr><td>7/21/2017     </td><td>Richmond      </td><td> VA           </td><td>Mixed         </td><td>NA            </td><td>1000000       </td></tr>\n",
       "\t<tr><td>7/27/2021     </td><td>Grand Strand  </td><td> SC           </td><td>Unk           </td><td>NA            </td><td>3000000       </td></tr>\n",
       "\t<tr><td>7/3/2015      </td><td>Newport       </td><td> KY           </td><td>Mixed         </td><td>NA            </td><td>1000000       </td></tr>\n",
       "\t<tr><td>8/1/2014      </td><td>Johnston      </td><td> IA           </td><td>Mixed         </td><td>NA            </td><td>1000000       </td></tr>\n",
       "\t<tr><td>8/10/2018     </td><td>Charles County</td><td> MD           </td><td>Unk           </td><td>NA            </td><td>1000000       </td></tr>\n",
       "\t<tr><td>8/2/2016      </td><td>Morgantown    </td><td> WV           </td><td>Mixed         </td><td>NA            </td><td>1000000       </td></tr>\n",
       "\t<tr><td>8/24/2018     </td><td>Fairfield     </td><td> CT           </td><td>Mixed         </td><td>NA            </td><td>2000000       </td></tr>\n",
       "\t<tr><td>8/27/2019     </td><td>Painted Post  </td><td> NY           </td><td>Mixed         </td><td>NA            </td><td>1000000       </td></tr>\n",
       "\t<tr><td>8/8/2017      </td><td>New York      </td><td> NY           </td><td>Mixed         </td><td>NA            </td><td>1000000       </td></tr>\n",
       "</tbody>\n",
       "</table>\n"
      ],
      "text/latex": [
       "\\begin{tabular}{r|llllll}\n",
       " Date & Location & State & Gender & Jackpot & Prize\\\\\n",
       "\\hline\n",
       "\t 1/1/2019                 & Long Island, N.Y         & NY                       & Mixed                    & 4.370e+08                &      NA                 \\\\\n",
       "\t 1/3/2014                 & Nashville, Tenn          & TN                       & Mixed                    & 6.100e+07                &      NA                 \\\\\n",
       "\t 1/4/2011                 &  Rathdrum, Idaho.        & ID                       & Mixed                    & 1.900e+08                &      NA                 \\\\\n",
       "\t 1/5/2018                 & Port Richey, Fl          & FL                       & Unk                      & 4.510e+08                &      NA                 \\\\\n",
       "\t 1/9/2007                 & Amarillo, Texas          & TX                       & Unk                      & 1.250e+08                &      NA                 \\\\\n",
       "\t 10/1/2004                & Carrollton, Texas        & TX                       & Unk                      & 1.060e+08                &      NA                 \\\\\n",
       "\t 10/1/2013                & Anne Arundel County, Md. & MD                       & Mixed                    & 1.890e+08                &      NA                 \\\\\n",
       "\t 10/11/2016               & Rockwall, Texas          & TX                       & Unk                      & 4.900e+07                &      NA                 \\\\\n",
       "\t 10/13/2017               & Waterford, MI            & MI                       & Mixed                    & 2.100e+07                &      NA                 \\\\\n",
       "\t 10/22/2021               & lake havasu city AZ      & AZ                       & Mixed                    & 1.080e+08                &      NA                 \\\\\n",
       "\t 10/23/2018               & south carolina           & SC                       & Unk                      & 1.537e+10                &      NA                 \\\\\n",
       "\t 10/23/2018               & Hudsonville              &  MI                      & Mixed                    &        NA                & 1000000                 \\\\\n",
       "\t 10/23/2018               & Mount Pleasant           &  MI                      & Mixed                    &        NA                & 1000000                 \\\\\n",
       "\t 10/3/2008                & Washington, Mich.        & MI                       & Mixed                    & 4.200e+07                &      NA                 \\\\\n",
       "\t 11/10/2009               & Union County, N.J.       & NJ                       & Mixed                    & 3.850e+07                &      NA                 \\\\\n",
       "\t 11/11/2003               & Battle Creek, Mich.      & MI                       & Mixed                    & 2.330e+07                &      NA                 \\\\\n",
       "\t 11/13/2015               & Columbus, Oh             & OH                       & Mixed                    & 2.020e+08                &      NA                 \\\\\n",
       "\t 11/15/2005               & Anaheim, Calif.          & CA                       & Mixed                    & 3.150e+08                &      NA                 \\\\\n",
       "\t 11/18/2016               & Georgia                  & GA                       & Unk                      & 8.300e+07                &      NA                 \\\\\n",
       "\t 11/19/2002               & New York City, N.Y.      & NY                       & Mixed                    & 2.330e+07                &      NA                 \\\\\n",
       "\t 11/29/2005               & Saginaw, Mich.           & MI                       & Mixed                    & 1.750e+07                &      NA                 \\\\\n",
       "\t 11/29/2005               & Wilmington, Calif.       & CA                       & Unk                      & 1.750e+07                &      NA                 \\\\\n",
       "\t 11/4/2014                & Stockton                 &  CA                      & Mixed                    &        NA                &  597933                 \\\\\n",
       "\t 11/8/2002                & Hoquiam, Wash.           & WA                       & Mixed                    & 2.330e+07                &      NA                 \\\\\n",
       "\t 11/9/2010                & Broadview Heights, Ohio  & OH                       & Unk                      & 2.500e+07                &      NA                 \\\\\n",
       "\t 12/14/2012               & Bellflower, Ca           & CA                       & Unk                      & 3.500e+07                &      NA                 \\\\\n",
       "\t 12/17/2013               & Columbus                 &  NE                      & Mixed                    &        NA                & 1000000                 \\\\\n",
       "\t 12/17/2019               & OH                       & OH                       & Unk                      & 3.750e+08                &      NA                 \\\\\n",
       "\t 12/17/2019               & Eldora                   &  IA                      & Unk                      &        NA                & 1000000                 \\\\\n",
       "\t 12/18/2007               & Chicago                  & IL                       & Mixed                    & 8.150e+07                &      NA                 \\\\\n",
       "\t ... & ... & ... & ... & ... & ...\\\\\n",
       "\t 12/27/2016     & Virginia Beach &  VA            & Mixed          & NA             & 1000000       \\\\\n",
       "\t 2/13/2018      & Queens         &  NY            & Mixed          & NA             & 1000000       \\\\\n",
       "\t 2/14/2014      & Los Angeles    &  CA            & Mixed          & NA             &  505010       \\\\\n",
       "\t 2/2/2021       & Kansas City    &  MO            & Unk            & NA             & 1000000       \\\\\n",
       "\t 2/25/2014      & Essex          &  MD            & Unk            & NA             & 1000000       \\\\\n",
       "\t 3/11/2014      & Fort Worth     &  TX            & Mixed          & NA             & 1000000       \\\\\n",
       "\t 3/16/2018      & Lincoln County &  KS            & Unk            & NA             & 1000000       \\\\\n",
       "\t 3/30/2021      & Fargo          &  ND            & Unk            & NA             & 3000000       \\\\\n",
       "\t 3/5/2021       & Louisville     &  KY            & Unk            & NA             & 1000000       \\\\\n",
       "\t 4/21/2015      & Columbia       &  SC            & Unk            & NA             & 1000000       \\\\\n",
       "\t 4/27/2018      & Conway         &  SC            & Unk            & NA             & 2000000       \\\\\n",
       "\t 4/28/2015      & Wichita        &  KS            & Unk            & NA             & 1000000       \\\\\n",
       "\t 5/11/2018      & Kansas City    &  MO            & Mixed          & NA             & 1000000       \\\\\n",
       "\t 5/13/2016      & Baltimore      &  MD            & Unk            & NA             & 1000000       \\\\\n",
       "\t 5/17/2016      & Williston      &  ND            & Unk            & NA             & 3000000       \\\\\n",
       "\t 5/18/2021      & Newark         &  DE            & Mixed          & NA             & 1000000       \\\\\n",
       "\t 6/10/2016      & Wilmington     &  NC            & Mixed          & NA             & 1000000       \\\\\n",
       "\t 6/26/2015      & Broadway       &  VA            & Mixed          & NA             & 1000000       \\\\\n",
       "\t 7/14/2020      & Malad City     &  ID            & Unk            & NA             & 4000000       \\\\\n",
       "\t 7/15/2014      & Winchester     &  KY            & Mixed          & NA             & 1000000       \\\\\n",
       "\t 7/18/2014      & Umatilla       &  OR            & Mixed          & NA             & 1000000       \\\\\n",
       "\t 7/21/2017      & Richmond       &  VA            & Mixed          & NA             & 1000000       \\\\\n",
       "\t 7/27/2021      & Grand Strand   &  SC            & Unk            & NA             & 3000000       \\\\\n",
       "\t 7/3/2015       & Newport        &  KY            & Mixed          & NA             & 1000000       \\\\\n",
       "\t 8/1/2014       & Johnston       &  IA            & Mixed          & NA             & 1000000       \\\\\n",
       "\t 8/10/2018      & Charles County &  MD            & Unk            & NA             & 1000000       \\\\\n",
       "\t 8/2/2016       & Morgantown     &  WV            & Mixed          & NA             & 1000000       \\\\\n",
       "\t 8/24/2018      & Fairfield      &  CT            & Mixed          & NA             & 2000000       \\\\\n",
       "\t 8/27/2019      & Painted Post   &  NY            & Mixed          & NA             & 1000000       \\\\\n",
       "\t 8/8/2017       & New York       &  NY            & Mixed          & NA             & 1000000       \\\\\n",
       "\\end{tabular}\n"
      ],
      "text/markdown": [
       "\n",
       "| Date | Location | State | Gender | Jackpot | Prize |\n",
       "|---|---|---|---|---|---|\n",
       "| 1/1/2019                 | Long Island, N.Y         | NY                       | Mixed                    | 4.370e+08                |      NA                  |\n",
       "| 1/3/2014                 | Nashville, Tenn          | TN                       | Mixed                    | 6.100e+07                |      NA                  |\n",
       "| 1/4/2011                 |  Rathdrum, Idaho.        | ID                       | Mixed                    | 1.900e+08                |      NA                  |\n",
       "| 1/5/2018                 | Port Richey, Fl          | FL                       | Unk                      | 4.510e+08                |      NA                  |\n",
       "| 1/9/2007                 | Amarillo, Texas          | TX                       | Unk                      | 1.250e+08                |      NA                  |\n",
       "| 10/1/2004                | Carrollton, Texas        | TX                       | Unk                      | 1.060e+08                |      NA                  |\n",
       "| 10/1/2013                | Anne Arundel County, Md. | MD                       | Mixed                    | 1.890e+08                |      NA                  |\n",
       "| 10/11/2016               | Rockwall, Texas          | TX                       | Unk                      | 4.900e+07                |      NA                  |\n",
       "| 10/13/2017               | Waterford, MI            | MI                       | Mixed                    | 2.100e+07                |      NA                  |\n",
       "| 10/22/2021               | lake havasu city AZ      | AZ                       | Mixed                    | 1.080e+08                |      NA                  |\n",
       "| 10/23/2018               | south carolina           | SC                       | Unk                      | 1.537e+10                |      NA                  |\n",
       "| 10/23/2018               | Hudsonville              |  MI                      | Mixed                    |        NA                | 1000000                  |\n",
       "| 10/23/2018               | Mount Pleasant           |  MI                      | Mixed                    |        NA                | 1000000                  |\n",
       "| 10/3/2008                | Washington, Mich.        | MI                       | Mixed                    | 4.200e+07                |      NA                  |\n",
       "| 11/10/2009               | Union County, N.J.       | NJ                       | Mixed                    | 3.850e+07                |      NA                  |\n",
       "| 11/11/2003               | Battle Creek, Mich.      | MI                       | Mixed                    | 2.330e+07                |      NA                  |\n",
       "| 11/13/2015               | Columbus, Oh             | OH                       | Mixed                    | 2.020e+08                |      NA                  |\n",
       "| 11/15/2005               | Anaheim, Calif.          | CA                       | Mixed                    | 3.150e+08                |      NA                  |\n",
       "| 11/18/2016               | Georgia                  | GA                       | Unk                      | 8.300e+07                |      NA                  |\n",
       "| 11/19/2002               | New York City, N.Y.      | NY                       | Mixed                    | 2.330e+07                |      NA                  |\n",
       "| 11/29/2005               | Saginaw, Mich.           | MI                       | Mixed                    | 1.750e+07                |      NA                  |\n",
       "| 11/29/2005               | Wilmington, Calif.       | CA                       | Unk                      | 1.750e+07                |      NA                  |\n",
       "| 11/4/2014                | Stockton                 |  CA                      | Mixed                    |        NA                |  597933                  |\n",
       "| 11/8/2002                | Hoquiam, Wash.           | WA                       | Mixed                    | 2.330e+07                |      NA                  |\n",
       "| 11/9/2010                | Broadview Heights, Ohio  | OH                       | Unk                      | 2.500e+07                |      NA                  |\n",
       "| 12/14/2012               | Bellflower, Ca           | CA                       | Unk                      | 3.500e+07                |      NA                  |\n",
       "| 12/17/2013               | Columbus                 |  NE                      | Mixed                    |        NA                | 1000000                  |\n",
       "| 12/17/2019               | OH                       | OH                       | Unk                      | 3.750e+08                |      NA                  |\n",
       "| 12/17/2019               | Eldora                   |  IA                      | Unk                      |        NA                | 1000000                  |\n",
       "| 12/18/2007               | Chicago                  | IL                       | Mixed                    | 8.150e+07                |      NA                  |\n",
       "| ... | ... | ... | ... | ... | ... |\n",
       "| 12/27/2016     | Virginia Beach |  VA            | Mixed          | NA             | 1000000        |\n",
       "| 2/13/2018      | Queens         |  NY            | Mixed          | NA             | 1000000        |\n",
       "| 2/14/2014      | Los Angeles    |  CA            | Mixed          | NA             |  505010        |\n",
       "| 2/2/2021       | Kansas City    |  MO            | Unk            | NA             | 1000000        |\n",
       "| 2/25/2014      | Essex          |  MD            | Unk            | NA             | 1000000        |\n",
       "| 3/11/2014      | Fort Worth     |  TX            | Mixed          | NA             | 1000000        |\n",
       "| 3/16/2018      | Lincoln County |  KS            | Unk            | NA             | 1000000        |\n",
       "| 3/30/2021      | Fargo          |  ND            | Unk            | NA             | 3000000        |\n",
       "| 3/5/2021       | Louisville     |  KY            | Unk            | NA             | 1000000        |\n",
       "| 4/21/2015      | Columbia       |  SC            | Unk            | NA             | 1000000        |\n",
       "| 4/27/2018      | Conway         |  SC            | Unk            | NA             | 2000000        |\n",
       "| 4/28/2015      | Wichita        |  KS            | Unk            | NA             | 1000000        |\n",
       "| 5/11/2018      | Kansas City    |  MO            | Mixed          | NA             | 1000000        |\n",
       "| 5/13/2016      | Baltimore      |  MD            | Unk            | NA             | 1000000        |\n",
       "| 5/17/2016      | Williston      |  ND            | Unk            | NA             | 3000000        |\n",
       "| 5/18/2021      | Newark         |  DE            | Mixed          | NA             | 1000000        |\n",
       "| 6/10/2016      | Wilmington     |  NC            | Mixed          | NA             | 1000000        |\n",
       "| 6/26/2015      | Broadway       |  VA            | Mixed          | NA             | 1000000        |\n",
       "| 7/14/2020      | Malad City     |  ID            | Unk            | NA             | 4000000        |\n",
       "| 7/15/2014      | Winchester     |  KY            | Mixed          | NA             | 1000000        |\n",
       "| 7/18/2014      | Umatilla       |  OR            | Mixed          | NA             | 1000000        |\n",
       "| 7/21/2017      | Richmond       |  VA            | Mixed          | NA             | 1000000        |\n",
       "| 7/27/2021      | Grand Strand   |  SC            | Unk            | NA             | 3000000        |\n",
       "| 7/3/2015       | Newport        |  KY            | Mixed          | NA             | 1000000        |\n",
       "| 8/1/2014       | Johnston       |  IA            | Mixed          | NA             | 1000000        |\n",
       "| 8/10/2018      | Charles County |  MD            | Unk            | NA             | 1000000        |\n",
       "| 8/2/2016       | Morgantown     |  WV            | Mixed          | NA             | 1000000        |\n",
       "| 8/24/2018      | Fairfield      |  CT            | Mixed          | NA             | 2000000        |\n",
       "| 8/27/2019      | Painted Post   |  NY            | Mixed          | NA             | 1000000        |\n",
       "| 8/8/2017       | New York       |  NY            | Mixed          | NA             | 1000000        |\n",
       "\n"
      ],
      "text/plain": [
       "    Date       Location                 State Gender Jackpot   Prize  \n",
       "1   1/1/2019   Long Island, N.Y         NY    Mixed  4.370e+08      NA\n",
       "2   1/3/2014   Nashville, Tenn          TN    Mixed  6.100e+07      NA\n",
       "3   1/4/2011    Rathdrum, Idaho.        ID    Mixed  1.900e+08      NA\n",
       "4   1/5/2018   Port Richey, Fl          FL    Unk    4.510e+08      NA\n",
       "5   1/9/2007   Amarillo, Texas          TX    Unk    1.250e+08      NA\n",
       "6   10/1/2004  Carrollton, Texas        TX    Unk    1.060e+08      NA\n",
       "7   10/1/2013  Anne Arundel County, Md. MD    Mixed  1.890e+08      NA\n",
       "8   10/11/2016 Rockwall, Texas          TX    Unk    4.900e+07      NA\n",
       "9   10/13/2017 Waterford, MI            MI    Mixed  2.100e+07      NA\n",
       "10  10/22/2021 lake havasu city AZ      AZ    Mixed  1.080e+08      NA\n",
       "11  10/23/2018 south carolina           SC    Unk    1.537e+10      NA\n",
       "12  10/23/2018 Hudsonville               MI   Mixed         NA 1000000\n",
       "13  10/23/2018 Mount Pleasant            MI   Mixed         NA 1000000\n",
       "14  10/3/2008  Washington, Mich.        MI    Mixed  4.200e+07      NA\n",
       "15  11/10/2009 Union County, N.J.       NJ    Mixed  3.850e+07      NA\n",
       "16  11/11/2003 Battle Creek, Mich.      MI    Mixed  2.330e+07      NA\n",
       "17  11/13/2015 Columbus, Oh             OH    Mixed  2.020e+08      NA\n",
       "18  11/15/2005 Anaheim, Calif.          CA    Mixed  3.150e+08      NA\n",
       "19  11/18/2016 Georgia                  GA    Unk    8.300e+07      NA\n",
       "20  11/19/2002 New York City, N.Y.      NY    Mixed  2.330e+07      NA\n",
       "21  11/29/2005 Saginaw, Mich.           MI    Mixed  1.750e+07      NA\n",
       "22  11/29/2005 Wilmington, Calif.       CA    Unk    1.750e+07      NA\n",
       "23  11/4/2014  Stockton                  CA   Mixed         NA  597933\n",
       "24  11/8/2002  Hoquiam, Wash.           WA    Mixed  2.330e+07      NA\n",
       "25  11/9/2010  Broadview Heights, Ohio  OH    Unk    2.500e+07      NA\n",
       "26  12/14/2012 Bellflower, Ca           CA    Unk    3.500e+07      NA\n",
       "27  12/17/2013 Columbus                  NE   Mixed         NA 1000000\n",
       "28  12/17/2019 OH                       OH    Unk    3.750e+08      NA\n",
       "29  12/17/2019 Eldora                    IA   Unk           NA 1000000\n",
       "30  12/18/2007 Chicago                  IL    Mixed  8.150e+07      NA\n",
       "... ...        ...                      ...   ...    ...       ...    \n",
       "148 12/27/2016 Virginia Beach            VA   Mixed  NA        1000000\n",
       "149 2/13/2018  Queens                    NY   Mixed  NA        1000000\n",
       "150 2/14/2014  Los Angeles               CA   Mixed  NA         505010\n",
       "151 2/2/2021   Kansas City               MO   Unk    NA        1000000\n",
       "152 2/25/2014  Essex                     MD   Unk    NA        1000000\n",
       "153 3/11/2014  Fort Worth                TX   Mixed  NA        1000000\n",
       "154 3/16/2018  Lincoln County            KS   Unk    NA        1000000\n",
       "155 3/30/2021  Fargo                     ND   Unk    NA        3000000\n",
       "156 3/5/2021   Louisville                KY   Unk    NA        1000000\n",
       "157 4/21/2015  Columbia                  SC   Unk    NA        1000000\n",
       "158 4/27/2018  Conway                    SC   Unk    NA        2000000\n",
       "159 4/28/2015  Wichita                   KS   Unk    NA        1000000\n",
       "160 5/11/2018  Kansas City               MO   Mixed  NA        1000000\n",
       "161 5/13/2016  Baltimore                 MD   Unk    NA        1000000\n",
       "162 5/17/2016  Williston                 ND   Unk    NA        3000000\n",
       "163 5/18/2021  Newark                    DE   Mixed  NA        1000000\n",
       "164 6/10/2016  Wilmington                NC   Mixed  NA        1000000\n",
       "165 6/26/2015  Broadway                  VA   Mixed  NA        1000000\n",
       "166 7/14/2020  Malad City                ID   Unk    NA        4000000\n",
       "167 7/15/2014  Winchester                KY   Mixed  NA        1000000\n",
       "168 7/18/2014  Umatilla                  OR   Mixed  NA        1000000\n",
       "169 7/21/2017  Richmond                  VA   Mixed  NA        1000000\n",
       "170 7/27/2021  Grand Strand              SC   Unk    NA        3000000\n",
       "171 7/3/2015   Newport                   KY   Mixed  NA        1000000\n",
       "172 8/1/2014   Johnston                  IA   Mixed  NA        1000000\n",
       "173 8/10/2018  Charles County            MD   Unk    NA        1000000\n",
       "174 8/2/2016   Morgantown                WV   Mixed  NA        1000000\n",
       "175 8/24/2018  Fairfield                 CT   Mixed  NA        2000000\n",
       "176 8/27/2019  Painted Post              NY   Mixed  NA        1000000\n",
       "177 8/8/2017   New York                  NY   Mixed  NA        1000000"
      ]
     },
     "metadata": {},
     "output_type": "display_data"
    }
   ],
   "source": [
    "Unknown = data.frame(Wins2 %>% filter(Gender %in% c (\"Unk\", \"Mixed\")))\n",
    "Unknown"
   ]
  },
  {
   "cell_type": "code",
   "execution_count": 95,
   "id": "345f51c4",
   "metadata": {},
   "outputs": [
    {
     "data": {
      "text/html": [
       "&lt;NA&gt;"
      ],
      "text/latex": [
       "<NA>"
      ],
      "text/markdown": [
       "&lt;NA&gt;"
      ],
      "text/plain": [
       "[1] NA"
      ]
     },
     "metadata": {},
     "output_type": "display_data"
    }
   ],
   "source": [
    "UWins<-Unknown$Jackpot\n",
    "mean(UWins)"
   ]
  },
  {
   "cell_type": "code",
   "execution_count": 93,
   "id": "16d2143f",
   "metadata": {},
   "outputs": [
    {
     "data": {
      "text/html": [
       "<table>\n",
       "<thead><tr><th scope=col>Date</th><th scope=col>Location</th><th scope=col>State</th><th scope=col>Gender</th><th scope=col>Jackpot</th><th scope=col>Prize</th></tr></thead>\n",
       "<tbody>\n",
       "\t<tr><td>1/1/2008           </td><td>Fort Worth, Texas  </td><td>TX                 </td><td>M                  </td><td>3.30e+07           </td><td>     NA            </td></tr>\n",
       "\t<tr><td>1/1/2019           </td><td>Bayside            </td><td> NY                </td><td>M                  </td><td>      NA           </td><td>1000000            </td></tr>\n",
       "\t<tr><td>1/13/2009          </td><td>Merrick, N.Y.      </td><td>NY                 </td><td>F                  </td><td>2.20e+07           </td><td>     NA            </td></tr>\n",
       "\t<tr><td>1/16/2015          </td><td>Naperville, Il     </td><td>IL                 </td><td>M                  </td><td>2.65e+08           </td><td>     NA            </td></tr>\n",
       "\t<tr><td>1/18/2005          </td><td>Washington, Ga.    </td><td>GA                 </td><td>F                  </td><td>1.31e+08           </td><td>     NA            </td></tr>\n",
       "\t<tr><td>1/2/2009           </td><td>San Diego, Calif.  </td><td>CA                 </td><td>M                  </td><td>4.70e+07           </td><td>     NA            </td></tr>\n",
       "\t<tr><td>1/24/2012          </td><td>Atlanta, Ga        </td><td>GA                 </td><td>F                  </td><td>7.20e+07           </td><td>     NA            </td></tr>\n",
       "\t<tr><td>1/25/2013          </td><td>Orange, N.J        </td><td>NJ                 </td><td>M                  </td><td>8.90e+07           </td><td>     NA            </td></tr>\n",
       "\t<tr><td>1/27/2017          </td><td>Nipton, Ca         </td><td>CA                 </td><td>M                  </td><td>1.91e+08           </td><td>     NA            </td></tr>\n",
       "\t<tr><td>1/29/2010          </td><td>Katy, Texas.       </td><td>TX                 </td><td>M                  </td><td>1.44e+08           </td><td>     NA            </td></tr>\n",
       "\t<tr><td>1/4/2011           </td><td>Ephrata, Wash.     </td><td>WA                 </td><td>F                  </td><td>1.90e+08           </td><td>     NA            </td></tr>\n",
       "\t<tr><td>1/5/2018           </td><td>Broken Arrow       </td><td> OK                </td><td>M                  </td><td>      NA           </td><td>1000000            </td></tr>\n",
       "\t<tr><td>1/5/2018           </td><td>Dale City          </td><td> VA                </td><td>M                  </td><td>      NA           </td><td>1000000            </td></tr>\n",
       "\t<tr><td>1/5/2018           </td><td>Duncan             </td><td> OK                </td><td>F                  </td><td>      NA           </td><td>3000000            </td></tr>\n",
       "\t<tr><td>1/5/2018           </td><td>Red Boiling Springs</td><td> TN                </td><td>M                  </td><td>      NA           </td><td>1000000            </td></tr>\n",
       "\t<tr><td>1/6/2006           </td><td>Ohio               </td><td>OH                 </td><td>M                  </td><td>1.50e+07           </td><td>     NA            </td></tr>\n",
       "\t<tr><td>1/8/2016           </td><td>Staten Island, N.Y.</td><td>NY                 </td><td>F                  </td><td>1.69e+08           </td><td>     NA            </td></tr>\n",
       "\t<tr><td>10/11/2016         </td><td>Alexandria         </td><td> VA                </td><td>F                  </td><td>      NA           </td><td>1000000            </td></tr>\n",
       "\t<tr><td>10/13/2017         </td><td>Providence, R.I.   </td><td>RI                 </td><td>M                  </td><td>2.10e+07           </td><td>     NA            </td></tr>\n",
       "\t<tr><td>10/16/2009         </td><td>Shenandoah, Va.    </td><td>VA                 </td><td>M                  </td><td>2.00e+08           </td><td>     NA            </td></tr>\n",
       "\t<tr><td>10/16/2012         </td><td>Fresno, Ca         </td><td>CA                 </td><td>M                  </td><td>3.05e+07           </td><td>     NA            </td></tr>\n",
       "\t<tr><td>10/16/2012         </td><td>Hyannis, Ma        </td><td>MA                 </td><td>M                  </td><td>3.05e+07           </td><td>     NA            </td></tr>\n",
       "\t<tr><td>10/16/2012         </td><td>Hyannis            </td><td> MA                </td><td>M                  </td><td>      NA           </td><td>3005000            </td></tr>\n",
       "\t<tr><td>10/17/2006         </td><td>North Bend, Wash.  </td><td>WA                 </td><td>M                  </td><td>5.50e+07           </td><td>     NA            </td></tr>\n",
       "\t<tr><td>10/21/2008         </td><td>Rockmart, Ga.      </td><td>GA                 </td><td>M                  </td><td>4.20e+07           </td><td>     NA            </td></tr>\n",
       "\t<tr><td>10/23/2018         </td><td>Aylett             </td><td> VA                </td><td>F                  </td><td>      NA           </td><td>1000000            </td></tr>\n",
       "\t<tr><td>10/23/2018         </td><td>Dartmouth          </td><td> MA                </td><td>F                  </td><td>      NA           </td><td>1000000            </td></tr>\n",
       "\t<tr><td>10/23/2018         </td><td>Milan              </td><td> IL                </td><td>M                  </td><td>      NA           </td><td>1000000            </td></tr>\n",
       "\t<tr><td>10/29/2010         </td><td>Gladstone, Mich.   </td><td>MI                 </td><td>M                  </td><td>1.41e+08           </td><td>     NA            </td></tr>\n",
       "\t<tr><td>10/5/2007          </td><td>Essex, Md.         </td><td>MD                 </td><td>F                  </td><td>8.15e+07           </td><td>     NA            </td></tr>\n",
       "\t<tr><td>...</td><td>...</td><td>...</td><td>...</td><td>...</td><td>...</td></tr>\n",
       "\t<tr><td>6/8/2021         </td><td>Urbana           </td><td> IA              </td><td>F                </td><td>NA               </td><td>1000000          </td></tr>\n",
       "\t<tr><td>7/10/2015        </td><td>Woolwich         </td><td> ME              </td><td>M                </td><td>NA               </td><td>3000000          </td></tr>\n",
       "\t<tr><td>7/18/2017        </td><td>Ontario          </td><td> Canada          </td><td>F                </td><td>NA               </td><td>1000000          </td></tr>\n",
       "\t<tr><td>7/26/2016        </td><td>Montgomery County</td><td> OH              </td><td>M                </td><td>NA               </td><td>3000000          </td></tr>\n",
       "\t<tr><td>7/30/2019        </td><td>Jacksonville     </td><td> OR              </td><td>M                </td><td>NA               </td><td>3000000          </td></tr>\n",
       "\t<tr><td>7/5/2016         </td><td>Coral Gables     </td><td> FL              </td><td>F                </td><td>NA               </td><td>1000000          </td></tr>\n",
       "\t<tr><td>7/7/2015         </td><td>Beebe            </td><td> AR              </td><td>F                </td><td>NA               </td><td>3000000          </td></tr>\n",
       "\t<tr><td>8/1/2017         </td><td>Harrisonburg     </td><td> VA              </td><td>M                </td><td>NA               </td><td>1000000          </td></tr>\n",
       "\t<tr><td>8/1/2017         </td><td>Levittown        </td><td> NY              </td><td>F                </td><td>NA               </td><td>1000000          </td></tr>\n",
       "\t<tr><td>8/15/2014        </td><td>Sycamore         </td><td> IL              </td><td>M                </td><td>NA               </td><td>1000000          </td></tr>\n",
       "\t<tr><td>8/16/2016        </td><td>Barre            </td><td> VT              </td><td>M                </td><td>NA               </td><td>5000000          </td></tr>\n",
       "\t<tr><td>8/18/2015        </td><td>Haverhill        </td><td> MA              </td><td>M                </td><td>NA               </td><td>1000000          </td></tr>\n",
       "\t<tr><td>8/18/2017        </td><td>Albuquerque      </td><td> NM              </td><td>M                </td><td>NA               </td><td>1000000          </td></tr>\n",
       "\t<tr><td>8/20/2021        </td><td>Newport News     </td><td> VA              </td><td>F                </td><td>NA               </td><td>1000000          </td></tr>\n",
       "\t<tr><td>8/21/2015        </td><td>Mifflintown      </td><td> PA              </td><td>F                </td><td>NA               </td><td>1000000          </td></tr>\n",
       "\t<tr><td>8/23/2016        </td><td>New Hyde Park    </td><td> NY              </td><td>F                </td><td>NA               </td><td>1000000          </td></tr>\n",
       "\t<tr><td>8/31/2021        </td><td>New Berlin       </td><td> WI              </td><td>M                </td><td>NA               </td><td>3000000          </td></tr>\n",
       "\t<tr><td>8/4/2015         </td><td>Glen Burnie      </td><td> MD              </td><td>M                </td><td>NA               </td><td>1000000          </td></tr>\n",
       "\t<tr><td>8/4/2017         </td><td>Muskegon         </td><td> MI              </td><td>M                </td><td>NA               </td><td>1000000          </td></tr>\n",
       "\t<tr><td>8/5/2016         </td><td>Bronx            </td><td> NY              </td><td>M                </td><td>NA               </td><td>1000000          </td></tr>\n",
       "\t<tr><td>8/7/2015         </td><td>Champion         </td><td> MI              </td><td>F                </td><td>NA               </td><td>1000000          </td></tr>\n",
       "\t<tr><td>8/8/2014         </td><td>New Bedford      </td><td> MA              </td><td>F                </td><td>NA               </td><td>1000000          </td></tr>\n",
       "\t<tr><td>9/1/2020         </td><td>Brooklyn         </td><td> NY              </td><td>M                </td><td>NA               </td><td>1000000          </td></tr>\n",
       "\t<tr><td>9/18/2015        </td><td>Baltimore County </td><td> MD              </td><td>M                </td><td>NA               </td><td>1000000          </td></tr>\n",
       "\t<tr><td>9/2/2014         </td><td>Brooklyn         </td><td> NY              </td><td>M                </td><td>NA               </td><td>1000000          </td></tr>\n",
       "\t<tr><td>9/23/2014        </td><td>Abingdon         </td><td> VA              </td><td>F                </td><td>NA               </td><td>1000000          </td></tr>\n",
       "\t<tr><td>9/26/2017        </td><td>Henrico          </td><td> VA              </td><td>M                </td><td>NA               </td><td>1000000          </td></tr>\n",
       "\t<tr><td>9/5/2014         </td><td>Birmingham       </td><td> AL              </td><td>F                </td><td>NA               </td><td>1000000          </td></tr>\n",
       "\t<tr><td>9/9/2014         </td><td>Capitol Heights  </td><td> MD              </td><td>F                </td><td>NA               </td><td>1000000          </td></tr>\n",
       "\t<tr><td>9/9/2016         </td><td>Manhattan        </td><td> NY              </td><td>M                </td><td>NA               </td><td>1000000          </td></tr>\n",
       "</tbody>\n",
       "</table>\n"
      ],
      "text/latex": [
       "\\begin{tabular}{r|llllll}\n",
       " Date & Location & State & Gender & Jackpot & Prize\\\\\n",
       "\\hline\n",
       "\t 1/1/2008            & Fort Worth, Texas   & TX                  & M                   & 3.30e+07            &      NA            \\\\\n",
       "\t 1/1/2019            & Bayside             &  NY                 & M                   &       NA            & 1000000            \\\\\n",
       "\t 1/13/2009           & Merrick, N.Y.       & NY                  & F                   & 2.20e+07            &      NA            \\\\\n",
       "\t 1/16/2015           & Naperville, Il      & IL                  & M                   & 2.65e+08            &      NA            \\\\\n",
       "\t 1/18/2005           & Washington, Ga.     & GA                  & F                   & 1.31e+08            &      NA            \\\\\n",
       "\t 1/2/2009            & San Diego, Calif.   & CA                  & M                   & 4.70e+07            &      NA            \\\\\n",
       "\t 1/24/2012           & Atlanta, Ga         & GA                  & F                   & 7.20e+07            &      NA            \\\\\n",
       "\t 1/25/2013           & Orange, N.J         & NJ                  & M                   & 8.90e+07            &      NA            \\\\\n",
       "\t 1/27/2017           & Nipton, Ca          & CA                  & M                   & 1.91e+08            &      NA            \\\\\n",
       "\t 1/29/2010           & Katy, Texas.        & TX                  & M                   & 1.44e+08            &      NA            \\\\\n",
       "\t 1/4/2011            & Ephrata, Wash.      & WA                  & F                   & 1.90e+08            &      NA            \\\\\n",
       "\t 1/5/2018            & Broken Arrow        &  OK                 & M                   &       NA            & 1000000            \\\\\n",
       "\t 1/5/2018            & Dale City           &  VA                 & M                   &       NA            & 1000000            \\\\\n",
       "\t 1/5/2018            & Duncan              &  OK                 & F                   &       NA            & 3000000            \\\\\n",
       "\t 1/5/2018            & Red Boiling Springs &  TN                 & M                   &       NA            & 1000000            \\\\\n",
       "\t 1/6/2006            & Ohio                & OH                  & M                   & 1.50e+07            &      NA            \\\\\n",
       "\t 1/8/2016            & Staten Island, N.Y. & NY                  & F                   & 1.69e+08            &      NA            \\\\\n",
       "\t 10/11/2016          & Alexandria          &  VA                 & F                   &       NA            & 1000000            \\\\\n",
       "\t 10/13/2017          & Providence, R.I.    & RI                  & M                   & 2.10e+07            &      NA            \\\\\n",
       "\t 10/16/2009          & Shenandoah, Va.     & VA                  & M                   & 2.00e+08            &      NA            \\\\\n",
       "\t 10/16/2012          & Fresno, Ca          & CA                  & M                   & 3.05e+07            &      NA            \\\\\n",
       "\t 10/16/2012          & Hyannis, Ma         & MA                  & M                   & 3.05e+07            &      NA            \\\\\n",
       "\t 10/16/2012          & Hyannis             &  MA                 & M                   &       NA            & 3005000            \\\\\n",
       "\t 10/17/2006          & North Bend, Wash.   & WA                  & M                   & 5.50e+07            &      NA            \\\\\n",
       "\t 10/21/2008          & Rockmart, Ga.       & GA                  & M                   & 4.20e+07            &      NA            \\\\\n",
       "\t 10/23/2018          & Aylett              &  VA                 & F                   &       NA            & 1000000            \\\\\n",
       "\t 10/23/2018          & Dartmouth           &  MA                 & F                   &       NA            & 1000000            \\\\\n",
       "\t 10/23/2018          & Milan               &  IL                 & M                   &       NA            & 1000000            \\\\\n",
       "\t 10/29/2010          & Gladstone, Mich.    & MI                  & M                   & 1.41e+08            &      NA            \\\\\n",
       "\t 10/5/2007           & Essex, Md.          & MD                  & F                   & 8.15e+07            &      NA            \\\\\n",
       "\t ... & ... & ... & ... & ... & ...\\\\\n",
       "\t 6/8/2021          & Urbana            &  IA               & F                 & NA                & 1000000          \\\\\n",
       "\t 7/10/2015         & Woolwich          &  ME               & M                 & NA                & 3000000          \\\\\n",
       "\t 7/18/2017         & Ontario           &  Canada           & F                 & NA                & 1000000          \\\\\n",
       "\t 7/26/2016         & Montgomery County &  OH               & M                 & NA                & 3000000          \\\\\n",
       "\t 7/30/2019         & Jacksonville      &  OR               & M                 & NA                & 3000000          \\\\\n",
       "\t 7/5/2016          & Coral Gables      &  FL               & F                 & NA                & 1000000          \\\\\n",
       "\t 7/7/2015          & Beebe             &  AR               & F                 & NA                & 3000000          \\\\\n",
       "\t 8/1/2017          & Harrisonburg      &  VA               & M                 & NA                & 1000000          \\\\\n",
       "\t 8/1/2017          & Levittown         &  NY               & F                 & NA                & 1000000          \\\\\n",
       "\t 8/15/2014         & Sycamore          &  IL               & M                 & NA                & 1000000          \\\\\n",
       "\t 8/16/2016         & Barre             &  VT               & M                 & NA                & 5000000          \\\\\n",
       "\t 8/18/2015         & Haverhill         &  MA               & M                 & NA                & 1000000          \\\\\n",
       "\t 8/18/2017         & Albuquerque       &  NM               & M                 & NA                & 1000000          \\\\\n",
       "\t 8/20/2021         & Newport News      &  VA               & F                 & NA                & 1000000          \\\\\n",
       "\t 8/21/2015         & Mifflintown       &  PA               & F                 & NA                & 1000000          \\\\\n",
       "\t 8/23/2016         & New Hyde Park     &  NY               & F                 & NA                & 1000000          \\\\\n",
       "\t 8/31/2021         & New Berlin        &  WI               & M                 & NA                & 3000000          \\\\\n",
       "\t 8/4/2015          & Glen Burnie       &  MD               & M                 & NA                & 1000000          \\\\\n",
       "\t 8/4/2017          & Muskegon          &  MI               & M                 & NA                & 1000000          \\\\\n",
       "\t 8/5/2016          & Bronx             &  NY               & M                 & NA                & 1000000          \\\\\n",
       "\t 8/7/2015          & Champion          &  MI               & F                 & NA                & 1000000          \\\\\n",
       "\t 8/8/2014          & New Bedford       &  MA               & F                 & NA                & 1000000          \\\\\n",
       "\t 9/1/2020          & Brooklyn          &  NY               & M                 & NA                & 1000000          \\\\\n",
       "\t 9/18/2015         & Baltimore County  &  MD               & M                 & NA                & 1000000          \\\\\n",
       "\t 9/2/2014          & Brooklyn          &  NY               & M                 & NA                & 1000000          \\\\\n",
       "\t 9/23/2014         & Abingdon          &  VA               & F                 & NA                & 1000000          \\\\\n",
       "\t 9/26/2017         & Henrico           &  VA               & M                 & NA                & 1000000          \\\\\n",
       "\t 9/5/2014          & Birmingham        &  AL               & F                 & NA                & 1000000          \\\\\n",
       "\t 9/9/2014          & Capitol Heights   &  MD               & F                 & NA                & 1000000          \\\\\n",
       "\t 9/9/2016          & Manhattan         &  NY               & M                 & NA                & 1000000          \\\\\n",
       "\\end{tabular}\n"
      ],
      "text/markdown": [
       "\n",
       "| Date | Location | State | Gender | Jackpot | Prize |\n",
       "|---|---|---|---|---|---|\n",
       "| 1/1/2008            | Fort Worth, Texas   | TX                  | M                   | 3.30e+07            |      NA             |\n",
       "| 1/1/2019            | Bayside             |  NY                 | M                   |       NA            | 1000000             |\n",
       "| 1/13/2009           | Merrick, N.Y.       | NY                  | F                   | 2.20e+07            |      NA             |\n",
       "| 1/16/2015           | Naperville, Il      | IL                  | M                   | 2.65e+08            |      NA             |\n",
       "| 1/18/2005           | Washington, Ga.     | GA                  | F                   | 1.31e+08            |      NA             |\n",
       "| 1/2/2009            | San Diego, Calif.   | CA                  | M                   | 4.70e+07            |      NA             |\n",
       "| 1/24/2012           | Atlanta, Ga         | GA                  | F                   | 7.20e+07            |      NA             |\n",
       "| 1/25/2013           | Orange, N.J         | NJ                  | M                   | 8.90e+07            |      NA             |\n",
       "| 1/27/2017           | Nipton, Ca          | CA                  | M                   | 1.91e+08            |      NA             |\n",
       "| 1/29/2010           | Katy, Texas.        | TX                  | M                   | 1.44e+08            |      NA             |\n",
       "| 1/4/2011            | Ephrata, Wash.      | WA                  | F                   | 1.90e+08            |      NA             |\n",
       "| 1/5/2018            | Broken Arrow        |  OK                 | M                   |       NA            | 1000000             |\n",
       "| 1/5/2018            | Dale City           |  VA                 | M                   |       NA            | 1000000             |\n",
       "| 1/5/2018            | Duncan              |  OK                 | F                   |       NA            | 3000000             |\n",
       "| 1/5/2018            | Red Boiling Springs |  TN                 | M                   |       NA            | 1000000             |\n",
       "| 1/6/2006            | Ohio                | OH                  | M                   | 1.50e+07            |      NA             |\n",
       "| 1/8/2016            | Staten Island, N.Y. | NY                  | F                   | 1.69e+08            |      NA             |\n",
       "| 10/11/2016          | Alexandria          |  VA                 | F                   |       NA            | 1000000             |\n",
       "| 10/13/2017          | Providence, R.I.    | RI                  | M                   | 2.10e+07            |      NA             |\n",
       "| 10/16/2009          | Shenandoah, Va.     | VA                  | M                   | 2.00e+08            |      NA             |\n",
       "| 10/16/2012          | Fresno, Ca          | CA                  | M                   | 3.05e+07            |      NA             |\n",
       "| 10/16/2012          | Hyannis, Ma         | MA                  | M                   | 3.05e+07            |      NA             |\n",
       "| 10/16/2012          | Hyannis             |  MA                 | M                   |       NA            | 3005000             |\n",
       "| 10/17/2006          | North Bend, Wash.   | WA                  | M                   | 5.50e+07            |      NA             |\n",
       "| 10/21/2008          | Rockmart, Ga.       | GA                  | M                   | 4.20e+07            |      NA             |\n",
       "| 10/23/2018          | Aylett              |  VA                 | F                   |       NA            | 1000000             |\n",
       "| 10/23/2018          | Dartmouth           |  MA                 | F                   |       NA            | 1000000             |\n",
       "| 10/23/2018          | Milan               |  IL                 | M                   |       NA            | 1000000             |\n",
       "| 10/29/2010          | Gladstone, Mich.    | MI                  | M                   | 1.41e+08            |      NA             |\n",
       "| 10/5/2007           | Essex, Md.          | MD                  | F                   | 8.15e+07            |      NA             |\n",
       "| ... | ... | ... | ... | ... | ... |\n",
       "| 6/8/2021          | Urbana            |  IA               | F                 | NA                | 1000000           |\n",
       "| 7/10/2015         | Woolwich          |  ME               | M                 | NA                | 3000000           |\n",
       "| 7/18/2017         | Ontario           |  Canada           | F                 | NA                | 1000000           |\n",
       "| 7/26/2016         | Montgomery County |  OH               | M                 | NA                | 3000000           |\n",
       "| 7/30/2019         | Jacksonville      |  OR               | M                 | NA                | 3000000           |\n",
       "| 7/5/2016          | Coral Gables      |  FL               | F                 | NA                | 1000000           |\n",
       "| 7/7/2015          | Beebe             |  AR               | F                 | NA                | 3000000           |\n",
       "| 8/1/2017          | Harrisonburg      |  VA               | M                 | NA                | 1000000           |\n",
       "| 8/1/2017          | Levittown         |  NY               | F                 | NA                | 1000000           |\n",
       "| 8/15/2014         | Sycamore          |  IL               | M                 | NA                | 1000000           |\n",
       "| 8/16/2016         | Barre             |  VT               | M                 | NA                | 5000000           |\n",
       "| 8/18/2015         | Haverhill         |  MA               | M                 | NA                | 1000000           |\n",
       "| 8/18/2017         | Albuquerque       |  NM               | M                 | NA                | 1000000           |\n",
       "| 8/20/2021         | Newport News      |  VA               | F                 | NA                | 1000000           |\n",
       "| 8/21/2015         | Mifflintown       |  PA               | F                 | NA                | 1000000           |\n",
       "| 8/23/2016         | New Hyde Park     |  NY               | F                 | NA                | 1000000           |\n",
       "| 8/31/2021         | New Berlin        |  WI               | M                 | NA                | 3000000           |\n",
       "| 8/4/2015          | Glen Burnie       |  MD               | M                 | NA                | 1000000           |\n",
       "| 8/4/2017          | Muskegon          |  MI               | M                 | NA                | 1000000           |\n",
       "| 8/5/2016          | Bronx             |  NY               | M                 | NA                | 1000000           |\n",
       "| 8/7/2015          | Champion          |  MI               | F                 | NA                | 1000000           |\n",
       "| 8/8/2014          | New Bedford       |  MA               | F                 | NA                | 1000000           |\n",
       "| 9/1/2020          | Brooklyn          |  NY               | M                 | NA                | 1000000           |\n",
       "| 9/18/2015         | Baltimore County  |  MD               | M                 | NA                | 1000000           |\n",
       "| 9/2/2014          | Brooklyn          |  NY               | M                 | NA                | 1000000           |\n",
       "| 9/23/2014         | Abingdon          |  VA               | F                 | NA                | 1000000           |\n",
       "| 9/26/2017         | Henrico           |  VA               | M                 | NA                | 1000000           |\n",
       "| 9/5/2014          | Birmingham        |  AL               | F                 | NA                | 1000000           |\n",
       "| 9/9/2014          | Capitol Heights   |  MD               | F                 | NA                | 1000000           |\n",
       "| 9/9/2016          | Manhattan         |  NY               | M                 | NA                | 1000000           |\n",
       "\n"
      ],
      "text/plain": [
       "    Date       Location            State   Gender Jackpot  Prize  \n",
       "1   1/1/2008   Fort Worth, Texas   TX      M      3.30e+07      NA\n",
       "2   1/1/2019   Bayside              NY     M            NA 1000000\n",
       "3   1/13/2009  Merrick, N.Y.       NY      F      2.20e+07      NA\n",
       "4   1/16/2015  Naperville, Il      IL      M      2.65e+08      NA\n",
       "5   1/18/2005  Washington, Ga.     GA      F      1.31e+08      NA\n",
       "6   1/2/2009   San Diego, Calif.   CA      M      4.70e+07      NA\n",
       "7   1/24/2012  Atlanta, Ga         GA      F      7.20e+07      NA\n",
       "8   1/25/2013  Orange, N.J         NJ      M      8.90e+07      NA\n",
       "9   1/27/2017  Nipton, Ca          CA      M      1.91e+08      NA\n",
       "10  1/29/2010  Katy, Texas.        TX      M      1.44e+08      NA\n",
       "11  1/4/2011   Ephrata, Wash.      WA      F      1.90e+08      NA\n",
       "12  1/5/2018   Broken Arrow         OK     M            NA 1000000\n",
       "13  1/5/2018   Dale City            VA     M            NA 1000000\n",
       "14  1/5/2018   Duncan               OK     F            NA 3000000\n",
       "15  1/5/2018   Red Boiling Springs  TN     M            NA 1000000\n",
       "16  1/6/2006   Ohio                OH      M      1.50e+07      NA\n",
       "17  1/8/2016   Staten Island, N.Y. NY      F      1.69e+08      NA\n",
       "18  10/11/2016 Alexandria           VA     F            NA 1000000\n",
       "19  10/13/2017 Providence, R.I.    RI      M      2.10e+07      NA\n",
       "20  10/16/2009 Shenandoah, Va.     VA      M      2.00e+08      NA\n",
       "21  10/16/2012 Fresno, Ca          CA      M      3.05e+07      NA\n",
       "22  10/16/2012 Hyannis, Ma         MA      M      3.05e+07      NA\n",
       "23  10/16/2012 Hyannis              MA     M            NA 3005000\n",
       "24  10/17/2006 North Bend, Wash.   WA      M      5.50e+07      NA\n",
       "25  10/21/2008 Rockmart, Ga.       GA      M      4.20e+07      NA\n",
       "26  10/23/2018 Aylett               VA     F            NA 1000000\n",
       "27  10/23/2018 Dartmouth            MA     F            NA 1000000\n",
       "28  10/23/2018 Milan                IL     M            NA 1000000\n",
       "29  10/29/2010 Gladstone, Mich.    MI      M      1.41e+08      NA\n",
       "30  10/5/2007  Essex, Md.          MD      F      8.15e+07      NA\n",
       "... ...        ...                 ...     ...    ...      ...    \n",
       "288 6/8/2021   Urbana               IA     F      NA       1000000\n",
       "289 7/10/2015  Woolwich             ME     M      NA       3000000\n",
       "290 7/18/2017  Ontario              Canada F      NA       1000000\n",
       "291 7/26/2016  Montgomery County    OH     M      NA       3000000\n",
       "292 7/30/2019  Jacksonville         OR     M      NA       3000000\n",
       "293 7/5/2016   Coral Gables         FL     F      NA       1000000\n",
       "294 7/7/2015   Beebe                AR     F      NA       3000000\n",
       "295 8/1/2017   Harrisonburg         VA     M      NA       1000000\n",
       "296 8/1/2017   Levittown            NY     F      NA       1000000\n",
       "297 8/15/2014  Sycamore             IL     M      NA       1000000\n",
       "298 8/16/2016  Barre                VT     M      NA       5000000\n",
       "299 8/18/2015  Haverhill            MA     M      NA       1000000\n",
       "300 8/18/2017  Albuquerque          NM     M      NA       1000000\n",
       "301 8/20/2021  Newport News         VA     F      NA       1000000\n",
       "302 8/21/2015  Mifflintown          PA     F      NA       1000000\n",
       "303 8/23/2016  New Hyde Park        NY     F      NA       1000000\n",
       "304 8/31/2021  New Berlin           WI     M      NA       3000000\n",
       "305 8/4/2015   Glen Burnie          MD     M      NA       1000000\n",
       "306 8/4/2017   Muskegon             MI     M      NA       1000000\n",
       "307 8/5/2016   Bronx                NY     M      NA       1000000\n",
       "308 8/7/2015   Champion             MI     F      NA       1000000\n",
       "309 8/8/2014   New Bedford          MA     F      NA       1000000\n",
       "310 9/1/2020   Brooklyn             NY     M      NA       1000000\n",
       "311 9/18/2015  Baltimore County     MD     M      NA       1000000\n",
       "312 9/2/2014   Brooklyn             NY     M      NA       1000000\n",
       "313 9/23/2014  Abingdon             VA     F      NA       1000000\n",
       "314 9/26/2017  Henrico              VA     M      NA       1000000\n",
       "315 9/5/2014   Birmingham           AL     F      NA       1000000\n",
       "316 9/9/2014   Capitol Heights      MD     F      NA       1000000\n",
       "317 9/9/2016   Manhattan            NY     M      NA       1000000"
      ]
     },
     "metadata": {},
     "output_type": "display_data"
    }
   ],
   "source": [
    "SingleSex = data.frame(Wins2 %>% filter(Gender %in% c (\"M\", \"F\")))\n",
    "SingleSex"
   ]
  },
  {
   "cell_type": "code",
   "execution_count": 94,
   "id": "7918ad60",
   "metadata": {},
   "outputs": [
    {
     "data": {
      "text/html": [
       "&lt;NA&gt;"
      ],
      "text/latex": [
       "<NA>"
      ],
      "text/markdown": [
       "&lt;NA&gt;"
      ],
      "text/plain": [
       "[1] NA"
      ]
     },
     "metadata": {},
     "output_type": "display_data"
    }
   ],
   "source": [
    "SWins<-SingleSex$Jackpot\n",
    "mean(SWins)\n"
   ]
  },
  {
   "cell_type": "code",
   "execution_count": null,
   "id": "cc7d527a",
   "metadata": {},
   "outputs": [],
   "source": [
    "SWinsSmall<-SingleSex$Prize\n",
    "mean(SWinsSmall)"
   ]
  },
  {
   "cell_type": "markdown",
   "id": "4a28d140",
   "metadata": {},
   "source": [
    "t-test to see if  Women's Jackpots were significantly different than Men's."
   ]
  },
  {
   "cell_type": "code",
   "execution_count": 44,
   "id": "ff7fb705",
   "metadata": {},
   "outputs": [
    {
     "data": {
      "text/plain": [
       "\n",
       "\tWelch Two Sample t-test\n",
       "\n",
       "data:  FWins and MWins\n",
       "t = -0.56984, df = 44.679, p-value = 0.5716\n",
       "alternative hypothesis: true difference in means is not equal to 0\n",
       "95 percent confidence interval:\n",
       " -61520629  34390276\n",
       "sample estimates:\n",
       "mean of x mean of y \n",
       " 93696552 107261728 \n"
      ]
     },
     "metadata": {},
     "output_type": "display_data"
    }
   ],
   "source": [
    "t_dep <- t.test(FWins, MWins, paired =FALSE)\n",
    "t_dep"
   ]
  },
  {
   "cell_type": "markdown",
   "id": "e618b7c4",
   "metadata": {},
   "source": [
    "t-test to see if Jackpots for Individual Winners and Single Sex Groups were significantly different than Jackpots for Mixed Groups and Winners where the Sex/Gender was unknown."
   ]
  },
  {
   "cell_type": "code",
   "execution_count": 45,
   "id": "2e10b6a6",
   "metadata": {},
   "outputs": [
    {
     "data": {
      "text/plain": [
       "\n",
       "\tWelch Two Sample t-test\n",
       "\n",
       "data:  SWins and UWins\n",
       "t = -1.1803, df = 113.19, p-value = 0.2404\n",
       "alternative hypothesis: true difference in means is not equal to 0\n",
       "95 percent confidence interval:\n",
       " -429853670  108891836\n",
       "sample estimates:\n",
       "mean of x mean of y \n",
       "103685455 264166372 \n"
      ]
     },
     "metadata": {},
     "output_type": "display_data"
    }
   ],
   "source": [
    "t2 <- t.test(SWins, UWins, paired =FALSE)\n",
    "t2"
   ]
  },
  {
   "cell_type": "markdown",
   "id": "1be80157",
   "metadata": {},
   "source": [
    "t-test to see if Jackpots for Individual Winners and Single Sex Groups were significantly different than Jackpots for Mixed Groups \n",
    "\n"
   ]
  },
  {
   "cell_type": "code",
   "execution_count": 46,
   "id": "6743bf4b",
   "metadata": {},
   "outputs": [
    {
     "data": {
      "text/plain": [
       "\n",
       "\tWelch Two Sample t-test\n",
       "\n",
       "data:  SWins and GWins\n",
       "t = -0.099208, df = 137.98, p-value = 0.9211\n",
       "alternative hypothesis: true difference in means is not equal to 0\n",
       "95 percent confidence interval:\n",
       " -33606563  30395383\n",
       "sample estimates:\n",
       "mean of x mean of y \n",
       "103685455 105291045 \n"
      ]
     },
     "metadata": {},
     "output_type": "display_data"
    }
   ],
   "source": [
    "t3 <- t.test(SWins, GWins, paired =FALSE)\n",
    "t3"
   ]
  },
  {
   "cell_type": "markdown",
   "id": "e4cdc39e",
   "metadata": {},
   "source": [
    "Which state has won the most \n"
   ]
  },
  {
   "cell_type": "code",
   "execution_count": 47,
   "id": "f7142cb4",
   "metadata": {},
   "outputs": [
    {
     "data": {
      "text/html": [
       "<table>\n",
       "<thead><tr><th scope=col>state</th><th scope=col>Jackpot</th></tr></thead>\n",
       "<tbody>\n",
       "\t<tr><td>          </td><td>3.9200e+08</td></tr>\n",
       "\t<tr><td>AK        </td><td>1.7700e+08</td></tr>\n",
       "\t<tr><td>AL        </td><td>2.3300e+07</td></tr>\n",
       "\t<tr><td>AZ        </td><td>5.2200e+08</td></tr>\n",
       "\t<tr><td>CA        </td><td>3.8861e+09</td></tr>\n",
       "\t<tr><td>FL        </td><td>6.5800e+08</td></tr>\n",
       "\t<tr><td>GA        </td><td>1.5807e+09</td></tr>\n",
       "\t<tr><td>ID        </td><td>1.9000e+08</td></tr>\n",
       "\t<tr><td>IL        </td><td>1.6255e+09</td></tr>\n",
       "\t<tr><td>IN        </td><td>5.8250e+08</td></tr>\n",
       "\t<tr><td>KS        </td><td>2.1860e+08</td></tr>\n",
       "\t<tr><td>MA        </td><td>3.5650e+08</td></tr>\n",
       "\t<tr><td>MD        </td><td>1.0332e+09</td></tr>\n",
       "\t<tr><td>MI        </td><td>2.1156e+09</td></tr>\n",
       "\t<tr><td>MJ        </td><td>2.3300e+07</td></tr>\n",
       "\t<tr><td>MO        </td><td>7.5000e+07</td></tr>\n",
       "\t<tr><td>NC        </td><td>6.8500e+07</td></tr>\n",
       "\t<tr><td>NH        </td><td>1.6800e+08</td></tr>\n",
       "\t<tr><td>NJ        </td><td>2.5906e+09</td></tr>\n",
       "\t<tr><td>NY        </td><td>3.5638e+09</td></tr>\n",
       "\t<tr><td>OH        </td><td>2.5026e+09</td></tr>\n",
       "\t<tr><td>PA        </td><td>8.1800e+08</td></tr>\n",
       "\t<tr><td>RI        </td><td>2.1000e+07</td></tr>\n",
       "\t<tr><td>SC        </td><td>1.5370e+10</td></tr>\n",
       "\t<tr><td>TN        </td><td>6.1000e+07</td></tr>\n",
       "\t<tr><td>TX        </td><td>1.1895e+09</td></tr>\n",
       "\t<tr><td>VA        </td><td>8.7360e+08</td></tr>\n",
       "\t<tr><td>WA        </td><td>4.5030e+08</td></tr>\n",
       "\t<tr><td>WI        </td><td>1.2000e+08</td></tr>\n",
       "</tbody>\n",
       "</table>\n"
      ],
      "text/latex": [
       "\\begin{tabular}{r|ll}\n",
       " state & Jackpot\\\\\n",
       "\\hline\n",
       "\t            & 3.9200e+08\\\\\n",
       "\t AK         & 1.7700e+08\\\\\n",
       "\t AL         & 2.3300e+07\\\\\n",
       "\t AZ         & 5.2200e+08\\\\\n",
       "\t CA         & 3.8861e+09\\\\\n",
       "\t FL         & 6.5800e+08\\\\\n",
       "\t GA         & 1.5807e+09\\\\\n",
       "\t ID         & 1.9000e+08\\\\\n",
       "\t IL         & 1.6255e+09\\\\\n",
       "\t IN         & 5.8250e+08\\\\\n",
       "\t KS         & 2.1860e+08\\\\\n",
       "\t MA         & 3.5650e+08\\\\\n",
       "\t MD         & 1.0332e+09\\\\\n",
       "\t MI         & 2.1156e+09\\\\\n",
       "\t MJ         & 2.3300e+07\\\\\n",
       "\t MO         & 7.5000e+07\\\\\n",
       "\t NC         & 6.8500e+07\\\\\n",
       "\t NH         & 1.6800e+08\\\\\n",
       "\t NJ         & 2.5906e+09\\\\\n",
       "\t NY         & 3.5638e+09\\\\\n",
       "\t OH         & 2.5026e+09\\\\\n",
       "\t PA         & 8.1800e+08\\\\\n",
       "\t RI         & 2.1000e+07\\\\\n",
       "\t SC         & 1.5370e+10\\\\\n",
       "\t TN         & 6.1000e+07\\\\\n",
       "\t TX         & 1.1895e+09\\\\\n",
       "\t VA         & 8.7360e+08\\\\\n",
       "\t WA         & 4.5030e+08\\\\\n",
       "\t WI         & 1.2000e+08\\\\\n",
       "\\end{tabular}\n"
      ],
      "text/markdown": [
       "\n",
       "| state | Jackpot |\n",
       "|---|---|\n",
       "|            | 3.9200e+08 |\n",
       "| AK         | 1.7700e+08 |\n",
       "| AL         | 2.3300e+07 |\n",
       "| AZ         | 5.2200e+08 |\n",
       "| CA         | 3.8861e+09 |\n",
       "| FL         | 6.5800e+08 |\n",
       "| GA         | 1.5807e+09 |\n",
       "| ID         | 1.9000e+08 |\n",
       "| IL         | 1.6255e+09 |\n",
       "| IN         | 5.8250e+08 |\n",
       "| KS         | 2.1860e+08 |\n",
       "| MA         | 3.5650e+08 |\n",
       "| MD         | 1.0332e+09 |\n",
       "| MI         | 2.1156e+09 |\n",
       "| MJ         | 2.3300e+07 |\n",
       "| MO         | 7.5000e+07 |\n",
       "| NC         | 6.8500e+07 |\n",
       "| NH         | 1.6800e+08 |\n",
       "| NJ         | 2.5906e+09 |\n",
       "| NY         | 3.5638e+09 |\n",
       "| OH         | 2.5026e+09 |\n",
       "| PA         | 8.1800e+08 |\n",
       "| RI         | 2.1000e+07 |\n",
       "| SC         | 1.5370e+10 |\n",
       "| TN         | 6.1000e+07 |\n",
       "| TX         | 1.1895e+09 |\n",
       "| VA         | 8.7360e+08 |\n",
       "| WA         | 4.5030e+08 |\n",
       "| WI         | 1.2000e+08 |\n",
       "\n"
      ],
      "text/plain": [
       "   state Jackpot   \n",
       "1        3.9200e+08\n",
       "2  AK    1.7700e+08\n",
       "3  AL    2.3300e+07\n",
       "4  AZ    5.2200e+08\n",
       "5  CA    3.8861e+09\n",
       "6  FL    6.5800e+08\n",
       "7  GA    1.5807e+09\n",
       "8  ID    1.9000e+08\n",
       "9  IL    1.6255e+09\n",
       "10 IN    5.8250e+08\n",
       "11 KS    2.1860e+08\n",
       "12 MA    3.5650e+08\n",
       "13 MD    1.0332e+09\n",
       "14 MI    2.1156e+09\n",
       "15 MJ    2.3300e+07\n",
       "16 MO    7.5000e+07\n",
       "17 NC    6.8500e+07\n",
       "18 NH    1.6800e+08\n",
       "19 NJ    2.5906e+09\n",
       "20 NY    3.5638e+09\n",
       "21 OH    2.5026e+09\n",
       "22 PA    8.1800e+08\n",
       "23 RI    2.1000e+07\n",
       "24 SC    1.5370e+10\n",
       "25 TN    6.1000e+07\n",
       "26 TX    1.1895e+09\n",
       "27 VA    8.7360e+08\n",
       "28 WA    4.5030e+08\n",
       "29 WI    1.2000e+08"
      ]
     },
     "metadata": {},
     "output_type": "display_data"
    }
   ],
   "source": [
    "CashByState <- aggregate(Jackpot~state, Wins, sum)\n",
    "CashByState"
   ]
  },
  {
   "cell_type": "markdown",
   "id": "1e09bae3",
   "metadata": {},
   "source": [
    "South Carolina has won the most prize money "
   ]
  },
  {
   "cell_type": "code",
   "execution_count": 48,
   "id": "422c02e9",
   "metadata": {},
   "outputs": [
    {
     "name": "stderr",
     "output_type": "stream",
     "text": [
      "`geom_smooth()` using formula 'y ~ x'\n"
     ]
    },
    {
     "data": {
      "image/png": "[encoded data removed]",
      "text/plain": [
       "plot without title"
      ]
     },
     "metadata": {},
     "output_type": "display_data"
    }
   ],
   "source": [
    "ggplot(CashByState, aes(y = Jackpot, x = state)) + geom_point() + geom_smooth(method='lm', se = TRUE) + ggtitle(\"Total Jackpot winnings by State\")+ ylab(\"Total Jackpot Winnings\") + xlab(\"State\")"
   ]
  },
  {
   "cell_type": "markdown",
   "id": "9d83748f",
   "metadata": {},
   "source": [
    "did the jackpots change over time?\n"
   ]
  },
  {
   "cell_type": "code",
   "execution_count": 49,
   "id": "2d101009",
   "metadata": {},
   "outputs": [
    {
     "data": {
      "text/html": [
       "<table>\n",
       "<thead><tr><th scope=col>year</th><th scope=col>Jackpot</th></tr></thead>\n",
       "<tbody>\n",
       "\t<tr><td>2002      </td><td>2.0970e+08</td></tr>\n",
       "\t<tr><td>2003      </td><td>4.6490e+08</td></tr>\n",
       "\t<tr><td>2004      </td><td>1.1190e+09</td></tr>\n",
       "\t<tr><td>2005      </td><td>1.4260e+09</td></tr>\n",
       "\t<tr><td>2006      </td><td>1.1900e+09</td></tr>\n",
       "\t<tr><td>2007      </td><td>1.7240e+09</td></tr>\n",
       "\t<tr><td>2008      </td><td>1.3030e+09</td></tr>\n",
       "\t<tr><td>2009      </td><td>1.5338e+09</td></tr>\n",
       "\t<tr><td>2010      </td><td>1.1210e+09</td></tr>\n",
       "\t<tr><td>2011      </td><td>1.6140e+09</td></tr>\n",
       "\t<tr><td>2012      </td><td>1.3528e+09</td></tr>\n",
       "\t<tr><td>2013      </td><td>1.3590e+09</td></tr>\n",
       "\t<tr><td>2014      </td><td>1.2790e+09</td></tr>\n",
       "\t<tr><td>2015      </td><td>1.1970e+09</td></tr>\n",
       "\t<tr><td>2016      </td><td>1.1680e+09</td></tr>\n",
       "\t<tr><td>2017      </td><td>9.6900e+08</td></tr>\n",
       "\t<tr><td>2018      </td><td>1.7039e+10</td></tr>\n",
       "\t<tr><td>2019      </td><td>2.0500e+09</td></tr>\n",
       "\t<tr><td>2020      </td><td>8.8100e+08</td></tr>\n",
       "\t<tr><td>2021      </td><td>2.2560e+09</td></tr>\n",
       "</tbody>\n",
       "</table>\n"
      ],
      "text/latex": [
       "\\begin{tabular}{r|ll}\n",
       " year & Jackpot\\\\\n",
       "\\hline\n",
       "\t 2002       & 2.0970e+08\\\\\n",
       "\t 2003       & 4.6490e+08\\\\\n",
       "\t 2004       & 1.1190e+09\\\\\n",
       "\t 2005       & 1.4260e+09\\\\\n",
       "\t 2006       & 1.1900e+09\\\\\n",
       "\t 2007       & 1.7240e+09\\\\\n",
       "\t 2008       & 1.3030e+09\\\\\n",
       "\t 2009       & 1.5338e+09\\\\\n",
       "\t 2010       & 1.1210e+09\\\\\n",
       "\t 2011       & 1.6140e+09\\\\\n",
       "\t 2012       & 1.3528e+09\\\\\n",
       "\t 2013       & 1.3590e+09\\\\\n",
       "\t 2014       & 1.2790e+09\\\\\n",
       "\t 2015       & 1.1970e+09\\\\\n",
       "\t 2016       & 1.1680e+09\\\\\n",
       "\t 2017       & 9.6900e+08\\\\\n",
       "\t 2018       & 1.7039e+10\\\\\n",
       "\t 2019       & 2.0500e+09\\\\\n",
       "\t 2020       & 8.8100e+08\\\\\n",
       "\t 2021       & 2.2560e+09\\\\\n",
       "\\end{tabular}\n"
      ],
      "text/markdown": [
       "\n",
       "| year | Jackpot |\n",
       "|---|---|\n",
       "| 2002       | 2.0970e+08 |\n",
       "| 2003       | 4.6490e+08 |\n",
       "| 2004       | 1.1190e+09 |\n",
       "| 2005       | 1.4260e+09 |\n",
       "| 2006       | 1.1900e+09 |\n",
       "| 2007       | 1.7240e+09 |\n",
       "| 2008       | 1.3030e+09 |\n",
       "| 2009       | 1.5338e+09 |\n",
       "| 2010       | 1.1210e+09 |\n",
       "| 2011       | 1.6140e+09 |\n",
       "| 2012       | 1.3528e+09 |\n",
       "| 2013       | 1.3590e+09 |\n",
       "| 2014       | 1.2790e+09 |\n",
       "| 2015       | 1.1970e+09 |\n",
       "| 2016       | 1.1680e+09 |\n",
       "| 2017       | 9.6900e+08 |\n",
       "| 2018       | 1.7039e+10 |\n",
       "| 2019       | 2.0500e+09 |\n",
       "| 2020       | 8.8100e+08 |\n",
       "| 2021       | 2.2560e+09 |\n",
       "\n"
      ],
      "text/plain": [
       "   year Jackpot   \n",
       "1  2002 2.0970e+08\n",
       "2  2003 4.6490e+08\n",
       "3  2004 1.1190e+09\n",
       "4  2005 1.4260e+09\n",
       "5  2006 1.1900e+09\n",
       "6  2007 1.7240e+09\n",
       "7  2008 1.3030e+09\n",
       "8  2009 1.5338e+09\n",
       "9  2010 1.1210e+09\n",
       "10 2011 1.6140e+09\n",
       "11 2012 1.3528e+09\n",
       "12 2013 1.3590e+09\n",
       "13 2014 1.2790e+09\n",
       "14 2015 1.1970e+09\n",
       "15 2016 1.1680e+09\n",
       "16 2017 9.6900e+08\n",
       "17 2018 1.7039e+10\n",
       "18 2019 2.0500e+09\n",
       "19 2020 8.8100e+08\n",
       "20 2021 2.2560e+09"
      ]
     },
     "metadata": {},
     "output_type": "display_data"
    }
   ],
   "source": [
    "CashByYear <- aggregate(Jackpot~year, WinningNumbers, sum)\n",
    "CashByYear"
   ]
  },
  {
   "cell_type": "code",
   "execution_count": 50,
   "id": "8947a15f",
   "metadata": {},
   "outputs": [
    {
     "name": "stderr",
     "output_type": "stream",
     "text": [
      "`geom_smooth()` using formula 'y ~ x'\n"
     ]
    },
    {
     "data": {
      "image/png": "[encoded data removed]",
      "text/plain": [
       "plot without title"
      ]
     },
     "metadata": {},
     "output_type": "display_data"
    }
   ],
   "source": [
    "ggplot(CashByYear, aes(y = Jackpot, x = year)) + geom_point() + geom_smooth(method='lm', se = FALSE) + ggtitle(\"Total Jackpot winnings over Time\")+ ylab(\"Total Jackpot Winnings\") + xlab(\"Time\")"
   ]
  },
  {
   "cell_type": "markdown",
   "id": "c1639a07",
   "metadata": {},
   "source": [
    "## Analysis"
   ]
  },
  {
   "cell_type": "markdown",
   "id": "7e3bd158",
   "metadata": {},
   "source": [
    "## 1. In the Mega Millions, what are the optimal numbers to select in order to achieve a return on investment (ROI)?"
   ]
  },
  {
   "cell_type": "markdown",
   "id": "f93331b0",
   "metadata": {},
   "source": [
    "### Testing Assumptions\n"
   ]
  },
  {
   "cell_type": "markdown",
   "id": "b92d4f75",
   "metadata": {},
   "source": [
    "\n",
    "#### 1. Normality\n"
   ]
  },
  {
   "cell_type": "code",
   "execution_count": null,
   "id": "449a0a7a",
   "metadata": {},
   "outputs": [],
   "source": [
    "\n",
    "plotNormalHistogram(cellPhone$Night.Mins)\n",
    "#  normal   \n",
    "\n"
   ]
  },
  {
   "cell_type": "markdown",
   "id": "0c3e9f17",
   "metadata": {},
   "source": [
    "#### 2. Homogeneity of Variance\n"
   ]
  },
  {
   "cell_type": "code",
   "execution_count": null,
   "id": "bc226edd",
   "metadata": {},
   "outputs": [],
   "source": [
    "\n",
    "leveneTest(Night.Mins~International.Plan, data=cellPhone)\n"
   ]
  },
  {
   "cell_type": "code",
   "execution_count": null,
   "id": "58e5b7ba",
   "metadata": {},
   "outputs": [],
   "source": [
    "\n",
    "# Levene's Test for Homogeneity of Variance (center = median)\n",
    "#         Df F value Pr(>F)\n",
    "# group    1  0.8646 0.3525\n",
    "#       4615  \n",
    "\n",
    "# Results were not significant, so the assumption is met!\n"
   ]
  },
  {
   "cell_type": "markdown",
   "id": "5ed9f619",
   "metadata": {},
   "source": [
    "\n",
    "#### 3. Homogeneity of Regression Slopes\n"
   ]
  },
  {
   "cell_type": "code",
   "execution_count": null,
   "id": "624d9e9f",
   "metadata": {},
   "outputs": [],
   "source": [
    "\n",
    "Homogeneity_RegrSlp = lm(Night.Mins~vMail.Plan, data=cellPhone)\n",
    "anova(Homogeneity_RegrSlp)\n",
    "\n",
    "# Analysis of Variance Table\n",
    "# \n",
    "# Response: Night.Mins\n",
    "#               Df    Sum Sq Mean Sq  F value  Pr(>F)\n",
    "# vMail.Plan    1      488   487.73   0.1909   0.6622\n",
    "# Residuals    4615 11791809 2555.10  \n",
    "\n",
    "# This assumption is met. \n"
   ]
  },
  {
   "cell_type": "markdown",
   "id": "475cf2df",
   "metadata": {},
   "source": [
    "\n",
    "#### 4. Sample size\n"
   ]
  },
  {
   "cell_type": "markdown",
   "id": "8e3bd38b",
   "metadata": {},
   "source": [
    " is met - need 20 per IV or CV and I have 2, so need at least 40 and there are 4617 cases!\n"
   ]
  },
  {
   "cell_type": "markdown",
   "id": "9be1c9b0",
   "metadata": {},
   "source": [
    "\n",
    "### Running the Analysis\n"
   ]
  },
  {
   "cell_type": "code",
   "execution_count": null,
   "id": "8713e00a",
   "metadata": {},
   "outputs": [],
   "source": [
    "\n",
    "ANCOVA = lm(Night.Mins~vMail.Plan + International.Plan*vMail.Plan, data=cellPhone)\n",
    "anova(ANCOVA)\n",
    "\n",
    "# Analysis of Variance Table\n",
    "# \n",
    "# Response: Night.Mins\n",
    "# Df   Sum Sq Mean Sq F value  Pr(>F)  \n",
    "# vMail.Plan                       1      488   487.7  0.1909 0.66216  \n",
    "# International.Plan               1     7979  7978.6  3.1235 0.07724 .\n",
    "# vMail.Plan:International.Plan    1      435   435.0  0.1703 0.67989  \n",
    "# Residuals                     4613 11783396  2554.4                  \n",
    "# ---\n",
    "#   Signif. codes:  0 '***' 0.001 '**' 0.01 '*' 0.05 '.' 0.1 ' ' 1\n",
    "\n",
    " \n",
    "# the presence or absence of an international phone plan (International.Plan)\n",
    "# does not influence the use of nighttime minutes (Night.Mins), even holding\n",
    "# whether or not the client has a voicemail plan (vMail.Plan) constant."
   ]
  },
  {
   "cell_type": "markdown",
   "id": "58288e50",
   "metadata": {},
   "source": [
    "## 2. In the NYS lottery, what are the optimal locations to play?"
   ]
  },
  {
   "cell_type": "markdown",
   "id": "f93331b0",
   "metadata": {},
   "source": [
    "### Testing Assumptions\n"
   ]
  },
  {
   "cell_type": "markdown",
   "id": "180ec66e",
   "metadata": {},
   "source": [
    "\n",
    "#### 1. Normality\n",
    "\n"
   ]
  },
  {
   "cell_type": "code",
   "execution_count": null,
   "id": "1ef1ac9e",
   "metadata": {},
   "outputs": [],
   "source": [
    "\n",
    "plotNormalHistogram(cellPhone$Night.Mins)\n",
    "#  normal   \n",
    "\n"
   ]
  },
  {
   "cell_type": "markdown",
   "id": "deda49f4",
   "metadata": {},
   "source": [
    "\n",
    "#### 2. Homogeneity of Variance\n"
   ]
  },
  {
   "cell_type": "code",
   "execution_count": null,
   "id": "ea3b01e8",
   "metadata": {},
   "outputs": [],
   "source": [
    "\n",
    "bartlett.test(avgPriceSQRT ~ region, data=avocados1)\n",
    "\n",
    "# Bartlett test of homogeneity of variances\n",
    "\n",
    "# data:  avgPriceSQRT by region\n",
    "# Bartlett's K-squared = 70.75, df = 2, p-value = 4.333e-16\n",
    "\n",
    "fligner.test(avgPriceSQRT ~ region, data=avocados1)\n",
    "\n",
    "# Fligner-Killeen test of homogeneity of variances\n",
    "# \n",
    "# data:  avgPriceSQRT by region\n",
    "# Fligner-Killeen:med chi-squared = 48.139, df = 2, p-value = 3.522e-11\n",
    "\n",
    "\n",
    "# Does not meet the assumption for homogeneity of variance\n"
   ]
  },
  {
   "cell_type": "markdown",
   "id": "fe03fbbc",
   "metadata": {},
   "source": [
    "\n",
    "#### 3. Sample Size\n"
   ]
  },
  {
   "cell_type": "markdown",
   "id": "b0cff56e",
   "metadata": {},
   "source": [
    "n = 1014, minium requirement of 20 cases is met\n"
   ]
  },
  {
   "cell_type": "markdown",
   "id": "8944c26d",
   "metadata": {},
   "source": [
    "\n",
    "### Running the Analysis\n"
   ]
  },
  {
   "cell_type": "code",
   "execution_count": null,
   "id": "e8ec437c",
   "metadata": {},
   "outputs": [],
   "source": [
    "\n",
    "# Do the Test, with unequal variance\n",
    "ANOVA1 <- lm(avgPriceSQRT ~ region, data=avocados1)\n",
    "Anova(ANOVA1, Type=\"II\", white.adjust=TRUE)\n",
    "\n",
    "# Analysis of Deviance Table (Type II tests)\n",
    "# \n",
    "# Response: avgPriceSQRT\n",
    "#              Df      F      Pr(>F)    \n",
    "# region       2     258.85   < 2.2e-16 ***\n",
    "#   Residuals 1011                     \n",
    "# ---\n",
    "#   Signif. codes:  0 '***' 0.001 '**' 0.01 '*' 0.05 '.' 0.1 ' ' 1\n",
    "\n"
   ]
  },
  {
   "cell_type": "markdown",
   "id": "06c323b6",
   "metadata": {},
   "source": [
    "\n",
    "#### Post Hocs Analysis\n"
   ]
  },
  {
   "cell_type": "code",
   "execution_count": null,
   "id": "6931ace8",
   "metadata": {},
   "outputs": [],
   "source": [
    "pairwise.t.test(avocados1$avgPriceSQRT, avocados1$region, p.adjust=\"bonferroni\", pool.sd = FALSE)\n",
    "\n",
    "# Pairwise comparisons using t tests with non-pooled SD \n",
    "# \n",
    "# data:  avocados1$avgPriceSQRT and avocados1$region \n",
    "# \n",
    "#            Albany   Houston\n",
    "#   Houston  < 2e-16   -      \n",
    "#   Seattle  8.1e-06   < 2e-16\n",
    "# \n",
    "# P value adjustment method: bonferroni \n"
   ]
  },
  {
   "cell_type": "markdown",
   "id": "533f3ed5",
   "metadata": {},
   "source": [
    "\n",
    "##### Find means and draw conclusions\n"
   ]
  },
  {
   "cell_type": "code",
   "execution_count": null,
   "id": "552018ed",
   "metadata": {},
   "outputs": [],
   "source": [
    "\n",
    "avocadosMeans <- avocados1 %>% group_by(region) %>% summarize(Mean = mean(AveragePrice))\n",
    "# A tibble: 3 x 2\n",
    "#     region   Mean\n",
    "#      <chr>   <dbl>\n",
    "#   1 Albany   1.56\n",
    "#   2 Houston  1.05\n",
    "#   3 Seattle  1.44\n",
    "\n",
    "# There is no significant difference in average price between the regions.\n"
   ]
  },
  {
   "cell_type": "markdown",
   "id": "07cf3ec6",
   "metadata": {},
   "source": [
    "## 3. In NYS, how much does the lottery give back to society? Do certain counties benefit more?"
   ]
  },
  {
   "cell_type": "markdown",
   "id": "f93331b0",
   "metadata": {},
   "source": [
    "### Testing Assumptions\n"
   ]
  },
  {
   "cell_type": "markdown",
   "id": "17ab5a11",
   "metadata": {},
   "source": [
    "\n",
    "#### 1. Normality\n"
   ]
  },
  {
   "cell_type": "code",
   "execution_count": 5,
   "id": "40f74ace",
   "metadata": {},
   "outputs": [
    {
     "data": {
      "text/html": [
       "<table>\n",
       "<thead><tr><th scope=col>Beginning.Fiscal.Year</th><th scope=col>Ending.Fiscal.Year</th><th scope=col>County</th><th scope=col>School.District</th><th scope=col>Amount.of.Aid</th></tr></thead>\n",
       "<tbody>\n",
       "\t<tr><td>2002               </td><td>2003               </td><td>Albany             </td><td>Albany             </td><td>7242297.0          </td></tr>\n",
       "\t<tr><td>2002               </td><td>2003               </td><td>Albany             </td><td>Berne-Knox-Westerlo</td><td> 874046.9          </td></tr>\n",
       "\t<tr><td>2002               </td><td>2003               </td><td>Albany             </td><td>Bethlehem          </td><td>2786954.7          </td></tr>\n",
       "\t<tr><td>2002               </td><td>2003               </td><td>Albany             </td><td>Cohoes             </td><td>1820297.9          </td></tr>\n",
       "\t<tr><td>2002               </td><td>2003               </td><td>Albany             </td><td>Green Island       </td><td> 241859.9          </td></tr>\n",
       "\t<tr><td>2002               </td><td>2003               </td><td>Albany             </td><td>Guilderland        </td><td>3182536.1          </td></tr>\n",
       "</tbody>\n",
       "</table>\n"
      ],
      "text/latex": [
       "\\begin{tabular}{r|lllll}\n",
       " Beginning.Fiscal.Year & Ending.Fiscal.Year & County & School.District & Amount.of.Aid\\\\\n",
       "\\hline\n",
       "\t 2002                & 2003                & Albany              & Albany              & 7242297.0          \\\\\n",
       "\t 2002                & 2003                & Albany              & Berne-Knox-Westerlo &  874046.9          \\\\\n",
       "\t 2002                & 2003                & Albany              & Bethlehem           & 2786954.7          \\\\\n",
       "\t 2002                & 2003                & Albany              & Cohoes              & 1820297.9          \\\\\n",
       "\t 2002                & 2003                & Albany              & Green Island        &  241859.9          \\\\\n",
       "\t 2002                & 2003                & Albany              & Guilderland         & 3182536.1          \\\\\n",
       "\\end{tabular}\n"
      ],
      "text/markdown": [
       "\n",
       "| Beginning.Fiscal.Year | Ending.Fiscal.Year | County | School.District | Amount.of.Aid |\n",
       "|---|---|---|---|---|\n",
       "| 2002                | 2003                | Albany              | Albany              | 7242297.0           |\n",
       "| 2002                | 2003                | Albany              | Berne-Knox-Westerlo |  874046.9           |\n",
       "| 2002                | 2003                | Albany              | Bethlehem           | 2786954.7           |\n",
       "| 2002                | 2003                | Albany              | Cohoes              | 1820297.9           |\n",
       "| 2002                | 2003                | Albany              | Green Island        |  241859.9           |\n",
       "| 2002                | 2003                | Albany              | Guilderland         | 3182536.1           |\n",
       "\n"
      ],
      "text/plain": [
       "  Beginning.Fiscal.Year Ending.Fiscal.Year County School.District    \n",
       "1 2002                  2003               Albany Albany             \n",
       "2 2002                  2003               Albany Berne-Knox-Westerlo\n",
       "3 2002                  2003               Albany Bethlehem          \n",
       "4 2002                  2003               Albany Cohoes             \n",
       "5 2002                  2003               Albany Green Island       \n",
       "6 2002                  2003               Albany Guilderland        \n",
       "  Amount.of.Aid\n",
       "1 7242297.0    \n",
       "2  874046.9    \n",
       "3 2786954.7    \n",
       "4 1820297.9    \n",
       "5  241859.9    \n",
       "6 3182536.1    "
      ]
     },
     "metadata": {},
     "output_type": "display_data"
    }
   ],
   "source": [
    "head(EdAid)"
   ]
  },
  {
   "cell_type": "code",
   "execution_count": null,
   "id": "c7399683",
   "metadata": {},
   "outputs": [],
   "source": []
  },
  {
   "cell_type": "code",
   "execution_count": 8,
   "id": "e2881fe7",
   "metadata": {},
   "outputs": [
    {
     "ename": "ERROR",
     "evalue": "Error in plotNormalHistogram(EdAid$Amount.of.Aid): could not find function \"plotNormalHistogram\"\n",
     "output_type": "error",
     "traceback": [
      "Error in plotNormalHistogram(EdAid$Amount.of.Aid): could not find function \"plotNormalHistogram\"\nTraceback:\n"
     ]
    }
   ],
   "source": [
    "\n",
    "plotNormalHistogram(EdAid$Amount.of.Aid)"
   ]
  },
  {
   "cell_type": "markdown",
   "id": "0c3e9f17",
   "metadata": {},
   "source": [
    "#### 2. Homogeneity of Variance\n"
   ]
  },
  {
   "cell_type": "code",
   "execution_count": null,
   "id": "78c376c6",
   "metadata": {},
   "outputs": [],
   "source": [
    "Homogeneity_RegrSlp = lm(Night.Mins~vMail.Plan, data=cellPhone)\n",
    "anova(Homogeneity_RegrSlp)\n",
    "\n",
    "# Analysis of Variance Table\n",
    "# \n",
    "# Response: Night.Mins\n",
    "#               Df    Sum Sq Mean Sq  F value  Pr(>F)\n",
    "# vMail.Plan    1      488   487.73   0.1909   0.6622\n",
    "# Residuals    4615 11791809 2555.10  \n",
    "\n",
    "# This assumption is met."
   ]
  },
  {
   "cell_type": "markdown",
   "id": "5ed9f619",
   "metadata": {},
   "source": [
    "\n",
    "#### 3. Homogeneity of Regression Slopes\n"
   ]
  },
  {
   "cell_type": "code",
   "execution_count": null,
   "id": "624d9e9f",
   "metadata": {},
   "outputs": [],
   "source": [
    "\n",
    "Homogeneity_RegrSlp = lm(Night.Mins~vMail.Plan, data=cellPhone)\n",
    "anova(Homogeneity_RegrSlp)\n",
    "\n",
    "# Analysis of Variance Table\n",
    "# \n",
    "# Response: Night.Mins\n",
    "#               Df    Sum Sq Mean Sq  F value  Pr(>F)\n",
    "# vMail.Plan    1      488   487.73   0.1909   0.6622\n",
    "# Residuals    4615 11791809 2555.10  \n",
    "\n",
    "# This assumption is met. \n"
   ]
  },
  {
   "cell_type": "markdown",
   "id": "20e9b499",
   "metadata": {},
   "source": [
    "\n",
    "#### 4. Sample size\n"
   ]
  },
  {
   "cell_type": "markdown",
   "id": "e0d4c80b",
   "metadata": {},
   "source": [
    " is met - need 20 per IV or CV and I have 2, so need at least 40 and there are 4617 cases!\n"
   ]
  },
  {
   "cell_type": "markdown",
   "id": "f93331b0",
   "metadata": {},
   "source": [
    "### Running the Analysis"
   ]
  },
  {
   "cell_type": "code",
   "execution_count": null,
   "id": "0c4f8193",
   "metadata": {},
   "outputs": [],
   "source": [
    "ANCOVA = lm(Night.Mins~vMail.Plan + International.Plan*vMail.Plan, data=cellPhone)\n",
    "anova(ANCOVA)\n",
    "\n",
    "# Analysis of Variance Table\n",
    "# \n",
    "# Response: Night.Mins\n",
    "# Df   Sum Sq Mean Sq F value  Pr(>F)  \n",
    "# vMail.Plan                       1      488   487.7  0.1909 0.66216  \n",
    "# International.Plan               1     7979  7978.6  3.1235 0.07724 .\n",
    "# vMail.Plan:International.Plan    1      435   435.0  0.1703 0.67989  \n",
    "# Residuals                     4613 11783396  2554.4                  \n",
    "# ---\n",
    "#   Signif. codes:  0 '***' 0.001 '**' 0.01 '*' 0.05 '.' 0.1 ' ' 1\n",
    "\n",
    " \n",
    "# the presence or absence of an international phone plan (International.Plan)\n",
    "# does not influence the use of nighttime minutes (Night.Mins), even holding\n",
    "# whether or not the client has a voicemail plan (vMail.Plan) constant."
   ]
  }
 ],
 "metadata": {
  "kernelspec": {
   "display_name": "R",
   "language": "R",
   "name": "ir"
  },
  "language_info": {
   "codemirror_mode": "r",
   "file_extension": ".r",
   "mimetype": "text/x-r-source",
   "name": "R",
   "pygments_lexer": "r",
   "version": "3.6.1"
  }
 },
 "nbformat": 4,
 "nbformat_minor": 5
}
