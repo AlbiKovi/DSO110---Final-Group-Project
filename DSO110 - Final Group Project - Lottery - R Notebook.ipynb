{
 "cells": [
  {
   "cell_type": "markdown",
   "id": "75ed6a7e",
   "metadata": {},
   "source": [
    "## Setup"
   ]
  },
  {
   "cell_type": "markdown",
   "id": "cf0abd25",
   "metadata": {},
   "source": [
    "### import packages"
   ]
  },
  {
   "cell_type": "code",
   "execution_count": 1,
   "id": "ccd57ec8",
   "metadata": {},
   "outputs": [
    {
     "name": "stderr",
     "output_type": "stream",
     "text": [
      "Warning message:\n",
      "\"package 'tidyr' was built under R version 3.6.3\"\n",
      "Warning message:\n",
      "\"package 'gridExtra' was built under R version 3.6.3\"\n",
      "Warning message:\n",
      "\"package 'dplyr' was built under R version 3.6.3\"\n",
      "\n",
      "Attaching package: 'dplyr'\n",
      "\n",
      "\n",
      "The following object is masked from 'package:gridExtra':\n",
      "\n",
      "    combine\n",
      "\n",
      "\n",
      "The following objects are masked from 'package:stats':\n",
      "\n",
      "    filter, lag\n",
      "\n",
      "\n",
      "The following objects are masked from 'package:base':\n",
      "\n",
      "    intersect, setdiff, setequal, union\n",
      "\n",
      "\n",
      "Warning message:\n",
      "\"package 'Ecdat' was built under R version 3.6.3\"\n",
      "Loading required package: Ecfun\n",
      "\n",
      "\n",
      "Attaching package: 'Ecfun'\n",
      "\n",
      "\n",
      "The following object is masked from 'package:base':\n",
      "\n",
      "    sign\n",
      "\n",
      "\n",
      "\n",
      "Attaching package: 'Ecdat'\n",
      "\n",
      "\n",
      "The following object is masked from 'package:datasets':\n",
      "\n",
      "    Orange\n",
      "\n",
      "\n",
      "Loading required package: carData\n",
      "\n",
      "\n",
      "Attaching package: 'carData'\n",
      "\n",
      "\n",
      "The following object is masked from 'package:Ecdat':\n",
      "\n",
      "    Mroz\n",
      "\n",
      "\n",
      "\n",
      "Attaching package: 'car'\n",
      "\n",
      "\n",
      "The following object is masked from 'package:dplyr':\n",
      "\n",
      "    recode\n",
      "\n",
      "\n",
      "Loading required package: mvtnorm\n",
      "\n",
      "Warning message:\n",
      "\"package 'mvtnorm' was built under R version 3.6.3\"\n",
      "Loading required package: survival\n",
      "\n",
      "Warning message:\n",
      "\"package 'survival' was built under R version 3.6.3\"\n",
      "Loading required package: TH.data\n",
      "\n",
      "Loading required package: MASS\n",
      "\n",
      "Warning message:\n",
      "\"package 'MASS' was built under R version 3.6.3\"\n",
      "\n",
      "Attaching package: 'MASS'\n",
      "\n",
      "\n",
      "The following object is masked from 'package:Ecdat':\n",
      "\n",
      "    SP500\n",
      "\n",
      "\n",
      "The following object is masked from 'package:dplyr':\n",
      "\n",
      "    select\n",
      "\n",
      "\n",
      "\n",
      "Attaching package: 'TH.data'\n",
      "\n",
      "\n",
      "The following object is masked from 'package:MASS':\n",
      "\n",
      "    geyser\n",
      "\n",
      "\n",
      "Warning message:\n",
      "\"package 'gmodels' was built under R version 3.6.3\"\n"
     ]
    }
   ],
   "source": [
    "library(tidyr)\n",
    "library(gridExtra)\n",
    "library(dplyr)\n",
    "library(datasets)\n",
    "library(ggplot2)\n",
    "library(Ecdat)\n",
    "library(car)\n",
    "library(multcomp)\n",
    "library(gmodels)\n",
    "\n"
   ]
  },
  {
   "cell_type": "markdown",
   "id": "5d445e23",
   "metadata": {},
   "source": [
    "### import datasets"
   ]
  },
  {
   "cell_type": "code",
   "execution_count": 2,
   "id": "9db4b342",
   "metadata": {},
   "outputs": [
    {
     "data": {
      "text/html": [
       "<table>\n",
       "<thead><tr><th scope=col>X</th><th scope=col>Draw.Date</th><th scope=col>Amount</th><th scope=col>cash.prize</th><th scope=col>Location</th><th scope=col>State</th><th scope=col>Gender</th><th scope=col>Win</th><th scope=col>Jackpot</th></tr></thead>\n",
       "<tbody>\n",
       "\t<tr><td> 0                   </td><td>2002-05-17           </td><td>2.33e+07             </td><td>NA                   </td><td>Chatham, Ill.        </td><td>IL                   </td><td>Mixed                </td><td>Y                    </td><td>Y                    </td></tr>\n",
       "\t<tr><td> 1                   </td><td>2002-05-24           </td><td>2.33e+07             </td><td>NA                   </td><td>Chicago, Ill.        </td><td>IL                   </td><td>F                    </td><td>Y                    </td><td>Y                    </td></tr>\n",
       "\t<tr><td> 2                   </td><td>2002-07-16           </td><td>2.33e+07             </td><td>NA                   </td><td>Cliffside Park, N.J. </td><td>NJ                   </td><td>M                    </td><td>Y                    </td><td>Y                    </td></tr>\n",
       "\t<tr><td> 3                   </td><td>2002-08-27           </td><td>2.33e+07             </td><td>NA                   </td><td>New York City, N.Y.  </td><td>NY                   </td><td>Mixed                </td><td>Y                    </td><td>Y                    </td></tr>\n",
       "\t<tr><td> 4                   </td><td>2002-09-06           </td><td>2.33e+07             </td><td>NA                   </td><td>Kentwood, Mich.      </td><td>MI                   </td><td>M                    </td><td>Y                    </td><td>Y                    </td></tr>\n",
       "\t<tr><td> 5                   </td><td>2002-09-27           </td><td>2.33e+07             </td><td>NA                   </td><td>Mount Prospect, Ill. </td><td>IL                   </td><td>Mixed                </td><td>Y                    </td><td>Y                    </td></tr>\n",
       "\t<tr><td> 6                   </td><td>2002-11-08           </td><td>2.33e+07             </td><td>NA                   </td><td>Hoquiam, Wash.       </td><td>WA                   </td><td>Mixed                </td><td>Y                    </td><td>Y                    </td></tr>\n",
       "\t<tr><td> 7                   </td><td>2002-11-19           </td><td>2.33e+07             </td><td>NA                   </td><td>New York City, N.Y.  </td><td>NY                   </td><td>Mixed                </td><td>Y                    </td><td>Y                    </td></tr>\n",
       "\t<tr><td> 8                   </td><td>2002-12-24           </td><td>2.33e+07             </td><td>NA                   </td><td>Unclaimed in N.Y.    </td><td>NY                   </td><td>Unk                  </td><td>Y                    </td><td>Y                    </td></tr>\n",
       "\t<tr><td> 9                   </td><td>2003-02-11           </td><td>2.33e+07             </td><td>NA                   </td><td>Brooklyn, N.Y.       </td><td>NY                   </td><td>M                    </td><td>Y                    </td><td>Y                    </td></tr>\n",
       "\t<tr><td>10                   </td><td>2003-02-18           </td><td>2.33e+07             </td><td>NA                   </td><td>Geraldine, Ala.      </td><td>AL                   </td><td>Unk                  </td><td>Y                    </td><td>Y                    </td></tr>\n",
       "\t<tr><td>11                   </td><td>2003-03-14           </td><td>2.33e+07             </td><td>NA                   </td><td>Englewood, N.J.      </td><td>NJ                   </td><td>Mixed                </td><td>Y                    </td><td>Y                    </td></tr>\n",
       "\t<tr><td>12                   </td><td>2003-03-28           </td><td>2.33e+07             </td><td>NA                   </td><td>Randallstown, Md.    </td><td>MD                   </td><td>Unk                  </td><td>Y                    </td><td>Y                    </td></tr>\n",
       "\t<tr><td>13                   </td><td>2003-04-25           </td><td>2.33e+07             </td><td>NA                   </td><td>Brooklyn, N.Y.       </td><td>NY                   </td><td>Unk                  </td><td>Y                    </td><td>Y                    </td></tr>\n",
       "\t<tr><td>14                   </td><td>2003-06-20           </td><td>2.33e+07             </td><td>NA                   </td><td>Baldwin, Md.         </td><td>MD                   </td><td>F                    </td><td>Y                    </td><td>Y                    </td></tr>\n",
       "\t<tr><td>15                   </td><td>2003-07-11           </td><td>2.33e+07             </td><td>NA                   </td><td>Uniondale, N.Y.      </td><td>NY                   </td><td>F                    </td><td>Y                    </td><td>Y                    </td></tr>\n",
       "\t<tr><td>16                   </td><td>2003-08-08           </td><td>2.33e+07             </td><td>NA                   </td><td>Savannah, Ga.        </td><td>GA                   </td><td>M                    </td><td>Y                    </td><td>Y                    </td></tr>\n",
       "\t<tr><td>17                   </td><td>2003-09-30           </td><td>2.33e+07             </td><td>NA                   </td><td>Fitzgerald, Ga.      </td><td>GA                   </td><td>M                    </td><td>Y                    </td><td>Y                    </td></tr>\n",
       "\t<tr><td>18                   </td><td>2003-10-07           </td><td>2.33e+07             </td><td>NA                   </td><td>Neptune Township N.J.</td><td>MJ                   </td><td>F                    </td><td>Y                    </td><td>Y                    </td></tr>\n",
       "\t<tr><td>19                   </td><td>2003-11-11           </td><td>2.33e+07             </td><td>NA                   </td><td>Roswell, Ga.         </td><td>GA                   </td><td>M                    </td><td>Y                    </td><td>Y                    </td></tr>\n",
       "\t<tr><td>20                   </td><td>2003-11-11           </td><td>2.33e+07             </td><td>NA                   </td><td>Roswell, Ga.         </td><td>GA                   </td><td>M                    </td><td>Y                    </td><td>Y                    </td></tr>\n",
       "\t<tr><td>21                   </td><td>2003-11-11           </td><td>2.33e+07             </td><td>NA                   </td><td>Battle Creek, Mich.  </td><td>MI                   </td><td>Mixed                </td><td>Y                    </td><td>Y                    </td></tr>\n",
       "\t<tr><td>22                   </td><td>2003-12-30           </td><td>1.62e+08             </td><td>NA                   </td><td>South Euclid, Ohio   </td><td>OH                   </td><td>F                    </td><td>Y                    </td><td>Y                    </td></tr>\n",
       "\t<tr><td>23                   </td><td>2004-02-20           </td><td>2.39e+08             </td><td>NA                   </td><td>Winchester, Va.      </td><td>VA                   </td><td>Mixed                </td><td>Y                    </td><td>Y                    </td></tr>\n",
       "\t<tr><td>24                   </td><td>2004-03-02           </td><td>2.10e+07             </td><td>NA                   </td><td>Dayton, Ohio         </td><td>OH                   </td><td>M                    </td><td>Y                    </td><td>Y                    </td></tr>\n",
       "\t<tr><td>25                   </td><td>2004-04-09           </td><td>1.09e+08             </td><td>NA                   </td><td>Wheaton, Md.         </td><td>MD                   </td><td>Unk                  </td><td>Y                    </td><td>Y                    </td></tr>\n",
       "\t<tr><td>26                   </td><td>2004-05-07           </td><td>6.70e+07             </td><td>NA                   </td><td>Rockaway Beach, N.Y. </td><td>NY                   </td><td>Mixed                </td><td>Y                    </td><td>Y                    </td></tr>\n",
       "\t<tr><td>27                   </td><td>2004-07-02           </td><td>2.94e+08             </td><td>NA                   </td><td>Boston, Mass.        </td><td>MA                   </td><td>Unk                  </td><td>Y                    </td><td>Y                    </td></tr>\n",
       "\t<tr><td>28                   </td><td>2004-07-23           </td><td>4.70e+07             </td><td>NA                   </td><td>Pullman, Mich.       </td><td>MI                   </td><td>M                    </td><td>Y                    </td><td>Y                    </td></tr>\n",
       "\t<tr><td>29                   </td><td>2004-07-27           </td><td>1.00e+07             </td><td>NA                   </td><td>Cherry Hill, N.J.    </td><td>NJ                   </td><td>M                    </td><td>Y                    </td><td>Y                    </td></tr>\n",
       "\t<tr><td>...</td><td>...</td><td>...</td><td>...</td><td>...</td><td>...</td><td>...</td><td>...</td><td>...</td></tr>\n",
       "\t<tr><td>467                </td><td>2014-01-14         </td><td>  1000000          </td><td>NA                 </td><td>Andover            </td><td> MA                </td><td>Mixed              </td><td>Y                  </td><td>N                  </td></tr>\n",
       "\t<tr><td>468                </td><td>2014-01-14         </td><td>  1000000          </td><td>NA                 </td><td>Greensboro         </td><td> NC                </td><td>F                  </td><td>Y                  </td><td>N                  </td></tr>\n",
       "\t<tr><td>469                </td><td>2013-12-24         </td><td>  1000000          </td><td>NA                 </td><td>Lombard            </td><td> IL                </td><td>F                  </td><td>Y                  </td><td>N                  </td></tr>\n",
       "\t<tr><td>470                </td><td>2013-12-24         </td><td>  1000000          </td><td>NA                 </td><td>Mesa               </td><td> AZ                </td><td>M                  </td><td>Y                  </td><td>N                  </td></tr>\n",
       "\t<tr><td>471                </td><td>2013-12-20         </td><td>  1000000          </td><td>NA                 </td><td>Payson             </td><td> AZ                </td><td>M                  </td><td>Y                  </td><td>N                  </td></tr>\n",
       "\t<tr><td>472                </td><td>2013-12-17         </td><td>324000000          </td><td>NA                 </td><td>San Jose           </td><td> CA                </td><td>M                  </td><td>Y                  </td><td>N                  </td></tr>\n",
       "\t<tr><td>473                </td><td>2013-12-17         </td><td>324000000          </td><td>NA                 </td><td>Stone Mountain     </td><td> GA                </td><td>M                  </td><td>Y                  </td><td>N                  </td></tr>\n",
       "\t<tr><td>474                </td><td>2013-12-17         </td><td>  1000000          </td><td>NA                 </td><td>Brownsville        </td><td> TX                </td><td>F                  </td><td>Y                  </td><td>N                  </td></tr>\n",
       "\t<tr><td>475                </td><td>2013-12-17         </td><td>  1000000          </td><td>NA                 </td><td>Niles              </td><td> MI                </td><td>F                  </td><td>Y                  </td><td>N                  </td></tr>\n",
       "\t<tr><td>476                </td><td>2013-12-17         </td><td>  1000000          </td><td>NA                 </td><td>Bethlehem          </td><td> GA                </td><td>M                  </td><td>Y                  </td><td>N                  </td></tr>\n",
       "\t<tr><td>477                </td><td>2013-12-17         </td><td>  1000000          </td><td>NA                 </td><td>Columbus           </td><td> NE                </td><td>Mixed              </td><td>Y                  </td><td>N                  </td></tr>\n",
       "\t<tr><td>478                </td><td>2013-12-17         </td><td>  1000000          </td><td>NA                 </td><td>Chicago            </td><td> IL                </td><td>F                  </td><td>Y                  </td><td>N                  </td></tr>\n",
       "\t<tr><td>479                </td><td>2013-12-13         </td><td>  1000000          </td><td>NA                 </td><td>Syracuse           </td><td> NY                </td><td>Mixed              </td><td>Y                  </td><td>N                  </td></tr>\n",
       "\t<tr><td>480                </td><td>2013-12-13         </td><td>  1000000          </td><td>NA                 </td><td>Waterford          </td><td> MI                </td><td>M                  </td><td>Y                  </td><td>N                  </td></tr>\n",
       "\t<tr><td>481                </td><td>2013-12-13         </td><td>  1000000          </td><td>NA                 </td><td>Manhattan          </td><td> NY                </td><td>M                  </td><td>Y                  </td><td>N                  </td></tr>\n",
       "\t<tr><td>482                </td><td>2013-12-13         </td><td>  1000000          </td><td>NA                 </td><td>Eastpointe         </td><td> MI                </td><td>F                  </td><td>Y                  </td><td>N                  </td></tr>\n",
       "\t<tr><td>483                </td><td>2013-12-10         </td><td>  1000000          </td><td>NA                 </td><td>Shelton            </td><td> CT                </td><td>M                  </td><td>Y                  </td><td>N                  </td></tr>\n",
       "\t<tr><td>484                </td><td>2013-12-10         </td><td>  1000000          </td><td>NA                 </td><td>West Yarmouth      </td><td> MA                </td><td>M                  </td><td>Y                  </td><td>N                  </td></tr>\n",
       "\t<tr><td>485                </td><td>2013-11-26         </td><td>  1000000          </td><td>NA                 </td><td>Glendale Heights   </td><td> IL                </td><td>M                  </td><td>Y                  </td><td>N                  </td></tr>\n",
       "\t<tr><td>486                </td><td>2013-11-26         </td><td>  1000000          </td><td>NA                 </td><td>Coram              </td><td> NY                </td><td>M                  </td><td>Y                  </td><td>N                  </td></tr>\n",
       "\t<tr><td>487                </td><td>2013-11-26         </td><td>  1000000          </td><td>NA                 </td><td>Stony Point        </td><td> NY                </td><td>F                  </td><td>Y                  </td><td>N                  </td></tr>\n",
       "\t<tr><td>488                </td><td>2013-11-22         </td><td>  3000000          </td><td>NA                 </td><td>Rockwell           </td><td> NC                </td><td>M                  </td><td>Y                  </td><td>N                  </td></tr>\n",
       "\t<tr><td>489                </td><td>2013-11-19         </td><td>  1000000          </td><td>NA                 </td><td>Holbrook           </td><td> MA                </td><td>Mixed              </td><td>Y                  </td><td>N                  </td></tr>\n",
       "\t<tr><td>490                </td><td>2013-11-15         </td><td>  1000000          </td><td>NA                 </td><td>Irondequoit        </td><td> NY                </td><td>F                  </td><td>Y                  </td><td>N                  </td></tr>\n",
       "\t<tr><td>491                </td><td>2013-11-12         </td><td>  1000000          </td><td>NA                 </td><td>Floral Park Village</td><td> NY                </td><td>Mixed              </td><td>Y                  </td><td>N                  </td></tr>\n",
       "\t<tr><td>492                </td><td>2013-11-05         </td><td>   410115          </td><td>NA                 </td><td>Oceanside          </td><td> CA                </td><td>M                  </td><td>Y                  </td><td>N                  </td></tr>\n",
       "\t<tr><td>493                </td><td>2013-11-01         </td><td>  1000000          </td><td>NA                 </td><td>Fort Stockton      </td><td> TX                </td><td>F                  </td><td>Y                  </td><td>N                  </td></tr>\n",
       "\t<tr><td>494                </td><td>2013-10-25         </td><td>   479070          </td><td>NA                 </td><td>Palmdale           </td><td> CA                </td><td>M                  </td><td>Y                  </td><td>N                  </td></tr>\n",
       "\t<tr><td>495                </td><td>2012-11-27         </td><td> 50000000          </td><td>NA                 </td><td>Thomasville        </td><td> GA                </td><td>M                  </td><td>Y                  </td><td>N                  </td></tr>\n",
       "\t<tr><td>496                </td><td>2012-10-16         </td><td>  3005000          </td><td>NA                 </td><td>Hyannis            </td><td> MA                </td><td>M                  </td><td>Y                  </td><td>N                  </td></tr>\n",
       "</tbody>\n",
       "</table>\n"
      ],
      "text/latex": [
       "\\begin{tabular}{r|lllllllll}\n",
       " X & Draw.Date & Amount & cash.prize & Location & State & Gender & Win & Jackpot\\\\\n",
       "\\hline\n",
       "\t  0                    & 2002-05-17            & 2.33e+07              & NA                    & Chatham, Ill.         & IL                    & Mixed                 & Y                     & Y                    \\\\\n",
       "\t  1                    & 2002-05-24            & 2.33e+07              & NA                    & Chicago, Ill.         & IL                    & F                     & Y                     & Y                    \\\\\n",
       "\t  2                    & 2002-07-16            & 2.33e+07              & NA                    & Cliffside Park, N.J.  & NJ                    & M                     & Y                     & Y                    \\\\\n",
       "\t  3                    & 2002-08-27            & 2.33e+07              & NA                    & New York City, N.Y.   & NY                    & Mixed                 & Y                     & Y                    \\\\\n",
       "\t  4                    & 2002-09-06            & 2.33e+07              & NA                    & Kentwood, Mich.       & MI                    & M                     & Y                     & Y                    \\\\\n",
       "\t  5                    & 2002-09-27            & 2.33e+07              & NA                    & Mount Prospect, Ill.  & IL                    & Mixed                 & Y                     & Y                    \\\\\n",
       "\t  6                    & 2002-11-08            & 2.33e+07              & NA                    & Hoquiam, Wash.        & WA                    & Mixed                 & Y                     & Y                    \\\\\n",
       "\t  7                    & 2002-11-19            & 2.33e+07              & NA                    & New York City, N.Y.   & NY                    & Mixed                 & Y                     & Y                    \\\\\n",
       "\t  8                    & 2002-12-24            & 2.33e+07              & NA                    & Unclaimed in N.Y.     & NY                    & Unk                   & Y                     & Y                    \\\\\n",
       "\t  9                    & 2003-02-11            & 2.33e+07              & NA                    & Brooklyn, N.Y.        & NY                    & M                     & Y                     & Y                    \\\\\n",
       "\t 10                    & 2003-02-18            & 2.33e+07              & NA                    & Geraldine, Ala.       & AL                    & Unk                   & Y                     & Y                    \\\\\n",
       "\t 11                    & 2003-03-14            & 2.33e+07              & NA                    & Englewood, N.J.       & NJ                    & Mixed                 & Y                     & Y                    \\\\\n",
       "\t 12                    & 2003-03-28            & 2.33e+07              & NA                    & Randallstown, Md.     & MD                    & Unk                   & Y                     & Y                    \\\\\n",
       "\t 13                    & 2003-04-25            & 2.33e+07              & NA                    & Brooklyn, N.Y.        & NY                    & Unk                   & Y                     & Y                    \\\\\n",
       "\t 14                    & 2003-06-20            & 2.33e+07              & NA                    & Baldwin, Md.          & MD                    & F                     & Y                     & Y                    \\\\\n",
       "\t 15                    & 2003-07-11            & 2.33e+07              & NA                    & Uniondale, N.Y.       & NY                    & F                     & Y                     & Y                    \\\\\n",
       "\t 16                    & 2003-08-08            & 2.33e+07              & NA                    & Savannah, Ga.         & GA                    & M                     & Y                     & Y                    \\\\\n",
       "\t 17                    & 2003-09-30            & 2.33e+07              & NA                    & Fitzgerald, Ga.       & GA                    & M                     & Y                     & Y                    \\\\\n",
       "\t 18                    & 2003-10-07            & 2.33e+07              & NA                    & Neptune Township N.J. & MJ                    & F                     & Y                     & Y                    \\\\\n",
       "\t 19                    & 2003-11-11            & 2.33e+07              & NA                    & Roswell, Ga.          & GA                    & M                     & Y                     & Y                    \\\\\n",
       "\t 20                    & 2003-11-11            & 2.33e+07              & NA                    & Roswell, Ga.          & GA                    & M                     & Y                     & Y                    \\\\\n",
       "\t 21                    & 2003-11-11            & 2.33e+07              & NA                    & Battle Creek, Mich.   & MI                    & Mixed                 & Y                     & Y                    \\\\\n",
       "\t 22                    & 2003-12-30            & 1.62e+08              & NA                    & South Euclid, Ohio    & OH                    & F                     & Y                     & Y                    \\\\\n",
       "\t 23                    & 2004-02-20            & 2.39e+08              & NA                    & Winchester, Va.       & VA                    & Mixed                 & Y                     & Y                    \\\\\n",
       "\t 24                    & 2004-03-02            & 2.10e+07              & NA                    & Dayton, Ohio          & OH                    & M                     & Y                     & Y                    \\\\\n",
       "\t 25                    & 2004-04-09            & 1.09e+08              & NA                    & Wheaton, Md.          & MD                    & Unk                   & Y                     & Y                    \\\\\n",
       "\t 26                    & 2004-05-07            & 6.70e+07              & NA                    & Rockaway Beach, N.Y.  & NY                    & Mixed                 & Y                     & Y                    \\\\\n",
       "\t 27                    & 2004-07-02            & 2.94e+08              & NA                    & Boston, Mass.         & MA                    & Unk                   & Y                     & Y                    \\\\\n",
       "\t 28                    & 2004-07-23            & 4.70e+07              & NA                    & Pullman, Mich.        & MI                    & M                     & Y                     & Y                    \\\\\n",
       "\t 29                    & 2004-07-27            & 1.00e+07              & NA                    & Cherry Hill, N.J.     & NJ                    & M                     & Y                     & Y                    \\\\\n",
       "\t ... & ... & ... & ... & ... & ... & ... & ... & ...\\\\\n",
       "\t 467                 & 2014-01-14          &   1000000           & NA                  & Andover             &  MA                 & Mixed               & Y                   & N                  \\\\\n",
       "\t 468                 & 2014-01-14          &   1000000           & NA                  & Greensboro          &  NC                 & F                   & Y                   & N                  \\\\\n",
       "\t 469                 & 2013-12-24          &   1000000           & NA                  & Lombard             &  IL                 & F                   & Y                   & N                  \\\\\n",
       "\t 470                 & 2013-12-24          &   1000000           & NA                  & Mesa                &  AZ                 & M                   & Y                   & N                  \\\\\n",
       "\t 471                 & 2013-12-20          &   1000000           & NA                  & Payson              &  AZ                 & M                   & Y                   & N                  \\\\\n",
       "\t 472                 & 2013-12-17          & 324000000           & NA                  & San Jose            &  CA                 & M                   & Y                   & N                  \\\\\n",
       "\t 473                 & 2013-12-17          & 324000000           & NA                  & Stone Mountain      &  GA                 & M                   & Y                   & N                  \\\\\n",
       "\t 474                 & 2013-12-17          &   1000000           & NA                  & Brownsville         &  TX                 & F                   & Y                   & N                  \\\\\n",
       "\t 475                 & 2013-12-17          &   1000000           & NA                  & Niles               &  MI                 & F                   & Y                   & N                  \\\\\n",
       "\t 476                 & 2013-12-17          &   1000000           & NA                  & Bethlehem           &  GA                 & M                   & Y                   & N                  \\\\\n",
       "\t 477                 & 2013-12-17          &   1000000           & NA                  & Columbus            &  NE                 & Mixed               & Y                   & N                  \\\\\n",
       "\t 478                 & 2013-12-17          &   1000000           & NA                  & Chicago             &  IL                 & F                   & Y                   & N                  \\\\\n",
       "\t 479                 & 2013-12-13          &   1000000           & NA                  & Syracuse            &  NY                 & Mixed               & Y                   & N                  \\\\\n",
       "\t 480                 & 2013-12-13          &   1000000           & NA                  & Waterford           &  MI                 & M                   & Y                   & N                  \\\\\n",
       "\t 481                 & 2013-12-13          &   1000000           & NA                  & Manhattan           &  NY                 & M                   & Y                   & N                  \\\\\n",
       "\t 482                 & 2013-12-13          &   1000000           & NA                  & Eastpointe          &  MI                 & F                   & Y                   & N                  \\\\\n",
       "\t 483                 & 2013-12-10          &   1000000           & NA                  & Shelton             &  CT                 & M                   & Y                   & N                  \\\\\n",
       "\t 484                 & 2013-12-10          &   1000000           & NA                  & West Yarmouth       &  MA                 & M                   & Y                   & N                  \\\\\n",
       "\t 485                 & 2013-11-26          &   1000000           & NA                  & Glendale Heights    &  IL                 & M                   & Y                   & N                  \\\\\n",
       "\t 486                 & 2013-11-26          &   1000000           & NA                  & Coram               &  NY                 & M                   & Y                   & N                  \\\\\n",
       "\t 487                 & 2013-11-26          &   1000000           & NA                  & Stony Point         &  NY                 & F                   & Y                   & N                  \\\\\n",
       "\t 488                 & 2013-11-22          &   3000000           & NA                  & Rockwell            &  NC                 & M                   & Y                   & N                  \\\\\n",
       "\t 489                 & 2013-11-19          &   1000000           & NA                  & Holbrook            &  MA                 & Mixed               & Y                   & N                  \\\\\n",
       "\t 490                 & 2013-11-15          &   1000000           & NA                  & Irondequoit         &  NY                 & F                   & Y                   & N                  \\\\\n",
       "\t 491                 & 2013-11-12          &   1000000           & NA                  & Floral Park Village &  NY                 & Mixed               & Y                   & N                  \\\\\n",
       "\t 492                 & 2013-11-05          &    410115           & NA                  & Oceanside           &  CA                 & M                   & Y                   & N                  \\\\\n",
       "\t 493                 & 2013-11-01          &   1000000           & NA                  & Fort Stockton       &  TX                 & F                   & Y                   & N                  \\\\\n",
       "\t 494                 & 2013-10-25          &    479070           & NA                  & Palmdale            &  CA                 & M                   & Y                   & N                  \\\\\n",
       "\t 495                 & 2012-11-27          &  50000000           & NA                  & Thomasville         &  GA                 & M                   & Y                   & N                  \\\\\n",
       "\t 496                 & 2012-10-16          &   3005000           & NA                  & Hyannis             &  MA                 & M                   & Y                   & N                  \\\\\n",
       "\\end{tabular}\n"
      ],
      "text/markdown": [
       "\n",
       "| X | Draw.Date | Amount | cash.prize | Location | State | Gender | Win | Jackpot |\n",
       "|---|---|---|---|---|---|---|---|---|\n",
       "|  0                    | 2002-05-17            | 2.33e+07              | NA                    | Chatham, Ill.         | IL                    | Mixed                 | Y                     | Y                     |\n",
       "|  1                    | 2002-05-24            | 2.33e+07              | NA                    | Chicago, Ill.         | IL                    | F                     | Y                     | Y                     |\n",
       "|  2                    | 2002-07-16            | 2.33e+07              | NA                    | Cliffside Park, N.J.  | NJ                    | M                     | Y                     | Y                     |\n",
       "|  3                    | 2002-08-27            | 2.33e+07              | NA                    | New York City, N.Y.   | NY                    | Mixed                 | Y                     | Y                     |\n",
       "|  4                    | 2002-09-06            | 2.33e+07              | NA                    | Kentwood, Mich.       | MI                    | M                     | Y                     | Y                     |\n",
       "|  5                    | 2002-09-27            | 2.33e+07              | NA                    | Mount Prospect, Ill.  | IL                    | Mixed                 | Y                     | Y                     |\n",
       "|  6                    | 2002-11-08            | 2.33e+07              | NA                    | Hoquiam, Wash.        | WA                    | Mixed                 | Y                     | Y                     |\n",
       "|  7                    | 2002-11-19            | 2.33e+07              | NA                    | New York City, N.Y.   | NY                    | Mixed                 | Y                     | Y                     |\n",
       "|  8                    | 2002-12-24            | 2.33e+07              | NA                    | Unclaimed in N.Y.     | NY                    | Unk                   | Y                     | Y                     |\n",
       "|  9                    | 2003-02-11            | 2.33e+07              | NA                    | Brooklyn, N.Y.        | NY                    | M                     | Y                     | Y                     |\n",
       "| 10                    | 2003-02-18            | 2.33e+07              | NA                    | Geraldine, Ala.       | AL                    | Unk                   | Y                     | Y                     |\n",
       "| 11                    | 2003-03-14            | 2.33e+07              | NA                    | Englewood, N.J.       | NJ                    | Mixed                 | Y                     | Y                     |\n",
       "| 12                    | 2003-03-28            | 2.33e+07              | NA                    | Randallstown, Md.     | MD                    | Unk                   | Y                     | Y                     |\n",
       "| 13                    | 2003-04-25            | 2.33e+07              | NA                    | Brooklyn, N.Y.        | NY                    | Unk                   | Y                     | Y                     |\n",
       "| 14                    | 2003-06-20            | 2.33e+07              | NA                    | Baldwin, Md.          | MD                    | F                     | Y                     | Y                     |\n",
       "| 15                    | 2003-07-11            | 2.33e+07              | NA                    | Uniondale, N.Y.       | NY                    | F                     | Y                     | Y                     |\n",
       "| 16                    | 2003-08-08            | 2.33e+07              | NA                    | Savannah, Ga.         | GA                    | M                     | Y                     | Y                     |\n",
       "| 17                    | 2003-09-30            | 2.33e+07              | NA                    | Fitzgerald, Ga.       | GA                    | M                     | Y                     | Y                     |\n",
       "| 18                    | 2003-10-07            | 2.33e+07              | NA                    | Neptune Township N.J. | MJ                    | F                     | Y                     | Y                     |\n",
       "| 19                    | 2003-11-11            | 2.33e+07              | NA                    | Roswell, Ga.          | GA                    | M                     | Y                     | Y                     |\n",
       "| 20                    | 2003-11-11            | 2.33e+07              | NA                    | Roswell, Ga.          | GA                    | M                     | Y                     | Y                     |\n",
       "| 21                    | 2003-11-11            | 2.33e+07              | NA                    | Battle Creek, Mich.   | MI                    | Mixed                 | Y                     | Y                     |\n",
       "| 22                    | 2003-12-30            | 1.62e+08              | NA                    | South Euclid, Ohio    | OH                    | F                     | Y                     | Y                     |\n",
       "| 23                    | 2004-02-20            | 2.39e+08              | NA                    | Winchester, Va.       | VA                    | Mixed                 | Y                     | Y                     |\n",
       "| 24                    | 2004-03-02            | 2.10e+07              | NA                    | Dayton, Ohio          | OH                    | M                     | Y                     | Y                     |\n",
       "| 25                    | 2004-04-09            | 1.09e+08              | NA                    | Wheaton, Md.          | MD                    | Unk                   | Y                     | Y                     |\n",
       "| 26                    | 2004-05-07            | 6.70e+07              | NA                    | Rockaway Beach, N.Y.  | NY                    | Mixed                 | Y                     | Y                     |\n",
       "| 27                    | 2004-07-02            | 2.94e+08              | NA                    | Boston, Mass.         | MA                    | Unk                   | Y                     | Y                     |\n",
       "| 28                    | 2004-07-23            | 4.70e+07              | NA                    | Pullman, Mich.        | MI                    | M                     | Y                     | Y                     |\n",
       "| 29                    | 2004-07-27            | 1.00e+07              | NA                    | Cherry Hill, N.J.     | NJ                    | M                     | Y                     | Y                     |\n",
       "| ... | ... | ... | ... | ... | ... | ... | ... | ... |\n",
       "| 467                 | 2014-01-14          |   1000000           | NA                  | Andover             |  MA                 | Mixed               | Y                   | N                   |\n",
       "| 468                 | 2014-01-14          |   1000000           | NA                  | Greensboro          |  NC                 | F                   | Y                   | N                   |\n",
       "| 469                 | 2013-12-24          |   1000000           | NA                  | Lombard             |  IL                 | F                   | Y                   | N                   |\n",
       "| 470                 | 2013-12-24          |   1000000           | NA                  | Mesa                |  AZ                 | M                   | Y                   | N                   |\n",
       "| 471                 | 2013-12-20          |   1000000           | NA                  | Payson              |  AZ                 | M                   | Y                   | N                   |\n",
       "| 472                 | 2013-12-17          | 324000000           | NA                  | San Jose            |  CA                 | M                   | Y                   | N                   |\n",
       "| 473                 | 2013-12-17          | 324000000           | NA                  | Stone Mountain      |  GA                 | M                   | Y                   | N                   |\n",
       "| 474                 | 2013-12-17          |   1000000           | NA                  | Brownsville         |  TX                 | F                   | Y                   | N                   |\n",
       "| 475                 | 2013-12-17          |   1000000           | NA                  | Niles               |  MI                 | F                   | Y                   | N                   |\n",
       "| 476                 | 2013-12-17          |   1000000           | NA                  | Bethlehem           |  GA                 | M                   | Y                   | N                   |\n",
       "| 477                 | 2013-12-17          |   1000000           | NA                  | Columbus            |  NE                 | Mixed               | Y                   | N                   |\n",
       "| 478                 | 2013-12-17          |   1000000           | NA                  | Chicago             |  IL                 | F                   | Y                   | N                   |\n",
       "| 479                 | 2013-12-13          |   1000000           | NA                  | Syracuse            |  NY                 | Mixed               | Y                   | N                   |\n",
       "| 480                 | 2013-12-13          |   1000000           | NA                  | Waterford           |  MI                 | M                   | Y                   | N                   |\n",
       "| 481                 | 2013-12-13          |   1000000           | NA                  | Manhattan           |  NY                 | M                   | Y                   | N                   |\n",
       "| 482                 | 2013-12-13          |   1000000           | NA                  | Eastpointe          |  MI                 | F                   | Y                   | N                   |\n",
       "| 483                 | 2013-12-10          |   1000000           | NA                  | Shelton             |  CT                 | M                   | Y                   | N                   |\n",
       "| 484                 | 2013-12-10          |   1000000           | NA                  | West Yarmouth       |  MA                 | M                   | Y                   | N                   |\n",
       "| 485                 | 2013-11-26          |   1000000           | NA                  | Glendale Heights    |  IL                 | M                   | Y                   | N                   |\n",
       "| 486                 | 2013-11-26          |   1000000           | NA                  | Coram               |  NY                 | M                   | Y                   | N                   |\n",
       "| 487                 | 2013-11-26          |   1000000           | NA                  | Stony Point         |  NY                 | F                   | Y                   | N                   |\n",
       "| 488                 | 2013-11-22          |   3000000           | NA                  | Rockwell            |  NC                 | M                   | Y                   | N                   |\n",
       "| 489                 | 2013-11-19          |   1000000           | NA                  | Holbrook            |  MA                 | Mixed               | Y                   | N                   |\n",
       "| 490                 | 2013-11-15          |   1000000           | NA                  | Irondequoit         |  NY                 | F                   | Y                   | N                   |\n",
       "| 491                 | 2013-11-12          |   1000000           | NA                  | Floral Park Village |  NY                 | Mixed               | Y                   | N                   |\n",
       "| 492                 | 2013-11-05          |    410115           | NA                  | Oceanside           |  CA                 | M                   | Y                   | N                   |\n",
       "| 493                 | 2013-11-01          |   1000000           | NA                  | Fort Stockton       |  TX                 | F                   | Y                   | N                   |\n",
       "| 494                 | 2013-10-25          |    479070           | NA                  | Palmdale            |  CA                 | M                   | Y                   | N                   |\n",
       "| 495                 | 2012-11-27          |  50000000           | NA                  | Thomasville         |  GA                 | M                   | Y                   | N                   |\n",
       "| 496                 | 2012-10-16          |   3005000           | NA                  | Hyannis             |  MA                 | M                   | Y                   | N                   |\n",
       "\n"
      ],
      "text/plain": [
       "    X   Draw.Date  Amount    cash.prize Location              State Gender Win\n",
       "1    0  2002-05-17 2.33e+07  NA         Chatham, Ill.         IL    Mixed  Y  \n",
       "2    1  2002-05-24 2.33e+07  NA         Chicago, Ill.         IL    F      Y  \n",
       "3    2  2002-07-16 2.33e+07  NA         Cliffside Park, N.J.  NJ    M      Y  \n",
       "4    3  2002-08-27 2.33e+07  NA         New York City, N.Y.   NY    Mixed  Y  \n",
       "5    4  2002-09-06 2.33e+07  NA         Kentwood, Mich.       MI    M      Y  \n",
       "6    5  2002-09-27 2.33e+07  NA         Mount Prospect, Ill.  IL    Mixed  Y  \n",
       "7    6  2002-11-08 2.33e+07  NA         Hoquiam, Wash.        WA    Mixed  Y  \n",
       "8    7  2002-11-19 2.33e+07  NA         New York City, N.Y.   NY    Mixed  Y  \n",
       "9    8  2002-12-24 2.33e+07  NA         Unclaimed in N.Y.     NY    Unk    Y  \n",
       "10   9  2003-02-11 2.33e+07  NA         Brooklyn, N.Y.        NY    M      Y  \n",
       "11  10  2003-02-18 2.33e+07  NA         Geraldine, Ala.       AL    Unk    Y  \n",
       "12  11  2003-03-14 2.33e+07  NA         Englewood, N.J.       NJ    Mixed  Y  \n",
       "13  12  2003-03-28 2.33e+07  NA         Randallstown, Md.     MD    Unk    Y  \n",
       "14  13  2003-04-25 2.33e+07  NA         Brooklyn, N.Y.        NY    Unk    Y  \n",
       "15  14  2003-06-20 2.33e+07  NA         Baldwin, Md.          MD    F      Y  \n",
       "16  15  2003-07-11 2.33e+07  NA         Uniondale, N.Y.       NY    F      Y  \n",
       "17  16  2003-08-08 2.33e+07  NA         Savannah, Ga.         GA    M      Y  \n",
       "18  17  2003-09-30 2.33e+07  NA         Fitzgerald, Ga.       GA    M      Y  \n",
       "19  18  2003-10-07 2.33e+07  NA         Neptune Township N.J. MJ    F      Y  \n",
       "20  19  2003-11-11 2.33e+07  NA         Roswell, Ga.          GA    M      Y  \n",
       "21  20  2003-11-11 2.33e+07  NA         Roswell, Ga.          GA    M      Y  \n",
       "22  21  2003-11-11 2.33e+07  NA         Battle Creek, Mich.   MI    Mixed  Y  \n",
       "23  22  2003-12-30 1.62e+08  NA         South Euclid, Ohio    OH    F      Y  \n",
       "24  23  2004-02-20 2.39e+08  NA         Winchester, Va.       VA    Mixed  Y  \n",
       "25  24  2004-03-02 2.10e+07  NA         Dayton, Ohio          OH    M      Y  \n",
       "26  25  2004-04-09 1.09e+08  NA         Wheaton, Md.          MD    Unk    Y  \n",
       "27  26  2004-05-07 6.70e+07  NA         Rockaway Beach, N.Y.  NY    Mixed  Y  \n",
       "28  27  2004-07-02 2.94e+08  NA         Boston, Mass.         MA    Unk    Y  \n",
       "29  28  2004-07-23 4.70e+07  NA         Pullman, Mich.        MI    M      Y  \n",
       "30  29  2004-07-27 1.00e+07  NA         Cherry Hill, N.J.     NJ    M      Y  \n",
       "... ... ...        ...       ...        ...                   ...   ...    ...\n",
       "468 467 2014-01-14   1000000 NA         Andover                MA   Mixed  Y  \n",
       "469 468 2014-01-14   1000000 NA         Greensboro             NC   F      Y  \n",
       "470 469 2013-12-24   1000000 NA         Lombard                IL   F      Y  \n",
       "471 470 2013-12-24   1000000 NA         Mesa                   AZ   M      Y  \n",
       "472 471 2013-12-20   1000000 NA         Payson                 AZ   M      Y  \n",
       "473 472 2013-12-17 324000000 NA         San Jose               CA   M      Y  \n",
       "474 473 2013-12-17 324000000 NA         Stone Mountain         GA   M      Y  \n",
       "475 474 2013-12-17   1000000 NA         Brownsville            TX   F      Y  \n",
       "476 475 2013-12-17   1000000 NA         Niles                  MI   F      Y  \n",
       "477 476 2013-12-17   1000000 NA         Bethlehem              GA   M      Y  \n",
       "478 477 2013-12-17   1000000 NA         Columbus               NE   Mixed  Y  \n",
       "479 478 2013-12-17   1000000 NA         Chicago                IL   F      Y  \n",
       "480 479 2013-12-13   1000000 NA         Syracuse               NY   Mixed  Y  \n",
       "481 480 2013-12-13   1000000 NA         Waterford              MI   M      Y  \n",
       "482 481 2013-12-13   1000000 NA         Manhattan              NY   M      Y  \n",
       "483 482 2013-12-13   1000000 NA         Eastpointe             MI   F      Y  \n",
       "484 483 2013-12-10   1000000 NA         Shelton                CT   M      Y  \n",
       "485 484 2013-12-10   1000000 NA         West Yarmouth          MA   M      Y  \n",
       "486 485 2013-11-26   1000000 NA         Glendale Heights       IL   M      Y  \n",
       "487 486 2013-11-26   1000000 NA         Coram                  NY   M      Y  \n",
       "488 487 2013-11-26   1000000 NA         Stony Point            NY   F      Y  \n",
       "489 488 2013-11-22   3000000 NA         Rockwell               NC   M      Y  \n",
       "490 489 2013-11-19   1000000 NA         Holbrook               MA   Mixed  Y  \n",
       "491 490 2013-11-15   1000000 NA         Irondequoit            NY   F      Y  \n",
       "492 491 2013-11-12   1000000 NA         Floral Park Village    NY   Mixed  Y  \n",
       "493 492 2013-11-05    410115 NA         Oceanside              CA   M      Y  \n",
       "494 493 2013-11-01   1000000 NA         Fort Stockton          TX   F      Y  \n",
       "495 494 2013-10-25    479070 NA         Palmdale               CA   M      Y  \n",
       "496 495 2012-11-27  50000000 NA         Thomasville            GA   M      Y  \n",
       "497 496 2012-10-16   3005000 NA         Hyannis                MA   M      Y  \n",
       "    Jackpot\n",
       "1   Y      \n",
       "2   Y      \n",
       "3   Y      \n",
       "4   Y      \n",
       "5   Y      \n",
       "6   Y      \n",
       "7   Y      \n",
       "8   Y      \n",
       "9   Y      \n",
       "10  Y      \n",
       "11  Y      \n",
       "12  Y      \n",
       "13  Y      \n",
       "14  Y      \n",
       "15  Y      \n",
       "16  Y      \n",
       "17  Y      \n",
       "18  Y      \n",
       "19  Y      \n",
       "20  Y      \n",
       "21  Y      \n",
       "22  Y      \n",
       "23  Y      \n",
       "24  Y      \n",
       "25  Y      \n",
       "26  Y      \n",
       "27  Y      \n",
       "28  Y      \n",
       "29  Y      \n",
       "30  Y      \n",
       "... ...    \n",
       "468 N      \n",
       "469 N      \n",
       "470 N      \n",
       "471 N      \n",
       "472 N      \n",
       "473 N      \n",
       "474 N      \n",
       "475 N      \n",
       "476 N      \n",
       "477 N      \n",
       "478 N      \n",
       "479 N      \n",
       "480 N      \n",
       "481 N      \n",
       "482 N      \n",
       "483 N      \n",
       "484 N      \n",
       "485 N      \n",
       "486 N      \n",
       "487 N      \n",
       "488 N      \n",
       "489 N      \n",
       "490 N      \n",
       "491 N      \n",
       "492 N      \n",
       "493 N      \n",
       "494 N      \n",
       "495 N      \n",
       "496 N      \n",
       "497 N      "
      ]
     },
     "metadata": {},
     "output_type": "display_data"
    }
   ],
   "source": [
    "\n",
    "WinningNumbers <- read.csv(\"Lottery_Mega_Millions_Winning_Numbers__Beginning_2002_Wrangled.csv\")\n",
    "Wins <- read.csv(\"AllWinners.csv\")\n",
    "View(Wins)"
   ]
  },
  {
   "cell_type": "code",
   "execution_count": 30,
   "id": "e941457f",
   "metadata": {},
   "outputs": [
    {
     "data": {
      "text/html": [
       "<table>\n",
       "<thead><tr><th scope=col>Gender</th><th scope=col>JackpotAmount</th></tr></thead>\n",
       "<tbody>\n",
       "\t<tr><td>F        </td><td> 93696552</td></tr>\n",
       "\t<tr><td>M        </td><td>107261728</td></tr>\n",
       "\t<tr><td>Mixed    </td><td>106522059</td></tr>\n",
       "\t<tr><td>Unk      </td><td>502384444</td></tr>\n",
       "</tbody>\n",
       "</table>\n"
      ],
      "text/latex": [
       "\\begin{tabular}{r|ll}\n",
       " Gender & JackpotAmount\\\\\n",
       "\\hline\n",
       "\t F         &  93696552\\\\\n",
       "\t M         & 107261728\\\\\n",
       "\t Mixed     & 106522059\\\\\n",
       "\t Unk       & 502384444\\\\\n",
       "\\end{tabular}\n"
      ],
      "text/markdown": [
       "\n",
       "| Gender | JackpotAmount |\n",
       "|---|---|\n",
       "| F         |  93696552 |\n",
       "| M         | 107261728 |\n",
       "| Mixed     | 106522059 |\n",
       "| Unk       | 502384444 |\n",
       "\n"
      ],
      "text/plain": [
       "  Gender JackpotAmount\n",
       "1 F       93696552    \n",
       "2 M      107261728    \n",
       "3 Mixed  106522059    \n",
       "4 Unk    502384444    "
      ]
     },
     "metadata": {},
     "output_type": "display_data"
    }
   ],
   "source": [
    "JackpotByGender <- aggregate(JackpotAmount~Gender, Wins, mean)\n",
    "JackpotByGender"
   ]
  },
  {
   "cell_type": "code",
   "execution_count": 28,
   "id": "00e140ec",
   "metadata": {},
   "outputs": [],
   "source": [
    "Jackpots<- filter (Wins, Jackpot == \"Y\")\n"
   ]
  },
  {
   "cell_type": "code",
   "execution_count": 27,
   "id": "66628811",
   "metadata": {},
   "outputs": [],
   "source": [
    "NonJackpots<- filter (Wins, Jackpot == \"N\")"
   ]
  },
  {
   "cell_type": "markdown",
   "id": "c1639a07",
   "metadata": {},
   "source": [
    "## Analysis"
   ]
  },
  {
   "cell_type": "markdown",
   "id": "7e3bd158",
   "metadata": {},
   "source": [
    "## 1. In the Mega Millions, what are the optimal numbers to select in order to achieve a return on investment (ROI)?"
   ]
  },
  {
   "cell_type": "markdown",
   "id": "58288e50",
   "metadata": {},
   "source": [
    "## 2. Does gender influence Prize Amount? "
   ]
  },
  {
   "cell_type": "markdown",
   "id": "0374b2c9",
   "metadata": {},
   "source": [
    "### Comparing all Gender Categories"
   ]
  },
  {
   "cell_type": "code",
   "execution_count": 49,
   "id": "052ec8ee",
   "metadata": {},
   "outputs": [],
   "source": [
    "Wins$Gender <- as.factor(Wins$Gender)"
   ]
  },
  {
   "cell_type": "code",
   "execution_count": null,
   "id": "2dc9009f",
   "metadata": {},
   "outputs": [],
   "source": [
    "Wins$Jackpot <- as.factor(Wins$Jackpot)"
   ]
  },
  {
   "cell_type": "markdown",
   "id": "f93331b0",
   "metadata": {},
   "source": [
    "#### Testing Assumptions\n"
   ]
  },
  {
   "cell_type": "markdown",
   "id": "b92d4f75",
   "metadata": {},
   "source": [
    "\n",
    "##### 1. Normality\n"
   ]
  },
  {
   "cell_type": "code",
   "execution_count": null,
   "id": "b49a30cc",
   "metadata": {},
   "outputs": [],
   "source": [
    "plotNormalHistogram(Wins$Amount)\n",
    "#  positive skew\n"
   ]
  },
  {
   "cell_type": "code",
   "execution_count": 11,
   "id": "b1f0ea78",
   "metadata": {},
   "outputs": [],
   "source": [
    "Wins$AmountSQRT <- sqrt(Wins$Amount)\n"
   ]
  },
  {
   "cell_type": "code",
   "execution_count": null,
   "id": "dab0ad0e",
   "metadata": {},
   "outputs": [],
   "source": [
    "plotNormalHistogram(Wins$AmountSQRT)\n",
    "#  positive skew\n"
   ]
  },
  {
   "cell_type": "code",
   "execution_count": 12,
   "id": "41c8a3a1",
   "metadata": {},
   "outputs": [],
   "source": [
    "Wins$AmountLOG <-log(Wins$Amount)\n"
   ]
  },
  {
   "cell_type": "code",
   "execution_count": null,
   "id": "bc8105ca",
   "metadata": {},
   "outputs": [],
   "source": [
    "plotNormalHistogram(Wins$AmountLOG)\n",
    "#better but negatively kurtotic. let's use Tukey's Ladder of Power Transformation \n"
   ]
  },
  {
   "cell_type": "code",
   "execution_count": null,
   "id": "c8f12b2b",
   "metadata": {},
   "outputs": [],
   "source": [
    "Wins$AmountTUK <- transformTukey(Wins$Amount, plotit=FALSE)\n",
    "plotNormalHistogram(Wins$AmountTUK)\n",
    "#plot is the same as the log transformation. will use AmountLOG"
   ]
  },
  {
   "cell_type": "markdown",
   "id": "0c3e9f17",
   "metadata": {},
   "source": [
    "##### 2. Homogeneity of Variance\n"
   ]
  },
  {
   "cell_type": "code",
   "execution_count": 13,
   "id": "bc226edd",
   "metadata": {},
   "outputs": [
    {
     "data": {
      "text/html": [
       "<table>\n",
       "<thead><tr><th></th><th scope=col>Df</th><th scope=col>F value</th><th scope=col>Pr(&gt;F)</th></tr></thead>\n",
       "<tbody>\n",
       "\t<tr><th scope=row>group</th><td>  3       </td><td>3.063226  </td><td>0.02780931</td></tr>\n",
       "\t<tr><th scope=row> </th><td>493       </td><td>      NA  </td><td>        NA</td></tr>\n",
       "</tbody>\n",
       "</table>\n"
      ],
      "text/latex": [
       "\\begin{tabular}{r|lll}\n",
       "  & Df & F value & Pr(>F)\\\\\n",
       "\\hline\n",
       "\tgroup &   3        & 3.063226   & 0.02780931\\\\\n",
       "\t  & 493        &       NA   &         NA\\\\\n",
       "\\end{tabular}\n"
      ],
      "text/markdown": [
       "\n",
       "| <!--/--> | Df | F value | Pr(>F) |\n",
       "|---|---|---|---|\n",
       "| group |   3        | 3.063226   | 0.02780931 |\n",
       "|   | 493        |       NA   |         NA |\n",
       "\n"
      ],
      "text/plain": [
       "      Df  F value  Pr(>F)    \n",
       "group   3 3.063226 0.02780931\n",
       "      493       NA         NA"
      ]
     },
     "metadata": {},
     "output_type": "display_data"
    }
   ],
   "source": [
    "leveneTest(Wins$AmountLOG~Gender, data=Wins)"
   ]
  },
  {
   "cell_type": "markdown",
   "id": "233490ed",
   "metadata": {},
   "source": [
    "Results were  significant, so the assumption is not met! use the Anova() to correct for violation"
   ]
  },
  {
   "cell_type": "markdown",
   "id": "e8086c77",
   "metadata": {},
   "source": [
    "##### 3. Homogeneity of Regression Slopes"
   ]
  },
  {
   "cell_type": "code",
   "execution_count": 14,
   "id": "0d6343fd",
   "metadata": {},
   "outputs": [
    {
     "data": {
      "text/html": [
       "<table>\n",
       "<thead><tr><th></th><th scope=col>Df</th><th scope=col>Sum Sq</th><th scope=col>Mean Sq</th><th scope=col>F value</th><th scope=col>Pr(&gt;F)</th></tr></thead>\n",
       "<tbody>\n",
       "\t<tr><th scope=row>Jackpot</th><td>  1          </td><td>1971.3906    </td><td>1971.390586  </td><td>1629.521     </td><td>1.070132e-158</td></tr>\n",
       "\t<tr><th scope=row>Residuals</th><td>495          </td><td> 598.8498    </td><td>   1.209798  </td><td>      NA     </td><td>           NA</td></tr>\n",
       "</tbody>\n",
       "</table>\n"
      ],
      "text/latex": [
       "\\begin{tabular}{r|lllll}\n",
       "  & Df & Sum Sq & Mean Sq & F value & Pr(>F)\\\\\n",
       "\\hline\n",
       "\tJackpot &   1           & 1971.3906     & 1971.390586   & 1629.521      & 1.070132e-158\\\\\n",
       "\tResiduals & 495           &  598.8498     &    1.209798   &       NA      &            NA\\\\\n",
       "\\end{tabular}\n"
      ],
      "text/markdown": [
       "\n",
       "| <!--/--> | Df | Sum Sq | Mean Sq | F value | Pr(>F) |\n",
       "|---|---|---|---|---|---|\n",
       "| Jackpot |   1           | 1971.3906     | 1971.390586   | 1629.521      | 1.070132e-158 |\n",
       "| Residuals | 495           |  598.8498     |    1.209798   |       NA      |            NA |\n",
       "\n"
      ],
      "text/plain": [
       "          Df  Sum Sq    Mean Sq     F value  Pr(>F)       \n",
       "Jackpot     1 1971.3906 1971.390586 1629.521 1.070132e-158\n",
       "Residuals 495  598.8498    1.209798       NA            NA"
      ]
     },
     "metadata": {},
     "output_type": "display_data"
    }
   ],
   "source": [
    "Homogeneity_RegrSlp = lm(Wins$AmountLOG~Jackpot, data=Wins)\n",
    "anova(Homogeneity_RegrSlp)"
   ]
  },
  {
   "cell_type": "markdown",
   "id": "e8086c77",
   "metadata": {},
   "source": [
    "Unfortunately, since the p value is significant, our data does not meet the assumption of homogeneity of regression slopes. That means that whether someone won a jackpot or not actually does have an impact on the size of their prize, and that you should NOT use Jackpot as a covariate, but rather include it as a second independent variable in the model"
   ]
  },
  {
   "cell_type": "markdown",
   "id": "475cf2df",
   "metadata": {},
   "source": [
    "##### 4. Sample size\n"
   ]
  },
  {
   "cell_type": "markdown",
   "id": "8e3bd38b",
   "metadata": {},
   "source": [
    "this assumption is met - need 20 per IV or CV and we have 2, so need at least 40 and there are 497 cases\n"
   ]
  },
  {
   "cell_type": "markdown",
   "id": "9be1c9b0",
   "metadata": {},
   "source": [
    "\n",
    "#### Running the Analysis\n"
   ]
  },
  {
   "cell_type": "code",
   "execution_count": 15,
   "id": "9283bc4c",
   "metadata": {},
   "outputs": [
    {
     "name": "stderr",
     "output_type": "stream",
     "text": [
      "Coefficient covariances computed by hccm()\n",
      "\n"
     ]
    },
    {
     "data": {
      "text/html": [
       "<table>\n",
       "<thead><tr><th></th><th scope=col>Df</th><th scope=col>F</th><th scope=col>Pr(&gt;F)</th></tr></thead>\n",
       "<tbody>\n",
       "\t<tr><th scope=row>Jackpot</th><td>  1          </td><td>2115.165308  </td><td>1.016430e-179</td></tr>\n",
       "\t<tr><th scope=row>Gender</th><td>  3          </td><td>   3.788978  </td><td> 1.045632e-02</td></tr>\n",
       "\t<tr><th scope=row>Jackpot:Gender</th><td>  3          </td><td>   1.160784  </td><td> 3.242081e-01</td></tr>\n",
       "\t<tr><th scope=row>Residuals</th><td>489          </td><td>         NA  </td><td>           NA</td></tr>\n",
       "</tbody>\n",
       "</table>\n"
      ],
      "text/latex": [
       "\\begin{tabular}{r|lll}\n",
       "  & Df & F & Pr(>F)\\\\\n",
       "\\hline\n",
       "\tJackpot &   1           & 2115.165308   & 1.016430e-179\\\\\n",
       "\tGender &   3           &    3.788978   &  1.045632e-02\\\\\n",
       "\tJackpot:Gender &   3           &    1.160784   &  3.242081e-01\\\\\n",
       "\tResiduals & 489           &          NA   &            NA\\\\\n",
       "\\end{tabular}\n"
      ],
      "text/markdown": [
       "\n",
       "| <!--/--> | Df | F | Pr(>F) |\n",
       "|---|---|---|---|\n",
       "| Jackpot |   1           | 2115.165308   | 1.016430e-179 |\n",
       "| Gender |   3           |    3.788978   |  1.045632e-02 |\n",
       "| Jackpot:Gender |   3           |    1.160784   |  3.242081e-01 |\n",
       "| Residuals | 489           |          NA   |            NA |\n",
       "\n"
      ],
      "text/plain": [
       "               Df  F           Pr(>F)       \n",
       "Jackpot          1 2115.165308 1.016430e-179\n",
       "Gender           3    3.788978  1.045632e-02\n",
       "Jackpot:Gender   3    1.160784  3.242081e-01\n",
       "Residuals      489          NA            NA"
      ]
     },
     "metadata": {},
     "output_type": "display_data"
    }
   ],
   "source": [
    "ANCOVA = lm(AmountLOG~Jackpot + Gender*Jackpot, data=Wins)\n",
    "Anova(ANCOVA,Type=\"I\", white.adjust=TRUE)"
   ]
  },
  {
   "cell_type": "markdown",
   "id": "fac7c473",
   "metadata": {},
   "source": [
    "Gender does appear to influence the size of the prize. However, controlling for whether or not it as a jackpot, that influence disappears "
   ]
  },
  {
   "cell_type": "markdown",
   "id": "0374b2c9",
   "metadata": {},
   "source": [
    "### Comparing Men and Women only"
   ]
  },
  {
   "cell_type": "code",
   "execution_count": 3,
   "id": "52c80c42",
   "metadata": {},
   "outputs": [
    {
     "data": {
      "text/html": [
       "<table>\n",
       "<thead><tr><th scope=col>X</th><th scope=col>Draw.Date</th><th scope=col>Amount</th><th scope=col>cash.prize</th><th scope=col>Location</th><th scope=col>State</th><th scope=col>Gender</th><th scope=col>Win</th><th scope=col>Jackpot</th></tr></thead>\n",
       "<tbody>\n",
       "\t<tr><td> 1                     </td><td>2002-05-24             </td><td>2.33e+07               </td><td>NA                     </td><td>Chicago, Ill.          </td><td>IL                     </td><td>F                      </td><td>Y                      </td><td>Y                      </td></tr>\n",
       "\t<tr><td> 2                     </td><td>2002-07-16             </td><td>2.33e+07               </td><td>NA                     </td><td>Cliffside Park, N.J.   </td><td>NJ                     </td><td>M                      </td><td>Y                      </td><td>Y                      </td></tr>\n",
       "\t<tr><td> 4                     </td><td>2002-09-06             </td><td>2.33e+07               </td><td>NA                     </td><td>Kentwood, Mich.        </td><td>MI                     </td><td>M                      </td><td>Y                      </td><td>Y                      </td></tr>\n",
       "\t<tr><td> 9                     </td><td>2003-02-11             </td><td>2.33e+07               </td><td>NA                     </td><td>Brooklyn, N.Y.         </td><td>NY                     </td><td>M                      </td><td>Y                      </td><td>Y                      </td></tr>\n",
       "\t<tr><td>14                     </td><td>2003-06-20             </td><td>2.33e+07               </td><td>NA                     </td><td>Baldwin, Md.           </td><td>MD                     </td><td>F                      </td><td>Y                      </td><td>Y                      </td></tr>\n",
       "\t<tr><td>15                     </td><td>2003-07-11             </td><td>2.33e+07               </td><td>NA                     </td><td>Uniondale, N.Y.        </td><td>NY                     </td><td>F                      </td><td>Y                      </td><td>Y                      </td></tr>\n",
       "\t<tr><td>16                     </td><td>2003-08-08             </td><td>2.33e+07               </td><td>NA                     </td><td>Savannah, Ga.          </td><td>GA                     </td><td>M                      </td><td>Y                      </td><td>Y                      </td></tr>\n",
       "\t<tr><td>17                     </td><td>2003-09-30             </td><td>2.33e+07               </td><td>NA                     </td><td>Fitzgerald, Ga.        </td><td>GA                     </td><td>M                      </td><td>Y                      </td><td>Y                      </td></tr>\n",
       "\t<tr><td>18                     </td><td>2003-10-07             </td><td>2.33e+07               </td><td>NA                     </td><td>Neptune Township N.J.  </td><td>MJ                     </td><td>F                      </td><td>Y                      </td><td>Y                      </td></tr>\n",
       "\t<tr><td>19                     </td><td>2003-11-11             </td><td>2.33e+07               </td><td>NA                     </td><td>Roswell, Ga.           </td><td>GA                     </td><td>M                      </td><td>Y                      </td><td>Y                      </td></tr>\n",
       "\t<tr><td>20                     </td><td>2003-11-11             </td><td>2.33e+07               </td><td>NA                     </td><td>Roswell, Ga.           </td><td>GA                     </td><td>M                      </td><td>Y                      </td><td>Y                      </td></tr>\n",
       "\t<tr><td>22                     </td><td>2003-12-30             </td><td>1.62e+08               </td><td>NA                     </td><td>South Euclid, Ohio     </td><td>OH                     </td><td>F                      </td><td>Y                      </td><td>Y                      </td></tr>\n",
       "\t<tr><td>24                     </td><td>2004-03-02             </td><td>2.10e+07               </td><td>NA                     </td><td>Dayton, Ohio           </td><td>OH                     </td><td>M                      </td><td>Y                      </td><td>Y                      </td></tr>\n",
       "\t<tr><td>28                     </td><td>2004-07-23             </td><td>4.70e+07               </td><td>NA                     </td><td>Pullman, Mich.         </td><td>MI                     </td><td>M                      </td><td>Y                      </td><td>Y                      </td></tr>\n",
       "\t<tr><td>29                     </td><td>2004-07-27             </td><td>1.00e+07               </td><td>NA                     </td><td>Cherry Hill, N.J.      </td><td>NJ                     </td><td>M                      </td><td>Y                      </td><td>Y                      </td></tr>\n",
       "\t<tr><td>32                     </td><td>2004-11-19             </td><td>1.49e+08               </td><td>NA                     </td><td>Queens, N.Y.           </td><td>NY                     </td><td>M                      </td><td>Y                      </td><td>Y                      </td></tr>\n",
       "\t<tr><td>34                     </td><td>2005-01-18             </td><td>1.31e+08               </td><td>NA                     </td><td>Washington, Ga.        </td><td>GA                     </td><td>F                      </td><td>Y                      </td><td>Y                      </td></tr>\n",
       "\t<tr><td>44                     </td><td>2006-01-06             </td><td>1.50e+07               </td><td>NA                     </td><td>Ohio                   </td><td>OH                     </td><td>M                      </td><td>Y                      </td><td>Y                      </td></tr>\n",
       "\t<tr><td>45                     </td><td>2006-02-28             </td><td>2.70e+08               </td><td>NA                     </td><td>Ohio                   </td><td>OH                     </td><td>M                      </td><td>Y                      </td><td>Y                      </td></tr>\n",
       "\t<tr><td>46                     </td><td>2006-04-18             </td><td>2.65e+08               </td><td>NA                     </td><td>Ohio                   </td><td>OH                     </td><td>M                      </td><td>Y                      </td><td>Y                      </td></tr>\n",
       "\t<tr><td>47                     </td><td>2006-05-16             </td><td>9.40e+07               </td><td>NA                     </td><td>El Paso, Texas         </td><td>TX                     </td><td>F                      </td><td>Y                      </td><td>Y                      </td></tr>\n",
       "\t<tr><td>48                     </td><td>2006-06-02             </td><td>4.70e+07               </td><td>NA                     </td><td>New Brunswick, N.J.    </td><td>NJ                     </td><td>M                      </td><td>Y                      </td><td>Y                      </td></tr>\n",
       "\t<tr><td>49                     </td><td>2006-06-16             </td><td>3.50e+07               </td><td>NA                     </td><td>La Quinta, Calif.      </td><td>CA                     </td><td>M                      </td><td>Y                      </td><td>Y                      </td></tr>\n",
       "\t<tr><td>53                     </td><td>2006-09-15             </td><td>1.63e+08               </td><td>NA                     </td><td>Bainbridge, Ga.        </td><td>GA                     </td><td>M                      </td><td>Y                      </td><td>Y                      </td></tr>\n",
       "\t<tr><td>54                     </td><td>2006-09-19             </td><td>1.20e+07               </td><td>NA                     </td><td>Bronx, N.Y.            </td><td>NY                     </td><td>M                      </td><td>Y                      </td><td>Y                      </td></tr>\n",
       "\t<tr><td>55                     </td><td>2006-09-26             </td><td>1.50e+07               </td><td>NA                     </td><td>Hasbrouck Heights, N.J.</td><td>NJ                     </td><td>M                      </td><td>Y                      </td><td>Y                      </td></tr>\n",
       "\t<tr><td>56                     </td><td>2006-10-17             </td><td>5.50e+07               </td><td>NA                     </td><td>North Bend, Wash.      </td><td>WA                     </td><td>M                      </td><td>Y                      </td><td>Y                      </td></tr>\n",
       "\t<tr><td>57                     </td><td>2006-11-14             </td><td>7.50e+07               </td><td>NA                     </td><td>Detroit, Mich.         </td><td>MI                     </td><td>F                      </td><td>Y                      </td><td>Y                      </td></tr>\n",
       "\t<tr><td>58                     </td><td>2006-12-01             </td><td>4.00e+07               </td><td>NA                     </td><td>Columbus, Ohio         </td><td>OH                     </td><td>M                      </td><td>Y                      </td><td>Y                      </td></tr>\n",
       "\t<tr><td>61                     </td><td>2007-03-06             </td><td>1.95e+08               </td><td>NA                     </td><td> Dalton, Ga.           </td><td>GA                     </td><td>M                      </td><td>Y                      </td><td>Y                      </td></tr>\n",
       "\t<tr><td>...</td><td>...</td><td>...</td><td>...</td><td>...</td><td>...</td><td>...</td><td>...</td><td>...</td></tr>\n",
       "\t<tr><td>462             </td><td>2014-02-14      </td><td>  1000000       </td><td>NA              </td><td>Endicott        </td><td> NY             </td><td>M               </td><td>Y               </td><td>N               </td></tr>\n",
       "\t<tr><td>463             </td><td>2014-02-07      </td><td>  1000000       </td><td>NA              </td><td>Man             </td><td> WV             </td><td>M               </td><td>Y               </td><td>N               </td></tr>\n",
       "\t<tr><td>464             </td><td>2014-02-04      </td><td>   910781       </td><td>NA              </td><td>Whittier        </td><td> CA             </td><td>M               </td><td>Y               </td><td>N               </td></tr>\n",
       "\t<tr><td>465             </td><td>2014-01-21      </td><td>  1000000       </td><td>NA              </td><td>Garfield Heights</td><td> OH             </td><td>F               </td><td>Y               </td><td>N               </td></tr>\n",
       "\t<tr><td>466             </td><td>2014-01-17      </td><td>  1000000       </td><td>NA              </td><td>Waldorf         </td><td> MD             </td><td>F               </td><td>Y               </td><td>N               </td></tr>\n",
       "\t<tr><td>468             </td><td>2014-01-14      </td><td>  1000000       </td><td>NA              </td><td>Greensboro      </td><td> NC             </td><td>F               </td><td>Y               </td><td>N               </td></tr>\n",
       "\t<tr><td>469             </td><td>2013-12-24      </td><td>  1000000       </td><td>NA              </td><td>Lombard         </td><td> IL             </td><td>F               </td><td>Y               </td><td>N               </td></tr>\n",
       "\t<tr><td>470             </td><td>2013-12-24      </td><td>  1000000       </td><td>NA              </td><td>Mesa            </td><td> AZ             </td><td>M               </td><td>Y               </td><td>N               </td></tr>\n",
       "\t<tr><td>471             </td><td>2013-12-20      </td><td>  1000000       </td><td>NA              </td><td>Payson          </td><td> AZ             </td><td>M               </td><td>Y               </td><td>N               </td></tr>\n",
       "\t<tr><td>472             </td><td>2013-12-17      </td><td>324000000       </td><td>NA              </td><td>San Jose        </td><td> CA             </td><td>M               </td><td>Y               </td><td>N               </td></tr>\n",
       "\t<tr><td>473             </td><td>2013-12-17      </td><td>324000000       </td><td>NA              </td><td>Stone Mountain  </td><td> GA             </td><td>M               </td><td>Y               </td><td>N               </td></tr>\n",
       "\t<tr><td>474             </td><td>2013-12-17      </td><td>  1000000       </td><td>NA              </td><td>Brownsville     </td><td> TX             </td><td>F               </td><td>Y               </td><td>N               </td></tr>\n",
       "\t<tr><td>475             </td><td>2013-12-17      </td><td>  1000000       </td><td>NA              </td><td>Niles           </td><td> MI             </td><td>F               </td><td>Y               </td><td>N               </td></tr>\n",
       "\t<tr><td>476             </td><td>2013-12-17      </td><td>  1000000       </td><td>NA              </td><td>Bethlehem       </td><td> GA             </td><td>M               </td><td>Y               </td><td>N               </td></tr>\n",
       "\t<tr><td>478             </td><td>2013-12-17      </td><td>  1000000       </td><td>NA              </td><td>Chicago         </td><td> IL             </td><td>F               </td><td>Y               </td><td>N               </td></tr>\n",
       "\t<tr><td>480             </td><td>2013-12-13      </td><td>  1000000       </td><td>NA              </td><td>Waterford       </td><td> MI             </td><td>M               </td><td>Y               </td><td>N               </td></tr>\n",
       "\t<tr><td>481             </td><td>2013-12-13      </td><td>  1000000       </td><td>NA              </td><td>Manhattan       </td><td> NY             </td><td>M               </td><td>Y               </td><td>N               </td></tr>\n",
       "\t<tr><td>482             </td><td>2013-12-13      </td><td>  1000000       </td><td>NA              </td><td>Eastpointe      </td><td> MI             </td><td>F               </td><td>Y               </td><td>N               </td></tr>\n",
       "\t<tr><td>483             </td><td>2013-12-10      </td><td>  1000000       </td><td>NA              </td><td>Shelton         </td><td> CT             </td><td>M               </td><td>Y               </td><td>N               </td></tr>\n",
       "\t<tr><td>484             </td><td>2013-12-10      </td><td>  1000000       </td><td>NA              </td><td>West Yarmouth   </td><td> MA             </td><td>M               </td><td>Y               </td><td>N               </td></tr>\n",
       "\t<tr><td>485             </td><td>2013-11-26      </td><td>  1000000       </td><td>NA              </td><td>Glendale Heights</td><td> IL             </td><td>M               </td><td>Y               </td><td>N               </td></tr>\n",
       "\t<tr><td>486             </td><td>2013-11-26      </td><td>  1000000       </td><td>NA              </td><td>Coram           </td><td> NY             </td><td>M               </td><td>Y               </td><td>N               </td></tr>\n",
       "\t<tr><td>487             </td><td>2013-11-26      </td><td>  1000000       </td><td>NA              </td><td>Stony Point     </td><td> NY             </td><td>F               </td><td>Y               </td><td>N               </td></tr>\n",
       "\t<tr><td>488             </td><td>2013-11-22      </td><td>  3000000       </td><td>NA              </td><td>Rockwell        </td><td> NC             </td><td>M               </td><td>Y               </td><td>N               </td></tr>\n",
       "\t<tr><td>490             </td><td>2013-11-15      </td><td>  1000000       </td><td>NA              </td><td>Irondequoit     </td><td> NY             </td><td>F               </td><td>Y               </td><td>N               </td></tr>\n",
       "\t<tr><td>492             </td><td>2013-11-05      </td><td>   410115       </td><td>NA              </td><td>Oceanside       </td><td> CA             </td><td>M               </td><td>Y               </td><td>N               </td></tr>\n",
       "\t<tr><td>493             </td><td>2013-11-01      </td><td>  1000000       </td><td>NA              </td><td>Fort Stockton   </td><td> TX             </td><td>F               </td><td>Y               </td><td>N               </td></tr>\n",
       "\t<tr><td>494             </td><td>2013-10-25      </td><td>   479070       </td><td>NA              </td><td>Palmdale        </td><td> CA             </td><td>M               </td><td>Y               </td><td>N               </td></tr>\n",
       "\t<tr><td>495             </td><td>2012-11-27      </td><td> 50000000       </td><td>NA              </td><td>Thomasville     </td><td> GA             </td><td>M               </td><td>Y               </td><td>N               </td></tr>\n",
       "\t<tr><td>496             </td><td>2012-10-16      </td><td>  3005000       </td><td>NA              </td><td>Hyannis         </td><td> MA             </td><td>M               </td><td>Y               </td><td>N               </td></tr>\n",
       "</tbody>\n",
       "</table>\n"
      ],
      "text/latex": [
       "\\begin{tabular}{r|lllllllll}\n",
       " X & Draw.Date & Amount & cash.prize & Location & State & Gender & Win & Jackpot\\\\\n",
       "\\hline\n",
       "\t  1                      & 2002-05-24              & 2.33e+07                & NA                      & Chicago, Ill.           & IL                      & F                       & Y                       & Y                      \\\\\n",
       "\t  2                      & 2002-07-16              & 2.33e+07                & NA                      & Cliffside Park, N.J.    & NJ                      & M                       & Y                       & Y                      \\\\\n",
       "\t  4                      & 2002-09-06              & 2.33e+07                & NA                      & Kentwood, Mich.         & MI                      & M                       & Y                       & Y                      \\\\\n",
       "\t  9                      & 2003-02-11              & 2.33e+07                & NA                      & Brooklyn, N.Y.          & NY                      & M                       & Y                       & Y                      \\\\\n",
       "\t 14                      & 2003-06-20              & 2.33e+07                & NA                      & Baldwin, Md.            & MD                      & F                       & Y                       & Y                      \\\\\n",
       "\t 15                      & 2003-07-11              & 2.33e+07                & NA                      & Uniondale, N.Y.         & NY                      & F                       & Y                       & Y                      \\\\\n",
       "\t 16                      & 2003-08-08              & 2.33e+07                & NA                      & Savannah, Ga.           & GA                      & M                       & Y                       & Y                      \\\\\n",
       "\t 17                      & 2003-09-30              & 2.33e+07                & NA                      & Fitzgerald, Ga.         & GA                      & M                       & Y                       & Y                      \\\\\n",
       "\t 18                      & 2003-10-07              & 2.33e+07                & NA                      & Neptune Township N.J.   & MJ                      & F                       & Y                       & Y                      \\\\\n",
       "\t 19                      & 2003-11-11              & 2.33e+07                & NA                      & Roswell, Ga.            & GA                      & M                       & Y                       & Y                      \\\\\n",
       "\t 20                      & 2003-11-11              & 2.33e+07                & NA                      & Roswell, Ga.            & GA                      & M                       & Y                       & Y                      \\\\\n",
       "\t 22                      & 2003-12-30              & 1.62e+08                & NA                      & South Euclid, Ohio      & OH                      & F                       & Y                       & Y                      \\\\\n",
       "\t 24                      & 2004-03-02              & 2.10e+07                & NA                      & Dayton, Ohio            & OH                      & M                       & Y                       & Y                      \\\\\n",
       "\t 28                      & 2004-07-23              & 4.70e+07                & NA                      & Pullman, Mich.          & MI                      & M                       & Y                       & Y                      \\\\\n",
       "\t 29                      & 2004-07-27              & 1.00e+07                & NA                      & Cherry Hill, N.J.       & NJ                      & M                       & Y                       & Y                      \\\\\n",
       "\t 32                      & 2004-11-19              & 1.49e+08                & NA                      & Queens, N.Y.            & NY                      & M                       & Y                       & Y                      \\\\\n",
       "\t 34                      & 2005-01-18              & 1.31e+08                & NA                      & Washington, Ga.         & GA                      & F                       & Y                       & Y                      \\\\\n",
       "\t 44                      & 2006-01-06              & 1.50e+07                & NA                      & Ohio                    & OH                      & M                       & Y                       & Y                      \\\\\n",
       "\t 45                      & 2006-02-28              & 2.70e+08                & NA                      & Ohio                    & OH                      & M                       & Y                       & Y                      \\\\\n",
       "\t 46                      & 2006-04-18              & 2.65e+08                & NA                      & Ohio                    & OH                      & M                       & Y                       & Y                      \\\\\n",
       "\t 47                      & 2006-05-16              & 9.40e+07                & NA                      & El Paso, Texas          & TX                      & F                       & Y                       & Y                      \\\\\n",
       "\t 48                      & 2006-06-02              & 4.70e+07                & NA                      & New Brunswick, N.J.     & NJ                      & M                       & Y                       & Y                      \\\\\n",
       "\t 49                      & 2006-06-16              & 3.50e+07                & NA                      & La Quinta, Calif.       & CA                      & M                       & Y                       & Y                      \\\\\n",
       "\t 53                      & 2006-09-15              & 1.63e+08                & NA                      & Bainbridge, Ga.         & GA                      & M                       & Y                       & Y                      \\\\\n",
       "\t 54                      & 2006-09-19              & 1.20e+07                & NA                      & Bronx, N.Y.             & NY                      & M                       & Y                       & Y                      \\\\\n",
       "\t 55                      & 2006-09-26              & 1.50e+07                & NA                      & Hasbrouck Heights, N.J. & NJ                      & M                       & Y                       & Y                      \\\\\n",
       "\t 56                      & 2006-10-17              & 5.50e+07                & NA                      & North Bend, Wash.       & WA                      & M                       & Y                       & Y                      \\\\\n",
       "\t 57                      & 2006-11-14              & 7.50e+07                & NA                      & Detroit, Mich.          & MI                      & F                       & Y                       & Y                      \\\\\n",
       "\t 58                      & 2006-12-01              & 4.00e+07                & NA                      & Columbus, Ohio          & OH                      & M                       & Y                       & Y                      \\\\\n",
       "\t 61                      & 2007-03-06              & 1.95e+08                & NA                      &  Dalton, Ga.            & GA                      & M                       & Y                       & Y                      \\\\\n",
       "\t ... & ... & ... & ... & ... & ... & ... & ... & ...\\\\\n",
       "\t 462              & 2014-02-14       &   1000000        & NA               & Endicott         &  NY              & M                & Y                & N               \\\\\n",
       "\t 463              & 2014-02-07       &   1000000        & NA               & Man              &  WV              & M                & Y                & N               \\\\\n",
       "\t 464              & 2014-02-04       &    910781        & NA               & Whittier         &  CA              & M                & Y                & N               \\\\\n",
       "\t 465              & 2014-01-21       &   1000000        & NA               & Garfield Heights &  OH              & F                & Y                & N               \\\\\n",
       "\t 466              & 2014-01-17       &   1000000        & NA               & Waldorf          &  MD              & F                & Y                & N               \\\\\n",
       "\t 468              & 2014-01-14       &   1000000        & NA               & Greensboro       &  NC              & F                & Y                & N               \\\\\n",
       "\t 469              & 2013-12-24       &   1000000        & NA               & Lombard          &  IL              & F                & Y                & N               \\\\\n",
       "\t 470              & 2013-12-24       &   1000000        & NA               & Mesa             &  AZ              & M                & Y                & N               \\\\\n",
       "\t 471              & 2013-12-20       &   1000000        & NA               & Payson           &  AZ              & M                & Y                & N               \\\\\n",
       "\t 472              & 2013-12-17       & 324000000        & NA               & San Jose         &  CA              & M                & Y                & N               \\\\\n",
       "\t 473              & 2013-12-17       & 324000000        & NA               & Stone Mountain   &  GA              & M                & Y                & N               \\\\\n",
       "\t 474              & 2013-12-17       &   1000000        & NA               & Brownsville      &  TX              & F                & Y                & N               \\\\\n",
       "\t 475              & 2013-12-17       &   1000000        & NA               & Niles            &  MI              & F                & Y                & N               \\\\\n",
       "\t 476              & 2013-12-17       &   1000000        & NA               & Bethlehem        &  GA              & M                & Y                & N               \\\\\n",
       "\t 478              & 2013-12-17       &   1000000        & NA               & Chicago          &  IL              & F                & Y                & N               \\\\\n",
       "\t 480              & 2013-12-13       &   1000000        & NA               & Waterford        &  MI              & M                & Y                & N               \\\\\n",
       "\t 481              & 2013-12-13       &   1000000        & NA               & Manhattan        &  NY              & M                & Y                & N               \\\\\n",
       "\t 482              & 2013-12-13       &   1000000        & NA               & Eastpointe       &  MI              & F                & Y                & N               \\\\\n",
       "\t 483              & 2013-12-10       &   1000000        & NA               & Shelton          &  CT              & M                & Y                & N               \\\\\n",
       "\t 484              & 2013-12-10       &   1000000        & NA               & West Yarmouth    &  MA              & M                & Y                & N               \\\\\n",
       "\t 485              & 2013-11-26       &   1000000        & NA               & Glendale Heights &  IL              & M                & Y                & N               \\\\\n",
       "\t 486              & 2013-11-26       &   1000000        & NA               & Coram            &  NY              & M                & Y                & N               \\\\\n",
       "\t 487              & 2013-11-26       &   1000000        & NA               & Stony Point      &  NY              & F                & Y                & N               \\\\\n",
       "\t 488              & 2013-11-22       &   3000000        & NA               & Rockwell         &  NC              & M                & Y                & N               \\\\\n",
       "\t 490              & 2013-11-15       &   1000000        & NA               & Irondequoit      &  NY              & F                & Y                & N               \\\\\n",
       "\t 492              & 2013-11-05       &    410115        & NA               & Oceanside        &  CA              & M                & Y                & N               \\\\\n",
       "\t 493              & 2013-11-01       &   1000000        & NA               & Fort Stockton    &  TX              & F                & Y                & N               \\\\\n",
       "\t 494              & 2013-10-25       &    479070        & NA               & Palmdale         &  CA              & M                & Y                & N               \\\\\n",
       "\t 495              & 2012-11-27       &  50000000        & NA               & Thomasville      &  GA              & M                & Y                & N               \\\\\n",
       "\t 496              & 2012-10-16       &   3005000        & NA               & Hyannis          &  MA              & M                & Y                & N               \\\\\n",
       "\\end{tabular}\n"
      ],
      "text/markdown": [
       "\n",
       "| X | Draw.Date | Amount | cash.prize | Location | State | Gender | Win | Jackpot |\n",
       "|---|---|---|---|---|---|---|---|---|\n",
       "|  1                      | 2002-05-24              | 2.33e+07                | NA                      | Chicago, Ill.           | IL                      | F                       | Y                       | Y                       |\n",
       "|  2                      | 2002-07-16              | 2.33e+07                | NA                      | Cliffside Park, N.J.    | NJ                      | M                       | Y                       | Y                       |\n",
       "|  4                      | 2002-09-06              | 2.33e+07                | NA                      | Kentwood, Mich.         | MI                      | M                       | Y                       | Y                       |\n",
       "|  9                      | 2003-02-11              | 2.33e+07                | NA                      | Brooklyn, N.Y.          | NY                      | M                       | Y                       | Y                       |\n",
       "| 14                      | 2003-06-20              | 2.33e+07                | NA                      | Baldwin, Md.            | MD                      | F                       | Y                       | Y                       |\n",
       "| 15                      | 2003-07-11              | 2.33e+07                | NA                      | Uniondale, N.Y.         | NY                      | F                       | Y                       | Y                       |\n",
       "| 16                      | 2003-08-08              | 2.33e+07                | NA                      | Savannah, Ga.           | GA                      | M                       | Y                       | Y                       |\n",
       "| 17                      | 2003-09-30              | 2.33e+07                | NA                      | Fitzgerald, Ga.         | GA                      | M                       | Y                       | Y                       |\n",
       "| 18                      | 2003-10-07              | 2.33e+07                | NA                      | Neptune Township N.J.   | MJ                      | F                       | Y                       | Y                       |\n",
       "| 19                      | 2003-11-11              | 2.33e+07                | NA                      | Roswell, Ga.            | GA                      | M                       | Y                       | Y                       |\n",
       "| 20                      | 2003-11-11              | 2.33e+07                | NA                      | Roswell, Ga.            | GA                      | M                       | Y                       | Y                       |\n",
       "| 22                      | 2003-12-30              | 1.62e+08                | NA                      | South Euclid, Ohio      | OH                      | F                       | Y                       | Y                       |\n",
       "| 24                      | 2004-03-02              | 2.10e+07                | NA                      | Dayton, Ohio            | OH                      | M                       | Y                       | Y                       |\n",
       "| 28                      | 2004-07-23              | 4.70e+07                | NA                      | Pullman, Mich.          | MI                      | M                       | Y                       | Y                       |\n",
       "| 29                      | 2004-07-27              | 1.00e+07                | NA                      | Cherry Hill, N.J.       | NJ                      | M                       | Y                       | Y                       |\n",
       "| 32                      | 2004-11-19              | 1.49e+08                | NA                      | Queens, N.Y.            | NY                      | M                       | Y                       | Y                       |\n",
       "| 34                      | 2005-01-18              | 1.31e+08                | NA                      | Washington, Ga.         | GA                      | F                       | Y                       | Y                       |\n",
       "| 44                      | 2006-01-06              | 1.50e+07                | NA                      | Ohio                    | OH                      | M                       | Y                       | Y                       |\n",
       "| 45                      | 2006-02-28              | 2.70e+08                | NA                      | Ohio                    | OH                      | M                       | Y                       | Y                       |\n",
       "| 46                      | 2006-04-18              | 2.65e+08                | NA                      | Ohio                    | OH                      | M                       | Y                       | Y                       |\n",
       "| 47                      | 2006-05-16              | 9.40e+07                | NA                      | El Paso, Texas          | TX                      | F                       | Y                       | Y                       |\n",
       "| 48                      | 2006-06-02              | 4.70e+07                | NA                      | New Brunswick, N.J.     | NJ                      | M                       | Y                       | Y                       |\n",
       "| 49                      | 2006-06-16              | 3.50e+07                | NA                      | La Quinta, Calif.       | CA                      | M                       | Y                       | Y                       |\n",
       "| 53                      | 2006-09-15              | 1.63e+08                | NA                      | Bainbridge, Ga.         | GA                      | M                       | Y                       | Y                       |\n",
       "| 54                      | 2006-09-19              | 1.20e+07                | NA                      | Bronx, N.Y.             | NY                      | M                       | Y                       | Y                       |\n",
       "| 55                      | 2006-09-26              | 1.50e+07                | NA                      | Hasbrouck Heights, N.J. | NJ                      | M                       | Y                       | Y                       |\n",
       "| 56                      | 2006-10-17              | 5.50e+07                | NA                      | North Bend, Wash.       | WA                      | M                       | Y                       | Y                       |\n",
       "| 57                      | 2006-11-14              | 7.50e+07                | NA                      | Detroit, Mich.          | MI                      | F                       | Y                       | Y                       |\n",
       "| 58                      | 2006-12-01              | 4.00e+07                | NA                      | Columbus, Ohio          | OH                      | M                       | Y                       | Y                       |\n",
       "| 61                      | 2007-03-06              | 1.95e+08                | NA                      |  Dalton, Ga.            | GA                      | M                       | Y                       | Y                       |\n",
       "| ... | ... | ... | ... | ... | ... | ... | ... | ... |\n",
       "| 462              | 2014-02-14       |   1000000        | NA               | Endicott         |  NY              | M                | Y                | N                |\n",
       "| 463              | 2014-02-07       |   1000000        | NA               | Man              |  WV              | M                | Y                | N                |\n",
       "| 464              | 2014-02-04       |    910781        | NA               | Whittier         |  CA              | M                | Y                | N                |\n",
       "| 465              | 2014-01-21       |   1000000        | NA               | Garfield Heights |  OH              | F                | Y                | N                |\n",
       "| 466              | 2014-01-17       |   1000000        | NA               | Waldorf          |  MD              | F                | Y                | N                |\n",
       "| 468              | 2014-01-14       |   1000000        | NA               | Greensboro       |  NC              | F                | Y                | N                |\n",
       "| 469              | 2013-12-24       |   1000000        | NA               | Lombard          |  IL              | F                | Y                | N                |\n",
       "| 470              | 2013-12-24       |   1000000        | NA               | Mesa             |  AZ              | M                | Y                | N                |\n",
       "| 471              | 2013-12-20       |   1000000        | NA               | Payson           |  AZ              | M                | Y                | N                |\n",
       "| 472              | 2013-12-17       | 324000000        | NA               | San Jose         |  CA              | M                | Y                | N                |\n",
       "| 473              | 2013-12-17       | 324000000        | NA               | Stone Mountain   |  GA              | M                | Y                | N                |\n",
       "| 474              | 2013-12-17       |   1000000        | NA               | Brownsville      |  TX              | F                | Y                | N                |\n",
       "| 475              | 2013-12-17       |   1000000        | NA               | Niles            |  MI              | F                | Y                | N                |\n",
       "| 476              | 2013-12-17       |   1000000        | NA               | Bethlehem        |  GA              | M                | Y                | N                |\n",
       "| 478              | 2013-12-17       |   1000000        | NA               | Chicago          |  IL              | F                | Y                | N                |\n",
       "| 480              | 2013-12-13       |   1000000        | NA               | Waterford        |  MI              | M                | Y                | N                |\n",
       "| 481              | 2013-12-13       |   1000000        | NA               | Manhattan        |  NY              | M                | Y                | N                |\n",
       "| 482              | 2013-12-13       |   1000000        | NA               | Eastpointe       |  MI              | F                | Y                | N                |\n",
       "| 483              | 2013-12-10       |   1000000        | NA               | Shelton          |  CT              | M                | Y                | N                |\n",
       "| 484              | 2013-12-10       |   1000000        | NA               | West Yarmouth    |  MA              | M                | Y                | N                |\n",
       "| 485              | 2013-11-26       |   1000000        | NA               | Glendale Heights |  IL              | M                | Y                | N                |\n",
       "| 486              | 2013-11-26       |   1000000        | NA               | Coram            |  NY              | M                | Y                | N                |\n",
       "| 487              | 2013-11-26       |   1000000        | NA               | Stony Point      |  NY              | F                | Y                | N                |\n",
       "| 488              | 2013-11-22       |   3000000        | NA               | Rockwell         |  NC              | M                | Y                | N                |\n",
       "| 490              | 2013-11-15       |   1000000        | NA               | Irondequoit      |  NY              | F                | Y                | N                |\n",
       "| 492              | 2013-11-05       |    410115        | NA               | Oceanside        |  CA              | M                | Y                | N                |\n",
       "| 493              | 2013-11-01       |   1000000        | NA               | Fort Stockton    |  TX              | F                | Y                | N                |\n",
       "| 494              | 2013-10-25       |    479070        | NA               | Palmdale         |  CA              | M                | Y                | N                |\n",
       "| 495              | 2012-11-27       |  50000000        | NA               | Thomasville      |  GA              | M                | Y                | N                |\n",
       "| 496              | 2012-10-16       |   3005000        | NA               | Hyannis          |  MA              | M                | Y                | N                |\n",
       "\n"
      ],
      "text/plain": [
       "    X   Draw.Date  Amount    cash.prize Location                State Gender\n",
       "1    1  2002-05-24 2.33e+07  NA         Chicago, Ill.           IL    F     \n",
       "2    2  2002-07-16 2.33e+07  NA         Cliffside Park, N.J.    NJ    M     \n",
       "3    4  2002-09-06 2.33e+07  NA         Kentwood, Mich.         MI    M     \n",
       "4    9  2003-02-11 2.33e+07  NA         Brooklyn, N.Y.          NY    M     \n",
       "5   14  2003-06-20 2.33e+07  NA         Baldwin, Md.            MD    F     \n",
       "6   15  2003-07-11 2.33e+07  NA         Uniondale, N.Y.         NY    F     \n",
       "7   16  2003-08-08 2.33e+07  NA         Savannah, Ga.           GA    M     \n",
       "8   17  2003-09-30 2.33e+07  NA         Fitzgerald, Ga.         GA    M     \n",
       "9   18  2003-10-07 2.33e+07  NA         Neptune Township N.J.   MJ    F     \n",
       "10  19  2003-11-11 2.33e+07  NA         Roswell, Ga.            GA    M     \n",
       "11  20  2003-11-11 2.33e+07  NA         Roswell, Ga.            GA    M     \n",
       "12  22  2003-12-30 1.62e+08  NA         South Euclid, Ohio      OH    F     \n",
       "13  24  2004-03-02 2.10e+07  NA         Dayton, Ohio            OH    M     \n",
       "14  28  2004-07-23 4.70e+07  NA         Pullman, Mich.          MI    M     \n",
       "15  29  2004-07-27 1.00e+07  NA         Cherry Hill, N.J.       NJ    M     \n",
       "16  32  2004-11-19 1.49e+08  NA         Queens, N.Y.            NY    M     \n",
       "17  34  2005-01-18 1.31e+08  NA         Washington, Ga.         GA    F     \n",
       "18  44  2006-01-06 1.50e+07  NA         Ohio                    OH    M     \n",
       "19  45  2006-02-28 2.70e+08  NA         Ohio                    OH    M     \n",
       "20  46  2006-04-18 2.65e+08  NA         Ohio                    OH    M     \n",
       "21  47  2006-05-16 9.40e+07  NA         El Paso, Texas          TX    F     \n",
       "22  48  2006-06-02 4.70e+07  NA         New Brunswick, N.J.     NJ    M     \n",
       "23  49  2006-06-16 3.50e+07  NA         La Quinta, Calif.       CA    M     \n",
       "24  53  2006-09-15 1.63e+08  NA         Bainbridge, Ga.         GA    M     \n",
       "25  54  2006-09-19 1.20e+07  NA         Bronx, N.Y.             NY    M     \n",
       "26  55  2006-09-26 1.50e+07  NA         Hasbrouck Heights, N.J. NJ    M     \n",
       "27  56  2006-10-17 5.50e+07  NA         North Bend, Wash.       WA    M     \n",
       "28  57  2006-11-14 7.50e+07  NA         Detroit, Mich.          MI    F     \n",
       "29  58  2006-12-01 4.00e+07  NA         Columbus, Ohio          OH    M     \n",
       "30  61  2007-03-06 1.95e+08  NA          Dalton, Ga.            GA    M     \n",
       "... ... ...        ...       ...        ...                     ...   ...   \n",
       "291 462 2014-02-14   1000000 NA         Endicott                 NY   M     \n",
       "292 463 2014-02-07   1000000 NA         Man                      WV   M     \n",
       "293 464 2014-02-04    910781 NA         Whittier                 CA   M     \n",
       "294 465 2014-01-21   1000000 NA         Garfield Heights         OH   F     \n",
       "295 466 2014-01-17   1000000 NA         Waldorf                  MD   F     \n",
       "296 468 2014-01-14   1000000 NA         Greensboro               NC   F     \n",
       "297 469 2013-12-24   1000000 NA         Lombard                  IL   F     \n",
       "298 470 2013-12-24   1000000 NA         Mesa                     AZ   M     \n",
       "299 471 2013-12-20   1000000 NA         Payson                   AZ   M     \n",
       "300 472 2013-12-17 324000000 NA         San Jose                 CA   M     \n",
       "301 473 2013-12-17 324000000 NA         Stone Mountain           GA   M     \n",
       "302 474 2013-12-17   1000000 NA         Brownsville              TX   F     \n",
       "303 475 2013-12-17   1000000 NA         Niles                    MI   F     \n",
       "304 476 2013-12-17   1000000 NA         Bethlehem                GA   M     \n",
       "305 478 2013-12-17   1000000 NA         Chicago                  IL   F     \n",
       "306 480 2013-12-13   1000000 NA         Waterford                MI   M     \n",
       "307 481 2013-12-13   1000000 NA         Manhattan                NY   M     \n",
       "308 482 2013-12-13   1000000 NA         Eastpointe               MI   F     \n",
       "309 483 2013-12-10   1000000 NA         Shelton                  CT   M     \n",
       "310 484 2013-12-10   1000000 NA         West Yarmouth            MA   M     \n",
       "311 485 2013-11-26   1000000 NA         Glendale Heights         IL   M     \n",
       "312 486 2013-11-26   1000000 NA         Coram                    NY   M     \n",
       "313 487 2013-11-26   1000000 NA         Stony Point              NY   F     \n",
       "314 488 2013-11-22   3000000 NA         Rockwell                 NC   M     \n",
       "315 490 2013-11-15   1000000 NA         Irondequoit              NY   F     \n",
       "316 492 2013-11-05    410115 NA         Oceanside                CA   M     \n",
       "317 493 2013-11-01   1000000 NA         Fort Stockton            TX   F     \n",
       "318 494 2013-10-25    479070 NA         Palmdale                 CA   M     \n",
       "319 495 2012-11-27  50000000 NA         Thomasville              GA   M     \n",
       "320 496 2012-10-16   3005000 NA         Hyannis                  MA   M     \n",
       "    Win Jackpot\n",
       "1   Y   Y      \n",
       "2   Y   Y      \n",
       "3   Y   Y      \n",
       "4   Y   Y      \n",
       "5   Y   Y      \n",
       "6   Y   Y      \n",
       "7   Y   Y      \n",
       "8   Y   Y      \n",
       "9   Y   Y      \n",
       "10  Y   Y      \n",
       "11  Y   Y      \n",
       "12  Y   Y      \n",
       "13  Y   Y      \n",
       "14  Y   Y      \n",
       "15  Y   Y      \n",
       "16  Y   Y      \n",
       "17  Y   Y      \n",
       "18  Y   Y      \n",
       "19  Y   Y      \n",
       "20  Y   Y      \n",
       "21  Y   Y      \n",
       "22  Y   Y      \n",
       "23  Y   Y      \n",
       "24  Y   Y      \n",
       "25  Y   Y      \n",
       "26  Y   Y      \n",
       "27  Y   Y      \n",
       "28  Y   Y      \n",
       "29  Y   Y      \n",
       "30  Y   Y      \n",
       "... ... ...    \n",
       "291 Y   N      \n",
       "292 Y   N      \n",
       "293 Y   N      \n",
       "294 Y   N      \n",
       "295 Y   N      \n",
       "296 Y   N      \n",
       "297 Y   N      \n",
       "298 Y   N      \n",
       "299 Y   N      \n",
       "300 Y   N      \n",
       "301 Y   N      \n",
       "302 Y   N      \n",
       "303 Y   N      \n",
       "304 Y   N      \n",
       "305 Y   N      \n",
       "306 Y   N      \n",
       "307 Y   N      \n",
       "308 Y   N      \n",
       "309 Y   N      \n",
       "310 Y   N      \n",
       "311 Y   N      \n",
       "312 Y   N      \n",
       "313 Y   N      \n",
       "314 Y   N      \n",
       "315 Y   N      \n",
       "316 Y   N      \n",
       "317 Y   N      \n",
       "318 Y   N      \n",
       "319 Y   N      \n",
       "320 Y   N      "
      ]
     },
     "metadata": {},
     "output_type": "display_data"
    }
   ],
   "source": [
    "MenVWomen<- Wins %>% filter(Gender %in% c(\"M\", \"F\"))\n",
    "View(MenVWomen)"
   ]
  },
  {
   "cell_type": "code",
   "execution_count": 4,
   "id": "dd78d2de",
   "metadata": {},
   "outputs": [],
   "source": [
    "MenVWomen$Gender <- as.factor(MenVWomen$Gender)"
   ]
  },
  {
   "cell_type": "code",
   "execution_count": 5,
   "id": "92d68814",
   "metadata": {},
   "outputs": [],
   "source": [
    "MenVWomen$Jackpot <- as.factor(MenVWomen$Jackpot)"
   ]
  },
  {
   "cell_type": "markdown",
   "id": "f93331b0",
   "metadata": {},
   "source": [
    "#### Testing Assumptions\n"
   ]
  },
  {
   "cell_type": "markdown",
   "id": "b92d4f75",
   "metadata": {},
   "source": [
    "\n",
    "##### 1. Normality\n"
   ]
  },
  {
   "cell_type": "code",
   "execution_count": null,
   "id": "fef5389e",
   "metadata": {},
   "outputs": [],
   "source": [
    "plotNormalHistogram(MenVWomen$Amount)\n",
    "#  positive skew"
   ]
  },
  {
   "cell_type": "code",
   "execution_count": 6,
   "id": "429ffb23",
   "metadata": {},
   "outputs": [],
   "source": [
    "MenVWomen$AmountSQRT <- sqrt(MenVWomen$Amount)"
   ]
  },
  {
   "cell_type": "code",
   "execution_count": null,
   "id": "4dd07dc2",
   "metadata": {},
   "outputs": [],
   "source": [
    "plotNormalHistogram(MenVWomen$AmountSQRT)\n",
    "#  positive skew"
   ]
  },
  {
   "cell_type": "code",
   "execution_count": 7,
   "id": "1cffa010",
   "metadata": {},
   "outputs": [],
   "source": [
    "MenVWomen$AmountLOG <-log(MenVWomen$Amount)"
   ]
  },
  {
   "cell_type": "code",
   "execution_count": null,
   "id": "db6bdba0",
   "metadata": {},
   "outputs": [],
   "source": [
    "plotNormalHistogram(MenVWomen$AmountLOG)\n",
    "#better but negatively kurtotic. let's use Tukey's Ladder of Power Transformation"
   ]
  },
  {
   "cell_type": "code",
   "execution_count": null,
   "id": "a1ce14cb",
   "metadata": {},
   "outputs": [],
   "source": [
    "MenVWomen$AmountTUK <- transformTukey(MenVWomen$Amount, plotit=FALSE)"
   ]
  },
  {
   "cell_type": "code",
   "execution_count": null,
   "id": "96cbce75",
   "metadata": {},
   "outputs": [],
   "source": [
    "plotNormalHistogram(MenVWomen$AmountTUK)\n",
    "#plot is the same as the log transformation. will use AmountLOG"
   ]
  },
  {
   "cell_type": "markdown",
   "id": "0c3e9f17",
   "metadata": {},
   "source": [
    "##### 2. Homogeneity of Variance\n"
   ]
  },
  {
   "cell_type": "code",
   "execution_count": 9,
   "id": "bc226edd",
   "metadata": {},
   "outputs": [
    {
     "data": {
      "text/html": [
       "<table>\n",
       "<thead><tr><th></th><th scope=col>Df</th><th scope=col>F value</th><th scope=col>Pr(&gt;F)</th></tr></thead>\n",
       "<tbody>\n",
       "\t<tr><th scope=row>group</th><td>  1       </td><td>6.674103  </td><td>0.01022844</td></tr>\n",
       "\t<tr><th scope=row> </th><td>318       </td><td>      NA  </td><td>        NA</td></tr>\n",
       "</tbody>\n",
       "</table>\n"
      ],
      "text/latex": [
       "\\begin{tabular}{r|lll}\n",
       "  & Df & F value & Pr(>F)\\\\\n",
       "\\hline\n",
       "\tgroup &   1        & 6.674103   & 0.01022844\\\\\n",
       "\t  & 318        &       NA   &         NA\\\\\n",
       "\\end{tabular}\n"
      ],
      "text/markdown": [
       "\n",
       "| <!--/--> | Df | F value | Pr(>F) |\n",
       "|---|---|---|---|\n",
       "| group |   1        | 6.674103   | 0.01022844 |\n",
       "|   | 318        |       NA   |         NA |\n",
       "\n"
      ],
      "text/plain": [
       "      Df  F value  Pr(>F)    \n",
       "group   1 6.674103 0.01022844\n",
       "      318       NA         NA"
      ]
     },
     "metadata": {},
     "output_type": "display_data"
    }
   ],
   "source": [
    "leveneTest(MenVWomen$AmountLOG~Gender, data=MenVWomen)"
   ]
  },
  {
   "cell_type": "markdown",
   "id": "233490ed",
   "metadata": {},
   "source": [
    "Results were  significant, so the assumption is not met! use the Anova() function  to correct for violation"
   ]
  },
  {
   "cell_type": "markdown",
   "id": "475cf2df",
   "metadata": {},
   "source": [
    "##### 4. Sample size\n"
   ]
  },
  {
   "cell_type": "markdown",
   "id": "8e3bd38b",
   "metadata": {},
   "source": [
    "this assumption is met -need 20 per IV or CV and we have 2, so need at least 40 and there are 320 cases!\n"
   ]
  },
  {
   "cell_type": "markdown",
   "id": "9be1c9b0",
   "metadata": {},
   "source": [
    "\n",
    "#### Running the Analysis\n"
   ]
  },
  {
   "cell_type": "code",
   "execution_count": 10,
   "id": "9283bc4c",
   "metadata": {},
   "outputs": [
    {
     "name": "stderr",
     "output_type": "stream",
     "text": [
      "Coefficient covariances computed by hccm()\n",
      "\n"
     ]
    },
    {
     "data": {
      "text/html": [
       "<table>\n",
       "<thead><tr><th></th><th scope=col>Df</th><th scope=col>F</th><th scope=col>Pr(&gt;F)</th></tr></thead>\n",
       "<tbody>\n",
       "\t<tr><th scope=row>Jackpot</th><td>  1         </td><td>973.65082179</td><td>1.615498e-98</td></tr>\n",
       "\t<tr><th scope=row>Gender</th><td>  1         </td><td>  2.81534881</td><td>9.435529e-02</td></tr>\n",
       "\t<tr><th scope=row>Jackpot:Gender</th><td>  1         </td><td>  0.09150737</td><td>7.624685e-01</td></tr>\n",
       "\t<tr><th scope=row>Residuals</th><td>316         </td><td>          NA</td><td>          NA</td></tr>\n",
       "</tbody>\n",
       "</table>\n"
      ],
      "text/latex": [
       "\\begin{tabular}{r|lll}\n",
       "  & Df & F & Pr(>F)\\\\\n",
       "\\hline\n",
       "\tJackpot &   1          & 973.65082179 & 1.615498e-98\\\\\n",
       "\tGender &   1          &   2.81534881 & 9.435529e-02\\\\\n",
       "\tJackpot:Gender &   1          &   0.09150737 & 7.624685e-01\\\\\n",
       "\tResiduals & 316          &           NA &           NA\\\\\n",
       "\\end{tabular}\n"
      ],
      "text/markdown": [
       "\n",
       "| <!--/--> | Df | F | Pr(>F) |\n",
       "|---|---|---|---|\n",
       "| Jackpot |   1          | 973.65082179 | 1.615498e-98 |\n",
       "| Gender |   1          |   2.81534881 | 9.435529e-02 |\n",
       "| Jackpot:Gender |   1          |   0.09150737 | 7.624685e-01 |\n",
       "| Residuals | 316          |           NA |           NA |\n",
       "\n"
      ],
      "text/plain": [
       "               Df  F            Pr(>F)      \n",
       "Jackpot          1 973.65082179 1.615498e-98\n",
       "Gender           1   2.81534881 9.435529e-02\n",
       "Jackpot:Gender   1   0.09150737 7.624685e-01\n",
       "Residuals      316           NA           NA"
      ]
     },
     "metadata": {},
     "output_type": "display_data"
    }
   ],
   "source": [
    "ANCOVA = lm(AmountLOG~Jackpot + Gender*Jackpot, data=MenVWomen)\n",
    "Anova(ANCOVA,Type=\"I\", white.adjust=TRUE)"
   ]
  },
  {
   "cell_type": "markdown",
   "id": "fac7c473",
   "metadata": {},
   "source": [
    "When comparing Men to Women, Gender does not influence the size the prize even controlling for whether or not it was a jackpot."
   ]
  }
 ],
 "metadata": {
  "kernelspec": {
   "display_name": "R",
   "language": "R",
   "name": "python388jvsc74a57bd01c8c0fa333f189d0570cf4406a625e2ab53144d44643b91a9101307b9da57124"
  },
  "language_info": {
   "codemirror_mode": "r",
   "file_extension": ".r",
   "mimetype": "text/x-r-source",
   "name": "R",
   "pygments_lexer": "r",
   "version": "3.6.1"
  }
 },
 "nbformat": 4,
 "nbformat_minor": 5
}
