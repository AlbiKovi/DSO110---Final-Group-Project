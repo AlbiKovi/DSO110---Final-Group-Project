{
 "cells": [
  {
   "cell_type": "code",
   "execution_count": 1,
   "id": "ccd57ec8",
   "metadata": {},
   "outputs": [
    {
     "ename": "ERROR",
     "evalue": "Error in library(tidyr): there is no package called 'tidyr'\n",
     "output_type": "error",
     "traceback": [
      "Error in library(tidyr): there is no package called 'tidyr'\nTraceback:\n",
      "1. library(tidyr)"
     ]
    }
   ],
   "source": [
    "library(tidyr)\n",
    "library(gridExtra)\n",
    "library(dplyr)\n",
    "library(datasets)\n",
    "library(ggplot2)\n",
    "library(Ecdat)\n",
    "#import dataset\n",
    "WinningNumbers <- read.csv(\"Lottery_Mega_Millions_Winning_Numbers__Beginning_2002_Wrangled.csv\")\n",
    "View(WinningNumbers)\n",
    "Wins <- read.csv(\"jackpot winners.csv\")\n",
    "View(Wins)\n",
    "names(Wins)[names(Wins) == \"amount..won\"] <- \"Jackpot\""
   ]
  },
  {
   "cell_type": "code",
   "execution_count": null,
   "id": "00e140ec",
   "metadata": {},
   "outputs": [],
   "source": [
    "CashByGender <- aggregate(Jackpot~gender, Wins, sum)\n",
    "View(CashByGender)"
   ]
  },
  {
   "cell_type": "code",
   "execution_count": null,
   "id": "230e19ca",
   "metadata": {},
   "outputs": [
    {
     "name": "stdout",
     "output_type": "stream",
     "text": [
      "[1] \"Hello WOrld\"\n"
     ]
    }
   ],
   "source": [
    "Women = data.frame(Wins %>% filter(gender == \"F\"))\n",
    "FWins<-Women$Jackpot\n",
    "mean(FWins)\n",
    "# 93696552\n",
    "View(Women)"
   ]
  },
  {
   "cell_type": "code",
   "execution_count": null,
   "id": "7d288cff",
   "metadata": {},
   "outputs": [],
   "source": [
    "Men = data.frame(Wins %>% filter(gender == \"M\"))\n",
    "MWins<-Men$Jackpot\n",
    "mean(MWins)\n",
    "#107261728\n",
    "View(Men)"
   ]
  },
  {
   "cell_type": "code",
   "execution_count": null,
   "id": "a7a739de",
   "metadata": {},
   "outputs": [],
   "source": [
    "MixedGroups = data.frame(Wins %>% filter(gender == \"Mixed\"))\n",
    "GWins<-MixedGroups$Jackpot\n",
    "mean(GWins)\n",
    "#105291045\n",
    "View(Groups)"
   ]
  },
  {
   "cell_type": "code",
   "execution_count": null,
   "id": "e157b708",
   "metadata": {},
   "outputs": [],
   "source": [
    "\n",
    "Unknown = data.frame(Wins %>% filter(gender %in% c (\"Unk\", \"Mixed\")))\n",
    "UWins<-Unknown$Jackpot\n",
    "mean(UWins)\n",
    "# 264166372\n",
    "View(Unknown)"
   ]
  },
  {
   "cell_type": "code",
   "execution_count": null,
   "id": "16d2143f",
   "metadata": {},
   "outputs": [],
   "source": [
    "SingleSex = data.frame(Wins %>% filter(gender %in% c (\"M\", \"F\")))\n",
    "SWins<-SingleSex$Jackpot\n",
    "mean(SWins)\n",
    "# 103685455\n",
    "View(SingleSex)"
   ]
  },
  {
   "cell_type": "code",
   "execution_count": null,
   "id": "4a28d140",
   "metadata": {},
   "outputs": [],
   "source": [
    "# t-test to see if  Women's Jackpots were significantly different than Men's.\n",
    "t_dep <- t.test(FWins, MWins, paired =FALSE)\n",
    "t_dep"
   ]
  },
  {
   "cell_type": "code",
   "execution_count": null,
   "id": "e618b7c4",
   "metadata": {},
   "outputs": [],
   "source": [
    "# t-test to see if Jackpots for Individual Winners and Single Sex Groups were significantly different than Jackpots for Mixed Groups and Winners where the Sex/Gender was unknown.\n",
    "t2 <- t.test(SWins, UWins, paired =FALSE)\n",
    "t2"
   ]
  },
  {
   "cell_type": "code",
   "execution_count": null,
   "id": "1be80157",
   "metadata": {},
   "outputs": [],
   "source": [
    "# t-test to see if Jackpots for Individual Winners and Single Sex Groups were significantly different than Jackpots for Mixed Groups \n",
    "t3 <- t.test(SWins, GWins, paired =FALSE)\n",
    "t3"
   ]
  },
  {
   "cell_type": "code",
   "execution_count": null,
   "id": "e4cdc39e",
   "metadata": {},
   "outputs": [],
   "source": [
    "# Which state has won the most \n",
    "CashByState <- aggregate(Jackpot~state, Wins, sum)\n",
    "View(CashByState)\n",
    "# South Carolina has won the most prize money \n",
    "ggplot(CashByState, aes(y = Jackpot, x = state)) + geom_point() + geom_smooth(method='lm', se = TRUE) + ggtitle(\"Total Jackpot winnings by State\")+ ylab(\"Total Jackpot Winnings\") + xlab(\"State\")"
   ]
  },
  {
   "cell_type": "code",
   "execution_count": null,
   "id": "9d83748f",
   "metadata": {},
   "outputs": [],
   "source": [
    "# did the jackpots change over time?\n",
    "CashByYear <- aggregate(Jackpot~year, WinningNumbers, sum)\n",
    "View(CashByYear)\n",
    "ggplot(CashByYear, aes(y = Jackpot, x = year)) + geom_point() + geom_smooth(method='lm', se = FALSE) + ggtitle(\"Total Jackpot winnings over Time\")+ ylab(\"Total Jackpot Winnings\") + xlab(\"Time\")"
   ]
  },
  {
   "cell_type": "code",
   "execution_count": null,
   "id": "c1639a07",
   "metadata": {},
   "outputs": [],
   "source": []
  }
 ],
 "metadata": {
  "kernelspec": {
   "display_name": "R",
   "language": "R",
   "name": "python388jvsc74a57bd01c8c0fa333f189d0570cf4406a625e2ab53144d44643b91a9101307b9da57124"
  },
  "language_info": {
   "codemirror_mode": "r",
   "file_extension": ".r",
   "mimetype": "text/x-r-source",
   "name": "R",
   "pygments_lexer": "r",
   "version": "3.6.1"
  }
 },
 "nbformat": 4,
 "nbformat_minor": 5
}
