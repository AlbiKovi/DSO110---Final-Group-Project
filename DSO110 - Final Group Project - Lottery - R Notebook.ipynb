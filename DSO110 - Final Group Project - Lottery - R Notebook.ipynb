{
 "cells": [
  {
   "cell_type": "markdown",
   "id": "75ed6a7e",
   "metadata": {},
   "source": [
    "## Setup"
   ]
  },
  {
   "cell_type": "markdown",
   "id": "cf0abd25",
   "metadata": {},
   "source": [
    "### import packages"
   ]
  },
  {
   "cell_type": "code",
   "execution_count": 7,
   "id": "ccd57ec8",
   "metadata": {},
   "outputs": [],
   "source": [
    "library(tidyr)\n",
    "library(gridExtra)\n",
    "library(dplyr)\n",
    "library(datasets)\n",
    "library(ggplot2)\n",
    "library(Ecdat)\n",
    "library(car)\n",
    "library(multcomp)\n",
    "library(gmodels)\n",
    "\n"
   ]
  },
  {
   "cell_type": "markdown",
   "id": "5d445e23",
   "metadata": {},
   "source": [
    "### import datasets"
   ]
  },
  {
   "cell_type": "code",
   "execution_count": 59,
   "id": "9db4b342",
   "metadata": {},
   "outputs": [
    {
     "data": {
      "text/html": [
       "<table>\n",
       "<thead><tr><th scope=col>X</th><th scope=col>Draw.Date</th><th scope=col>Amount</th><th scope=col>cash.prize</th><th scope=col>Location</th><th scope=col>State</th><th scope=col>Gender</th><th scope=col>Win</th><th scope=col>Jackpot</th></tr></thead>\n",
       "<tbody>\n",
       "\t<tr><td> 0                   </td><td>2002-05-17           </td><td>2.33e+07             </td><td>NA                   </td><td>Chatham, Ill.        </td><td>IL                   </td><td>Mixed                </td><td>Y                    </td><td>Y                    </td></tr>\n",
       "\t<tr><td> 1                   </td><td>2002-05-24           </td><td>2.33e+07             </td><td>NA                   </td><td>Chicago, Ill.        </td><td>IL                   </td><td>F                    </td><td>Y                    </td><td>Y                    </td></tr>\n",
       "\t<tr><td> 2                   </td><td>2002-07-16           </td><td>2.33e+07             </td><td>NA                   </td><td>Cliffside Park, N.J. </td><td>NJ                   </td><td>M                    </td><td>Y                    </td><td>Y                    </td></tr>\n",
       "\t<tr><td> 3                   </td><td>2002-08-27           </td><td>2.33e+07             </td><td>NA                   </td><td>New York City, N.Y.  </td><td>NY                   </td><td>Mixed                </td><td>Y                    </td><td>Y                    </td></tr>\n",
       "\t<tr><td> 4                   </td><td>2002-09-06           </td><td>2.33e+07             </td><td>NA                   </td><td>Kentwood, Mich.      </td><td>MI                   </td><td>M                    </td><td>Y                    </td><td>Y                    </td></tr>\n",
       "\t<tr><td> 5                   </td><td>2002-09-27           </td><td>2.33e+07             </td><td>NA                   </td><td>Mount Prospect, Ill. </td><td>IL                   </td><td>Mixed                </td><td>Y                    </td><td>Y                    </td></tr>\n",
       "\t<tr><td> 6                   </td><td>2002-11-08           </td><td>2.33e+07             </td><td>NA                   </td><td>Hoquiam, Wash.       </td><td>WA                   </td><td>Mixed                </td><td>Y                    </td><td>Y                    </td></tr>\n",
       "\t<tr><td> 7                   </td><td>2002-11-19           </td><td>2.33e+07             </td><td>NA                   </td><td>New York City, N.Y.  </td><td>NY                   </td><td>Mixed                </td><td>Y                    </td><td>Y                    </td></tr>\n",
       "\t<tr><td> 8                   </td><td>2002-12-24           </td><td>2.33e+07             </td><td>NA                   </td><td>Unclaimed in N.Y.    </td><td>NY                   </td><td>Unk                  </td><td>Y                    </td><td>Y                    </td></tr>\n",
       "\t<tr><td> 9                   </td><td>2003-02-11           </td><td>2.33e+07             </td><td>NA                   </td><td>Brooklyn, N.Y.       </td><td>NY                   </td><td>M                    </td><td>Y                    </td><td>Y                    </td></tr>\n",
       "\t<tr><td>10                   </td><td>2003-02-18           </td><td>2.33e+07             </td><td>NA                   </td><td>Geraldine, Ala.      </td><td>AL                   </td><td>Unk                  </td><td>Y                    </td><td>Y                    </td></tr>\n",
       "\t<tr><td>11                   </td><td>2003-03-14           </td><td>2.33e+07             </td><td>NA                   </td><td>Englewood, N.J.      </td><td>NJ                   </td><td>Mixed                </td><td>Y                    </td><td>Y                    </td></tr>\n",
       "\t<tr><td>12                   </td><td>2003-03-28           </td><td>2.33e+07             </td><td>NA                   </td><td>Randallstown, Md.    </td><td>MD                   </td><td>Unk                  </td><td>Y                    </td><td>Y                    </td></tr>\n",
       "\t<tr><td>13                   </td><td>2003-04-25           </td><td>2.33e+07             </td><td>NA                   </td><td>Brooklyn, N.Y.       </td><td>NY                   </td><td>Unk                  </td><td>Y                    </td><td>Y                    </td></tr>\n",
       "\t<tr><td>14                   </td><td>2003-06-20           </td><td>2.33e+07             </td><td>NA                   </td><td>Baldwin, Md.         </td><td>MD                   </td><td>F                    </td><td>Y                    </td><td>Y                    </td></tr>\n",
       "\t<tr><td>15                   </td><td>2003-07-11           </td><td>2.33e+07             </td><td>NA                   </td><td>Uniondale, N.Y.      </td><td>NY                   </td><td>F                    </td><td>Y                    </td><td>Y                    </td></tr>\n",
       "\t<tr><td>16                   </td><td>2003-08-08           </td><td>2.33e+07             </td><td>NA                   </td><td>Savannah, Ga.        </td><td>GA                   </td><td>M                    </td><td>Y                    </td><td>Y                    </td></tr>\n",
       "\t<tr><td>17                   </td><td>2003-09-30           </td><td>2.33e+07             </td><td>NA                   </td><td>Fitzgerald, Ga.      </td><td>GA                   </td><td>M                    </td><td>Y                    </td><td>Y                    </td></tr>\n",
       "\t<tr><td>18                   </td><td>2003-10-07           </td><td>2.33e+07             </td><td>NA                   </td><td>Neptune Township N.J.</td><td>MJ                   </td><td>F                    </td><td>Y                    </td><td>Y                    </td></tr>\n",
       "\t<tr><td>19                   </td><td>2003-11-11           </td><td>2.33e+07             </td><td>NA                   </td><td>Roswell, Ga.         </td><td>GA                   </td><td>M                    </td><td>Y                    </td><td>Y                    </td></tr>\n",
       "\t<tr><td>20                   </td><td>2003-11-11           </td><td>2.33e+07             </td><td>NA                   </td><td>Roswell, Ga.         </td><td>GA                   </td><td>M                    </td><td>Y                    </td><td>Y                    </td></tr>\n",
       "\t<tr><td>21                   </td><td>2003-11-11           </td><td>2.33e+07             </td><td>NA                   </td><td>Battle Creek, Mich.  </td><td>MI                   </td><td>Mixed                </td><td>Y                    </td><td>Y                    </td></tr>\n",
       "\t<tr><td>22                   </td><td>2003-12-30           </td><td>1.62e+08             </td><td>NA                   </td><td>South Euclid, Ohio   </td><td>OH                   </td><td>F                    </td><td>Y                    </td><td>Y                    </td></tr>\n",
       "\t<tr><td>23                   </td><td>2004-02-20           </td><td>2.39e+08             </td><td>NA                   </td><td>Winchester, Va.      </td><td>VA                   </td><td>Mixed                </td><td>Y                    </td><td>Y                    </td></tr>\n",
       "\t<tr><td>24                   </td><td>2004-03-02           </td><td>2.10e+07             </td><td>NA                   </td><td>Dayton, Ohio         </td><td>OH                   </td><td>M                    </td><td>Y                    </td><td>Y                    </td></tr>\n",
       "\t<tr><td>25                   </td><td>2004-04-09           </td><td>1.09e+08             </td><td>NA                   </td><td>Wheaton, Md.         </td><td>MD                   </td><td>Unk                  </td><td>Y                    </td><td>Y                    </td></tr>\n",
       "\t<tr><td>26                   </td><td>2004-05-07           </td><td>6.70e+07             </td><td>NA                   </td><td>Rockaway Beach, N.Y. </td><td>NY                   </td><td>Mixed                </td><td>Y                    </td><td>Y                    </td></tr>\n",
       "\t<tr><td>27                   </td><td>2004-07-02           </td><td>2.94e+08             </td><td>NA                   </td><td>Boston, Mass.        </td><td>MA                   </td><td>Unk                  </td><td>Y                    </td><td>Y                    </td></tr>\n",
       "\t<tr><td>28                   </td><td>2004-07-23           </td><td>4.70e+07             </td><td>NA                   </td><td>Pullman, Mich.       </td><td>MI                   </td><td>M                    </td><td>Y                    </td><td>Y                    </td></tr>\n",
       "\t<tr><td>29                   </td><td>2004-07-27           </td><td>1.00e+07             </td><td>NA                   </td><td>Cherry Hill, N.J.    </td><td>NJ                   </td><td>M                    </td><td>Y                    </td><td>Y                    </td></tr>\n",
       "\t<tr><td>...</td><td>...</td><td>...</td><td>...</td><td>...</td><td>...</td><td>...</td><td>...</td><td>...</td></tr>\n",
       "\t<tr><td>467                </td><td>2014-01-14         </td><td>  1000000          </td><td>NA                 </td><td>Andover            </td><td> MA                </td><td>Mixed              </td><td>Y                  </td><td>N                  </td></tr>\n",
       "\t<tr><td>468                </td><td>2014-01-14         </td><td>  1000000          </td><td>NA                 </td><td>Greensboro         </td><td> NC                </td><td>F                  </td><td>Y                  </td><td>N                  </td></tr>\n",
       "\t<tr><td>469                </td><td>2013-12-24         </td><td>  1000000          </td><td>NA                 </td><td>Lombard            </td><td> IL                </td><td>F                  </td><td>Y                  </td><td>N                  </td></tr>\n",
       "\t<tr><td>470                </td><td>2013-12-24         </td><td>  1000000          </td><td>NA                 </td><td>Mesa               </td><td> AZ                </td><td>M                  </td><td>Y                  </td><td>N                  </td></tr>\n",
       "\t<tr><td>471                </td><td>2013-12-20         </td><td>  1000000          </td><td>NA                 </td><td>Payson             </td><td> AZ                </td><td>M                  </td><td>Y                  </td><td>N                  </td></tr>\n",
       "\t<tr><td>472                </td><td>2013-12-17         </td><td>324000000          </td><td>NA                 </td><td>San Jose           </td><td> CA                </td><td>M                  </td><td>Y                  </td><td>N                  </td></tr>\n",
       "\t<tr><td>473                </td><td>2013-12-17         </td><td>324000000          </td><td>NA                 </td><td>Stone Mountain     </td><td> GA                </td><td>M                  </td><td>Y                  </td><td>N                  </td></tr>\n",
       "\t<tr><td>474                </td><td>2013-12-17         </td><td>  1000000          </td><td>NA                 </td><td>Brownsville        </td><td> TX                </td><td>F                  </td><td>Y                  </td><td>N                  </td></tr>\n",
       "\t<tr><td>475                </td><td>2013-12-17         </td><td>  1000000          </td><td>NA                 </td><td>Niles              </td><td> MI                </td><td>F                  </td><td>Y                  </td><td>N                  </td></tr>\n",
       "\t<tr><td>476                </td><td>2013-12-17         </td><td>  1000000          </td><td>NA                 </td><td>Bethlehem          </td><td> GA                </td><td>M                  </td><td>Y                  </td><td>N                  </td></tr>\n",
       "\t<tr><td>477                </td><td>2013-12-17         </td><td>  1000000          </td><td>NA                 </td><td>Columbus           </td><td> NE                </td><td>Mixed              </td><td>Y                  </td><td>N                  </td></tr>\n",
       "\t<tr><td>478                </td><td>2013-12-17         </td><td>  1000000          </td><td>NA                 </td><td>Chicago            </td><td> IL                </td><td>F                  </td><td>Y                  </td><td>N                  </td></tr>\n",
       "\t<tr><td>479                </td><td>2013-12-13         </td><td>  1000000          </td><td>NA                 </td><td>Syracuse           </td><td> NY                </td><td>Mixed              </td><td>Y                  </td><td>N                  </td></tr>\n",
       "\t<tr><td>480                </td><td>2013-12-13         </td><td>  1000000          </td><td>NA                 </td><td>Waterford          </td><td> MI                </td><td>M                  </td><td>Y                  </td><td>N                  </td></tr>\n",
       "\t<tr><td>481                </td><td>2013-12-13         </td><td>  1000000          </td><td>NA                 </td><td>Manhattan          </td><td> NY                </td><td>M                  </td><td>Y                  </td><td>N                  </td></tr>\n",
       "\t<tr><td>482                </td><td>2013-12-13         </td><td>  1000000          </td><td>NA                 </td><td>Eastpointe         </td><td> MI                </td><td>F                  </td><td>Y                  </td><td>N                  </td></tr>\n",
       "\t<tr><td>483                </td><td>2013-12-10         </td><td>  1000000          </td><td>NA                 </td><td>Shelton            </td><td> CT                </td><td>M                  </td><td>Y                  </td><td>N                  </td></tr>\n",
       "\t<tr><td>484                </td><td>2013-12-10         </td><td>  1000000          </td><td>NA                 </td><td>West Yarmouth      </td><td> MA                </td><td>M                  </td><td>Y                  </td><td>N                  </td></tr>\n",
       "\t<tr><td>485                </td><td>2013-11-26         </td><td>  1000000          </td><td>NA                 </td><td>Glendale Heights   </td><td> IL                </td><td>M                  </td><td>Y                  </td><td>N                  </td></tr>\n",
       "\t<tr><td>486                </td><td>2013-11-26         </td><td>  1000000          </td><td>NA                 </td><td>Coram              </td><td> NY                </td><td>M                  </td><td>Y                  </td><td>N                  </td></tr>\n",
       "\t<tr><td>487                </td><td>2013-11-26         </td><td>  1000000          </td><td>NA                 </td><td>Stony Point        </td><td> NY                </td><td>F                  </td><td>Y                  </td><td>N                  </td></tr>\n",
       "\t<tr><td>488                </td><td>2013-11-22         </td><td>  3000000          </td><td>NA                 </td><td>Rockwell           </td><td> NC                </td><td>M                  </td><td>Y                  </td><td>N                  </td></tr>\n",
       "\t<tr><td>489                </td><td>2013-11-19         </td><td>  1000000          </td><td>NA                 </td><td>Holbrook           </td><td> MA                </td><td>Mixed              </td><td>Y                  </td><td>N                  </td></tr>\n",
       "\t<tr><td>490                </td><td>2013-11-15         </td><td>  1000000          </td><td>NA                 </td><td>Irondequoit        </td><td> NY                </td><td>F                  </td><td>Y                  </td><td>N                  </td></tr>\n",
       "\t<tr><td>491                </td><td>2013-11-12         </td><td>  1000000          </td><td>NA                 </td><td>Floral Park Village</td><td> NY                </td><td>Mixed              </td><td>Y                  </td><td>N                  </td></tr>\n",
       "\t<tr><td>492                </td><td>2013-11-05         </td><td>   410115          </td><td>NA                 </td><td>Oceanside          </td><td> CA                </td><td>M                  </td><td>Y                  </td><td>N                  </td></tr>\n",
       "\t<tr><td>493                </td><td>2013-11-01         </td><td>  1000000          </td><td>NA                 </td><td>Fort Stockton      </td><td> TX                </td><td>F                  </td><td>Y                  </td><td>N                  </td></tr>\n",
       "\t<tr><td>494                </td><td>2013-10-25         </td><td>   479070          </td><td>NA                 </td><td>Palmdale           </td><td> CA                </td><td>M                  </td><td>Y                  </td><td>N                  </td></tr>\n",
       "\t<tr><td>495                </td><td>2012-11-27         </td><td> 50000000          </td><td>NA                 </td><td>Thomasville        </td><td> GA                </td><td>M                  </td><td>Y                  </td><td>N                  </td></tr>\n",
       "\t<tr><td>496                </td><td>2012-10-16         </td><td>  3005000          </td><td>NA                 </td><td>Hyannis            </td><td> MA                </td><td>M                  </td><td>Y                  </td><td>N                  </td></tr>\n",
       "</tbody>\n",
       "</table>\n"
      ],
      "text/latex": [
       "\\begin{tabular}{r|lllllllll}\n",
       " X & Draw.Date & Amount & cash.prize & Location & State & Gender & Win & Jackpot\\\\\n",
       "\\hline\n",
       "\t  0                    & 2002-05-17            & 2.33e+07              & NA                    & Chatham, Ill.         & IL                    & Mixed                 & Y                     & Y                    \\\\\n",
       "\t  1                    & 2002-05-24            & 2.33e+07              & NA                    & Chicago, Ill.         & IL                    & F                     & Y                     & Y                    \\\\\n",
       "\t  2                    & 2002-07-16            & 2.33e+07              & NA                    & Cliffside Park, N.J.  & NJ                    & M                     & Y                     & Y                    \\\\\n",
       "\t  3                    & 2002-08-27            & 2.33e+07              & NA                    & New York City, N.Y.   & NY                    & Mixed                 & Y                     & Y                    \\\\\n",
       "\t  4                    & 2002-09-06            & 2.33e+07              & NA                    & Kentwood, Mich.       & MI                    & M                     & Y                     & Y                    \\\\\n",
       "\t  5                    & 2002-09-27            & 2.33e+07              & NA                    & Mount Prospect, Ill.  & IL                    & Mixed                 & Y                     & Y                    \\\\\n",
       "\t  6                    & 2002-11-08            & 2.33e+07              & NA                    & Hoquiam, Wash.        & WA                    & Mixed                 & Y                     & Y                    \\\\\n",
       "\t  7                    & 2002-11-19            & 2.33e+07              & NA                    & New York City, N.Y.   & NY                    & Mixed                 & Y                     & Y                    \\\\\n",
       "\t  8                    & 2002-12-24            & 2.33e+07              & NA                    & Unclaimed in N.Y.     & NY                    & Unk                   & Y                     & Y                    \\\\\n",
       "\t  9                    & 2003-02-11            & 2.33e+07              & NA                    & Brooklyn, N.Y.        & NY                    & M                     & Y                     & Y                    \\\\\n",
       "\t 10                    & 2003-02-18            & 2.33e+07              & NA                    & Geraldine, Ala.       & AL                    & Unk                   & Y                     & Y                    \\\\\n",
       "\t 11                    & 2003-03-14            & 2.33e+07              & NA                    & Englewood, N.J.       & NJ                    & Mixed                 & Y                     & Y                    \\\\\n",
       "\t 12                    & 2003-03-28            & 2.33e+07              & NA                    & Randallstown, Md.     & MD                    & Unk                   & Y                     & Y                    \\\\\n",
       "\t 13                    & 2003-04-25            & 2.33e+07              & NA                    & Brooklyn, N.Y.        & NY                    & Unk                   & Y                     & Y                    \\\\\n",
       "\t 14                    & 2003-06-20            & 2.33e+07              & NA                    & Baldwin, Md.          & MD                    & F                     & Y                     & Y                    \\\\\n",
       "\t 15                    & 2003-07-11            & 2.33e+07              & NA                    & Uniondale, N.Y.       & NY                    & F                     & Y                     & Y                    \\\\\n",
       "\t 16                    & 2003-08-08            & 2.33e+07              & NA                    & Savannah, Ga.         & GA                    & M                     & Y                     & Y                    \\\\\n",
       "\t 17                    & 2003-09-30            & 2.33e+07              & NA                    & Fitzgerald, Ga.       & GA                    & M                     & Y                     & Y                    \\\\\n",
       "\t 18                    & 2003-10-07            & 2.33e+07              & NA                    & Neptune Township N.J. & MJ                    & F                     & Y                     & Y                    \\\\\n",
       "\t 19                    & 2003-11-11            & 2.33e+07              & NA                    & Roswell, Ga.          & GA                    & M                     & Y                     & Y                    \\\\\n",
       "\t 20                    & 2003-11-11            & 2.33e+07              & NA                    & Roswell, Ga.          & GA                    & M                     & Y                     & Y                    \\\\\n",
       "\t 21                    & 2003-11-11            & 2.33e+07              & NA                    & Battle Creek, Mich.   & MI                    & Mixed                 & Y                     & Y                    \\\\\n",
       "\t 22                    & 2003-12-30            & 1.62e+08              & NA                    & South Euclid, Ohio    & OH                    & F                     & Y                     & Y                    \\\\\n",
       "\t 23                    & 2004-02-20            & 2.39e+08              & NA                    & Winchester, Va.       & VA                    & Mixed                 & Y                     & Y                    \\\\\n",
       "\t 24                    & 2004-03-02            & 2.10e+07              & NA                    & Dayton, Ohio          & OH                    & M                     & Y                     & Y                    \\\\\n",
       "\t 25                    & 2004-04-09            & 1.09e+08              & NA                    & Wheaton, Md.          & MD                    & Unk                   & Y                     & Y                    \\\\\n",
       "\t 26                    & 2004-05-07            & 6.70e+07              & NA                    & Rockaway Beach, N.Y.  & NY                    & Mixed                 & Y                     & Y                    \\\\\n",
       "\t 27                    & 2004-07-02            & 2.94e+08              & NA                    & Boston, Mass.         & MA                    & Unk                   & Y                     & Y                    \\\\\n",
       "\t 28                    & 2004-07-23            & 4.70e+07              & NA                    & Pullman, Mich.        & MI                    & M                     & Y                     & Y                    \\\\\n",
       "\t 29                    & 2004-07-27            & 1.00e+07              & NA                    & Cherry Hill, N.J.     & NJ                    & M                     & Y                     & Y                    \\\\\n",
       "\t ... & ... & ... & ... & ... & ... & ... & ... & ...\\\\\n",
       "\t 467                 & 2014-01-14          &   1000000           & NA                  & Andover             &  MA                 & Mixed               & Y                   & N                  \\\\\n",
       "\t 468                 & 2014-01-14          &   1000000           & NA                  & Greensboro          &  NC                 & F                   & Y                   & N                  \\\\\n",
       "\t 469                 & 2013-12-24          &   1000000           & NA                  & Lombard             &  IL                 & F                   & Y                   & N                  \\\\\n",
       "\t 470                 & 2013-12-24          &   1000000           & NA                  & Mesa                &  AZ                 & M                   & Y                   & N                  \\\\\n",
       "\t 471                 & 2013-12-20          &   1000000           & NA                  & Payson              &  AZ                 & M                   & Y                   & N                  \\\\\n",
       "\t 472                 & 2013-12-17          & 324000000           & NA                  & San Jose            &  CA                 & M                   & Y                   & N                  \\\\\n",
       "\t 473                 & 2013-12-17          & 324000000           & NA                  & Stone Mountain      &  GA                 & M                   & Y                   & N                  \\\\\n",
       "\t 474                 & 2013-12-17          &   1000000           & NA                  & Brownsville         &  TX                 & F                   & Y                   & N                  \\\\\n",
       "\t 475                 & 2013-12-17          &   1000000           & NA                  & Niles               &  MI                 & F                   & Y                   & N                  \\\\\n",
       "\t 476                 & 2013-12-17          &   1000000           & NA                  & Bethlehem           &  GA                 & M                   & Y                   & N                  \\\\\n",
       "\t 477                 & 2013-12-17          &   1000000           & NA                  & Columbus            &  NE                 & Mixed               & Y                   & N                  \\\\\n",
       "\t 478                 & 2013-12-17          &   1000000           & NA                  & Chicago             &  IL                 & F                   & Y                   & N                  \\\\\n",
       "\t 479                 & 2013-12-13          &   1000000           & NA                  & Syracuse            &  NY                 & Mixed               & Y                   & N                  \\\\\n",
       "\t 480                 & 2013-12-13          &   1000000           & NA                  & Waterford           &  MI                 & M                   & Y                   & N                  \\\\\n",
       "\t 481                 & 2013-12-13          &   1000000           & NA                  & Manhattan           &  NY                 & M                   & Y                   & N                  \\\\\n",
       "\t 482                 & 2013-12-13          &   1000000           & NA                  & Eastpointe          &  MI                 & F                   & Y                   & N                  \\\\\n",
       "\t 483                 & 2013-12-10          &   1000000           & NA                  & Shelton             &  CT                 & M                   & Y                   & N                  \\\\\n",
       "\t 484                 & 2013-12-10          &   1000000           & NA                  & West Yarmouth       &  MA                 & M                   & Y                   & N                  \\\\\n",
       "\t 485                 & 2013-11-26          &   1000000           & NA                  & Glendale Heights    &  IL                 & M                   & Y                   & N                  \\\\\n",
       "\t 486                 & 2013-11-26          &   1000000           & NA                  & Coram               &  NY                 & M                   & Y                   & N                  \\\\\n",
       "\t 487                 & 2013-11-26          &   1000000           & NA                  & Stony Point         &  NY                 & F                   & Y                   & N                  \\\\\n",
       "\t 488                 & 2013-11-22          &   3000000           & NA                  & Rockwell            &  NC                 & M                   & Y                   & N                  \\\\\n",
       "\t 489                 & 2013-11-19          &   1000000           & NA                  & Holbrook            &  MA                 & Mixed               & Y                   & N                  \\\\\n",
       "\t 490                 & 2013-11-15          &   1000000           & NA                  & Irondequoit         &  NY                 & F                   & Y                   & N                  \\\\\n",
       "\t 491                 & 2013-11-12          &   1000000           & NA                  & Floral Park Village &  NY                 & Mixed               & Y                   & N                  \\\\\n",
       "\t 492                 & 2013-11-05          &    410115           & NA                  & Oceanside           &  CA                 & M                   & Y                   & N                  \\\\\n",
       "\t 493                 & 2013-11-01          &   1000000           & NA                  & Fort Stockton       &  TX                 & F                   & Y                   & N                  \\\\\n",
       "\t 494                 & 2013-10-25          &    479070           & NA                  & Palmdale            &  CA                 & M                   & Y                   & N                  \\\\\n",
       "\t 495                 & 2012-11-27          &  50000000           & NA                  & Thomasville         &  GA                 & M                   & Y                   & N                  \\\\\n",
       "\t 496                 & 2012-10-16          &   3005000           & NA                  & Hyannis             &  MA                 & M                   & Y                   & N                  \\\\\n",
       "\\end{tabular}\n"
      ],
      "text/markdown": [
       "\n",
       "| X | Draw.Date | Amount | cash.prize | Location | State | Gender | Win | Jackpot |\n",
       "|---|---|---|---|---|---|---|---|---|\n",
       "|  0                    | 2002-05-17            | 2.33e+07              | NA                    | Chatham, Ill.         | IL                    | Mixed                 | Y                     | Y                     |\n",
       "|  1                    | 2002-05-24            | 2.33e+07              | NA                    | Chicago, Ill.         | IL                    | F                     | Y                     | Y                     |\n",
       "|  2                    | 2002-07-16            | 2.33e+07              | NA                    | Cliffside Park, N.J.  | NJ                    | M                     | Y                     | Y                     |\n",
       "|  3                    | 2002-08-27            | 2.33e+07              | NA                    | New York City, N.Y.   | NY                    | Mixed                 | Y                     | Y                     |\n",
       "|  4                    | 2002-09-06            | 2.33e+07              | NA                    | Kentwood, Mich.       | MI                    | M                     | Y                     | Y                     |\n",
       "|  5                    | 2002-09-27            | 2.33e+07              | NA                    | Mount Prospect, Ill.  | IL                    | Mixed                 | Y                     | Y                     |\n",
       "|  6                    | 2002-11-08            | 2.33e+07              | NA                    | Hoquiam, Wash.        | WA                    | Mixed                 | Y                     | Y                     |\n",
       "|  7                    | 2002-11-19            | 2.33e+07              | NA                    | New York City, N.Y.   | NY                    | Mixed                 | Y                     | Y                     |\n",
       "|  8                    | 2002-12-24            | 2.33e+07              | NA                    | Unclaimed in N.Y.     | NY                    | Unk                   | Y                     | Y                     |\n",
       "|  9                    | 2003-02-11            | 2.33e+07              | NA                    | Brooklyn, N.Y.        | NY                    | M                     | Y                     | Y                     |\n",
       "| 10                    | 2003-02-18            | 2.33e+07              | NA                    | Geraldine, Ala.       | AL                    | Unk                   | Y                     | Y                     |\n",
       "| 11                    | 2003-03-14            | 2.33e+07              | NA                    | Englewood, N.J.       | NJ                    | Mixed                 | Y                     | Y                     |\n",
       "| 12                    | 2003-03-28            | 2.33e+07              | NA                    | Randallstown, Md.     | MD                    | Unk                   | Y                     | Y                     |\n",
       "| 13                    | 2003-04-25            | 2.33e+07              | NA                    | Brooklyn, N.Y.        | NY                    | Unk                   | Y                     | Y                     |\n",
       "| 14                    | 2003-06-20            | 2.33e+07              | NA                    | Baldwin, Md.          | MD                    | F                     | Y                     | Y                     |\n",
       "| 15                    | 2003-07-11            | 2.33e+07              | NA                    | Uniondale, N.Y.       | NY                    | F                     | Y                     | Y                     |\n",
       "| 16                    | 2003-08-08            | 2.33e+07              | NA                    | Savannah, Ga.         | GA                    | M                     | Y                     | Y                     |\n",
       "| 17                    | 2003-09-30            | 2.33e+07              | NA                    | Fitzgerald, Ga.       | GA                    | M                     | Y                     | Y                     |\n",
       "| 18                    | 2003-10-07            | 2.33e+07              | NA                    | Neptune Township N.J. | MJ                    | F                     | Y                     | Y                     |\n",
       "| 19                    | 2003-11-11            | 2.33e+07              | NA                    | Roswell, Ga.          | GA                    | M                     | Y                     | Y                     |\n",
       "| 20                    | 2003-11-11            | 2.33e+07              | NA                    | Roswell, Ga.          | GA                    | M                     | Y                     | Y                     |\n",
       "| 21                    | 2003-11-11            | 2.33e+07              | NA                    | Battle Creek, Mich.   | MI                    | Mixed                 | Y                     | Y                     |\n",
       "| 22                    | 2003-12-30            | 1.62e+08              | NA                    | South Euclid, Ohio    | OH                    | F                     | Y                     | Y                     |\n",
       "| 23                    | 2004-02-20            | 2.39e+08              | NA                    | Winchester, Va.       | VA                    | Mixed                 | Y                     | Y                     |\n",
       "| 24                    | 2004-03-02            | 2.10e+07              | NA                    | Dayton, Ohio          | OH                    | M                     | Y                     | Y                     |\n",
       "| 25                    | 2004-04-09            | 1.09e+08              | NA                    | Wheaton, Md.          | MD                    | Unk                   | Y                     | Y                     |\n",
       "| 26                    | 2004-05-07            | 6.70e+07              | NA                    | Rockaway Beach, N.Y.  | NY                    | Mixed                 | Y                     | Y                     |\n",
       "| 27                    | 2004-07-02            | 2.94e+08              | NA                    | Boston, Mass.         | MA                    | Unk                   | Y                     | Y                     |\n",
       "| 28                    | 2004-07-23            | 4.70e+07              | NA                    | Pullman, Mich.        | MI                    | M                     | Y                     | Y                     |\n",
       "| 29                    | 2004-07-27            | 1.00e+07              | NA                    | Cherry Hill, N.J.     | NJ                    | M                     | Y                     | Y                     |\n",
       "| ... | ... | ... | ... | ... | ... | ... | ... | ... |\n",
       "| 467                 | 2014-01-14          |   1000000           | NA                  | Andover             |  MA                 | Mixed               | Y                   | N                   |\n",
       "| 468                 | 2014-01-14          |   1000000           | NA                  | Greensboro          |  NC                 | F                   | Y                   | N                   |\n",
       "| 469                 | 2013-12-24          |   1000000           | NA                  | Lombard             |  IL                 | F                   | Y                   | N                   |\n",
       "| 470                 | 2013-12-24          |   1000000           | NA                  | Mesa                |  AZ                 | M                   | Y                   | N                   |\n",
       "| 471                 | 2013-12-20          |   1000000           | NA                  | Payson              |  AZ                 | M                   | Y                   | N                   |\n",
       "| 472                 | 2013-12-17          | 324000000           | NA                  | San Jose            |  CA                 | M                   | Y                   | N                   |\n",
       "| 473                 | 2013-12-17          | 324000000           | NA                  | Stone Mountain      |  GA                 | M                   | Y                   | N                   |\n",
       "| 474                 | 2013-12-17          |   1000000           | NA                  | Brownsville         |  TX                 | F                   | Y                   | N                   |\n",
       "| 475                 | 2013-12-17          |   1000000           | NA                  | Niles               |  MI                 | F                   | Y                   | N                   |\n",
       "| 476                 | 2013-12-17          |   1000000           | NA                  | Bethlehem           |  GA                 | M                   | Y                   | N                   |\n",
       "| 477                 | 2013-12-17          |   1000000           | NA                  | Columbus            |  NE                 | Mixed               | Y                   | N                   |\n",
       "| 478                 | 2013-12-17          |   1000000           | NA                  | Chicago             |  IL                 | F                   | Y                   | N                   |\n",
       "| 479                 | 2013-12-13          |   1000000           | NA                  | Syracuse            |  NY                 | Mixed               | Y                   | N                   |\n",
       "| 480                 | 2013-12-13          |   1000000           | NA                  | Waterford           |  MI                 | M                   | Y                   | N                   |\n",
       "| 481                 | 2013-12-13          |   1000000           | NA                  | Manhattan           |  NY                 | M                   | Y                   | N                   |\n",
       "| 482                 | 2013-12-13          |   1000000           | NA                  | Eastpointe          |  MI                 | F                   | Y                   | N                   |\n",
       "| 483                 | 2013-12-10          |   1000000           | NA                  | Shelton             |  CT                 | M                   | Y                   | N                   |\n",
       "| 484                 | 2013-12-10          |   1000000           | NA                  | West Yarmouth       |  MA                 | M                   | Y                   | N                   |\n",
       "| 485                 | 2013-11-26          |   1000000           | NA                  | Glendale Heights    |  IL                 | M                   | Y                   | N                   |\n",
       "| 486                 | 2013-11-26          |   1000000           | NA                  | Coram               |  NY                 | M                   | Y                   | N                   |\n",
       "| 487                 | 2013-11-26          |   1000000           | NA                  | Stony Point         |  NY                 | F                   | Y                   | N                   |\n",
       "| 488                 | 2013-11-22          |   3000000           | NA                  | Rockwell            |  NC                 | M                   | Y                   | N                   |\n",
       "| 489                 | 2013-11-19          |   1000000           | NA                  | Holbrook            |  MA                 | Mixed               | Y                   | N                   |\n",
       "| 490                 | 2013-11-15          |   1000000           | NA                  | Irondequoit         |  NY                 | F                   | Y                   | N                   |\n",
       "| 491                 | 2013-11-12          |   1000000           | NA                  | Floral Park Village |  NY                 | Mixed               | Y                   | N                   |\n",
       "| 492                 | 2013-11-05          |    410115           | NA                  | Oceanside           |  CA                 | M                   | Y                   | N                   |\n",
       "| 493                 | 2013-11-01          |   1000000           | NA                  | Fort Stockton       |  TX                 | F                   | Y                   | N                   |\n",
       "| 494                 | 2013-10-25          |    479070           | NA                  | Palmdale            |  CA                 | M                   | Y                   | N                   |\n",
       "| 495                 | 2012-11-27          |  50000000           | NA                  | Thomasville         |  GA                 | M                   | Y                   | N                   |\n",
       "| 496                 | 2012-10-16          |   3005000           | NA                  | Hyannis             |  MA                 | M                   | Y                   | N                   |\n",
       "\n"
      ],
      "text/plain": [
       "    X   Draw.Date  Amount    cash.prize Location              State Gender Win\n",
       "1    0  2002-05-17 2.33e+07  NA         Chatham, Ill.         IL    Mixed  Y  \n",
       "2    1  2002-05-24 2.33e+07  NA         Chicago, Ill.         IL    F      Y  \n",
       "3    2  2002-07-16 2.33e+07  NA         Cliffside Park, N.J.  NJ    M      Y  \n",
       "4    3  2002-08-27 2.33e+07  NA         New York City, N.Y.   NY    Mixed  Y  \n",
       "5    4  2002-09-06 2.33e+07  NA         Kentwood, Mich.       MI    M      Y  \n",
       "6    5  2002-09-27 2.33e+07  NA         Mount Prospect, Ill.  IL    Mixed  Y  \n",
       "7    6  2002-11-08 2.33e+07  NA         Hoquiam, Wash.        WA    Mixed  Y  \n",
       "8    7  2002-11-19 2.33e+07  NA         New York City, N.Y.   NY    Mixed  Y  \n",
       "9    8  2002-12-24 2.33e+07  NA         Unclaimed in N.Y.     NY    Unk    Y  \n",
       "10   9  2003-02-11 2.33e+07  NA         Brooklyn, N.Y.        NY    M      Y  \n",
       "11  10  2003-02-18 2.33e+07  NA         Geraldine, Ala.       AL    Unk    Y  \n",
       "12  11  2003-03-14 2.33e+07  NA         Englewood, N.J.       NJ    Mixed  Y  \n",
       "13  12  2003-03-28 2.33e+07  NA         Randallstown, Md.     MD    Unk    Y  \n",
       "14  13  2003-04-25 2.33e+07  NA         Brooklyn, N.Y.        NY    Unk    Y  \n",
       "15  14  2003-06-20 2.33e+07  NA         Baldwin, Md.          MD    F      Y  \n",
       "16  15  2003-07-11 2.33e+07  NA         Uniondale, N.Y.       NY    F      Y  \n",
       "17  16  2003-08-08 2.33e+07  NA         Savannah, Ga.         GA    M      Y  \n",
       "18  17  2003-09-30 2.33e+07  NA         Fitzgerald, Ga.       GA    M      Y  \n",
       "19  18  2003-10-07 2.33e+07  NA         Neptune Township N.J. MJ    F      Y  \n",
       "20  19  2003-11-11 2.33e+07  NA         Roswell, Ga.          GA    M      Y  \n",
       "21  20  2003-11-11 2.33e+07  NA         Roswell, Ga.          GA    M      Y  \n",
       "22  21  2003-11-11 2.33e+07  NA         Battle Creek, Mich.   MI    Mixed  Y  \n",
       "23  22  2003-12-30 1.62e+08  NA         South Euclid, Ohio    OH    F      Y  \n",
       "24  23  2004-02-20 2.39e+08  NA         Winchester, Va.       VA    Mixed  Y  \n",
       "25  24  2004-03-02 2.10e+07  NA         Dayton, Ohio          OH    M      Y  \n",
       "26  25  2004-04-09 1.09e+08  NA         Wheaton, Md.          MD    Unk    Y  \n",
       "27  26  2004-05-07 6.70e+07  NA         Rockaway Beach, N.Y.  NY    Mixed  Y  \n",
       "28  27  2004-07-02 2.94e+08  NA         Boston, Mass.         MA    Unk    Y  \n",
       "29  28  2004-07-23 4.70e+07  NA         Pullman, Mich.        MI    M      Y  \n",
       "30  29  2004-07-27 1.00e+07  NA         Cherry Hill, N.J.     NJ    M      Y  \n",
       "... ... ...        ...       ...        ...                   ...   ...    ...\n",
       "468 467 2014-01-14   1000000 NA         Andover                MA   Mixed  Y  \n",
       "469 468 2014-01-14   1000000 NA         Greensboro             NC   F      Y  \n",
       "470 469 2013-12-24   1000000 NA         Lombard                IL   F      Y  \n",
       "471 470 2013-12-24   1000000 NA         Mesa                   AZ   M      Y  \n",
       "472 471 2013-12-20   1000000 NA         Payson                 AZ   M      Y  \n",
       "473 472 2013-12-17 324000000 NA         San Jose               CA   M      Y  \n",
       "474 473 2013-12-17 324000000 NA         Stone Mountain         GA   M      Y  \n",
       "475 474 2013-12-17   1000000 NA         Brownsville            TX   F      Y  \n",
       "476 475 2013-12-17   1000000 NA         Niles                  MI   F      Y  \n",
       "477 476 2013-12-17   1000000 NA         Bethlehem              GA   M      Y  \n",
       "478 477 2013-12-17   1000000 NA         Columbus               NE   Mixed  Y  \n",
       "479 478 2013-12-17   1000000 NA         Chicago                IL   F      Y  \n",
       "480 479 2013-12-13   1000000 NA         Syracuse               NY   Mixed  Y  \n",
       "481 480 2013-12-13   1000000 NA         Waterford              MI   M      Y  \n",
       "482 481 2013-12-13   1000000 NA         Manhattan              NY   M      Y  \n",
       "483 482 2013-12-13   1000000 NA         Eastpointe             MI   F      Y  \n",
       "484 483 2013-12-10   1000000 NA         Shelton                CT   M      Y  \n",
       "485 484 2013-12-10   1000000 NA         West Yarmouth          MA   M      Y  \n",
       "486 485 2013-11-26   1000000 NA         Glendale Heights       IL   M      Y  \n",
       "487 486 2013-11-26   1000000 NA         Coram                  NY   M      Y  \n",
       "488 487 2013-11-26   1000000 NA         Stony Point            NY   F      Y  \n",
       "489 488 2013-11-22   3000000 NA         Rockwell               NC   M      Y  \n",
       "490 489 2013-11-19   1000000 NA         Holbrook               MA   Mixed  Y  \n",
       "491 490 2013-11-15   1000000 NA         Irondequoit            NY   F      Y  \n",
       "492 491 2013-11-12   1000000 NA         Floral Park Village    NY   Mixed  Y  \n",
       "493 492 2013-11-05    410115 NA         Oceanside              CA   M      Y  \n",
       "494 493 2013-11-01   1000000 NA         Fort Stockton          TX   F      Y  \n",
       "495 494 2013-10-25    479070 NA         Palmdale               CA   M      Y  \n",
       "496 495 2012-11-27  50000000 NA         Thomasville            GA   M      Y  \n",
       "497 496 2012-10-16   3005000 NA         Hyannis                MA   M      Y  \n",
       "    Jackpot\n",
       "1   Y      \n",
       "2   Y      \n",
       "3   Y      \n",
       "4   Y      \n",
       "5   Y      \n",
       "6   Y      \n",
       "7   Y      \n",
       "8   Y      \n",
       "9   Y      \n",
       "10  Y      \n",
       "11  Y      \n",
       "12  Y      \n",
       "13  Y      \n",
       "14  Y      \n",
       "15  Y      \n",
       "16  Y      \n",
       "17  Y      \n",
       "18  Y      \n",
       "19  Y      \n",
       "20  Y      \n",
       "21  Y      \n",
       "22  Y      \n",
       "23  Y      \n",
       "24  Y      \n",
       "25  Y      \n",
       "26  Y      \n",
       "27  Y      \n",
       "28  Y      \n",
       "29  Y      \n",
       "30  Y      \n",
       "... ...    \n",
       "468 N      \n",
       "469 N      \n",
       "470 N      \n",
       "471 N      \n",
       "472 N      \n",
       "473 N      \n",
       "474 N      \n",
       "475 N      \n",
       "476 N      \n",
       "477 N      \n",
       "478 N      \n",
       "479 N      \n",
       "480 N      \n",
       "481 N      \n",
       "482 N      \n",
       "483 N      \n",
       "484 N      \n",
       "485 N      \n",
       "486 N      \n",
       "487 N      \n",
       "488 N      \n",
       "489 N      \n",
       "490 N      \n",
       "491 N      \n",
       "492 N      \n",
       "493 N      \n",
       "494 N      \n",
       "495 N      \n",
       "496 N      \n",
       "497 N      "
      ]
     },
     "metadata": {},
     "output_type": "display_data"
    }
   ],
   "source": [
    "\n",
    "WinningNumbers <- read.csv(\"Lottery_Mega_Millions_Winning_Numbers__Beginning_2002_Wrangled.csv\")\n",
    "Wins <- read.csv(\"AllWinners.csv\")\n",
    "View(Wins)"
   ]
  },
  {
   "cell_type": "code",
   "execution_count": 28,
   "id": "00e140ec",
   "metadata": {},
   "outputs": [],
   "source": [
    "Jackpots<- filter (Wins, Jackpot == \"Y\")\n"
   ]
  },
  {
   "cell_type": "code",
   "execution_count": 30,
   "id": "e941457f",
   "metadata": {},
   "outputs": [
    {
     "data": {
      "text/html": [
       "<table>\n",
       "<thead><tr><th scope=col>Gender</th><th scope=col>JackpotAmount</th></tr></thead>\n",
       "<tbody>\n",
       "\t<tr><td>F        </td><td> 93696552</td></tr>\n",
       "\t<tr><td>M        </td><td>107261728</td></tr>\n",
       "\t<tr><td>Mixed    </td><td>106522059</td></tr>\n",
       "\t<tr><td>Unk      </td><td>502384444</td></tr>\n",
       "</tbody>\n",
       "</table>\n"
      ],
      "text/latex": [
       "\\begin{tabular}{r|ll}\n",
       " Gender & JackpotAmount\\\\\n",
       "\\hline\n",
       "\t F         &  93696552\\\\\n",
       "\t M         & 107261728\\\\\n",
       "\t Mixed     & 106522059\\\\\n",
       "\t Unk       & 502384444\\\\\n",
       "\\end{tabular}\n"
      ],
      "text/markdown": [
       "\n",
       "| Gender | JackpotAmount |\n",
       "|---|---|\n",
       "| F         |  93696552 |\n",
       "| M         | 107261728 |\n",
       "| Mixed     | 106522059 |\n",
       "| Unk       | 502384444 |\n",
       "\n"
      ],
      "text/plain": [
       "  Gender JackpotAmount\n",
       "1 F       93696552    \n",
       "2 M      107261728    \n",
       "3 Mixed  106522059    \n",
       "4 Unk    502384444    "
      ]
     },
     "metadata": {},
     "output_type": "display_data"
    }
   ],
   "source": [
    "JackpotByGender <- aggregate(JackpotAmount~Gender, Wins, mean)\n",
    "JackpotByGender"
   ]
  },
  {
   "cell_type": "code",
   "execution_count": 27,
   "id": "66628811",
   "metadata": {},
   "outputs": [],
   "source": [
    "NonJackpots<- filter (Wins, Jackpot == \"N\")"
   ]
  },
  {
   "cell_type": "code",
   "execution_count": 50,
   "id": "b827d770",
   "metadata": {},
   "outputs": [
    {
     "data": {
      "text/html": [
       "<table>\n",
       "<thead><tr><th scope=col>Gender</th><th scope=col>NonJackpotAmount</th></tr></thead>\n",
       "<tbody>\n",
       "\t<tr><td>F       </td><td> 1345265</td></tr>\n",
       "\t<tr><td>M       </td><td> 9750284</td></tr>\n",
       "\t<tr><td>M       </td><td> 1000000</td></tr>\n",
       "\t<tr><td>Mixed   </td><td> 1149327</td></tr>\n",
       "\t<tr><td>Unk     </td><td>48750000</td></tr>\n",
       "</tbody>\n",
       "</table>\n"
      ],
      "text/latex": [
       "\\begin{tabular}{r|ll}\n",
       " Gender & NonJackpotAmount\\\\\n",
       "\\hline\n",
       "\t F        &  1345265\\\\\n",
       "\t M        &  9750284\\\\\n",
       "\t M        &  1000000\\\\\n",
       "\t Mixed    &  1149327\\\\\n",
       "\t Unk      & 48750000\\\\\n",
       "\\end{tabular}\n"
      ],
      "text/markdown": [
       "\n",
       "| Gender | NonJackpotAmount |\n",
       "|---|---|\n",
       "| F        |  1345265 |\n",
       "| M        |  9750284 |\n",
       "| M        |  1000000 |\n",
       "| Mixed    |  1149327 |\n",
       "| Unk      | 48750000 |\n",
       "\n"
      ],
      "text/plain": [
       "  Gender NonJackpotAmount\n",
       "1 F       1345265        \n",
       "2 M       9750284        \n",
       "3 M       1000000        \n",
       "4 Mixed   1149327        \n",
       "5 Unk    48750000        "
      ]
     },
     "metadata": {},
     "output_type": "display_data"
    }
   ],
   "source": [
    "\n",
    "NonJackpotByGender <- aggregate(NonJackpotAmount~Gender, Wins, mean)\n",
    "NonJackpotByGender"
   ]
  },
  {
   "cell_type": "markdown",
   "id": "c1639a07",
   "metadata": {},
   "source": [
    "## Analysis"
   ]
  },
  {
   "cell_type": "markdown",
   "id": "7e3bd158",
   "metadata": {},
   "source": [
    "## 1. In the Mega Millions, what are the optimal numbers to select in order to achieve a return on investment (ROI)?"
   ]
  },
  {
   "cell_type": "markdown",
   "id": "58288e50",
   "metadata": {},
   "source": [
    "## 2. Does gender influence Prize Amount? "
   ]
  },
  {
   "cell_type": "markdown",
   "id": "0374b2c9",
   "metadata": {},
   "source": [
    "### Jackpots"
   ]
  },
  {
   "cell_type": "code",
   "execution_count": 49,
   "id": "052ec8ee",
   "metadata": {},
   "outputs": [],
   "source": [
    "Jackpots$Gender <- as.factor(Jackpots$Gender)"
   ]
  },
  {
   "cell_type": "markdown",
   "id": "f93331b0",
   "metadata": {},
   "source": [
    "#### Testing Assumptions\n"
   ]
  },
  {
   "cell_type": "markdown",
   "id": "b92d4f75",
   "metadata": {},
   "source": [
    "\n",
    "##### 1. Normality\n"
   ]
  },
  {
   "cell_type": "code",
   "execution_count": null,
   "id": "449a0a7a",
   "metadata": {},
   "outputs": [],
   "source": [
    "plotNormalHistogram(Jackpots$JackpotAmount)\n",
    "#  positive skew"
   ]
  },
  {
   "cell_type": "code",
   "execution_count": null,
   "id": "f32e915c",
   "metadata": {},
   "outputs": [],
   "source": [
    "Jackpots$JackpotAmountSQRT <- sqrt(Jackpots$JackpotAmount)"
   ]
  },
  {
   "cell_type": "code",
   "execution_count": null,
   "id": "3bae8f3a",
   "metadata": {},
   "outputs": [],
   "source": [
    "plotNormalHistogram(Jackpots$JackpotAmountSQRT)\n",
    "#  positive skew"
   ]
  },
  {
   "cell_type": "code",
   "execution_count": null,
   "id": "8de27f24",
   "metadata": {},
   "outputs": [],
   "source": [
    "Jackpots$JackpotAmountLOG <-log(Jackpots$JackpotAmount)"
   ]
  },
  {
   "cell_type": "code",
   "execution_count": null,
   "id": "ae270a03",
   "metadata": {},
   "outputs": [],
   "source": [
    "plotNormalHistogram(Jackpots$JackpotAmountLOG)\n",
    "# normal\n"
   ]
  },
  {
   "cell_type": "markdown",
   "id": "0c3e9f17",
   "metadata": {},
   "source": [
    "##### 2. Homogeneity of Variance\n"
   ]
  },
  {
   "cell_type": "code",
   "execution_count": null,
   "id": "bc226edd",
   "metadata": {},
   "outputs": [
    {
     "data": {
      "text/plain": [
       "\n",
       "\tBartlett test of homogeneity of variances\n",
       "\n",
       "data:  JackpotAmountLOG by Gender\n",
       "Bartlett's K-squared = 8.4638, df = 3, p-value = 0.03734\n"
      ]
     },
     "metadata": {},
     "output_type": "display_data"
    }
   ],
   "source": [
    "\n",
    "bartlett.test(JackpotAmountLOG~Gender, data=Jackpots)"
   ]
  },
  {
   "cell_type": "markdown",
   "id": "233490ed",
   "metadata": {},
   "source": [
    "this test is not significant, the assumption is met"
   ]
  },
  {
   "cell_type": "markdown",
   "id": "475cf2df",
   "metadata": {},
   "source": [
    "##### 4. Sample size\n"
   ]
  },
  {
   "cell_type": "markdown",
   "id": "8e3bd38b",
   "metadata": {},
   "source": [
    "this assumption is met - need 20 per IV or CV and I have 1, so need at least 20 and there are 223 jackpot winners!\n"
   ]
  },
  {
   "cell_type": "markdown",
   "id": "9be1c9b0",
   "metadata": {},
   "source": [
    "\n",
    "#### Running the Analysis\n"
   ]
  },
  {
   "cell_type": "code",
   "execution_count": null,
   "id": "9283bc4c",
   "metadata": {},
   "outputs": [
    {
     "data": {
      "text/plain": [
       "                 Df Sum Sq Mean Sq F value Pr(>F)\n",
       "Jackpots$Gender   3   7.11   2.369   2.026  0.111\n",
       "Residuals       219 256.14   1.170               "
      ]
     },
     "metadata": {},
     "output_type": "display_data"
    }
   ],
   "source": [
    "JackpotsANOVA <- aov(Jackpots$JackpotAmountLOG~Jackpots$Gender)\n",
    "summary(JackpotsANOVA)"
   ]
  },
  {
   "cell_type": "markdown",
   "id": "fac7c473",
   "metadata": {},
   "source": [
    "The ANOVA is not significant, indicating there is no difference in Jackpot size based on Gender. "
   ]
  },
  {
   "cell_type": "code",
   "execution_count": null,
   "id": "a209f08f",
   "metadata": {},
   "outputs": [
    {
     "data": {
      "text/plain": [
       "\n",
       "\tPairwise comparisons using t tests with pooled SD \n",
       "\n",
       "data:  Jackpots$JackpotAmountLOG and Jackpots$Gender \n",
       "\n",
       "      F     M     Mixed\n",
       "M     0.560 -     -    \n",
       "Mixed 0.436 0.776 -    \n",
       "Unk   0.032 0.038 0.078\n",
       "\n",
       "P value adjustment method: none "
      ]
     },
     "metadata": {},
     "output_type": "display_data"
    }
   ],
   "source": [
    "pairwise.t.test(Jackpots$JackpotAmountLOG, Jackpots$Gender, p.adjust=\"none\")"
   ]
  },
  {
   "cell_type": "code",
   "execution_count": null,
   "id": "aa33386e",
   "metadata": {},
   "outputs": [
    {
     "data": {
      "text/plain": [
       "\n",
       "\tPairwise comparisons using t tests with pooled SD \n",
       "\n",
       "data:  Jackpots$JackpotAmountLOG and Jackpots$Gender \n",
       "\n",
       "      F    M    Mixed\n",
       "M     1.00 -    -    \n",
       "Mixed 1.00 1.00 -    \n",
       "Unk   0.19 0.23 0.47 \n",
       "\n",
       "P value adjustment method: bonferroni "
      ]
     },
     "metadata": {},
     "output_type": "display_data"
    }
   ],
   "source": [
    "pairwise.t.test(Jackpots$JackpotAmountLOG, Jackpots$Gender, p.adjust=\"bonferroni\")"
   ]
  },
  {
   "cell_type": "markdown",
   "id": "6b099b86",
   "metadata": {},
   "source": [
    "Pairwise testing indicate that "
   ]
  },
  {
   "cell_type": "markdown",
   "id": "0374b2c9",
   "metadata": {},
   "source": [
    "### Non-Jackpots"
   ]
  },
  {
   "cell_type": "code",
   "execution_count": 48,
   "id": "dd78d2de",
   "metadata": {},
   "outputs": [],
   "source": [
    "NonJackpots$Gender <- as.factor(NonJackpots$Gender)"
   ]
  },
  {
   "cell_type": "markdown",
   "id": "f93331b0",
   "metadata": {},
   "source": [
    "#### Testing Assumptions\n"
   ]
  },
  {
   "cell_type": "markdown",
   "id": "b92d4f75",
   "metadata": {},
   "source": [
    "\n",
    "##### 1. Normality\n"
   ]
  },
  {
   "cell_type": "code",
   "execution_count": null,
   "id": "449a0a7a",
   "metadata": {},
   "outputs": [],
   "source": [
    "plotNormalHistogram(NonJackpots$NonJackpotAmount)\n",
    "#  positive skew\n"
   ]
  },
  {
   "cell_type": "code",
   "execution_count": null,
   "id": "aecf4fe2",
   "metadata": {},
   "outputs": [],
   "source": [
    "\n",
    "NonJackpots$NonJackpotAmountSQRT <- sqrt(NonJackpots$NonJackpotAmount)\n",
    "plotNormalHistogram(NonJackpots$NonJackpotAmountSQRT)\n",
    "#positive skew\n"
   ]
  },
  {
   "cell_type": "code",
   "execution_count": 52,
   "id": "0d2d52e7",
   "metadata": {},
   "outputs": [],
   "source": [
    "\n",
    "NonJackpots$NonJackpotAmountLOG <-log(NonJackpots$NonJackpotAmount)\n"
   ]
  },
  {
   "cell_type": "code",
   "execution_count": null,
   "id": "3706bbca",
   "metadata": {},
   "outputs": [],
   "source": [
    "\n",
    "plotNormalHistogram(NonJackpots$NonJackpotAmountLOG)"
   ]
  },
  {
   "cell_type": "markdown",
   "id": "0c3e9f17",
   "metadata": {},
   "source": [
    "##### 2. Homogeneity of Variance\n"
   ]
  },
  {
   "cell_type": "code",
   "execution_count": 53,
   "id": "bc226edd",
   "metadata": {},
   "outputs": [
    {
     "data": {
      "text/plain": [
       "\n",
       "\tBartlett test of homogeneity of variances\n",
       "\n",
       "data:  NonJackpotAmountLOG by Gender\n",
       "Bartlett's K-squared = Inf, df = 4, p-value < 2.2e-16\n"
      ]
     },
     "metadata": {},
     "output_type": "display_data"
    }
   ],
   "source": [
    "\n",
    "bartlett.test(NonJackpotAmountLOG~Gender, data=NonJackpots)"
   ]
  },
  {
   "cell_type": "markdown",
   "id": "233490ed",
   "metadata": {},
   "source": [
    "this test is  significant, the assumption is violated"
   ]
  },
  {
   "cell_type": "code",
   "execution_count": 54,
   "id": "0f3ed33a",
   "metadata": {},
   "outputs": [
    {
     "data": {
      "text/plain": [
       "\n",
       "\tFligner-Killeen test of homogeneity of variances\n",
       "\n",
       "data:  NonJackpotAmountLOG by Gender\n",
       "Fligner-Killeen:med chi-squared = 12.597, df = 4, p-value = 0.01342\n"
      ]
     },
     "metadata": {},
     "output_type": "display_data"
    }
   ],
   "source": [
    "fligner.test(NonJackpotAmountLOG~Gender, data=NonJackpots)"
   ]
  },
  {
   "cell_type": "markdown",
   "id": "156d2aa5",
   "metadata": {},
   "source": [
    "This test is not significant the assumption is met"
   ]
  },
  {
   "cell_type": "markdown",
   "id": "475cf2df",
   "metadata": {},
   "source": [
    "##### 4. Sample size\n"
   ]
  },
  {
   "cell_type": "markdown",
   "id": "8e3bd38b",
   "metadata": {},
   "source": [
    "this assumption is met - need 20 per IV or CV and I have 1, so need at least 20 and there are 274 non-jackpot winners!\n"
   ]
  },
  {
   "cell_type": "markdown",
   "id": "9be1c9b0",
   "metadata": {},
   "source": [
    "\n",
    "#### Running the Analysis\n"
   ]
  },
  {
   "cell_type": "code",
   "execution_count": 55,
   "id": "9283bc4c",
   "metadata": {},
   "outputs": [
    {
     "data": {
      "text/plain": [
       "                    Df Sum Sq Mean Sq F value Pr(>F)  \n",
       "NonJackpots$Gender   4   15.5   3.874   3.256 0.0125 *\n",
       "Residuals          269  320.1   1.190                 \n",
       "---\n",
       "Signif. codes:  0 '***' 0.001 '**' 0.01 '*' 0.05 '.' 0.1 ' ' 1"
      ]
     },
     "metadata": {},
     "output_type": "display_data"
    }
   ],
   "source": [
    "NonJackpotsANOVA <- aov(NonJackpots$NonJackpotAmountLOG~NonJackpots$Gender)\n",
    "summary(NonJackpotsANOVA)"
   ]
  },
  {
   "cell_type": "markdown",
   "id": "fac7c473",
   "metadata": {},
   "source": [
    "The ANOVA is significant, indicating there is  Non-Jackpot prize do vary based on Gender. "
   ]
  },
  {
   "cell_type": "code",
   "execution_count": 56,
   "id": "a209f08f",
   "metadata": {},
   "outputs": [
    {
     "data": {
      "text/plain": [
       "\n",
       "\tPairwise comparisons using t tests with pooled SD \n",
       "\n",
       "data:  NonJackpots$NonJackpotAmountLOG and NonJackpots$Gender \n",
       "\n",
       "      F      M      M      Mixed \n",
       "M     0.1639 -      -      -     \n",
       "M     0.8767 0.6143 -      -     \n",
       "Mixed 0.8080 0.1649 0.9419 -     \n",
       "Unk   0.0012 0.0108 0.1597 0.0017\n",
       "\n",
       "P value adjustment method: none "
      ]
     },
     "metadata": {},
     "output_type": "display_data"
    }
   ],
   "source": [
    "pairwise.t.test(NonJackpots$NonJackpotAmountLOG, NonJackpots$Gender, p.adjust=\"none\")"
   ]
  },
  {
   "cell_type": "code",
   "execution_count": 58,
   "id": "aa33386e",
   "metadata": {},
   "outputs": [
    {
     "data": {
      "text/plain": [
       "\n",
       "\tPairwise comparisons using t tests with pooled SD \n",
       "\n",
       "data:  NonJackpots$NonJackpotAmountLOG and NonJackpots$Gender \n",
       "\n",
       "      F     M     M     Mixed\n",
       "M     1.000 -     -     -    \n",
       "M     1.000 1.000 -     -    \n",
       "Mixed 1.000 1.000 1.000 -    \n",
       "Unk   0.012 0.108 1.000 0.017\n",
       "\n",
       "P value adjustment method: bonferroni "
      ]
     },
     "metadata": {},
     "output_type": "display_data"
    }
   ],
   "source": [
    "pairwise.t.test(NonJackpots$NonJackpotAmountLOG, NonJackpots$Gender, p.adjust=\"bonferroni\")"
   ]
  },
  {
   "cell_type": "markdown",
   "id": "6b099b86",
   "metadata": {},
   "source": [
    "Pairwise testing indicate that "
   ]
  },
  {
   "cell_type": "markdown",
   "id": "315a8739",
   "metadata": {},
   "source": []
  },
  {
   "cell_type": "code",
   "execution_count": null,
   "id": "cd2fdda7",
   "metadata": {},
   "outputs": [],
   "source": []
  },
  {
   "cell_type": "markdown",
   "id": "07cf3ec6",
   "metadata": {},
   "source": [
    "## 3. In NYS, how much does the lottery give back to society? Do certain counties benefit more?"
   ]
  },
  {
   "cell_type": "markdown",
   "id": "f93331b0",
   "metadata": {},
   "source": [
    "### Testing Assumptions\n"
   ]
  },
  {
   "cell_type": "markdown",
   "id": "180ec66e",
   "metadata": {},
   "source": [
    "\n",
    "#### 1. Normality\n",
    "\n"
   ]
  },
  {
   "cell_type": "code",
   "execution_count": null,
   "id": "1ef1ac9e",
   "metadata": {},
   "outputs": [],
   "source": [
    "\n",
    "plotNormalHistogram(cellPhone$Night.Mins)\n",
    "#  normal   \n",
    "\n"
   ]
  },
  {
   "cell_type": "markdown",
   "id": "deda49f4",
   "metadata": {},
   "source": [
    "\n",
    "#### 2. Homogeneity of Variance\n"
   ]
  },
  {
   "cell_type": "code",
   "execution_count": null,
   "id": "ea3b01e8",
   "metadata": {},
   "outputs": [],
   "source": [
    "\n",
    "bartlett.test(avgPriceSQRT ~ region, data=avocados1)\n",
    "\n",
    "# Bartlett test of homogeneity of variances\n",
    "\n",
    "# data:  avgPriceSQRT by region\n",
    "# Bartlett's K-squared = 70.75, df = 2, p-value = 4.333e-16\n",
    "\n",
    "fligner.test(avgPriceSQRT ~ region, data=avocados1)\n",
    "\n",
    "# Fligner-Killeen test of homogeneity of variances\n",
    "# \n",
    "# data:  avgPriceSQRT by region\n",
    "# Fligner-Killeen:med chi-squared = 48.139, df = 2, p-value = 3.522e-11\n",
    "\n",
    "\n",
    "# Does not meet the assumption for homogeneity of variance\n"
   ]
  },
  {
   "cell_type": "markdown",
   "id": "fe03fbbc",
   "metadata": {},
   "source": [
    "\n",
    "#### 3. Sample Size\n"
   ]
  },
  {
   "cell_type": "markdown",
   "id": "b0cff56e",
   "metadata": {},
   "source": [
    "n = 1014, minium requirement of 20 cases is met\n"
   ]
  },
  {
   "cell_type": "markdown",
   "id": "8944c26d",
   "metadata": {},
   "source": [
    "\n",
    "### Running the Analysis\n"
   ]
  },
  {
   "cell_type": "code",
   "execution_count": null,
   "id": "e8ec437c",
   "metadata": {},
   "outputs": [],
   "source": [
    "\n",
    "# Do the Test, with unequal variance\n",
    "ANOVA1 <- lm(avgPriceSQRT ~ region, data=avocados1)\n",
    "Anova(ANOVA1, Type=\"II\", white.adjust=TRUE)\n",
    "\n",
    "# Analysis of Deviance Table (Type II tests)\n",
    "# \n",
    "# Response: avgPriceSQRT\n",
    "#              Df      F      Pr(>F)    \n",
    "# region       2     258.85   < 2.2e-16 ***\n",
    "#   Residuals 1011                     \n",
    "# ---\n",
    "#   Signif. codes:  0 '***' 0.001 '**' 0.01 '*' 0.05 '.' 0.1 ' ' 1\n",
    "\n"
   ]
  },
  {
   "cell_type": "markdown",
   "id": "06c323b6",
   "metadata": {},
   "source": [
    "\n",
    "#### Post Hocs Analysis\n"
   ]
  },
  {
   "cell_type": "code",
   "execution_count": null,
   "id": "6931ace8",
   "metadata": {},
   "outputs": [],
   "source": [
    "pairwise.t.test(avocados1$avgPriceSQRT, avocados1$region, p.adjust=\"bonferroni\", pool.sd = FALSE)\n",
    "\n",
    "# Pairwise comparisons using t tests with non-pooled SD \n",
    "# \n",
    "# data:  avocados1$avgPriceSQRT and avocados1$region \n",
    "# \n",
    "#            Albany   Houston\n",
    "#   Houston  < 2e-16   -      \n",
    "#   Seattle  8.1e-06   < 2e-16\n",
    "# \n",
    "# P value adjustment method: bonferroni \n"
   ]
  },
  {
   "cell_type": "markdown",
   "id": "533f3ed5",
   "metadata": {},
   "source": [
    "\n",
    "##### Find means and draw conclusions\n"
   ]
  },
  {
   "cell_type": "code",
   "execution_count": null,
   "id": "552018ed",
   "metadata": {},
   "outputs": [],
   "source": [
    "\n",
    "avocadosMeans <- avocados1 %>% group_by(region) %>% summarize(Mean = mean(AveragePrice))\n",
    "# A tibble: 3 x 2\n",
    "#     region   Mean\n",
    "#      <chr>   <dbl>\n",
    "#   1 Albany   1.56\n",
    "#   2 Houston  1.05\n",
    "#   3 Seattle  1.44\n",
    "\n",
    "# There is no significant difference in average price between the regions.\n"
   ]
  },
  {
   "cell_type": "markdown",
   "id": "f93331b0",
   "metadata": {},
   "source": [
    "### Testing Assumptions\n"
   ]
  },
  {
   "cell_type": "markdown",
   "id": "17ab5a11",
   "metadata": {},
   "source": [
    "\n",
    "#### 1. Normality\n"
   ]
  },
  {
   "cell_type": "code",
   "execution_count": null,
   "id": "40f74ace",
   "metadata": {},
   "outputs": [],
   "source": [
    "head(EdAid)"
   ]
  },
  {
   "cell_type": "code",
   "execution_count": null,
   "id": "c7399683",
   "metadata": {},
   "outputs": [],
   "source": []
  },
  {
   "cell_type": "code",
   "execution_count": null,
   "id": "e2881fe7",
   "metadata": {},
   "outputs": [],
   "source": [
    "\n",
    "plotNormalHistogram(EdAid$Amount.of.Aid)"
   ]
  },
  {
   "cell_type": "markdown",
   "id": "0c3e9f17",
   "metadata": {},
   "source": [
    "#### 2. Homogeneity of Variance\n"
   ]
  },
  {
   "cell_type": "code",
   "execution_count": null,
   "id": "78c376c6",
   "metadata": {},
   "outputs": [],
   "source": [
    "Homogeneity_RegrSlp = lm(Night.Mins~vMail.Plan, data=cellPhone)\n",
    "anova(Homogeneity_RegrSlp)\n",
    "\n",
    "# Analysis of Variance Table\n",
    "# \n",
    "# Response: Night.Mins\n",
    "#               Df    Sum Sq Mean Sq  F value  Pr(>F)\n",
    "# vMail.Plan    1      488   487.73   0.1909   0.6622\n",
    "# Residuals    4615 11791809 2555.10  \n",
    "\n",
    "# This assumption is met."
   ]
  },
  {
   "cell_type": "markdown",
   "id": "5ed9f619",
   "metadata": {},
   "source": [
    "\n",
    "#### 3. Homogeneity of Regression Slopes\n"
   ]
  },
  {
   "cell_type": "code",
   "execution_count": null,
   "id": "624d9e9f",
   "metadata": {},
   "outputs": [],
   "source": [
    "\n",
    "Homogeneity_RegrSlp = lm(Night.Mins~vMail.Plan, data=cellPhone)\n",
    "anova(Homogeneity_RegrSlp)\n",
    "\n",
    "# Analysis of Variance Table\n",
    "# \n",
    "# Response: Night.Mins\n",
    "#               Df    Sum Sq Mean Sq  F value  Pr(>F)\n",
    "# vMail.Plan    1      488   487.73   0.1909   0.6622\n",
    "# Residuals    4615 11791809 2555.10  \n",
    "\n",
    "# This assumption is met. \n"
   ]
  },
  {
   "cell_type": "markdown",
   "id": "20e9b499",
   "metadata": {},
   "source": [
    "\n",
    "#### 4. Sample size\n"
   ]
  },
  {
   "cell_type": "markdown",
   "id": "e0d4c80b",
   "metadata": {},
   "source": [
    " is met - need 20 per IV or CV and I have 2, so need at least 40 and there are 4617 cases!\n"
   ]
  },
  {
   "cell_type": "markdown",
   "id": "f93331b0",
   "metadata": {},
   "source": [
    "### Running the Analysis"
   ]
  },
  {
   "cell_type": "code",
   "execution_count": null,
   "id": "0c4f8193",
   "metadata": {},
   "outputs": [],
   "source": [
    "ANCOVA = lm(Night.Mins~vMail.Plan + International.Plan*vMail.Plan, data=cellPhone)\n",
    "anova(ANCOVA)\n",
    "\n",
    "# Analysis of Variance Table\n",
    "# \n",
    "# Response: Night.Mins\n",
    "# Df   Sum Sq Mean Sq F value  Pr(>F)  \n",
    "# vMail.Plan                       1      488   487.7  0.1909 0.66216  \n",
    "# International.Plan               1     7979  7978.6  3.1235 0.07724 .\n",
    "# vMail.Plan:International.Plan    1      435   435.0  0.1703 0.67989  \n",
    "# Residuals                     4613 11783396  2554.4                  \n",
    "# ---\n",
    "#   Signif. codes:  0 '***' 0.001 '**' 0.01 '*' 0.05 '.' 0.1 ' ' 1\n",
    "\n",
    " \n",
    "# the presence or absence of an international phone plan (International.Plan)\n",
    "# does not influence the use of nighttime minutes (Night.Mins), even holding\n",
    "# whether or not the client has a voicemail plan (vMail.Plan) constant."
   ]
  }
 ],
 "metadata": {
  "kernelspec": {
   "display_name": "R",
   "language": "R",
   "name": "python388jvsc74a57bd01c8c0fa333f189d0570cf4406a625e2ab53144d44643b91a9101307b9da57124"
  },
  "language_info": {
   "codemirror_mode": "r",
   "file_extension": ".r",
   "mimetype": "text/x-r-source",
   "name": "R",
   "pygments_lexer": "r",
   "version": "3.6.1"
  }
 },
 "nbformat": 4,
 "nbformat_minor": 5
}
